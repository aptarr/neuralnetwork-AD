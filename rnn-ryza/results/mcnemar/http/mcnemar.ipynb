{
 "cells": [
  {
   "cell_type": "markdown",
   "metadata": {},
   "source": [
    "# McNemar Test"
   ]
  },
  {
   "cell_type": "markdown",
   "metadata": {},
   "source": [
    "## Import All Necessary Libraries"
   ]
  },
  {
   "cell_type": "code",
   "execution_count": 21,
   "metadata": {},
   "outputs": [],
   "source": [
    "import pandas as pd\n",
    "import numpy as np\n",
    "from statsmodels.stats.contingency_tables import mcnemar \n",
    "import os"
   ]
  },
  {
   "cell_type": "markdown",
   "metadata": {},
   "source": [
    "## Read All the Data"
   ]
  },
  {
   "cell_type": "code",
   "execution_count": 22,
   "metadata": {},
   "outputs": [],
   "source": [
    "dir = '/Users/angelaoryza/Documents/TA/noisy-rnnids/rnnids-py/results/mcnemar/http'\n",
    "subdir = os.listdir(dir)"
   ]
  },
  {
   "cell_type": "code",
   "execution_count": 23,
   "metadata": {},
   "outputs": [],
   "source": [
    "df_dict = {}\n",
    "for file in subdir:\n",
    "    if file.endswith('.csv'):\n",
    "        df = pd.read_csv(f'./{file}')\n",
    "        file = file.split('.csv')[0]\n",
    "        df_dict[file] = df"
   ]
  },
  {
   "cell_type": "code",
   "execution_count": 24,
   "metadata": {},
   "outputs": [
    {
     "data": {
      "text/html": [
       "<div>\n",
       "<style scoped>\n",
       "    .dataframe tbody tr th:only-of-type {\n",
       "        vertical-align: middle;\n",
       "    }\n",
       "\n",
       "    .dataframe tbody tr th {\n",
       "        vertical-align: top;\n",
       "    }\n",
       "\n",
       "    .dataframe thead th {\n",
       "        text-align: right;\n",
       "    }\n",
       "</style>\n",
       "<table border=\"1\" class=\"dataframe\">\n",
       "  <thead>\n",
       "    <tr style=\"text-align: right;\">\n",
       "      <th></th>\n",
       "      <th>Unnamed: 0</th>\n",
       "      <th>id</th>\n",
       "      <th>b_mean</th>\n",
       "      <th>b_iqr</th>\n",
       "      <th>b_zscore</th>\n",
       "      <th>f_zscore</th>\n",
       "      <th>f_mean</th>\n",
       "      <th>f_iqr</th>\n",
       "    </tr>\n",
       "  </thead>\n",
       "  <tbody>\n",
       "    <tr>\n",
       "      <th>0</th>\n",
       "      <td>0</td>\n",
       "      <td>175.45.176.1-4657-149.171.126.18-80-tcp</td>\n",
       "      <td>0</td>\n",
       "      <td>1</td>\n",
       "      <td>1</td>\n",
       "      <td>1</td>\n",
       "      <td>0</td>\n",
       "      <td>1</td>\n",
       "    </tr>\n",
       "    <tr>\n",
       "      <th>1</th>\n",
       "      <td>1</td>\n",
       "      <td>175.45.176.3-32473-149.171.126.18-80-tcp</td>\n",
       "      <td>0</td>\n",
       "      <td>1</td>\n",
       "      <td>1</td>\n",
       "      <td>1</td>\n",
       "      <td>0</td>\n",
       "      <td>1</td>\n",
       "    </tr>\n",
       "    <tr>\n",
       "      <th>2</th>\n",
       "      <td>2</td>\n",
       "      <td>175.45.176.0-21873-149.171.126.14-80-tcp</td>\n",
       "      <td>0</td>\n",
       "      <td>1</td>\n",
       "      <td>1</td>\n",
       "      <td>1</td>\n",
       "      <td>0</td>\n",
       "      <td>1</td>\n",
       "    </tr>\n",
       "    <tr>\n",
       "      <th>3</th>\n",
       "      <td>3</td>\n",
       "      <td>175.45.176.0-49194-149.171.126.17-80-tcp</td>\n",
       "      <td>0</td>\n",
       "      <td>1</td>\n",
       "      <td>1</td>\n",
       "      <td>1</td>\n",
       "      <td>0</td>\n",
       "      <td>1</td>\n",
       "    </tr>\n",
       "    <tr>\n",
       "      <th>4</th>\n",
       "      <td>4</td>\n",
       "      <td>175.45.176.1-51435-149.171.126.14-80-tcp</td>\n",
       "      <td>0</td>\n",
       "      <td>1</td>\n",
       "      <td>1</td>\n",
       "      <td>1</td>\n",
       "      <td>0</td>\n",
       "      <td>1</td>\n",
       "    </tr>\n",
       "    <tr>\n",
       "      <th>...</th>\n",
       "      <td>...</td>\n",
       "      <td>...</td>\n",
       "      <td>...</td>\n",
       "      <td>...</td>\n",
       "      <td>...</td>\n",
       "      <td>...</td>\n",
       "      <td>...</td>\n",
       "      <td>...</td>\n",
       "    </tr>\n",
       "    <tr>\n",
       "      <th>149077</th>\n",
       "      <td>149077</td>\n",
       "      <td>149.171.126.5-80-59.166.0.7-39048-tcp</td>\n",
       "      <td>1</td>\n",
       "      <td>1</td>\n",
       "      <td>1</td>\n",
       "      <td>1</td>\n",
       "      <td>1</td>\n",
       "      <td>1</td>\n",
       "    </tr>\n",
       "    <tr>\n",
       "      <th>149078</th>\n",
       "      <td>149078</td>\n",
       "      <td>59.166.0.7-25671-149.171.126.9-80-tcp</td>\n",
       "      <td>0</td>\n",
       "      <td>0</td>\n",
       "      <td>0</td>\n",
       "      <td>0</td>\n",
       "      <td>0</td>\n",
       "      <td>0</td>\n",
       "    </tr>\n",
       "    <tr>\n",
       "      <th>149079</th>\n",
       "      <td>149079</td>\n",
       "      <td>59.166.0.6-24097-149.171.126.7-80-tcp</td>\n",
       "      <td>0</td>\n",
       "      <td>0</td>\n",
       "      <td>0</td>\n",
       "      <td>0</td>\n",
       "      <td>0</td>\n",
       "      <td>0</td>\n",
       "    </tr>\n",
       "    <tr>\n",
       "      <th>149080</th>\n",
       "      <td>149080</td>\n",
       "      <td>175.45.176.2-20096-149.171.126.15-80-tcp</td>\n",
       "      <td>0</td>\n",
       "      <td>1</td>\n",
       "      <td>1</td>\n",
       "      <td>1</td>\n",
       "      <td>0</td>\n",
       "      <td>1</td>\n",
       "    </tr>\n",
       "    <tr>\n",
       "      <th>149081</th>\n",
       "      <td>149081</td>\n",
       "      <td>59.166.0.2-36879-149.171.126.7-80-tcp</td>\n",
       "      <td>0</td>\n",
       "      <td>0</td>\n",
       "      <td>0</td>\n",
       "      <td>0</td>\n",
       "      <td>0</td>\n",
       "      <td>0</td>\n",
       "    </tr>\n",
       "  </tbody>\n",
       "</table>\n",
       "<p>149082 rows × 8 columns</p>\n",
       "</div>"
      ],
      "text/plain": [
       "        Unnamed: 0                                        id  b_mean  b_iqr  \\\n",
       "0                0   175.45.176.1-4657-149.171.126.18-80-tcp       0      1   \n",
       "1                1  175.45.176.3-32473-149.171.126.18-80-tcp       0      1   \n",
       "2                2  175.45.176.0-21873-149.171.126.14-80-tcp       0      1   \n",
       "3                3  175.45.176.0-49194-149.171.126.17-80-tcp       0      1   \n",
       "4                4  175.45.176.1-51435-149.171.126.14-80-tcp       0      1   \n",
       "...            ...                                       ...     ...    ...   \n",
       "149077      149077     149.171.126.5-80-59.166.0.7-39048-tcp       1      1   \n",
       "149078      149078     59.166.0.7-25671-149.171.126.9-80-tcp       0      0   \n",
       "149079      149079     59.166.0.6-24097-149.171.126.7-80-tcp       0      0   \n",
       "149080      149080  175.45.176.2-20096-149.171.126.15-80-tcp       0      1   \n",
       "149081      149081     59.166.0.2-36879-149.171.126.7-80-tcp       0      0   \n",
       "\n",
       "        b_zscore  f_zscore  f_mean  f_iqr  \n",
       "0              1         1       0      1  \n",
       "1              1         1       0      1  \n",
       "2              1         1       0      1  \n",
       "3              1         1       0      1  \n",
       "4              1         1       0      1  \n",
       "...          ...       ...     ...    ...  \n",
       "149077         1         1       1      1  \n",
       "149078         0         0       0      0  \n",
       "149079         0         0       0      0  \n",
       "149080         1         1       0      1  \n",
       "149081         0         0       0      0  \n",
       "\n",
       "[149082 rows x 8 columns]"
      ]
     },
     "execution_count": 24,
     "metadata": {},
     "output_type": "execute_result"
    }
   ],
   "source": [
    "df_dict['pred_0.0']"
   ]
  },
  {
   "cell_type": "code",
   "execution_count": 25,
   "metadata": {},
   "outputs": [],
   "source": [
    "for key, df in df_dict.items():\n",
    "    df.drop('Unnamed: 0', axis=1, inplace=True)"
   ]
  },
  {
   "cell_type": "markdown",
   "metadata": {},
   "source": [
    "## Data Exploration"
   ]
  },
  {
   "cell_type": "code",
   "execution_count": 26,
   "metadata": {},
   "outputs": [
    {
     "name": "stdout",
     "output_type": "stream",
     "text": [
      "There are 25269 duplicates data in df pred_0.005\n",
      "There are 27113 duplicates data in df pred_0.0\n"
     ]
    }
   ],
   "source": [
    "for key, df in df_dict.items():\n",
    "    temp = df[df.duplicated()]['id'].unique()\n",
    "    print(f'There are {len(temp)} duplicates data in df {key}')"
   ]
  },
  {
   "cell_type": "code",
   "execution_count": 27,
   "metadata": {},
   "outputs": [
    {
     "name": "stdout",
     "output_type": "stream",
     "text": [
      "59.166.0.8-12114-149.171.126.7-80-tcp\n",
      "Not all duplicated values in df pred_0.005 have the same prediction\n",
      "59.166.0.8-12114-149.171.126.7-80-tcp\n",
      "Not all duplicated values in df pred_0.0 have the same prediction\n"
     ]
    }
   ],
   "source": [
    "for key, df in df_dict.items():\n",
    "    count = 0\n",
    "    for t in temp:\n",
    "        srs = df[df['id']==t][['b_mean', 'b_iqr', 'b_zscore', 'f_mean', 'f_iqr', 'f_zscore' ]].nunique()\n",
    "        if (srs > 1).any():\n",
    "            print(t)\n",
    "            count += 1\n",
    "            break\n",
    "        else:\n",
    "            continue\n",
    "    if count == 0:\n",
    "        print(f'All duplicated values in df {key} have the same prediction')\n",
    "    else:\n",
    "        print(f'Not all duplicated values in df {key} have the same prediction')"
   ]
  },
  {
   "cell_type": "markdown",
   "metadata": {},
   "source": [
    "## Data Pre-Processing"
   ]
  },
  {
   "cell_type": "code",
   "execution_count": 10,
   "metadata": {},
   "outputs": [],
   "source": [
    "def preprocess(df):\n",
    "    df = df.sort_values(by='id')\n",
    "    df.drop_duplicates(inplace=True)\n",
    "    return df"
   ]
  },
  {
   "cell_type": "code",
   "execution_count": 11,
   "metadata": {},
   "outputs": [],
   "source": [
    "for key, df in df_dict.items():\n",
    "    df = preprocess(df)"
   ]
  },
  {
   "cell_type": "markdown",
   "metadata": {},
   "source": [
    "### Merge DF"
   ]
  },
  {
   "cell_type": "code",
   "execution_count": 28,
   "metadata": {},
   "outputs": [],
   "source": [
    "df_merge = dict()\n",
    "x = df_dict['pred_0.0']\n",
    "for key, df in df_dict.items():\n",
    "    if key == 'pred_0.0':\n",
    "        continue\n",
    "    else:\n",
    "        df_all = pd.merge(x, df, on='id', how='inner')\n",
    "        df_all = df_all.sort_values(by='id')\n",
    "        df_merge[key] = df_all"
   ]
  },
  {
   "cell_type": "code",
   "execution_count": 38,
   "metadata": {},
   "outputs": [
    {
     "data": {
      "text/html": [
       "<div>\n",
       "<style scoped>\n",
       "    .dataframe tbody tr th:only-of-type {\n",
       "        vertical-align: middle;\n",
       "    }\n",
       "\n",
       "    .dataframe tbody tr th {\n",
       "        vertical-align: top;\n",
       "    }\n",
       "\n",
       "    .dataframe thead th {\n",
       "        text-align: right;\n",
       "    }\n",
       "</style>\n",
       "<table border=\"1\" class=\"dataframe\">\n",
       "  <thead>\n",
       "    <tr style=\"text-align: right;\">\n",
       "      <th></th>\n",
       "      <th>id</th>\n",
       "      <th>b_mean_x</th>\n",
       "      <th>b_iqr_x</th>\n",
       "      <th>b_zscore_x</th>\n",
       "      <th>f_zscore_x</th>\n",
       "      <th>f_mean_x</th>\n",
       "      <th>f_iqr_x</th>\n",
       "      <th>b_mean_y</th>\n",
       "      <th>b_iqr_y</th>\n",
       "      <th>b_zscore_y</th>\n",
       "      <th>f_zscore_y</th>\n",
       "      <th>f_mean_y</th>\n",
       "      <th>f_iqr_y</th>\n",
       "    </tr>\n",
       "  </thead>\n",
       "  <tbody>\n",
       "    <tr>\n",
       "      <th>117693</th>\n",
       "      <td>149.171.126.0-80-59.166.0.0-10657-tcp</td>\n",
       "      <td>1</td>\n",
       "      <td>1</td>\n",
       "      <td>1</td>\n",
       "      <td>1</td>\n",
       "      <td>1</td>\n",
       "      <td>1</td>\n",
       "      <td>1</td>\n",
       "      <td>1</td>\n",
       "      <td>1</td>\n",
       "      <td>1</td>\n",
       "      <td>1</td>\n",
       "      <td>1</td>\n",
       "    </tr>\n",
       "    <tr>\n",
       "      <th>117700</th>\n",
       "      <td>149.171.126.0-80-59.166.0.0-10657-tcp</td>\n",
       "      <td>1</td>\n",
       "      <td>1</td>\n",
       "      <td>1</td>\n",
       "      <td>1</td>\n",
       "      <td>1</td>\n",
       "      <td>1</td>\n",
       "      <td>1</td>\n",
       "      <td>1</td>\n",
       "      <td>1</td>\n",
       "      <td>1</td>\n",
       "      <td>1</td>\n",
       "      <td>1</td>\n",
       "    </tr>\n",
       "    <tr>\n",
       "      <th>117699</th>\n",
       "      <td>149.171.126.0-80-59.166.0.0-10657-tcp</td>\n",
       "      <td>1</td>\n",
       "      <td>1</td>\n",
       "      <td>1</td>\n",
       "      <td>1</td>\n",
       "      <td>1</td>\n",
       "      <td>1</td>\n",
       "      <td>1</td>\n",
       "      <td>1</td>\n",
       "      <td>1</td>\n",
       "      <td>1</td>\n",
       "      <td>1</td>\n",
       "      <td>1</td>\n",
       "    </tr>\n",
       "    <tr>\n",
       "      <th>117698</th>\n",
       "      <td>149.171.126.0-80-59.166.0.0-10657-tcp</td>\n",
       "      <td>1</td>\n",
       "      <td>1</td>\n",
       "      <td>1</td>\n",
       "      <td>1</td>\n",
       "      <td>1</td>\n",
       "      <td>1</td>\n",
       "      <td>1</td>\n",
       "      <td>1</td>\n",
       "      <td>1</td>\n",
       "      <td>1</td>\n",
       "      <td>1</td>\n",
       "      <td>1</td>\n",
       "    </tr>\n",
       "    <tr>\n",
       "      <th>117694</th>\n",
       "      <td>149.171.126.0-80-59.166.0.0-10657-tcp</td>\n",
       "      <td>1</td>\n",
       "      <td>1</td>\n",
       "      <td>1</td>\n",
       "      <td>1</td>\n",
       "      <td>1</td>\n",
       "      <td>1</td>\n",
       "      <td>1</td>\n",
       "      <td>1</td>\n",
       "      <td>1</td>\n",
       "      <td>1</td>\n",
       "      <td>1</td>\n",
       "      <td>1</td>\n",
       "    </tr>\n",
       "    <tr>\n",
       "      <th>...</th>\n",
       "      <td>...</td>\n",
       "      <td>...</td>\n",
       "      <td>...</td>\n",
       "      <td>...</td>\n",
       "      <td>...</td>\n",
       "      <td>...</td>\n",
       "      <td>...</td>\n",
       "      <td>...</td>\n",
       "      <td>...</td>\n",
       "      <td>...</td>\n",
       "      <td>...</td>\n",
       "      <td>...</td>\n",
       "      <td>...</td>\n",
       "    </tr>\n",
       "    <tr>\n",
       "      <th>46978</th>\n",
       "      <td>59.166.0.9-9990-149.171.126.9-80-tcp</td>\n",
       "      <td>0</td>\n",
       "      <td>0</td>\n",
       "      <td>0</td>\n",
       "      <td>0</td>\n",
       "      <td>0</td>\n",
       "      <td>0</td>\n",
       "      <td>0</td>\n",
       "      <td>0</td>\n",
       "      <td>0</td>\n",
       "      <td>0</td>\n",
       "      <td>0</td>\n",
       "      <td>0</td>\n",
       "    </tr>\n",
       "    <tr>\n",
       "      <th>23508</th>\n",
       "      <td>59.166.0.9-9991-149.171.126.4-80-tcp</td>\n",
       "      <td>0</td>\n",
       "      <td>0</td>\n",
       "      <td>0</td>\n",
       "      <td>0</td>\n",
       "      <td>0</td>\n",
       "      <td>0</td>\n",
       "      <td>0</td>\n",
       "      <td>0</td>\n",
       "      <td>0</td>\n",
       "      <td>0</td>\n",
       "      <td>0</td>\n",
       "      <td>0</td>\n",
       "    </tr>\n",
       "    <tr>\n",
       "      <th>23509</th>\n",
       "      <td>59.166.0.9-9991-149.171.126.4-80-tcp</td>\n",
       "      <td>0</td>\n",
       "      <td>0</td>\n",
       "      <td>0</td>\n",
       "      <td>0</td>\n",
       "      <td>0</td>\n",
       "      <td>0</td>\n",
       "      <td>0</td>\n",
       "      <td>0</td>\n",
       "      <td>0</td>\n",
       "      <td>0</td>\n",
       "      <td>0</td>\n",
       "      <td>0</td>\n",
       "    </tr>\n",
       "    <tr>\n",
       "      <th>23507</th>\n",
       "      <td>59.166.0.9-9991-149.171.126.4-80-tcp</td>\n",
       "      <td>0</td>\n",
       "      <td>0</td>\n",
       "      <td>0</td>\n",
       "      <td>0</td>\n",
       "      <td>0</td>\n",
       "      <td>0</td>\n",
       "      <td>0</td>\n",
       "      <td>0</td>\n",
       "      <td>0</td>\n",
       "      <td>0</td>\n",
       "      <td>0</td>\n",
       "      <td>0</td>\n",
       "    </tr>\n",
       "    <tr>\n",
       "      <th>23510</th>\n",
       "      <td>59.166.0.9-9991-149.171.126.4-80-tcp</td>\n",
       "      <td>0</td>\n",
       "      <td>0</td>\n",
       "      <td>0</td>\n",
       "      <td>0</td>\n",
       "      <td>0</td>\n",
       "      <td>0</td>\n",
       "      <td>0</td>\n",
       "      <td>0</td>\n",
       "      <td>0</td>\n",
       "      <td>0</td>\n",
       "      <td>0</td>\n",
       "      <td>0</td>\n",
       "    </tr>\n",
       "  </tbody>\n",
       "</table>\n",
       "<p>239314 rows × 13 columns</p>\n",
       "</div>"
      ],
      "text/plain": [
       "                                           id  b_mean_x  b_iqr_x  b_zscore_x  \\\n",
       "117693  149.171.126.0-80-59.166.0.0-10657-tcp         1        1           1   \n",
       "117700  149.171.126.0-80-59.166.0.0-10657-tcp         1        1           1   \n",
       "117699  149.171.126.0-80-59.166.0.0-10657-tcp         1        1           1   \n",
       "117698  149.171.126.0-80-59.166.0.0-10657-tcp         1        1           1   \n",
       "117694  149.171.126.0-80-59.166.0.0-10657-tcp         1        1           1   \n",
       "...                                       ...       ...      ...         ...   \n",
       "46978    59.166.0.9-9990-149.171.126.9-80-tcp         0        0           0   \n",
       "23508    59.166.0.9-9991-149.171.126.4-80-tcp         0        0           0   \n",
       "23509    59.166.0.9-9991-149.171.126.4-80-tcp         0        0           0   \n",
       "23507    59.166.0.9-9991-149.171.126.4-80-tcp         0        0           0   \n",
       "23510    59.166.0.9-9991-149.171.126.4-80-tcp         0        0           0   \n",
       "\n",
       "        f_zscore_x  f_mean_x  f_iqr_x  b_mean_y  b_iqr_y  b_zscore_y  \\\n",
       "117693           1         1        1         1        1           1   \n",
       "117700           1         1        1         1        1           1   \n",
       "117699           1         1        1         1        1           1   \n",
       "117698           1         1        1         1        1           1   \n",
       "117694           1         1        1         1        1           1   \n",
       "...            ...       ...      ...       ...      ...         ...   \n",
       "46978            0         0        0         0        0           0   \n",
       "23508            0         0        0         0        0           0   \n",
       "23509            0         0        0         0        0           0   \n",
       "23507            0         0        0         0        0           0   \n",
       "23510            0         0        0         0        0           0   \n",
       "\n",
       "        f_zscore_y  f_mean_y  f_iqr_y  \n",
       "117693           1         1        1  \n",
       "117700           1         1        1  \n",
       "117699           1         1        1  \n",
       "117698           1         1        1  \n",
       "117694           1         1        1  \n",
       "...            ...       ...      ...  \n",
       "46978            0         0        0  \n",
       "23508            0         0        0  \n",
       "23509            0         0        0  \n",
       "23507            0         0        0  \n",
       "23510            0         0        0  \n",
       "\n",
       "[239314 rows x 13 columns]"
      ]
     },
     "execution_count": 38,
     "metadata": {},
     "output_type": "execute_result"
    }
   ],
   "source": [
    "df_merge['pred_0.005']"
   ]
  },
  {
   "cell_type": "markdown",
   "metadata": {},
   "source": [
    "- Plot F1-Score untuk tiap tiap threshold\n",
    "- Cari trend regresinya, Hitung gradiennya untuk tiap threshold.\n",
    "- Dilakukan untuk setiap protokol\n",
    "- Rekap McNemar\n",
    "\n",
    "- Vectorizing:\n"
   ]
  },
  {
   "cell_type": "markdown",
   "metadata": {},
   "source": [
    "## Run McNemar Test"
   ]
  },
  {
   "cell_type": "code",
   "execution_count": 29,
   "metadata": {},
   "outputs": [],
   "source": [
    "def mcnemar_test(df, x , y, key):\n",
    "    a = len(df[(df[x]==0) & (df[y]==0)])\n",
    "    b = len(df[(df[x]==0) & (df[y]==1)])\n",
    "    c = len(df[(df[x]==1) & (df[y]==0)])\n",
    "    d = len(df[(df[x]==1) & (df[y]==1)])\n",
    "\n",
    "    table = np.array([\n",
    "    [a,b],\n",
    "    [c,d]\n",
    "    ])\n",
    "\n",
    "    print(key)\n",
    "    print(table)\n",
    "    result = mcnemar(table)\n",
    "    print(result)\n",
    "    return result.pvalue\n"
   ]
  },
  {
   "cell_type": "markdown",
   "metadata": {},
   "source": [
    "### For Binary Score"
   ]
  },
  {
   "cell_type": "markdown",
   "metadata": {},
   "source": [
    "#### For B-Mean"
   ]
  },
  {
   "cell_type": "code",
   "execution_count": 30,
   "metadata": {},
   "outputs": [
    {
     "name": "stdout",
     "output_type": "stream",
     "text": [
      "pred_0.005\n",
      "[[181983    566]\n",
      " [   164  56601]]\n",
      "pvalue      1.3885322235306222e-52\n",
      "statistic   164.0\n"
     ]
    }
   ],
   "source": [
    "result = {}\n",
    "result['b-mean'] = {}\n",
    "for key, df in df_merge.items():\n",
    "    test = mcnemar_test(df, 'b_mean_x', 'b_mean_y', key)\n",
    "    result['b-mean'][key] = test"
   ]
  },
  {
   "cell_type": "markdown",
   "metadata": {},
   "source": [
    "#### For B-IQR"
   ]
  },
  {
   "cell_type": "code",
   "execution_count": 31,
   "metadata": {},
   "outputs": [
    {
     "name": "stdout",
     "output_type": "stream",
     "text": [
      "pred_0.005\n",
      "[[153339  10981]\n",
      " [    16  74978]]\n",
      "pvalue      0.0\n",
      "statistic   16.0\n"
     ]
    }
   ],
   "source": [
    "result['b-iqr'] = {}\n",
    "for key, df in df_merge.items():\n",
    "    test = mcnemar_test(df, 'b_iqr_x', 'b_iqr_y', key)\n",
    "    result['b-iqr'][key] = test"
   ]
  },
  {
   "cell_type": "markdown",
   "metadata": {},
   "source": [
    "#### For B-ZScore"
   ]
  },
  {
   "cell_type": "code",
   "execution_count": 32,
   "metadata": {},
   "outputs": [
    {
     "name": "stdout",
     "output_type": "stream",
     "text": [
      "pred_0.005\n",
      "[[149699    177]\n",
      " [  3629  85809]]\n",
      "pvalue      0.0\n",
      "statistic   177.0\n"
     ]
    }
   ],
   "source": [
    "result['b-zscore'] = {}\n",
    "for key, df in df_merge.items():\n",
    "    test = mcnemar_test(df, 'b_zscore_x', 'b_zscore_y', key)\n",
    "    result['b-zscore'][key] = test"
   ]
  },
  {
   "cell_type": "markdown",
   "metadata": {},
   "source": [
    "### For Floating Score"
   ]
  },
  {
   "cell_type": "markdown",
   "metadata": {},
   "source": [
    "#### For F-Mean"
   ]
  },
  {
   "cell_type": "code",
   "execution_count": 33,
   "metadata": {},
   "outputs": [
    {
     "name": "stdout",
     "output_type": "stream",
     "text": [
      "pred_0.005\n",
      "[[185279     28]\n",
      " [    56  53951]]\n",
      "pvalue      0.002985323184447229\n",
      "statistic   28.0\n"
     ]
    }
   ],
   "source": [
    "result['f-mean'] = {}\n",
    "for key, df in df_merge.items():\n",
    "    test = mcnemar_test(df, 'f_mean_x', 'f_mean_y', key)\n",
    "    result['f-mean'][key] = test"
   ]
  },
  {
   "cell_type": "markdown",
   "metadata": {},
   "source": [
    "#### For F-IQR"
   ]
  },
  {
   "cell_type": "code",
   "execution_count": 34,
   "metadata": {},
   "outputs": [
    {
     "name": "stdout",
     "output_type": "stream",
     "text": [
      "pred_0.005\n",
      "[[157658   5821]\n",
      " [    90  75745]]\n",
      "pvalue      0.0\n",
      "statistic   90.0\n"
     ]
    }
   ],
   "source": [
    "result['f-iqr'] = {}\n",
    "for key, df in df_merge.items():\n",
    "    test = mcnemar_test(df, 'f_iqr_x', 'f_iqr_y', key)\n",
    "    result['f-iqr'][key] = test"
   ]
  },
  {
   "cell_type": "markdown",
   "metadata": {},
   "source": [
    "#### For F-ZScore"
   ]
  },
  {
   "cell_type": "code",
   "execution_count": 35,
   "metadata": {},
   "outputs": [
    {
     "name": "stdout",
     "output_type": "stream",
     "text": [
      "pred_0.005\n",
      "[[156679   3788]\n",
      " [   490  78357]]\n",
      "pvalue      0.0\n",
      "statistic   490.0\n"
     ]
    }
   ],
   "source": [
    "result['f-zscore'] = {}\n",
    "for key, df in df_merge.items():\n",
    "    test = mcnemar_test(df, 'f_zscore_x', 'f_zscore_y', key)\n",
    "    result['f-zscore'][key] = test"
   ]
  },
  {
   "cell_type": "markdown",
   "metadata": {},
   "source": [
    "## Saving Test Result"
   ]
  },
  {
   "cell_type": "code",
   "execution_count": 36,
   "metadata": {},
   "outputs": [
    {
     "data": {
      "text/html": [
       "<div>\n",
       "<style scoped>\n",
       "    .dataframe tbody tr th:only-of-type {\n",
       "        vertical-align: middle;\n",
       "    }\n",
       "\n",
       "    .dataframe tbody tr th {\n",
       "        vertical-align: top;\n",
       "    }\n",
       "\n",
       "    .dataframe thead th {\n",
       "        text-align: right;\n",
       "    }\n",
       "</style>\n",
       "<table border=\"1\" class=\"dataframe\">\n",
       "  <thead>\n",
       "    <tr style=\"text-align: right;\">\n",
       "      <th></th>\n",
       "      <th>b-mean</th>\n",
       "      <th>b-iqr</th>\n",
       "      <th>b-zscore</th>\n",
       "      <th>f-mean</th>\n",
       "      <th>f-iqr</th>\n",
       "      <th>f-zscore</th>\n",
       "    </tr>\n",
       "  </thead>\n",
       "  <tbody>\n",
       "    <tr>\n",
       "      <th>pred_0.005</th>\n",
       "      <td>1.388532e-52</td>\n",
       "      <td>0.0</td>\n",
       "      <td>0.0</td>\n",
       "      <td>0.002985</td>\n",
       "      <td>0.0</td>\n",
       "      <td>0.0</td>\n",
       "    </tr>\n",
       "  </tbody>\n",
       "</table>\n",
       "</div>"
      ],
      "text/plain": [
       "                  b-mean  b-iqr  b-zscore    f-mean  f-iqr  f-zscore\n",
       "pred_0.005  1.388532e-52    0.0       0.0  0.002985    0.0       0.0"
      ]
     },
     "execution_count": 36,
     "metadata": {},
     "output_type": "execute_result"
    }
   ],
   "source": [
    "mcnemar_result = pd.DataFrame.from_dict(result).sort_index(axis=0)\n",
    "mcnemar_result"
   ]
  },
  {
   "cell_type": "code",
   "execution_count": 39,
   "metadata": {},
   "outputs": [],
   "source": [
    "mcnemar_result.to_excel('./http-mcnemar.xlsx')"
   ]
  },
  {
   "cell_type": "code",
   "execution_count": null,
   "metadata": {},
   "outputs": [],
   "source": []
  }
 ],
 "metadata": {
  "kernelspec": {
   "display_name": "ryzaenv",
   "language": "python",
   "name": "python3"
  },
  "language_info": {
   "codemirror_mode": {
    "name": "ipython",
    "version": 3
   },
   "file_extension": ".py",
   "mimetype": "text/x-python",
   "name": "python",
   "nbconvert_exporter": "python",
   "pygments_lexer": "ipython3",
   "version": "3.9.6"
  }
 },
 "nbformat": 4,
 "nbformat_minor": 2
}
