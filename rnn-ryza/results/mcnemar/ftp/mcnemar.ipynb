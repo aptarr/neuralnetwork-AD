{
 "cells": [
  {
   "cell_type": "markdown",
   "metadata": {},
   "source": [
    "# McNemar Test"
   ]
  },
  {
   "cell_type": "markdown",
   "metadata": {},
   "source": [
    "## Import All Necessary Libraries"
   ]
  },
  {
   "cell_type": "code",
   "execution_count": 7,
   "metadata": {},
   "outputs": [],
   "source": [
    "import pandas as pd\n",
    "import numpy as np\n",
    "from statsmodels.stats.contingency_tables import mcnemar \n",
    "import os"
   ]
  },
  {
   "cell_type": "markdown",
   "metadata": {},
   "source": [
    "## Read All the Data"
   ]
  },
  {
   "cell_type": "code",
   "execution_count": 8,
   "metadata": {},
   "outputs": [],
   "source": [
    "dir = '/Users/angelaoryza/Documents/TA/noisy-rnnids/rnnids-py/results/mcnemar/ftp'\n",
    "subdir = os.listdir(dir)"
   ]
  },
  {
   "cell_type": "code",
   "execution_count": 9,
   "metadata": {},
   "outputs": [],
   "source": [
    "df_dict = {}\n",
    "for file in subdir:\n",
    "    if file.endswith('.csv'):\n",
    "        df = pd.read_csv(f'./{file}')\n",
    "        file = file.split('.csv')[0]\n",
    "        df_dict[file] = df"
   ]
  },
  {
   "cell_type": "code",
   "execution_count": 10,
   "metadata": {},
   "outputs": [
    {
     "data": {
      "text/html": [
       "<div>\n",
       "<style scoped>\n",
       "    .dataframe tbody tr th:only-of-type {\n",
       "        vertical-align: middle;\n",
       "    }\n",
       "\n",
       "    .dataframe tbody tr th {\n",
       "        vertical-align: top;\n",
       "    }\n",
       "\n",
       "    .dataframe thead th {\n",
       "        text-align: right;\n",
       "    }\n",
       "</style>\n",
       "<table border=\"1\" class=\"dataframe\">\n",
       "  <thead>\n",
       "    <tr style=\"text-align: right;\">\n",
       "      <th></th>\n",
       "      <th>Unnamed: 0</th>\n",
       "      <th>id</th>\n",
       "      <th>b_mean</th>\n",
       "      <th>b_iqr</th>\n",
       "      <th>b_zscore</th>\n",
       "      <th>f_zscore</th>\n",
       "      <th>f_mean</th>\n",
       "      <th>f_iqr</th>\n",
       "    </tr>\n",
       "  </thead>\n",
       "  <tbody>\n",
       "    <tr>\n",
       "      <th>0</th>\n",
       "      <td>0</td>\n",
       "      <td>175.45.176.0-45235-149.171.126.16-21-tcp</td>\n",
       "      <td>1</td>\n",
       "      <td>1</td>\n",
       "      <td>1</td>\n",
       "      <td>1</td>\n",
       "      <td>1</td>\n",
       "      <td>1</td>\n",
       "    </tr>\n",
       "    <tr>\n",
       "      <th>1</th>\n",
       "      <td>1</td>\n",
       "      <td>175.45.176.3-1025-149.171.126.11-21-tcp</td>\n",
       "      <td>1</td>\n",
       "      <td>1</td>\n",
       "      <td>1</td>\n",
       "      <td>1</td>\n",
       "      <td>1</td>\n",
       "      <td>1</td>\n",
       "    </tr>\n",
       "    <tr>\n",
       "      <th>2</th>\n",
       "      <td>2</td>\n",
       "      <td>175.45.176.1-28136-149.171.126.11-21-tcp</td>\n",
       "      <td>1</td>\n",
       "      <td>1</td>\n",
       "      <td>1</td>\n",
       "      <td>1</td>\n",
       "      <td>1</td>\n",
       "      <td>1</td>\n",
       "    </tr>\n",
       "    <tr>\n",
       "      <th>3</th>\n",
       "      <td>3</td>\n",
       "      <td>175.45.176.2-43663-149.171.126.15-21-tcp</td>\n",
       "      <td>1</td>\n",
       "      <td>1</td>\n",
       "      <td>1</td>\n",
       "      <td>1</td>\n",
       "      <td>1</td>\n",
       "      <td>1</td>\n",
       "    </tr>\n",
       "    <tr>\n",
       "      <th>4</th>\n",
       "      <td>4</td>\n",
       "      <td>175.45.176.3-64709-149.171.126.15-21-tcp</td>\n",
       "      <td>1</td>\n",
       "      <td>1</td>\n",
       "      <td>1</td>\n",
       "      <td>1</td>\n",
       "      <td>1</td>\n",
       "      <td>1</td>\n",
       "    </tr>\n",
       "    <tr>\n",
       "      <th>...</th>\n",
       "      <td>...</td>\n",
       "      <td>...</td>\n",
       "      <td>...</td>\n",
       "      <td>...</td>\n",
       "      <td>...</td>\n",
       "      <td>...</td>\n",
       "      <td>...</td>\n",
       "      <td>...</td>\n",
       "    </tr>\n",
       "    <tr>\n",
       "      <th>26108</th>\n",
       "      <td>26108</td>\n",
       "      <td>59.166.0.8-55795-149.171.126.6-21-tcp</td>\n",
       "      <td>0</td>\n",
       "      <td>0</td>\n",
       "      <td>0</td>\n",
       "      <td>0</td>\n",
       "      <td>0</td>\n",
       "      <td>0</td>\n",
       "    </tr>\n",
       "    <tr>\n",
       "      <th>26109</th>\n",
       "      <td>26109</td>\n",
       "      <td>59.166.0.7-7753-149.171.126.1-21-tcp</td>\n",
       "      <td>0</td>\n",
       "      <td>1</td>\n",
       "      <td>1</td>\n",
       "      <td>1</td>\n",
       "      <td>0</td>\n",
       "      <td>1</td>\n",
       "    </tr>\n",
       "    <tr>\n",
       "      <th>26110</th>\n",
       "      <td>26110</td>\n",
       "      <td>59.166.0.2-49329-149.171.126.0-21-tcp</td>\n",
       "      <td>0</td>\n",
       "      <td>1</td>\n",
       "      <td>1</td>\n",
       "      <td>1</td>\n",
       "      <td>0</td>\n",
       "      <td>1</td>\n",
       "    </tr>\n",
       "    <tr>\n",
       "      <th>26111</th>\n",
       "      <td>26111</td>\n",
       "      <td>59.166.0.3-7585-149.171.126.2-21-tcp</td>\n",
       "      <td>0</td>\n",
       "      <td>0</td>\n",
       "      <td>0</td>\n",
       "      <td>0</td>\n",
       "      <td>0</td>\n",
       "      <td>0</td>\n",
       "    </tr>\n",
       "    <tr>\n",
       "      <th>26112</th>\n",
       "      <td>26112</td>\n",
       "      <td>59.166.0.1-27560-149.171.126.3-21-tcp</td>\n",
       "      <td>0</td>\n",
       "      <td>1</td>\n",
       "      <td>1</td>\n",
       "      <td>1</td>\n",
       "      <td>0</td>\n",
       "      <td>1</td>\n",
       "    </tr>\n",
       "  </tbody>\n",
       "</table>\n",
       "<p>26113 rows × 8 columns</p>\n",
       "</div>"
      ],
      "text/plain": [
       "       Unnamed: 0                                        id  b_mean  b_iqr  \\\n",
       "0               0  175.45.176.0-45235-149.171.126.16-21-tcp       1      1   \n",
       "1               1   175.45.176.3-1025-149.171.126.11-21-tcp       1      1   \n",
       "2               2  175.45.176.1-28136-149.171.126.11-21-tcp       1      1   \n",
       "3               3  175.45.176.2-43663-149.171.126.15-21-tcp       1      1   \n",
       "4               4  175.45.176.3-64709-149.171.126.15-21-tcp       1      1   \n",
       "...           ...                                       ...     ...    ...   \n",
       "26108       26108     59.166.0.8-55795-149.171.126.6-21-tcp       0      0   \n",
       "26109       26109      59.166.0.7-7753-149.171.126.1-21-tcp       0      1   \n",
       "26110       26110     59.166.0.2-49329-149.171.126.0-21-tcp       0      1   \n",
       "26111       26111      59.166.0.3-7585-149.171.126.2-21-tcp       0      0   \n",
       "26112       26112     59.166.0.1-27560-149.171.126.3-21-tcp       0      1   \n",
       "\n",
       "       b_zscore  f_zscore  f_mean  f_iqr  \n",
       "0             1         1       1      1  \n",
       "1             1         1       1      1  \n",
       "2             1         1       1      1  \n",
       "3             1         1       1      1  \n",
       "4             1         1       1      1  \n",
       "...         ...       ...     ...    ...  \n",
       "26108         0         0       0      0  \n",
       "26109         1         1       0      1  \n",
       "26110         1         1       0      1  \n",
       "26111         0         0       0      0  \n",
       "26112         1         1       0      1  \n",
       "\n",
       "[26113 rows x 8 columns]"
      ]
     },
     "execution_count": 10,
     "metadata": {},
     "output_type": "execute_result"
    }
   ],
   "source": [
    "df_dict['pred_0.0']"
   ]
  },
  {
   "cell_type": "code",
   "execution_count": 11,
   "metadata": {},
   "outputs": [],
   "source": [
    "for key, df in df_dict.items():\n",
    "    df.drop('Unnamed: 0', axis=1, inplace=True)"
   ]
  },
  {
   "cell_type": "markdown",
   "metadata": {},
   "source": [
    "## Data Exploration"
   ]
  },
  {
   "cell_type": "code",
   "execution_count": 12,
   "metadata": {},
   "outputs": [
    {
     "name": "stdout",
     "output_type": "stream",
     "text": [
      "There are 667 duplicates data in df pred_0.0039\n",
      "There are 842 duplicates data in df pred_0.0\n"
     ]
    }
   ],
   "source": [
    "for key, df in df_dict.items():\n",
    "    temp = df[df.duplicated()]['id'].unique()\n",
    "    print(f'There are {len(temp)} duplicates data in df {key}')"
   ]
  },
  {
   "cell_type": "code",
   "execution_count": 13,
   "metadata": {},
   "outputs": [
    {
     "name": "stdout",
     "output_type": "stream",
     "text": [
      "175.45.176.1-20956-149.171.126.16-21-tcp\n",
      "Not all duplicated values in df pred_0.0039 have the same prediction\n",
      "149.171.126.6-21-59.166.0.1-4337-tcp\n",
      "Not all duplicated values in df pred_0.0 have the same prediction\n"
     ]
    }
   ],
   "source": [
    "for key, df in df_dict.items():\n",
    "    count = 0\n",
    "    for t in temp:\n",
    "        srs = df[df['id']==t][['b_mean', 'b_iqr', 'b_zscore', 'f_mean', 'f_iqr', 'f_zscore' ]].nunique()\n",
    "        if (srs > 1).any():\n",
    "            print(t)\n",
    "            count += 1\n",
    "            break\n",
    "        else:\n",
    "            continue\n",
    "    if count == 0:\n",
    "        print(f'All duplicated values in df {key} have the same prediction')\n",
    "    else:\n",
    "        print(f'Not all duplicated values in df {key} have the same prediction')"
   ]
  },
  {
   "cell_type": "markdown",
   "metadata": {},
   "source": [
    "## Data Pre-Processing"
   ]
  },
  {
   "cell_type": "code",
   "execution_count": 14,
   "metadata": {},
   "outputs": [],
   "source": [
    "def preprocess(df):\n",
    "    df = df.sort_values(by='id')\n",
    "    df.drop_duplicates(inplace=True)\n",
    "    return df"
   ]
  },
  {
   "cell_type": "code",
   "execution_count": 15,
   "metadata": {},
   "outputs": [],
   "source": [
    "for key, df in df_dict.items():\n",
    "    df = preprocess(df)"
   ]
  },
  {
   "cell_type": "markdown",
   "metadata": {},
   "source": [
    "### Merge DF"
   ]
  },
  {
   "cell_type": "code",
   "execution_count": 16,
   "metadata": {},
   "outputs": [],
   "source": [
    "df_merge = dict()\n",
    "x = df_dict['pred_0.0']\n",
    "for key, df in df_dict.items():\n",
    "    if key == 'pred_0.0':\n",
    "        continue\n",
    "    else:\n",
    "        df_all = pd.merge(x, df, on='id', how='inner')\n",
    "        df_all = df_all.sort_values(by='id')\n",
    "        df_merge[key] = df_all"
   ]
  },
  {
   "cell_type": "markdown",
   "metadata": {},
   "source": [
    "- Plot F1-Score untuk tiap tiap threshold\n",
    "- Cari trend regresinya, Hitung gradiennya untuk tiap threshold.\n",
    "- Dilakukan untuk setiap protokol\n",
    "- Rekap McNemar\n",
    "\n",
    "- Vectorizing:\n"
   ]
  },
  {
   "cell_type": "markdown",
   "metadata": {},
   "source": [
    "## Run McNemar Test"
   ]
  },
  {
   "cell_type": "code",
   "execution_count": 17,
   "metadata": {},
   "outputs": [],
   "source": [
    "def mcnemar_test(df, x , y, key):\n",
    "    a = len(df[(df[x]==0) & (df[y]==0)])\n",
    "    b = len(df[(df[x]==0) & (df[y]==1)])\n",
    "    c = len(df[(df[x]==1) & (df[y]==0)])\n",
    "    d = len(df[(df[x]==1) & (df[y]==1)])\n",
    "\n",
    "    table = np.array([\n",
    "    [a,b],\n",
    "    [c,d]\n",
    "    ])\n",
    "\n",
    "    print(key)\n",
    "    print(table)\n",
    "    result = mcnemar(table)\n",
    "    print(result)\n",
    "    return result.pvalue\n"
   ]
  },
  {
   "cell_type": "markdown",
   "metadata": {},
   "source": [
    "### For Binary Score"
   ]
  },
  {
   "cell_type": "markdown",
   "metadata": {},
   "source": [
    "#### For B-Mean"
   ]
  },
  {
   "cell_type": "code",
   "execution_count": 18,
   "metadata": {},
   "outputs": [
    {
     "name": "stdout",
     "output_type": "stream",
     "text": [
      "pred_0.0039\n",
      "[[24234    40]\n",
      " [ 1244  2864]]\n",
      "pvalue      9.058784630636e-311\n",
      "statistic   40.0\n"
     ]
    }
   ],
   "source": [
    "result = {}\n",
    "result['b-mean'] = {}\n",
    "for key, df in df_merge.items():\n",
    "    test = mcnemar_test(df, 'b_mean_x', 'b_mean_y', key)\n",
    "    result['b-mean'][key] = test"
   ]
  },
  {
   "cell_type": "markdown",
   "metadata": {},
   "source": [
    "#### For B-IQR"
   ]
  },
  {
   "cell_type": "code",
   "execution_count": 19,
   "metadata": {},
   "outputs": [
    {
     "name": "stdout",
     "output_type": "stream",
     "text": [
      "pred_0.0039\n",
      "[[20626   263]\n",
      " [  299  7194]]\n",
      "pvalue      0.13977107386766693\n",
      "statistic   263.0\n"
     ]
    }
   ],
   "source": [
    "result['b-iqr'] = {}\n",
    "for key, df in df_merge.items():\n",
    "    test = mcnemar_test(df, 'b_iqr_x', 'b_iqr_y', key)\n",
    "    result['b-iqr'][key] = test"
   ]
  },
  {
   "cell_type": "markdown",
   "metadata": {},
   "source": [
    "#### For B-ZScore"
   ]
  },
  {
   "cell_type": "code",
   "execution_count": 20,
   "metadata": {},
   "outputs": [
    {
     "name": "stdout",
     "output_type": "stream",
     "text": [
      "pred_0.0039\n",
      "[[20626   263]\n",
      " [  299  7194]]\n",
      "pvalue      0.13977107386766693\n",
      "statistic   263.0\n"
     ]
    }
   ],
   "source": [
    "result['b-zscore'] = {}\n",
    "for key, df in df_merge.items():\n",
    "    test = mcnemar_test(df, 'b_zscore_x', 'b_zscore_y', key)\n",
    "    result['b-zscore'][key] = test"
   ]
  },
  {
   "cell_type": "markdown",
   "metadata": {},
   "source": [
    "### For Floating Score"
   ]
  },
  {
   "cell_type": "markdown",
   "metadata": {},
   "source": [
    "#### For F-Mean"
   ]
  },
  {
   "cell_type": "code",
   "execution_count": 21,
   "metadata": {},
   "outputs": [
    {
     "name": "stdout",
     "output_type": "stream",
     "text": [
      "pred_0.0039\n",
      "[[24636   387]\n",
      " [  928  2431]]\n",
      "pvalue      1.3217205059091784e-51\n",
      "statistic   387.0\n"
     ]
    }
   ],
   "source": [
    "result['f-mean'] = {}\n",
    "for key, df in df_merge.items():\n",
    "    test = mcnemar_test(df, 'f_mean_x', 'f_mean_y', key)\n",
    "    result['f-mean'][key] = test"
   ]
  },
  {
   "cell_type": "markdown",
   "metadata": {},
   "source": [
    "#### For F-IQR"
   ]
  },
  {
   "cell_type": "code",
   "execution_count": 22,
   "metadata": {},
   "outputs": [
    {
     "name": "stdout",
     "output_type": "stream",
     "text": [
      "pred_0.0039\n",
      "[[20626   263]\n",
      " [  299  7194]]\n",
      "pvalue      0.13977107386766693\n",
      "statistic   263.0\n"
     ]
    }
   ],
   "source": [
    "result['f-iqr'] = {}\n",
    "for key, df in df_merge.items():\n",
    "    test = mcnemar_test(df, 'f_iqr_x', 'f_iqr_y', key)\n",
    "    result['f-iqr'][key] = test"
   ]
  },
  {
   "cell_type": "markdown",
   "metadata": {},
   "source": [
    "#### For F-ZScore"
   ]
  },
  {
   "cell_type": "code",
   "execution_count": 23,
   "metadata": {},
   "outputs": [
    {
     "name": "stdout",
     "output_type": "stream",
     "text": [
      "pred_0.0039\n",
      "[[20626   263]\n",
      " [  299  7194]]\n",
      "pvalue      0.13977107386766693\n",
      "statistic   263.0\n"
     ]
    }
   ],
   "source": [
    "result['f-zscore'] = {}\n",
    "for key, df in df_merge.items():\n",
    "    test = mcnemar_test(df, 'f_zscore_x', 'f_zscore_y', key)\n",
    "    result['f-zscore'][key] = test"
   ]
  },
  {
   "cell_type": "markdown",
   "metadata": {},
   "source": [
    "## Saving Test Result"
   ]
  },
  {
   "cell_type": "code",
   "execution_count": 24,
   "metadata": {},
   "outputs": [
    {
     "data": {
      "text/html": [
       "<div>\n",
       "<style scoped>\n",
       "    .dataframe tbody tr th:only-of-type {\n",
       "        vertical-align: middle;\n",
       "    }\n",
       "\n",
       "    .dataframe tbody tr th {\n",
       "        vertical-align: top;\n",
       "    }\n",
       "\n",
       "    .dataframe thead th {\n",
       "        text-align: right;\n",
       "    }\n",
       "</style>\n",
       "<table border=\"1\" class=\"dataframe\">\n",
       "  <thead>\n",
       "    <tr style=\"text-align: right;\">\n",
       "      <th></th>\n",
       "      <th>b-mean</th>\n",
       "      <th>b-iqr</th>\n",
       "      <th>b-zscore</th>\n",
       "      <th>f-mean</th>\n",
       "      <th>f-iqr</th>\n",
       "      <th>f-zscore</th>\n",
       "    </tr>\n",
       "  </thead>\n",
       "  <tbody>\n",
       "    <tr>\n",
       "      <th>pred_0.0039</th>\n",
       "      <td>9.058785e-311</td>\n",
       "      <td>0.139771</td>\n",
       "      <td>0.139771</td>\n",
       "      <td>1.321721e-51</td>\n",
       "      <td>0.139771</td>\n",
       "      <td>0.139771</td>\n",
       "    </tr>\n",
       "  </tbody>\n",
       "</table>\n",
       "</div>"
      ],
      "text/plain": [
       "                    b-mean     b-iqr  b-zscore        f-mean     f-iqr  \\\n",
       "pred_0.0039  9.058785e-311  0.139771  0.139771  1.321721e-51  0.139771   \n",
       "\n",
       "             f-zscore  \n",
       "pred_0.0039  0.139771  "
      ]
     },
     "execution_count": 24,
     "metadata": {},
     "output_type": "execute_result"
    }
   ],
   "source": [
    "mcnemar_result = pd.DataFrame.from_dict(result).sort_index(axis=0)\n",
    "mcnemar_result"
   ]
  },
  {
   "cell_type": "code",
   "execution_count": 25,
   "metadata": {},
   "outputs": [],
   "source": [
    "mcnemar_result.to_excel('./ftp-mcnemar.xlsx')"
   ]
  }
 ],
 "metadata": {
  "kernelspec": {
   "display_name": "ryzaenv",
   "language": "python",
   "name": "python3"
  },
  "language_info": {
   "codemirror_mode": {
    "name": "ipython",
    "version": 3
   },
   "file_extension": ".py",
   "mimetype": "text/x-python",
   "name": "python",
   "nbconvert_exporter": "python",
   "pygments_lexer": "ipython3",
   "version": "3.9.6"
  }
 },
 "nbformat": 4,
 "nbformat_minor": 2
}
