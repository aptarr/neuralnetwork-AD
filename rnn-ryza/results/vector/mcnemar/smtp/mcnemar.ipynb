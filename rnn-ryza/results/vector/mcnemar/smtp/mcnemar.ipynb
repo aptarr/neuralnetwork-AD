{
 "cells": [
  {
   "cell_type": "markdown",
   "metadata": {},
   "source": [
    "# McNemar Test"
   ]
  },
  {
   "cell_type": "markdown",
   "metadata": {},
   "source": [
    "## Import All Necessary Libraries"
   ]
  },
  {
   "cell_type": "code",
   "execution_count": 1,
   "metadata": {},
   "outputs": [],
   "source": [
    "import pandas as pd\n",
    "import numpy as np\n",
    "from statsmodels.stats.contingency_tables import mcnemar \n",
    "import os"
   ]
  },
  {
   "cell_type": "markdown",
   "metadata": {},
   "source": [
    "## Read All the Data"
   ]
  },
  {
   "cell_type": "code",
   "execution_count": 2,
   "metadata": {},
   "outputs": [],
   "source": [
    "dir = '/Users/angelaoryza/Documents/TA/noisy-rnnids/rnnids-py/results/vector/mcnemar/smtp'\n",
    "subdir = os.listdir(dir)"
   ]
  },
  {
   "cell_type": "code",
   "execution_count": 3,
   "metadata": {},
   "outputs": [],
   "source": [
    "df_dict = {}\n",
    "df_dict['bi-lstm'] = {}\n",
    "df_dict['lstm'] = {}\n",
    "for file in subdir:\n",
    "    if file.endswith('.csv'):\n",
    "        df = pd.read_csv(f'./{file}')\n",
    "        file = file.split('.csv')[0]\n",
    "        if \"bi-lstm\" in file:\n",
    "            file = file.replace('bi-lstm_', '')\n",
    "            df_dict['bi-lstm'][file] = df\n",
    "        else:\n",
    "            file = file.replace('lstm_', '')\n",
    "            df_dict['lstm'][file] = df"
   ]
  },
  {
   "cell_type": "code",
   "execution_count": 4,
   "metadata": {},
   "outputs": [
    {
     "data": {
      "text/html": [
       "<div>\n",
       "<style scoped>\n",
       "    .dataframe tbody tr th:only-of-type {\n",
       "        vertical-align: middle;\n",
       "    }\n",
       "\n",
       "    .dataframe tbody tr th {\n",
       "        vertical-align: top;\n",
       "    }\n",
       "\n",
       "    .dataframe thead th {\n",
       "        text-align: right;\n",
       "    }\n",
       "</style>\n",
       "<table border=\"1\" class=\"dataframe\">\n",
       "  <thead>\n",
       "    <tr style=\"text-align: right;\">\n",
       "      <th></th>\n",
       "      <th>Unnamed: 0</th>\n",
       "      <th>id</th>\n",
       "      <th>b_mean</th>\n",
       "      <th>b_iqr</th>\n",
       "      <th>b_zscore</th>\n",
       "      <th>f_zscore</th>\n",
       "      <th>f_mean</th>\n",
       "      <th>f_iqr</th>\n",
       "    </tr>\n",
       "  </thead>\n",
       "  <tbody>\n",
       "    <tr>\n",
       "      <th>0</th>\n",
       "      <td>0</td>\n",
       "      <td>175.45.176.0-40755-149.171.126.18-25-tcp</td>\n",
       "      <td>0</td>\n",
       "      <td>1</td>\n",
       "      <td>1</td>\n",
       "      <td>1</td>\n",
       "      <td>0</td>\n",
       "      <td>1</td>\n",
       "    </tr>\n",
       "    <tr>\n",
       "      <th>1</th>\n",
       "      <td>1</td>\n",
       "      <td>175.45.176.0-60595-149.171.126.17-25-tcp</td>\n",
       "      <td>0</td>\n",
       "      <td>1</td>\n",
       "      <td>1</td>\n",
       "      <td>1</td>\n",
       "      <td>0</td>\n",
       "      <td>1</td>\n",
       "    </tr>\n",
       "    <tr>\n",
       "      <th>2</th>\n",
       "      <td>2</td>\n",
       "      <td>175.45.176.2-58472-149.171.126.17-25-tcp</td>\n",
       "      <td>0</td>\n",
       "      <td>1</td>\n",
       "      <td>1</td>\n",
       "      <td>1</td>\n",
       "      <td>0</td>\n",
       "      <td>1</td>\n",
       "    </tr>\n",
       "    <tr>\n",
       "      <th>3</th>\n",
       "      <td>3</td>\n",
       "      <td>175.45.176.2-13352-149.171.126.13-25-tcp</td>\n",
       "      <td>0</td>\n",
       "      <td>1</td>\n",
       "      <td>1</td>\n",
       "      <td>1</td>\n",
       "      <td>0</td>\n",
       "      <td>1</td>\n",
       "    </tr>\n",
       "    <tr>\n",
       "      <th>4</th>\n",
       "      <td>4</td>\n",
       "      <td>175.45.176.0-3844-149.171.126.12-25-tcp</td>\n",
       "      <td>0</td>\n",
       "      <td>1</td>\n",
       "      <td>1</td>\n",
       "      <td>1</td>\n",
       "      <td>0</td>\n",
       "      <td>1</td>\n",
       "    </tr>\n",
       "    <tr>\n",
       "      <th>...</th>\n",
       "      <td>...</td>\n",
       "      <td>...</td>\n",
       "      <td>...</td>\n",
       "      <td>...</td>\n",
       "      <td>...</td>\n",
       "      <td>...</td>\n",
       "      <td>...</td>\n",
       "      <td>...</td>\n",
       "    </tr>\n",
       "    <tr>\n",
       "      <th>44743</th>\n",
       "      <td>44743</td>\n",
       "      <td>59.166.0.9-21800-149.171.126.0-25-tcp</td>\n",
       "      <td>0</td>\n",
       "      <td>0</td>\n",
       "      <td>0</td>\n",
       "      <td>0</td>\n",
       "      <td>0</td>\n",
       "      <td>0</td>\n",
       "    </tr>\n",
       "    <tr>\n",
       "      <th>44744</th>\n",
       "      <td>44744</td>\n",
       "      <td>59.166.0.4-6591-149.171.126.6-25-tcp</td>\n",
       "      <td>0</td>\n",
       "      <td>0</td>\n",
       "      <td>0</td>\n",
       "      <td>0</td>\n",
       "      <td>0</td>\n",
       "      <td>0</td>\n",
       "    </tr>\n",
       "    <tr>\n",
       "      <th>44745</th>\n",
       "      <td>44745</td>\n",
       "      <td>59.166.0.5-7481-149.171.126.2-25-tcp</td>\n",
       "      <td>0</td>\n",
       "      <td>0</td>\n",
       "      <td>0</td>\n",
       "      <td>0</td>\n",
       "      <td>0</td>\n",
       "      <td>0</td>\n",
       "    </tr>\n",
       "    <tr>\n",
       "      <th>44746</th>\n",
       "      <td>44746</td>\n",
       "      <td>59.166.0.0-12790-149.171.126.2-25-tcp</td>\n",
       "      <td>0</td>\n",
       "      <td>0</td>\n",
       "      <td>0</td>\n",
       "      <td>0</td>\n",
       "      <td>0</td>\n",
       "      <td>0</td>\n",
       "    </tr>\n",
       "    <tr>\n",
       "      <th>44747</th>\n",
       "      <td>44747</td>\n",
       "      <td>59.166.0.1-41608-149.171.126.1-25-tcp</td>\n",
       "      <td>0</td>\n",
       "      <td>1</td>\n",
       "      <td>1</td>\n",
       "      <td>0</td>\n",
       "      <td>0</td>\n",
       "      <td>0</td>\n",
       "    </tr>\n",
       "  </tbody>\n",
       "</table>\n",
       "<p>44748 rows × 8 columns</p>\n",
       "</div>"
      ],
      "text/plain": [
       "       Unnamed: 0                                        id  b_mean  b_iqr  \\\n",
       "0               0  175.45.176.0-40755-149.171.126.18-25-tcp       0      1   \n",
       "1               1  175.45.176.0-60595-149.171.126.17-25-tcp       0      1   \n",
       "2               2  175.45.176.2-58472-149.171.126.17-25-tcp       0      1   \n",
       "3               3  175.45.176.2-13352-149.171.126.13-25-tcp       0      1   \n",
       "4               4   175.45.176.0-3844-149.171.126.12-25-tcp       0      1   \n",
       "...           ...                                       ...     ...    ...   \n",
       "44743       44743     59.166.0.9-21800-149.171.126.0-25-tcp       0      0   \n",
       "44744       44744      59.166.0.4-6591-149.171.126.6-25-tcp       0      0   \n",
       "44745       44745      59.166.0.5-7481-149.171.126.2-25-tcp       0      0   \n",
       "44746       44746     59.166.0.0-12790-149.171.126.2-25-tcp       0      0   \n",
       "44747       44747     59.166.0.1-41608-149.171.126.1-25-tcp       0      1   \n",
       "\n",
       "       b_zscore  f_zscore  f_mean  f_iqr  \n",
       "0             1         1       0      1  \n",
       "1             1         1       0      1  \n",
       "2             1         1       0      1  \n",
       "3             1         1       0      1  \n",
       "4             1         1       0      1  \n",
       "...         ...       ...     ...    ...  \n",
       "44743         0         0       0      0  \n",
       "44744         0         0       0      0  \n",
       "44745         0         0       0      0  \n",
       "44746         0         0       0      0  \n",
       "44747         1         0       0      0  \n",
       "\n",
       "[44748 rows x 8 columns]"
      ]
     },
     "execution_count": 4,
     "metadata": {},
     "output_type": "execute_result"
    }
   ],
   "source": [
    "df_dict['bi-lstm']['pred_0.0']"
   ]
  },
  {
   "cell_type": "code",
   "execution_count": 5,
   "metadata": {},
   "outputs": [],
   "source": [
    "for key, df in df_dict.items():\n",
    "    for k, val in df_dict[key].items():\n",
    "        val.drop('Unnamed: 0', axis=1, inplace=True)"
   ]
  },
  {
   "cell_type": "markdown",
   "metadata": {},
   "source": [
    "## Data Exploration"
   ]
  },
  {
   "cell_type": "code",
   "execution_count": 6,
   "metadata": {},
   "outputs": [
    {
     "name": "stdout",
     "output_type": "stream",
     "text": [
      "There are 214 duplicates data in df pred_0.0\n",
      "There are 203 duplicates data in df pred_0.005\n",
      "There are 201 duplicates data in df pred_0.004\n",
      "There are 182 duplicates data in df pred_0.006\n",
      "There are 202 duplicates data in df pred_0.007\n",
      "There are 193 duplicates data in df pred_0.003\n",
      "There are 201 duplicates data in df pred_0.002\n",
      "There are 209 duplicates data in df pred_0.001\n",
      "There are 202 duplicates data in df pred_0.002\n",
      "There are 203 duplicates data in df pred_0.003\n",
      "There are 204 duplicates data in df pred_0.001\n",
      "There are 214 duplicates data in df pred_0.0\n",
      "There are 197 duplicates data in df pred_0.004\n",
      "There are 181 duplicates data in df pred_0.005\n",
      "There are 212 duplicates data in df pred_0.007\n",
      "There are 194 duplicates data in df pred_0.006\n"
     ]
    }
   ],
   "source": [
    "for key, df in df_dict.items():\n",
    "    for k, val in df_dict[key].items():\n",
    "        temp = val[val.duplicated()]['id'].unique()\n",
    "        print(f'There are {len(temp)} duplicates data in df {k}')"
   ]
  },
  {
   "cell_type": "code",
   "execution_count": 7,
   "metadata": {},
   "outputs": [
    {
     "name": "stdout",
     "output_type": "stream",
     "text": [
      "149.171.126.17-25-175.45.176.0-51774-tcp\n",
      "Not all duplicated values in df bi-lstm-pred_0.0 have the same prediction\n",
      "149.171.126.17-25-175.45.176.0-51774-tcp\n",
      "Not all duplicated values in df bi-lstm-pred_0.005 have the same prediction\n",
      "175.45.176.3-18874-149.171.126.17-25-tcp\n",
      "Not all duplicated values in df bi-lstm-pred_0.004 have the same prediction\n",
      "175.45.176.0-1249-149.171.126.14-25-tcp\n",
      "Not all duplicated values in df bi-lstm-pred_0.006 have the same prediction\n",
      "149.171.126.17-25-175.45.176.0-51774-tcp\n",
      "Not all duplicated values in df bi-lstm-pred_0.007 have the same prediction\n",
      "175.45.176.3-18874-149.171.126.17-25-tcp\n",
      "Not all duplicated values in df bi-lstm-pred_0.003 have the same prediction\n",
      "149.171.126.17-25-175.45.176.0-51774-tcp\n",
      "Not all duplicated values in df bi-lstm-pred_0.002 have the same prediction\n",
      "149.171.126.17-25-175.45.176.0-51774-tcp\n",
      "Not all duplicated values in df bi-lstm-pred_0.001 have the same prediction\n",
      "175.45.176.3-18874-149.171.126.17-25-tcp\n",
      "Not all duplicated values in df lstm-pred_0.002 have the same prediction\n",
      "175.45.176.3-18874-149.171.126.17-25-tcp\n",
      "Not all duplicated values in df lstm-pred_0.003 have the same prediction\n",
      "149.171.126.17-25-175.45.176.0-51774-tcp\n",
      "Not all duplicated values in df lstm-pred_0.001 have the same prediction\n",
      "149.171.126.17-25-175.45.176.0-51774-tcp\n",
      "Not all duplicated values in df lstm-pred_0.0 have the same prediction\n",
      "149.171.126.17-25-175.45.176.0-51774-tcp\n",
      "Not all duplicated values in df lstm-pred_0.004 have the same prediction\n",
      "149.171.126.17-25-175.45.176.0-51774-tcp\n",
      "Not all duplicated values in df lstm-pred_0.005 have the same prediction\n",
      "175.45.176.2-42812-149.171.126.17-25-tcp\n",
      "Not all duplicated values in df lstm-pred_0.007 have the same prediction\n",
      "175.45.176.3-18874-149.171.126.17-25-tcp\n",
      "Not all duplicated values in df lstm-pred_0.006 have the same prediction\n"
     ]
    }
   ],
   "source": [
    "for key, df in df_dict.items():\n",
    "    for k, val in df_dict[key].items():\n",
    "        count = 0\n",
    "        for t in temp:\n",
    "            srs = val[val['id']==t][['b_mean', 'b_iqr', 'b_zscore', 'f_mean', 'f_iqr', 'f_zscore' ]].nunique()\n",
    "            if (srs > 1).any():\n",
    "                print(t)\n",
    "                count += 1\n",
    "                break\n",
    "            else:\n",
    "                continue\n",
    "        if count == 0:\n",
    "            print(f'All duplicated values in df {key}-{k} have the same prediction')\n",
    "        else:\n",
    "            print(f'Not all duplicated values in df {key}-{k} have the same prediction')"
   ]
  },
  {
   "cell_type": "markdown",
   "metadata": {},
   "source": [
    "## Data Pre-Processing"
   ]
  },
  {
   "cell_type": "code",
   "execution_count": 8,
   "metadata": {},
   "outputs": [],
   "source": [
    "def preprocess(df):\n",
    "    df = df.sort_values(by='id')\n",
    "    df.drop_duplicates(inplace=True)\n",
    "    return df"
   ]
  },
  {
   "cell_type": "code",
   "execution_count": 9,
   "metadata": {},
   "outputs": [],
   "source": [
    "for key, df in df_dict.items():\n",
    "    for k, val in df_dict[key].items():\n",
    "        val = preprocess(val)"
   ]
  },
  {
   "cell_type": "markdown",
   "metadata": {},
   "source": [
    "### Merge DF"
   ]
  },
  {
   "cell_type": "code",
   "execution_count": 10,
   "metadata": {},
   "outputs": [],
   "source": [
    "df_merge = dict()\n",
    "for key, df in df_dict['lstm'].items():\n",
    "    x = df_dict['bi-lstm'][key]\n",
    "    df_all = pd.merge(x, df, on='id', how='inner')\n",
    "    df_all = df_all.sort_values(by='id')\n",
    "    df_merge[key] = df_all\n",
    "        "
   ]
  },
  {
   "cell_type": "markdown",
   "metadata": {},
   "source": [
    "- Plot F1-Score untuk tiap tiap threshold\n",
    "- Cari trend regresinya, Hitung gradiennya untuk tiap threshold.\n",
    "- Dilakukan untuk setiap protokol\n",
    "- Rekap McNemar\n",
    "\n",
    "- Vectorizing:\n"
   ]
  },
  {
   "cell_type": "markdown",
   "metadata": {},
   "source": [
    "## Run McNemar Test"
   ]
  },
  {
   "cell_type": "code",
   "execution_count": 11,
   "metadata": {},
   "outputs": [],
   "source": [
    "def mcnemar_test(df, x , y, key):\n",
    "    a = len(df[(df[x]==0) & (df[y]==0)])\n",
    "    b = len(df[(df[x]==0) & (df[y]==1)])\n",
    "    c = len(df[(df[x]==1) & (df[y]==0)])\n",
    "    d = len(df[(df[x]==1) & (df[y]==1)])\n",
    "\n",
    "    table = np.array([\n",
    "    [a,b],\n",
    "    [c,d]\n",
    "    ])\n",
    "\n",
    "    print(key)\n",
    "    print(table)\n",
    "    result = mcnemar(table)\n",
    "    print(result)\n",
    "    return result.pvalue\n"
   ]
  },
  {
   "cell_type": "markdown",
   "metadata": {},
   "source": [
    "### For Binary Score"
   ]
  },
  {
   "cell_type": "markdown",
   "metadata": {},
   "source": [
    "#### For B-Mean"
   ]
  },
  {
   "cell_type": "code",
   "execution_count": 12,
   "metadata": {},
   "outputs": [
    {
     "name": "stdout",
     "output_type": "stream",
     "text": [
      "pred_0.002\n",
      "[[44561   135]\n",
      " [   55   867]]\n",
      "pvalue      5.998182283273909e-09\n",
      "statistic   55.0\n",
      "pred_0.003\n",
      "[[44520    72]\n",
      " [   97   929]]\n",
      "pvalue      0.06455076034177584\n",
      "statistic   72.0\n",
      "pred_0.001\n",
      "[[44725    56]\n",
      " [  132   705]]\n",
      "pvalue      2.9487792919982617e-08\n",
      "statistic   56.0\n",
      "pred_0.0\n",
      "[[45445    52]\n",
      " [   46    75]]\n",
      "pvalue      0.6137344676301393\n",
      "statistic   46.0\n",
      "pred_0.004\n",
      "[[40336  4331]\n",
      " [   67   884]]\n",
      "pvalue      0.0\n",
      "statistic   67.0\n",
      "pred_0.005\n",
      "[[40363  4181]\n",
      " [   50  1024]]\n",
      "pvalue      0.0\n",
      "statistic   50.0\n",
      "pred_0.007\n",
      "[[40375  4231]\n",
      " [   36   976]]\n",
      "pvalue      0.0\n",
      "statistic   36.0\n",
      "pred_0.006\n",
      "[[44481    89]\n",
      " [  108   940]]\n",
      "pvalue      0.1995641533669113\n",
      "statistic   89.0\n"
     ]
    }
   ],
   "source": [
    "result = {}\n",
    "result['b-mean'] = {}\n",
    "for key, df in df_merge.items():\n",
    "    test = mcnemar_test(df, 'b_mean_x', 'b_mean_y', key)\n",
    "    result['b-mean'][key] = test"
   ]
  },
  {
   "cell_type": "markdown",
   "metadata": {},
   "source": [
    "#### For B-IQR"
   ]
  },
  {
   "cell_type": "code",
   "execution_count": 13,
   "metadata": {},
   "outputs": [
    {
     "name": "stdout",
     "output_type": "stream",
     "text": [
      "pred_0.002\n",
      "[[40204    90]\n",
      " [  151  5173]]\n",
      "pvalue      0.00010275349920276156\n",
      "statistic   90.0\n",
      "pred_0.003\n",
      "[[39789    94]\n",
      " [  404  5331]]\n",
      "pvalue      8.506785141742995e-47\n",
      "statistic   94.0\n",
      "pred_0.001\n",
      "[[39928   161]\n",
      " [  342  5187]]\n",
      "pvalue      4.886484581305359e-16\n",
      "statistic   161.0\n",
      "pred_0.0\n",
      "[[39752    68]\n",
      " [  513  5285]]\n",
      "pvalue      1.822750230985406e-85\n",
      "statistic   68.0\n",
      "pred_0.004\n",
      "[[39668   408]\n",
      " [  319  5223]]\n",
      "pvalue      0.0010855197503596376\n",
      "statistic   319.0\n",
      "pred_0.005\n",
      "[[39248  1108]\n",
      " [   60  5202]]\n",
      "pvalue      1.509795695839216e-250\n",
      "statistic   60.0\n",
      "pred_0.007\n",
      "[[39532   573]\n",
      " [  287  5226]]\n",
      "pvalue      1.018627072745605e-22\n",
      "statistic   287.0\n",
      "pred_0.006\n",
      "[[39629   521]\n",
      " [  301  5167]]\n",
      "pvalue      1.540897455784566e-14\n",
      "statistic   301.0\n"
     ]
    }
   ],
   "source": [
    "result['b-iqr'] = {}\n",
    "for key, df in df_merge.items():\n",
    "    test = mcnemar_test(df, 'b_iqr_x', 'b_iqr_y', key)\n",
    "    result['b-iqr'][key] = test"
   ]
  },
  {
   "cell_type": "markdown",
   "metadata": {},
   "source": [
    "#### For B-ZScore"
   ]
  },
  {
   "cell_type": "code",
   "execution_count": 14,
   "metadata": {},
   "outputs": [
    {
     "name": "stdout",
     "output_type": "stream",
     "text": [
      "pred_0.002\n",
      "[[40237    97]\n",
      " [  136  5148]]\n",
      "pvalue      0.01262653982024955\n",
      "statistic   97.0\n",
      "pred_0.003\n",
      "[[40164   116]\n",
      " [  238  5100]]\n",
      "pvalue      8.307901745973495e-11\n",
      "statistic   116.0\n",
      "pred_0.001\n",
      "[[40205   149]\n",
      " [  142  5122]]\n",
      "pvalue      0.7251101640183891\n",
      "statistic   142.0\n",
      "pred_0.0\n",
      "[[40177    74]\n",
      " [   96  5271]]\n",
      "pvalue      0.10698657283154894\n",
      "statistic   74.0\n",
      "pred_0.004\n",
      "[[40139   225]\n",
      " [   74  5180]]\n",
      "pvalue      7.120736815415637e-19\n",
      "statistic   74.0\n",
      "pred_0.005\n",
      "[[39875   509]\n",
      " [   62  5172]]\n",
      "pvalue      2.4530658072404988e-88\n",
      "statistic   62.0\n",
      "pred_0.007\n",
      "[[40139   252]\n",
      " [   72  5155]]\n",
      "pvalue      1.4912458644066358e-24\n",
      "statistic   72.0\n",
      "pred_0.006\n",
      "[[40263   116]\n",
      " [  115  5124]]\n",
      "pvalue      1.0\n",
      "statistic   115.0\n"
     ]
    }
   ],
   "source": [
    "result['b-zscore'] = {}\n",
    "for key, df in df_merge.items():\n",
    "    test = mcnemar_test(df, 'b_zscore_x', 'b_zscore_y', key)\n",
    "    result['b-zscore'][key] = test"
   ]
  },
  {
   "cell_type": "markdown",
   "metadata": {},
   "source": [
    "### For Floating Score"
   ]
  },
  {
   "cell_type": "markdown",
   "metadata": {},
   "source": [
    "#### For F-Mean"
   ]
  },
  {
   "cell_type": "code",
   "execution_count": 15,
   "metadata": {},
   "outputs": [
    {
     "name": "stdout",
     "output_type": "stream",
     "text": [
      "pred_0.002\n",
      "[[44699    47]\n",
      " [  141   731]]\n",
      "pvalue      4.15705722070781e-12\n",
      "statistic   47.0\n",
      "pred_0.003\n",
      "[[44453    76]\n",
      " [  695   394]]\n",
      "pvalue      5.460547713498193e-126\n",
      "statistic   76.0\n",
      "pred_0.001\n",
      "[[44288   140]\n",
      " [   76  1114]]\n",
      "pvalue      1.58691852771817e-05\n",
      "statistic   76.0\n",
      "pred_0.0\n",
      "[[45276   172]\n",
      " [   41   129]]\n",
      "pvalue      2.8037311964574213e-20\n",
      "statistic   41.0\n",
      "pred_0.004\n",
      "[[45017    28]\n",
      " [   32   541]]\n",
      "pvalue      0.6988834276200058\n",
      "statistic   28.0\n",
      "pred_0.005\n",
      "[[43722  1382]\n",
      " [   33   481]]\n",
      "pvalue      0.0\n",
      "statistic   33.0\n",
      "pred_0.007\n",
      "[[40529  4720]\n",
      " [    2   367]]\n",
      "pvalue      0.0\n",
      "statistic   2.0\n",
      "pred_0.006\n",
      "[[44474   138]\n",
      " [  487   519]]\n",
      "pvalue      1.5169666413270729e-46\n",
      "statistic   138.0\n"
     ]
    }
   ],
   "source": [
    "result['f-mean'] = {}\n",
    "for key, df in df_merge.items():\n",
    "    test = mcnemar_test(df, 'f_mean_x', 'f_mean_y', key)\n",
    "    result['f-mean'][key] = test"
   ]
  },
  {
   "cell_type": "markdown",
   "metadata": {},
   "source": [
    "#### For F-IQR"
   ]
  },
  {
   "cell_type": "code",
   "execution_count": 16,
   "metadata": {},
   "outputs": [
    {
     "name": "stdout",
     "output_type": "stream",
     "text": [
      "pred_0.002\n",
      "[[40137   551]\n",
      " [  443  4487]]\n",
      "pvalue      0.0006816903669040145\n",
      "statistic   443.0\n",
      "pred_0.003\n",
      "[[39196   168]\n",
      " [ 1507  4747]]\n",
      "pvalue      3.9283087885603084e-269\n",
      "statistic   168.0\n",
      "pred_0.001\n",
      "[[40071   381]\n",
      " [  123  5043]]\n",
      "pvalue      1.0006531769247524e-31\n",
      "statistic   123.0\n",
      "pred_0.0\n",
      "[[40282   182]\n",
      " [  344  4810]]\n",
      "pvalue      1.4887520732860009e-12\n",
      "statistic   182.0\n",
      "pred_0.004\n",
      "[[40045   377]\n",
      " [  210  4986]]\n",
      "pvalue      5.289380427230023e-12\n",
      "statistic   210.0\n",
      "pred_0.005\n",
      "[[39584   844]\n",
      " [ 2186  3004]]\n",
      "pvalue      1.1564264675262746e-135\n",
      "statistic   844.0\n",
      "pred_0.007\n",
      "[[39943   413]\n",
      " [  128  5134]]\n",
      "pvalue      5.736689799828836e-36\n",
      "statistic   128.0\n",
      "pred_0.006\n",
      "[[39738   490]\n",
      " [  715  4675]]\n",
      "pvalue      9.718942655996354e-11\n",
      "statistic   490.0\n"
     ]
    }
   ],
   "source": [
    "result['f-iqr'] = {}\n",
    "for key, df in df_merge.items():\n",
    "    test = mcnemar_test(df, 'f_iqr_x', 'f_iqr_y', key)\n",
    "    result['f-iqr'][key] = test"
   ]
  },
  {
   "cell_type": "markdown",
   "metadata": {},
   "source": [
    "#### For F-ZScore"
   ]
  },
  {
   "cell_type": "code",
   "execution_count": 17,
   "metadata": {},
   "outputs": [
    {
     "name": "stdout",
     "output_type": "stream",
     "text": [
      "pred_0.002\n",
      "[[40465   659]\n",
      " [  233  4261]]\n",
      "pvalue      8.699285720010836e-48\n",
      "statistic   233.0\n",
      "pred_0.003\n",
      "[[40369   215]\n",
      " [  486  4548]]\n",
      "pvalue      5.1649382954915245e-25\n",
      "statistic   215.0\n",
      "pred_0.001\n",
      "[[40392   214]\n",
      " [  149  4863]]\n",
      "pvalue      0.0007594968381817871\n",
      "statistic   149.0\n",
      "pred_0.0\n",
      "[[40409   185]\n",
      " [  283  4741]]\n",
      "pvalue      6.817059541081604e-06\n",
      "statistic   185.0\n",
      "pred_0.004\n",
      "[[40379   167]\n",
      " [  182  4890]]\n",
      "pvalue      0.4536621676763865\n",
      "statistic   167.0\n",
      "pred_0.005\n",
      "[[40183   317]\n",
      " [ 2383  2735]]\n",
      "pvalue      0.0\n",
      "statistic   317.0\n",
      "pred_0.007\n",
      "[[40189   261]\n",
      " [  152  5016]]\n",
      "pvalue      9.077111402663694e-08\n",
      "statistic   152.0\n",
      "pred_0.006\n",
      "[[40458   328]\n",
      " [  363  4469]]\n",
      "pvalue      0.19582928730718535\n",
      "statistic   328.0\n"
     ]
    }
   ],
   "source": [
    "result['f-zscore'] = {}\n",
    "for key, df in df_merge.items():\n",
    "    test = mcnemar_test(df, 'f_zscore_x', 'f_zscore_y', key)\n",
    "    result['f-zscore'][key] = test"
   ]
  },
  {
   "cell_type": "markdown",
   "metadata": {},
   "source": [
    "## Saving Test Result"
   ]
  },
  {
   "cell_type": "code",
   "execution_count": 18,
   "metadata": {},
   "outputs": [
    {
     "data": {
      "text/html": [
       "<div>\n",
       "<style scoped>\n",
       "    .dataframe tbody tr th:only-of-type {\n",
       "        vertical-align: middle;\n",
       "    }\n",
       "\n",
       "    .dataframe tbody tr th {\n",
       "        vertical-align: top;\n",
       "    }\n",
       "\n",
       "    .dataframe thead th {\n",
       "        text-align: right;\n",
       "    }\n",
       "</style>\n",
       "<table border=\"1\" class=\"dataframe\">\n",
       "  <thead>\n",
       "    <tr style=\"text-align: right;\">\n",
       "      <th></th>\n",
       "      <th>b-mean</th>\n",
       "      <th>b-iqr</th>\n",
       "      <th>b-zscore</th>\n",
       "      <th>f-mean</th>\n",
       "      <th>f-iqr</th>\n",
       "      <th>f-zscore</th>\n",
       "    </tr>\n",
       "  </thead>\n",
       "  <tbody>\n",
       "    <tr>\n",
       "      <th>pred_0.0</th>\n",
       "      <td>6.137345e-01</td>\n",
       "      <td>1.822750e-85</td>\n",
       "      <td>1.069866e-01</td>\n",
       "      <td>2.803731e-20</td>\n",
       "      <td>1.488752e-12</td>\n",
       "      <td>6.817060e-06</td>\n",
       "    </tr>\n",
       "    <tr>\n",
       "      <th>pred_0.001</th>\n",
       "      <td>2.948779e-08</td>\n",
       "      <td>4.886485e-16</td>\n",
       "      <td>7.251102e-01</td>\n",
       "      <td>1.586919e-05</td>\n",
       "      <td>1.000653e-31</td>\n",
       "      <td>7.594968e-04</td>\n",
       "    </tr>\n",
       "    <tr>\n",
       "      <th>pred_0.002</th>\n",
       "      <td>5.998182e-09</td>\n",
       "      <td>1.027535e-04</td>\n",
       "      <td>1.262654e-02</td>\n",
       "      <td>4.157057e-12</td>\n",
       "      <td>6.816904e-04</td>\n",
       "      <td>8.699286e-48</td>\n",
       "    </tr>\n",
       "    <tr>\n",
       "      <th>pred_0.003</th>\n",
       "      <td>6.455076e-02</td>\n",
       "      <td>8.506785e-47</td>\n",
       "      <td>8.307902e-11</td>\n",
       "      <td>5.460548e-126</td>\n",
       "      <td>3.928309e-269</td>\n",
       "      <td>5.164938e-25</td>\n",
       "    </tr>\n",
       "    <tr>\n",
       "      <th>pred_0.004</th>\n",
       "      <td>0.000000e+00</td>\n",
       "      <td>1.085520e-03</td>\n",
       "      <td>7.120737e-19</td>\n",
       "      <td>6.988834e-01</td>\n",
       "      <td>5.289380e-12</td>\n",
       "      <td>4.536622e-01</td>\n",
       "    </tr>\n",
       "    <tr>\n",
       "      <th>pred_0.005</th>\n",
       "      <td>0.000000e+00</td>\n",
       "      <td>1.509796e-250</td>\n",
       "      <td>2.453066e-88</td>\n",
       "      <td>0.000000e+00</td>\n",
       "      <td>1.156426e-135</td>\n",
       "      <td>0.000000e+00</td>\n",
       "    </tr>\n",
       "    <tr>\n",
       "      <th>pred_0.006</th>\n",
       "      <td>1.995642e-01</td>\n",
       "      <td>1.540897e-14</td>\n",
       "      <td>1.000000e+00</td>\n",
       "      <td>1.516967e-46</td>\n",
       "      <td>9.718943e-11</td>\n",
       "      <td>1.958293e-01</td>\n",
       "    </tr>\n",
       "    <tr>\n",
       "      <th>pred_0.007</th>\n",
       "      <td>0.000000e+00</td>\n",
       "      <td>1.018627e-22</td>\n",
       "      <td>1.491246e-24</td>\n",
       "      <td>0.000000e+00</td>\n",
       "      <td>5.736690e-36</td>\n",
       "      <td>9.077111e-08</td>\n",
       "    </tr>\n",
       "  </tbody>\n",
       "</table>\n",
       "</div>"
      ],
      "text/plain": [
       "                  b-mean          b-iqr      b-zscore         f-mean  \\\n",
       "pred_0.0    6.137345e-01   1.822750e-85  1.069866e-01   2.803731e-20   \n",
       "pred_0.001  2.948779e-08   4.886485e-16  7.251102e-01   1.586919e-05   \n",
       "pred_0.002  5.998182e-09   1.027535e-04  1.262654e-02   4.157057e-12   \n",
       "pred_0.003  6.455076e-02   8.506785e-47  8.307902e-11  5.460548e-126   \n",
       "pred_0.004  0.000000e+00   1.085520e-03  7.120737e-19   6.988834e-01   \n",
       "pred_0.005  0.000000e+00  1.509796e-250  2.453066e-88   0.000000e+00   \n",
       "pred_0.006  1.995642e-01   1.540897e-14  1.000000e+00   1.516967e-46   \n",
       "pred_0.007  0.000000e+00   1.018627e-22  1.491246e-24   0.000000e+00   \n",
       "\n",
       "                    f-iqr      f-zscore  \n",
       "pred_0.0     1.488752e-12  6.817060e-06  \n",
       "pred_0.001   1.000653e-31  7.594968e-04  \n",
       "pred_0.002   6.816904e-04  8.699286e-48  \n",
       "pred_0.003  3.928309e-269  5.164938e-25  \n",
       "pred_0.004   5.289380e-12  4.536622e-01  \n",
       "pred_0.005  1.156426e-135  0.000000e+00  \n",
       "pred_0.006   9.718943e-11  1.958293e-01  \n",
       "pred_0.007   5.736690e-36  9.077111e-08  "
      ]
     },
     "execution_count": 18,
     "metadata": {},
     "output_type": "execute_result"
    }
   ],
   "source": [
    "mcnemar_result = pd.DataFrame.from_dict(result).sort_index(axis=0)\n",
    "mcnemar_result"
   ]
  },
  {
   "cell_type": "code",
   "execution_count": 19,
   "metadata": {},
   "outputs": [],
   "source": [
    "mcnemar_result.to_excel('./smtp-mcnemar.xlsx')"
   ]
  },
  {
   "cell_type": "code",
   "execution_count": null,
   "metadata": {},
   "outputs": [],
   "source": []
  }
 ],
 "metadata": {
  "kernelspec": {
   "display_name": "ryzaenv",
   "language": "python",
   "name": "python3"
  },
  "language_info": {
   "codemirror_mode": {
    "name": "ipython",
    "version": 3
   },
   "file_extension": ".py",
   "mimetype": "text/x-python",
   "name": "python",
   "nbconvert_exporter": "python",
   "pygments_lexer": "ipython3",
   "version": "3.9.6"
  }
 },
 "nbformat": 4,
 "nbformat_minor": 2
}
