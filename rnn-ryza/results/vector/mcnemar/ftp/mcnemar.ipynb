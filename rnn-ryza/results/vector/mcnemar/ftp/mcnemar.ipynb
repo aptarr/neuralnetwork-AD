{
 "cells": [
  {
   "cell_type": "markdown",
   "metadata": {},
   "source": [
    "# McNemar Test"
   ]
  },
  {
   "cell_type": "markdown",
   "metadata": {},
   "source": [
    "## Import All Necessary Libraries"
   ]
  },
  {
   "cell_type": "code",
   "execution_count": 1,
   "metadata": {},
   "outputs": [],
   "source": [
    "import pandas as pd\n",
    "import numpy as np\n",
    "from statsmodels.stats.contingency_tables import mcnemar \n",
    "import os"
   ]
  },
  {
   "cell_type": "markdown",
   "metadata": {},
   "source": [
    "## Read All the Data"
   ]
  },
  {
   "cell_type": "code",
   "execution_count": 2,
   "metadata": {},
   "outputs": [],
   "source": [
    "dir = '/Users/angelaoryza/Documents/TA/noisy-rnnids/rnnids-py/results/vector/mcnemar/ftp'\n",
    "subdir = os.listdir(dir)"
   ]
  },
  {
   "cell_type": "code",
   "execution_count": 3,
   "metadata": {},
   "outputs": [],
   "source": [
    "df_dict = {}\n",
    "df_dict['bi-lstm'] = {}\n",
    "df_dict['lstm'] = {}\n",
    "for file in subdir:\n",
    "    if file.endswith('.csv'):\n",
    "        df = pd.read_csv(f'./{file}')\n",
    "        file = file.split('.csv')[0]\n",
    "        if \"bi-lstm\" in file:\n",
    "            file = file.replace('bi-lstm_', '')\n",
    "            df_dict['bi-lstm'][file] = df\n",
    "        else:\n",
    "            file = file.replace('lstm_', '')\n",
    "            df_dict['lstm'][file] = df"
   ]
  },
  {
   "cell_type": "code",
   "execution_count": 4,
   "metadata": {},
   "outputs": [
    {
     "data": {
      "text/html": [
       "<div>\n",
       "<style scoped>\n",
       "    .dataframe tbody tr th:only-of-type {\n",
       "        vertical-align: middle;\n",
       "    }\n",
       "\n",
       "    .dataframe tbody tr th {\n",
       "        vertical-align: top;\n",
       "    }\n",
       "\n",
       "    .dataframe thead th {\n",
       "        text-align: right;\n",
       "    }\n",
       "</style>\n",
       "<table border=\"1\" class=\"dataframe\">\n",
       "  <thead>\n",
       "    <tr style=\"text-align: right;\">\n",
       "      <th></th>\n",
       "      <th>Unnamed: 0</th>\n",
       "      <th>id</th>\n",
       "      <th>b_mean</th>\n",
       "      <th>b_iqr</th>\n",
       "      <th>b_zscore</th>\n",
       "      <th>f_zscore</th>\n",
       "      <th>f_mean</th>\n",
       "      <th>f_iqr</th>\n",
       "    </tr>\n",
       "  </thead>\n",
       "  <tbody>\n",
       "    <tr>\n",
       "      <th>0</th>\n",
       "      <td>0</td>\n",
       "      <td>175.45.176.0-45235-149.171.126.16-21-tcp</td>\n",
       "      <td>1</td>\n",
       "      <td>1</td>\n",
       "      <td>1</td>\n",
       "      <td>1</td>\n",
       "      <td>1</td>\n",
       "      <td>1</td>\n",
       "    </tr>\n",
       "    <tr>\n",
       "      <th>1</th>\n",
       "      <td>1</td>\n",
       "      <td>175.45.176.3-1025-149.171.126.11-21-tcp</td>\n",
       "      <td>1</td>\n",
       "      <td>1</td>\n",
       "      <td>1</td>\n",
       "      <td>1</td>\n",
       "      <td>1</td>\n",
       "      <td>1</td>\n",
       "    </tr>\n",
       "    <tr>\n",
       "      <th>2</th>\n",
       "      <td>2</td>\n",
       "      <td>175.45.176.1-28136-149.171.126.11-21-tcp</td>\n",
       "      <td>1</td>\n",
       "      <td>1</td>\n",
       "      <td>1</td>\n",
       "      <td>1</td>\n",
       "      <td>1</td>\n",
       "      <td>1</td>\n",
       "    </tr>\n",
       "    <tr>\n",
       "      <th>3</th>\n",
       "      <td>3</td>\n",
       "      <td>175.45.176.2-43663-149.171.126.15-21-tcp</td>\n",
       "      <td>1</td>\n",
       "      <td>1</td>\n",
       "      <td>1</td>\n",
       "      <td>1</td>\n",
       "      <td>1</td>\n",
       "      <td>1</td>\n",
       "    </tr>\n",
       "    <tr>\n",
       "      <th>4</th>\n",
       "      <td>4</td>\n",
       "      <td>175.45.176.3-64709-149.171.126.15-21-tcp</td>\n",
       "      <td>1</td>\n",
       "      <td>1</td>\n",
       "      <td>1</td>\n",
       "      <td>1</td>\n",
       "      <td>1</td>\n",
       "      <td>1</td>\n",
       "    </tr>\n",
       "    <tr>\n",
       "      <th>...</th>\n",
       "      <td>...</td>\n",
       "      <td>...</td>\n",
       "      <td>...</td>\n",
       "      <td>...</td>\n",
       "      <td>...</td>\n",
       "      <td>...</td>\n",
       "      <td>...</td>\n",
       "      <td>...</td>\n",
       "    </tr>\n",
       "    <tr>\n",
       "      <th>25298</th>\n",
       "      <td>25298</td>\n",
       "      <td>59.166.0.8-55795-149.171.126.6-21-tcp</td>\n",
       "      <td>0</td>\n",
       "      <td>0</td>\n",
       "      <td>0</td>\n",
       "      <td>0</td>\n",
       "      <td>0</td>\n",
       "      <td>0</td>\n",
       "    </tr>\n",
       "    <tr>\n",
       "      <th>25299</th>\n",
       "      <td>25299</td>\n",
       "      <td>149.171.126.1-21-59.166.0.7-7753-tcp</td>\n",
       "      <td>0</td>\n",
       "      <td>1</td>\n",
       "      <td>1</td>\n",
       "      <td>1</td>\n",
       "      <td>0</td>\n",
       "      <td>1</td>\n",
       "    </tr>\n",
       "    <tr>\n",
       "      <th>25300</th>\n",
       "      <td>25300</td>\n",
       "      <td>59.166.0.3-7585-149.171.126.2-21-tcp</td>\n",
       "      <td>0</td>\n",
       "      <td>0</td>\n",
       "      <td>0</td>\n",
       "      <td>0</td>\n",
       "      <td>0</td>\n",
       "      <td>0</td>\n",
       "    </tr>\n",
       "    <tr>\n",
       "      <th>25301</th>\n",
       "      <td>25301</td>\n",
       "      <td>59.166.0.1-27560-149.171.126.3-21-tcp</td>\n",
       "      <td>0</td>\n",
       "      <td>1</td>\n",
       "      <td>1</td>\n",
       "      <td>1</td>\n",
       "      <td>0</td>\n",
       "      <td>1</td>\n",
       "    </tr>\n",
       "    <tr>\n",
       "      <th>25302</th>\n",
       "      <td>25302</td>\n",
       "      <td>59.166.0.2-49329-149.171.126.0-21-tcp</td>\n",
       "      <td>0</td>\n",
       "      <td>1</td>\n",
       "      <td>1</td>\n",
       "      <td>1</td>\n",
       "      <td>0</td>\n",
       "      <td>1</td>\n",
       "    </tr>\n",
       "  </tbody>\n",
       "</table>\n",
       "<p>25303 rows × 8 columns</p>\n",
       "</div>"
      ],
      "text/plain": [
       "       Unnamed: 0                                        id  b_mean  b_iqr  \\\n",
       "0               0  175.45.176.0-45235-149.171.126.16-21-tcp       1      1   \n",
       "1               1   175.45.176.3-1025-149.171.126.11-21-tcp       1      1   \n",
       "2               2  175.45.176.1-28136-149.171.126.11-21-tcp       1      1   \n",
       "3               3  175.45.176.2-43663-149.171.126.15-21-tcp       1      1   \n",
       "4               4  175.45.176.3-64709-149.171.126.15-21-tcp       1      1   \n",
       "...           ...                                       ...     ...    ...   \n",
       "25298       25298     59.166.0.8-55795-149.171.126.6-21-tcp       0      0   \n",
       "25299       25299      149.171.126.1-21-59.166.0.7-7753-tcp       0      1   \n",
       "25300       25300      59.166.0.3-7585-149.171.126.2-21-tcp       0      0   \n",
       "25301       25301     59.166.0.1-27560-149.171.126.3-21-tcp       0      1   \n",
       "25302       25302     59.166.0.2-49329-149.171.126.0-21-tcp       0      1   \n",
       "\n",
       "       b_zscore  f_zscore  f_mean  f_iqr  \n",
       "0             1         1       1      1  \n",
       "1             1         1       1      1  \n",
       "2             1         1       1      1  \n",
       "3             1         1       1      1  \n",
       "4             1         1       1      1  \n",
       "...         ...       ...     ...    ...  \n",
       "25298         0         0       0      0  \n",
       "25299         1         1       0      1  \n",
       "25300         0         0       0      0  \n",
       "25301         1         1       0      1  \n",
       "25302         1         1       0      1  \n",
       "\n",
       "[25303 rows x 8 columns]"
      ]
     },
     "execution_count": 4,
     "metadata": {},
     "output_type": "execute_result"
    }
   ],
   "source": [
    "df_dict['bi-lstm']['pred_0.0']"
   ]
  },
  {
   "cell_type": "code",
   "execution_count": 5,
   "metadata": {},
   "outputs": [],
   "source": [
    "for key, df in df_dict.items():\n",
    "    for k, val in df_dict[key].items():\n",
    "        val.drop('Unnamed: 0', axis=1, inplace=True)"
   ]
  },
  {
   "cell_type": "markdown",
   "metadata": {},
   "source": [
    "## Data Exploration"
   ]
  },
  {
   "cell_type": "code",
   "execution_count": 6,
   "metadata": {},
   "outputs": [
    {
     "name": "stdout",
     "output_type": "stream",
     "text": [
      "There are 390 duplicates data in df pred_0.0039\n",
      "There are 386 duplicates data in df pred_0.0005\n",
      "There are 385 duplicates data in df pred_0.0015\n",
      "There are 505 duplicates data in df pred_0.0\n",
      "There are 392 duplicates data in df pred_0.0025\n",
      "There are 376 duplicates data in df pred_0.003\n",
      "There are 389 duplicates data in df pred_0.002\n",
      "There are 390 duplicates data in df pred_0.0035\n",
      "There are 386 duplicates data in df pred_0.001\n",
      "There are 388 duplicates data in df pred_0.002\n",
      "There are 378 duplicates data in df pred_0.003\n",
      "There are 387 duplicates data in df pred_0.001\n",
      "There are 493 duplicates data in df pred_0.0\n",
      "There are 389 duplicates data in df pred_0.0035\n",
      "There are 389 duplicates data in df pred_0.0025\n",
      "There are 386 duplicates data in df pred_0.0015\n",
      "There are 389 duplicates data in df pred_0.0039\n",
      "There are 386 duplicates data in df pred_0.0005\n"
     ]
    }
   ],
   "source": [
    "for key, df in df_dict.items():\n",
    "    for k, val in df_dict[key].items():\n",
    "        temp = val[val.duplicated()]['id'].unique()\n",
    "        print(f'There are {len(temp)} duplicates data in df {k}')"
   ]
  },
  {
   "cell_type": "code",
   "execution_count": 7,
   "metadata": {},
   "outputs": [
    {
     "name": "stdout",
     "output_type": "stream",
     "text": [
      "175.45.176.1-52899-149.171.126.10-21-tcp\n",
      "Not all duplicated values in df bi-lstm-pred_0.0039 have the same prediction\n",
      "175.45.176.0-2939-149.171.126.15-21-tcp\n",
      "Not all duplicated values in df bi-lstm-pred_0.0005 have the same prediction\n",
      "175.45.176.2-60931-149.171.126.11-21-tcp\n",
      "Not all duplicated values in df bi-lstm-pred_0.0015 have the same prediction\n",
      "149.171.126.0-21-59.166.0.9-40745-tcp\n",
      "Not all duplicated values in df bi-lstm-pred_0.0 have the same prediction\n",
      "149.171.126.9-21-59.166.0.2-32919-tcp\n",
      "Not all duplicated values in df bi-lstm-pred_0.0025 have the same prediction\n",
      "149.171.126.0-21-59.166.0.9-40745-tcp\n",
      "Not all duplicated values in df bi-lstm-pred_0.003 have the same prediction\n",
      "175.45.176.2-60931-149.171.126.11-21-tcp\n",
      "Not all duplicated values in df bi-lstm-pred_0.002 have the same prediction\n",
      "175.45.176.1-1238-149.171.126.13-21-tcp\n",
      "Not all duplicated values in df bi-lstm-pred_0.0035 have the same prediction\n",
      "175.45.176.2-60931-149.171.126.11-21-tcp\n",
      "Not all duplicated values in df bi-lstm-pred_0.001 have the same prediction\n",
      "149.171.126.9-21-59.166.0.2-32919-tcp\n",
      "Not all duplicated values in df lstm-pred_0.002 have the same prediction\n",
      "149.171.126.0-21-59.166.0.8-6159-tcp\n",
      "Not all duplicated values in df lstm-pred_0.003 have the same prediction\n",
      "175.45.176.2-60931-149.171.126.11-21-tcp\n",
      "Not all duplicated values in df lstm-pred_0.001 have the same prediction\n",
      "149.171.126.0-21-59.166.0.9-40745-tcp\n",
      "Not all duplicated values in df lstm-pred_0.0 have the same prediction\n",
      "175.45.176.1-1238-149.171.126.13-21-tcp\n",
      "Not all duplicated values in df lstm-pred_0.0035 have the same prediction\n",
      "175.45.176.2-60931-149.171.126.11-21-tcp\n",
      "Not all duplicated values in df lstm-pred_0.0025 have the same prediction\n",
      "175.45.176.2-60931-149.171.126.11-21-tcp\n",
      "Not all duplicated values in df lstm-pred_0.0015 have the same prediction\n",
      "175.45.176.1-52899-149.171.126.10-21-tcp\n",
      "Not all duplicated values in df lstm-pred_0.0039 have the same prediction\n",
      "149.171.126.9-21-59.166.0.2-32919-tcp\n",
      "Not all duplicated values in df lstm-pred_0.0005 have the same prediction\n"
     ]
    }
   ],
   "source": [
    "for key, df in df_dict.items():\n",
    "    for k, val in df_dict[key].items():\n",
    "        count = 0\n",
    "        for t in temp:\n",
    "            srs = val[val['id']==t][['b_mean', 'b_iqr', 'b_zscore', 'f_mean', 'f_iqr', 'f_zscore' ]].nunique()\n",
    "            if (srs > 1).any():\n",
    "                print(t)\n",
    "                count += 1\n",
    "                break\n",
    "            else:\n",
    "                continue\n",
    "        if count == 0:\n",
    "            print(f'All duplicated values in df {key}-{k} have the same prediction')\n",
    "        else:\n",
    "            print(f'Not all duplicated values in df {key}-{k} have the same prediction')"
   ]
  },
  {
   "cell_type": "markdown",
   "metadata": {},
   "source": [
    "## Data Pre-Processing"
   ]
  },
  {
   "cell_type": "code",
   "execution_count": 8,
   "metadata": {},
   "outputs": [],
   "source": [
    "def preprocess(df):\n",
    "    df = df.sort_values(by='id')\n",
    "    df.drop_duplicates(inplace=True)\n",
    "    return df"
   ]
  },
  {
   "cell_type": "code",
   "execution_count": 9,
   "metadata": {},
   "outputs": [],
   "source": [
    "for key, df in df_dict.items():\n",
    "    for k, val in df_dict[key].items():\n",
    "        val = preprocess(val)"
   ]
  },
  {
   "cell_type": "markdown",
   "metadata": {},
   "source": [
    "### Merge DF"
   ]
  },
  {
   "cell_type": "code",
   "execution_count": 10,
   "metadata": {},
   "outputs": [],
   "source": [
    "df_merge = dict()\n",
    "for key, df in df_dict['lstm'].items():\n",
    "    x = df_dict['bi-lstm'][key]\n",
    "    df_all = pd.merge(x, df, on='id', how='inner')\n",
    "    df_all = df_all.sort_values(by='id')\n",
    "    df_merge[key] = df_all\n",
    "        "
   ]
  },
  {
   "cell_type": "markdown",
   "metadata": {},
   "source": [
    "- Plot F1-Score untuk tiap tiap threshold\n",
    "- Cari trend regresinya, Hitung gradiennya untuk tiap threshold.\n",
    "- Dilakukan untuk setiap protokol\n",
    "- Rekap McNemar\n",
    "\n",
    "- Vectorizing:\n"
   ]
  },
  {
   "cell_type": "markdown",
   "metadata": {},
   "source": [
    "## Run McNemar Test"
   ]
  },
  {
   "cell_type": "code",
   "execution_count": 11,
   "metadata": {},
   "outputs": [],
   "source": [
    "def mcnemar_test(df, x , y, key):\n",
    "    a = len(df[(df[x]==0) & (df[y]==0)])\n",
    "    b = len(df[(df[x]==0) & (df[y]==1)])\n",
    "    c = len(df[(df[x]==1) & (df[y]==0)])\n",
    "    d = len(df[(df[x]==1) & (df[y]==1)])\n",
    "\n",
    "    table = np.array([\n",
    "    [a,b],\n",
    "    [c,d]\n",
    "    ])\n",
    "\n",
    "    print(key)\n",
    "    print(table)\n",
    "    result = mcnemar(table)\n",
    "    print(result)\n",
    "    return result.pvalue\n"
   ]
  },
  {
   "cell_type": "markdown",
   "metadata": {},
   "source": [
    "### For Binary Score"
   ]
  },
  {
   "cell_type": "markdown",
   "metadata": {},
   "source": [
    "#### For B-Mean"
   ]
  },
  {
   "cell_type": "code",
   "execution_count": 12,
   "metadata": {},
   "outputs": [
    {
     "name": "stdout",
     "output_type": "stream",
     "text": [
      "pred_0.002\n",
      "[[24430   191]\n",
      " [  179  1947]]\n",
      "pvalue      0.5674740213663277\n",
      "statistic   179.0\n",
      "pred_0.003\n",
      "[[23935   340]\n",
      " [  285  2187]]\n",
      "pvalue      0.03069084889697326\n",
      "statistic   285.0\n",
      "pred_0.001\n",
      "[[24381   195]\n",
      " [  166  2005]]\n",
      "pvalue      0.14045935551164945\n",
      "statistic   166.0\n",
      "pred_0.0\n",
      "[[24077   213]\n",
      " [  267  2190]]\n",
      "pvalue      0.015471317174642852\n",
      "statistic   213.0\n",
      "pred_0.0035\n",
      "[[24602   207]\n",
      " [  164  1774]]\n",
      "pvalue      0.029081665049916328\n",
      "statistic   164.0\n",
      "pred_0.0025\n",
      "[[24330   410]\n",
      " [  224  1783]]\n",
      "pvalue      1.3608462331755516e-13\n",
      "statistic   224.0\n",
      "pred_0.0015\n",
      "[[24364   185]\n",
      " [  208  1990]]\n",
      "pvalue      0.26708220847031827\n",
      "statistic   185.0\n",
      "pred_0.0039\n",
      "[[24642   245]\n",
      " [  152  1708]]\n",
      "pvalue      3.5275971040330817e-06\n",
      "statistic   152.0\n",
      "pred_0.0005\n",
      "[[23622   434]\n",
      " [   48  2643]]\n",
      "pvalue      7.871428050259647e-79\n",
      "statistic   48.0\n"
     ]
    }
   ],
   "source": [
    "result = {}\n",
    "result['b-mean'] = {}\n",
    "for key, df in df_merge.items():\n",
    "    test = mcnemar_test(df, 'b_mean_x', 'b_mean_y', key)\n",
    "    result['b-mean'][key] = test"
   ]
  },
  {
   "cell_type": "markdown",
   "metadata": {},
   "source": [
    "#### For B-IQR"
   ]
  },
  {
   "cell_type": "code",
   "execution_count": 13,
   "metadata": {},
   "outputs": [
    {
     "name": "stdout",
     "output_type": "stream",
     "text": [
      "pred_0.002\n",
      "[[21298     3]\n",
      " [    3  5443]]\n",
      "pvalue      1.0\n",
      "statistic   3.0\n",
      "pred_0.003\n",
      "[[21298     3]\n",
      " [    3  5443]]\n",
      "pvalue      1.0\n",
      "statistic   3.0\n",
      "pred_0.001\n",
      "[[21298     3]\n",
      " [    3  5443]]\n",
      "pvalue      1.0\n",
      "statistic   3.0\n",
      "pred_0.0\n",
      "[[21298     3]\n",
      " [    3  5443]]\n",
      "pvalue      1.0\n",
      "statistic   3.0\n",
      "pred_0.0035\n",
      "[[21298     3]\n",
      " [    3  5443]]\n",
      "pvalue      1.0\n",
      "statistic   3.0\n",
      "pred_0.0025\n",
      "[[21298     3]\n",
      " [    3  5443]]\n",
      "pvalue      1.0\n",
      "statistic   3.0\n",
      "pred_0.0015\n",
      "[[21298     3]\n",
      " [    3  5443]]\n",
      "pvalue      1.0\n",
      "statistic   3.0\n",
      "pred_0.0039\n",
      "[[21298     3]\n",
      " [    3  5443]]\n",
      "pvalue      1.0\n",
      "statistic   3.0\n",
      "pred_0.0005\n",
      "[[21298     3]\n",
      " [    3  5443]]\n",
      "pvalue      1.0\n",
      "statistic   3.0\n"
     ]
    }
   ],
   "source": [
    "result['b-iqr'] = {}\n",
    "for key, df in df_merge.items():\n",
    "    test = mcnemar_test(df, 'b_iqr_x', 'b_iqr_y', key)\n",
    "    result['b-iqr'][key] = test"
   ]
  },
  {
   "cell_type": "markdown",
   "metadata": {},
   "source": [
    "#### For B-ZScore"
   ]
  },
  {
   "cell_type": "code",
   "execution_count": 14,
   "metadata": {},
   "outputs": [
    {
     "name": "stdout",
     "output_type": "stream",
     "text": [
      "pred_0.002\n",
      "[[21298     3]\n",
      " [    3  5443]]\n",
      "pvalue      1.0\n",
      "statistic   3.0\n",
      "pred_0.003\n",
      "[[21298     3]\n",
      " [    3  5443]]\n",
      "pvalue      1.0\n",
      "statistic   3.0\n",
      "pred_0.001\n",
      "[[21298     3]\n",
      " [    3  5443]]\n",
      "pvalue      1.0\n",
      "statistic   3.0\n",
      "pred_0.0\n",
      "[[21298     3]\n",
      " [    3  5443]]\n",
      "pvalue      1.0\n",
      "statistic   3.0\n",
      "pred_0.0035\n",
      "[[21298     3]\n",
      " [    3  5443]]\n",
      "pvalue      1.0\n",
      "statistic   3.0\n",
      "pred_0.0025\n",
      "[[21298     3]\n",
      " [    3  5443]]\n",
      "pvalue      1.0\n",
      "statistic   3.0\n",
      "pred_0.0015\n",
      "[[21298     3]\n",
      " [    3  5443]]\n",
      "pvalue      1.0\n",
      "statistic   3.0\n",
      "pred_0.0039\n",
      "[[21298     3]\n",
      " [    3  5443]]\n",
      "pvalue      1.0\n",
      "statistic   3.0\n",
      "pred_0.0005\n",
      "[[21298     3]\n",
      " [    3  5443]]\n",
      "pvalue      1.0\n",
      "statistic   3.0\n"
     ]
    }
   ],
   "source": [
    "result['b-zscore'] = {}\n",
    "for key, df in df_merge.items():\n",
    "    test = mcnemar_test(df, 'b_zscore_x', 'b_zscore_y', key)\n",
    "    result['b-zscore'][key] = test"
   ]
  },
  {
   "cell_type": "markdown",
   "metadata": {},
   "source": [
    "### For Floating Score"
   ]
  },
  {
   "cell_type": "markdown",
   "metadata": {},
   "source": [
    "#### For F-Mean"
   ]
  },
  {
   "cell_type": "code",
   "execution_count": 15,
   "metadata": {},
   "outputs": [
    {
     "name": "stdout",
     "output_type": "stream",
     "text": [
      "pred_0.002\n",
      "[[25031   127]\n",
      " [  130  1459]]\n",
      "pvalue      0.9007479747783873\n",
      "statistic   127.0\n",
      "pred_0.003\n",
      "[[24750   452]\n",
      " [  124  1421]]\n",
      "pvalue      8.893068246103901e-45\n",
      "statistic   124.0\n",
      "pred_0.001\n",
      "[[25080   140]\n",
      " [  141  1386]]\n",
      "pvalue      1.0\n",
      "statistic   140.0\n",
      "pred_0.0\n",
      "[[24582   360]\n",
      " [ 1538   267]]\n",
      "pvalue      6.737011519419362e-173\n",
      "statistic   360.0\n",
      "pred_0.0035\n",
      "[[25103   130]\n",
      " [  137  1377]]\n",
      "pvalue      0.7135487067229689\n",
      "statistic   130.0\n",
      "pred_0.0025\n",
      "[[25018   127]\n",
      " [  126  1476]]\n",
      "pvalue      0.9999999999999998\n",
      "statistic   126.0\n",
      "pred_0.0015\n",
      "[[25052   128]\n",
      " [  141  1426]]\n",
      "pvalue      0.464445493036592\n",
      "statistic   128.0\n",
      "pred_0.0039\n",
      "[[25031   128]\n",
      " [  135  1453]]\n",
      "pvalue      0.7114763589543254\n",
      "statistic   128.0\n",
      "pred_0.0005\n",
      "[[25092   137]\n",
      " [  127  1391]]\n",
      "pvalue      0.57972288694173\n",
      "statistic   127.0\n"
     ]
    }
   ],
   "source": [
    "result['f-mean'] = {}\n",
    "for key, df in df_merge.items():\n",
    "    test = mcnemar_test(df, 'f_mean_x', 'f_mean_y', key)\n",
    "    result['f-mean'][key] = test"
   ]
  },
  {
   "cell_type": "markdown",
   "metadata": {},
   "source": [
    "#### For F-IQR"
   ]
  },
  {
   "cell_type": "code",
   "execution_count": 16,
   "metadata": {},
   "outputs": [
    {
     "name": "stdout",
     "output_type": "stream",
     "text": [
      "pred_0.002\n",
      "[[21298     3]\n",
      " [    3  5443]]\n",
      "pvalue      1.0\n",
      "statistic   3.0\n",
      "pred_0.003\n",
      "[[21298     3]\n",
      " [    3  5443]]\n",
      "pvalue      1.0\n",
      "statistic   3.0\n",
      "pred_0.001\n",
      "[[21298     3]\n",
      " [    3  5443]]\n",
      "pvalue      1.0\n",
      "statistic   3.0\n",
      "pred_0.0\n",
      "[[21298     3]\n",
      " [    3  5443]]\n",
      "pvalue      1.0\n",
      "statistic   3.0\n",
      "pred_0.0035\n",
      "[[21298     3]\n",
      " [    3  5443]]\n",
      "pvalue      1.0\n",
      "statistic   3.0\n",
      "pred_0.0025\n",
      "[[21298     3]\n",
      " [    3  5443]]\n",
      "pvalue      1.0\n",
      "statistic   3.0\n",
      "pred_0.0015\n",
      "[[21298     3]\n",
      " [    3  5443]]\n",
      "pvalue      1.0\n",
      "statistic   3.0\n",
      "pred_0.0039\n",
      "[[21298     3]\n",
      " [    3  5443]]\n",
      "pvalue      1.0\n",
      "statistic   3.0\n",
      "pred_0.0005\n",
      "[[21298     3]\n",
      " [    3  5443]]\n",
      "pvalue      1.0\n",
      "statistic   3.0\n"
     ]
    }
   ],
   "source": [
    "result['f-iqr'] = {}\n",
    "for key, df in df_merge.items():\n",
    "    test = mcnemar_test(df, 'f_iqr_x', 'f_iqr_y', key)\n",
    "    result['f-iqr'][key] = test"
   ]
  },
  {
   "cell_type": "markdown",
   "metadata": {},
   "source": [
    "#### For F-ZScore"
   ]
  },
  {
   "cell_type": "code",
   "execution_count": 17,
   "metadata": {},
   "outputs": [
    {
     "name": "stdout",
     "output_type": "stream",
     "text": [
      "pred_0.002\n",
      "[[21298     3]\n",
      " [    3  5443]]\n",
      "pvalue      1.0\n",
      "statistic   3.0\n",
      "pred_0.003\n",
      "[[21298     3]\n",
      " [    3  5443]]\n",
      "pvalue      1.0\n",
      "statistic   3.0\n",
      "pred_0.001\n",
      "[[21298     3]\n",
      " [    3  5443]]\n",
      "pvalue      1.0\n",
      "statistic   3.0\n",
      "pred_0.0\n",
      "[[21298     3]\n",
      " [    3  5443]]\n",
      "pvalue      1.0\n",
      "statistic   3.0\n",
      "pred_0.0035\n",
      "[[21298     3]\n",
      " [    3  5443]]\n",
      "pvalue      1.0\n",
      "statistic   3.0\n",
      "pred_0.0025\n",
      "[[21298     3]\n",
      " [    3  5443]]\n",
      "pvalue      1.0\n",
      "statistic   3.0\n",
      "pred_0.0015\n",
      "[[21298     3]\n",
      " [    3  5443]]\n",
      "pvalue      1.0\n",
      "statistic   3.0\n",
      "pred_0.0039\n",
      "[[21298     3]\n",
      " [    3  5443]]\n",
      "pvalue      1.0\n",
      "statistic   3.0\n",
      "pred_0.0005\n",
      "[[21298     3]\n",
      " [    3  5443]]\n",
      "pvalue      1.0\n",
      "statistic   3.0\n"
     ]
    }
   ],
   "source": [
    "result['f-zscore'] = {}\n",
    "for key, df in df_merge.items():\n",
    "    test = mcnemar_test(df, 'f_zscore_x', 'f_zscore_y', key)\n",
    "    result['f-zscore'][key] = test"
   ]
  },
  {
   "cell_type": "markdown",
   "metadata": {},
   "source": [
    "## Saving Test Result"
   ]
  },
  {
   "cell_type": "code",
   "execution_count": 18,
   "metadata": {},
   "outputs": [
    {
     "data": {
      "text/html": [
       "<div>\n",
       "<style scoped>\n",
       "    .dataframe tbody tr th:only-of-type {\n",
       "        vertical-align: middle;\n",
       "    }\n",
       "\n",
       "    .dataframe tbody tr th {\n",
       "        vertical-align: top;\n",
       "    }\n",
       "\n",
       "    .dataframe thead th {\n",
       "        text-align: right;\n",
       "    }\n",
       "</style>\n",
       "<table border=\"1\" class=\"dataframe\">\n",
       "  <thead>\n",
       "    <tr style=\"text-align: right;\">\n",
       "      <th></th>\n",
       "      <th>b-mean</th>\n",
       "      <th>b-iqr</th>\n",
       "      <th>b-zscore</th>\n",
       "      <th>f-mean</th>\n",
       "      <th>f-iqr</th>\n",
       "      <th>f-zscore</th>\n",
       "    </tr>\n",
       "  </thead>\n",
       "  <tbody>\n",
       "    <tr>\n",
       "      <th>pred_0.0</th>\n",
       "      <td>1.547132e-02</td>\n",
       "      <td>1.0</td>\n",
       "      <td>1.0</td>\n",
       "      <td>6.737012e-173</td>\n",
       "      <td>1.0</td>\n",
       "      <td>1.0</td>\n",
       "    </tr>\n",
       "    <tr>\n",
       "      <th>pred_0.0005</th>\n",
       "      <td>7.871428e-79</td>\n",
       "      <td>1.0</td>\n",
       "      <td>1.0</td>\n",
       "      <td>5.797229e-01</td>\n",
       "      <td>1.0</td>\n",
       "      <td>1.0</td>\n",
       "    </tr>\n",
       "    <tr>\n",
       "      <th>pred_0.001</th>\n",
       "      <td>1.404594e-01</td>\n",
       "      <td>1.0</td>\n",
       "      <td>1.0</td>\n",
       "      <td>1.000000e+00</td>\n",
       "      <td>1.0</td>\n",
       "      <td>1.0</td>\n",
       "    </tr>\n",
       "    <tr>\n",
       "      <th>pred_0.0015</th>\n",
       "      <td>2.670822e-01</td>\n",
       "      <td>1.0</td>\n",
       "      <td>1.0</td>\n",
       "      <td>4.644455e-01</td>\n",
       "      <td>1.0</td>\n",
       "      <td>1.0</td>\n",
       "    </tr>\n",
       "    <tr>\n",
       "      <th>pred_0.002</th>\n",
       "      <td>5.674740e-01</td>\n",
       "      <td>1.0</td>\n",
       "      <td>1.0</td>\n",
       "      <td>9.007480e-01</td>\n",
       "      <td>1.0</td>\n",
       "      <td>1.0</td>\n",
       "    </tr>\n",
       "    <tr>\n",
       "      <th>pred_0.0025</th>\n",
       "      <td>1.360846e-13</td>\n",
       "      <td>1.0</td>\n",
       "      <td>1.0</td>\n",
       "      <td>1.000000e+00</td>\n",
       "      <td>1.0</td>\n",
       "      <td>1.0</td>\n",
       "    </tr>\n",
       "    <tr>\n",
       "      <th>pred_0.003</th>\n",
       "      <td>3.069085e-02</td>\n",
       "      <td>1.0</td>\n",
       "      <td>1.0</td>\n",
       "      <td>8.893068e-45</td>\n",
       "      <td>1.0</td>\n",
       "      <td>1.0</td>\n",
       "    </tr>\n",
       "    <tr>\n",
       "      <th>pred_0.0035</th>\n",
       "      <td>2.908167e-02</td>\n",
       "      <td>1.0</td>\n",
       "      <td>1.0</td>\n",
       "      <td>7.135487e-01</td>\n",
       "      <td>1.0</td>\n",
       "      <td>1.0</td>\n",
       "    </tr>\n",
       "    <tr>\n",
       "      <th>pred_0.0039</th>\n",
       "      <td>3.527597e-06</td>\n",
       "      <td>1.0</td>\n",
       "      <td>1.0</td>\n",
       "      <td>7.114764e-01</td>\n",
       "      <td>1.0</td>\n",
       "      <td>1.0</td>\n",
       "    </tr>\n",
       "  </tbody>\n",
       "</table>\n",
       "</div>"
      ],
      "text/plain": [
       "                   b-mean  b-iqr  b-zscore         f-mean  f-iqr  f-zscore\n",
       "pred_0.0     1.547132e-02    1.0       1.0  6.737012e-173    1.0       1.0\n",
       "pred_0.0005  7.871428e-79    1.0       1.0   5.797229e-01    1.0       1.0\n",
       "pred_0.001   1.404594e-01    1.0       1.0   1.000000e+00    1.0       1.0\n",
       "pred_0.0015  2.670822e-01    1.0       1.0   4.644455e-01    1.0       1.0\n",
       "pred_0.002   5.674740e-01    1.0       1.0   9.007480e-01    1.0       1.0\n",
       "pred_0.0025  1.360846e-13    1.0       1.0   1.000000e+00    1.0       1.0\n",
       "pred_0.003   3.069085e-02    1.0       1.0   8.893068e-45    1.0       1.0\n",
       "pred_0.0035  2.908167e-02    1.0       1.0   7.135487e-01    1.0       1.0\n",
       "pred_0.0039  3.527597e-06    1.0       1.0   7.114764e-01    1.0       1.0"
      ]
     },
     "execution_count": 18,
     "metadata": {},
     "output_type": "execute_result"
    }
   ],
   "source": [
    "mcnemar_result = pd.DataFrame.from_dict(result).sort_index(axis=0)\n",
    "mcnemar_result"
   ]
  },
  {
   "cell_type": "code",
   "execution_count": 19,
   "metadata": {},
   "outputs": [],
   "source": [
    "mcnemar_result.to_excel('./ftp-mcnemar.xlsx')"
   ]
  }
 ],
 "metadata": {
  "kernelspec": {
   "display_name": "ryzaenv",
   "language": "python",
   "name": "python3"
  },
  "language_info": {
   "codemirror_mode": {
    "name": "ipython",
    "version": 3
   },
   "file_extension": ".py",
   "mimetype": "text/x-python",
   "name": "python",
   "nbconvert_exporter": "python",
   "pygments_lexer": "ipython3",
   "version": "3.9.6"
  }
 },
 "nbformat": 4,
 "nbformat_minor": 2
}
