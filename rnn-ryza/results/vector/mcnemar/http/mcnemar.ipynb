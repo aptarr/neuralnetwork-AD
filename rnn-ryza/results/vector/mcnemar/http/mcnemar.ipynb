{
 "cells": [
  {
   "cell_type": "markdown",
   "metadata": {},
   "source": [
    "# McNemar Test"
   ]
  },
  {
   "cell_type": "markdown",
   "metadata": {},
   "source": [
    "## Import All Necessary Libraries"
   ]
  },
  {
   "cell_type": "code",
   "execution_count": 11,
   "metadata": {},
   "outputs": [],
   "source": [
    "import pandas as pd\n",
    "import numpy as np\n",
    "from statsmodels.stats.contingency_tables import mcnemar \n",
    "import os"
   ]
  },
  {
   "cell_type": "markdown",
   "metadata": {},
   "source": [
    "## Read All the Data"
   ]
  },
  {
   "cell_type": "code",
   "execution_count": 12,
   "metadata": {},
   "outputs": [],
   "source": [
    "dir = '/Users/angelaoryza/Documents/TA/noisy-rnnids/rnnids-py/results/vector/mcnemar/http'\n",
    "subdir = os.listdir(dir)"
   ]
  },
  {
   "cell_type": "code",
   "execution_count": 13,
   "metadata": {},
   "outputs": [],
   "source": [
    "df_dict = {}\n",
    "df_dict['bi-lstm'] = {}\n",
    "df_dict['lstm'] = {}\n",
    "for file in subdir:\n",
    "    if file.endswith('.csv'):\n",
    "        df = pd.read_csv(f'./{file}')\n",
    "        file = file.split('.csv')[0]\n",
    "        if \"bi-lstm\" in file:\n",
    "            file = file.replace('bi-lstm_', '')\n",
    "            df_dict['bi-lstm'][file] = df\n",
    "        else:\n",
    "            file = file.replace('lstm_', '')\n",
    "            df_dict['lstm'][file] = df"
   ]
  },
  {
   "cell_type": "code",
   "execution_count": 14,
   "metadata": {},
   "outputs": [
    {
     "data": {
      "text/html": [
       "<div>\n",
       "<style scoped>\n",
       "    .dataframe tbody tr th:only-of-type {\n",
       "        vertical-align: middle;\n",
       "    }\n",
       "\n",
       "    .dataframe tbody tr th {\n",
       "        vertical-align: top;\n",
       "    }\n",
       "\n",
       "    .dataframe thead th {\n",
       "        text-align: right;\n",
       "    }\n",
       "</style>\n",
       "<table border=\"1\" class=\"dataframe\">\n",
       "  <thead>\n",
       "    <tr style=\"text-align: right;\">\n",
       "      <th></th>\n",
       "      <th>Unnamed: 0</th>\n",
       "      <th>id</th>\n",
       "      <th>b_mean</th>\n",
       "      <th>b_iqr</th>\n",
       "      <th>b_zscore</th>\n",
       "      <th>f_zscore</th>\n",
       "      <th>f_mean</th>\n",
       "      <th>f_iqr</th>\n",
       "    </tr>\n",
       "  </thead>\n",
       "  <tbody>\n",
       "    <tr>\n",
       "      <th>0</th>\n",
       "      <td>0</td>\n",
       "      <td>175.45.176.1-4657-149.171.126.18-80-tcp</td>\n",
       "      <td>1</td>\n",
       "      <td>1</td>\n",
       "      <td>1</td>\n",
       "      <td>0</td>\n",
       "      <td>0</td>\n",
       "      <td>1</td>\n",
       "    </tr>\n",
       "    <tr>\n",
       "      <th>1</th>\n",
       "      <td>1</td>\n",
       "      <td>175.45.176.3-32473-149.171.126.18-80-tcp</td>\n",
       "      <td>0</td>\n",
       "      <td>1</td>\n",
       "      <td>1</td>\n",
       "      <td>0</td>\n",
       "      <td>0</td>\n",
       "      <td>0</td>\n",
       "    </tr>\n",
       "    <tr>\n",
       "      <th>2</th>\n",
       "      <td>2</td>\n",
       "      <td>175.45.176.0-21873-149.171.126.14-80-tcp</td>\n",
       "      <td>0</td>\n",
       "      <td>1</td>\n",
       "      <td>1</td>\n",
       "      <td>0</td>\n",
       "      <td>0</td>\n",
       "      <td>0</td>\n",
       "    </tr>\n",
       "    <tr>\n",
       "      <th>3</th>\n",
       "      <td>3</td>\n",
       "      <td>175.45.176.0-49194-149.171.126.17-80-tcp</td>\n",
       "      <td>1</td>\n",
       "      <td>1</td>\n",
       "      <td>1</td>\n",
       "      <td>1</td>\n",
       "      <td>0</td>\n",
       "      <td>1</td>\n",
       "    </tr>\n",
       "    <tr>\n",
       "      <th>4</th>\n",
       "      <td>4</td>\n",
       "      <td>175.45.176.1-51435-149.171.126.14-80-tcp</td>\n",
       "      <td>1</td>\n",
       "      <td>1</td>\n",
       "      <td>1</td>\n",
       "      <td>1</td>\n",
       "      <td>0</td>\n",
       "      <td>1</td>\n",
       "    </tr>\n",
       "    <tr>\n",
       "      <th>...</th>\n",
       "      <td>...</td>\n",
       "      <td>...</td>\n",
       "      <td>...</td>\n",
       "      <td>...</td>\n",
       "      <td>...</td>\n",
       "      <td>...</td>\n",
       "      <td>...</td>\n",
       "      <td>...</td>\n",
       "    </tr>\n",
       "    <tr>\n",
       "      <th>154327</th>\n",
       "      <td>154327</td>\n",
       "      <td>149.171.126.15-80-175.45.176.2-20096-tcp</td>\n",
       "      <td>0</td>\n",
       "      <td>1</td>\n",
       "      <td>1</td>\n",
       "      <td>0</td>\n",
       "      <td>0</td>\n",
       "      <td>0</td>\n",
       "    </tr>\n",
       "    <tr>\n",
       "      <th>154328</th>\n",
       "      <td>154328</td>\n",
       "      <td>59.166.0.7-25671-149.171.126.9-80-tcp</td>\n",
       "      <td>0</td>\n",
       "      <td>0</td>\n",
       "      <td>0</td>\n",
       "      <td>0</td>\n",
       "      <td>0</td>\n",
       "      <td>0</td>\n",
       "    </tr>\n",
       "    <tr>\n",
       "      <th>154329</th>\n",
       "      <td>154329</td>\n",
       "      <td>59.166.0.6-24097-149.171.126.7-80-tcp</td>\n",
       "      <td>0</td>\n",
       "      <td>0</td>\n",
       "      <td>0</td>\n",
       "      <td>0</td>\n",
       "      <td>0</td>\n",
       "      <td>0</td>\n",
       "    </tr>\n",
       "    <tr>\n",
       "      <th>154330</th>\n",
       "      <td>154330</td>\n",
       "      <td>59.166.0.6-22144-149.171.126.3-80-tcp</td>\n",
       "      <td>0</td>\n",
       "      <td>0</td>\n",
       "      <td>0</td>\n",
       "      <td>0</td>\n",
       "      <td>0</td>\n",
       "      <td>0</td>\n",
       "    </tr>\n",
       "    <tr>\n",
       "      <th>154331</th>\n",
       "      <td>154331</td>\n",
       "      <td>59.166.0.2-36879-149.171.126.7-80-tcp</td>\n",
       "      <td>0</td>\n",
       "      <td>0</td>\n",
       "      <td>0</td>\n",
       "      <td>0</td>\n",
       "      <td>0</td>\n",
       "      <td>0</td>\n",
       "    </tr>\n",
       "  </tbody>\n",
       "</table>\n",
       "<p>154332 rows × 8 columns</p>\n",
       "</div>"
      ],
      "text/plain": [
       "        Unnamed: 0                                        id  b_mean  b_iqr  \\\n",
       "0                0   175.45.176.1-4657-149.171.126.18-80-tcp       1      1   \n",
       "1                1  175.45.176.3-32473-149.171.126.18-80-tcp       0      1   \n",
       "2                2  175.45.176.0-21873-149.171.126.14-80-tcp       0      1   \n",
       "3                3  175.45.176.0-49194-149.171.126.17-80-tcp       1      1   \n",
       "4                4  175.45.176.1-51435-149.171.126.14-80-tcp       1      1   \n",
       "...            ...                                       ...     ...    ...   \n",
       "154327      154327  149.171.126.15-80-175.45.176.2-20096-tcp       0      1   \n",
       "154328      154328     59.166.0.7-25671-149.171.126.9-80-tcp       0      0   \n",
       "154329      154329     59.166.0.6-24097-149.171.126.7-80-tcp       0      0   \n",
       "154330      154330     59.166.0.6-22144-149.171.126.3-80-tcp       0      0   \n",
       "154331      154331     59.166.0.2-36879-149.171.126.7-80-tcp       0      0   \n",
       "\n",
       "        b_zscore  f_zscore  f_mean  f_iqr  \n",
       "0              1         0       0      1  \n",
       "1              1         0       0      0  \n",
       "2              1         0       0      0  \n",
       "3              1         1       0      1  \n",
       "4              1         1       0      1  \n",
       "...          ...       ...     ...    ...  \n",
       "154327         1         0       0      0  \n",
       "154328         0         0       0      0  \n",
       "154329         0         0       0      0  \n",
       "154330         0         0       0      0  \n",
       "154331         0         0       0      0  \n",
       "\n",
       "[154332 rows x 8 columns]"
      ]
     },
     "execution_count": 14,
     "metadata": {},
     "output_type": "execute_result"
    }
   ],
   "source": [
    "df_dict['bi-lstm']['pred_0.0']"
   ]
  },
  {
   "cell_type": "code",
   "execution_count": 15,
   "metadata": {},
   "outputs": [],
   "source": [
    "for key, df in df_dict.items():\n",
    "    for k, val in df_dict[key].items():\n",
    "        val.drop('Unnamed: 0', axis=1, inplace=True)"
   ]
  },
  {
   "cell_type": "markdown",
   "metadata": {},
   "source": [
    "## Data Exploration"
   ]
  },
  {
   "cell_type": "code",
   "execution_count": 16,
   "metadata": {},
   "outputs": [
    {
     "name": "stdout",
     "output_type": "stream",
     "text": [
      "There are 30828 duplicates data in df bi-lstm.001\n",
      "There are 30546 duplicates data in df pred_0.0\n",
      "There are 30656 duplicates data in df pred_0.005\n",
      "There are 30891 duplicates data in df pred_0.004\n",
      "There are 30608 duplicates data in df pred_0.003\n",
      "There are 30845 duplicates data in df pred_0.002\n",
      "There are 26540 duplicates data in df pred_0.001\n",
      "There are 30764 duplicates data in df pred_0.002\n",
      "There are 30788 duplicates data in df pred_0.003\n",
      "There are 30612 duplicates data in df pred_0.001\n",
      "There are 30821 duplicates data in df pred_0.0\n",
      "There are 30609 duplicates data in df pred_0.004\n",
      "There are 30421 duplicates data in df pred_0.005\n"
     ]
    }
   ],
   "source": [
    "for key, df in df_dict.items():\n",
    "    for k, val in df_dict[key].items():\n",
    "        temp = val[val.duplicated()]['id'].unique()\n",
    "        print(f'There are {len(temp)} duplicates data in df {k}')"
   ]
  },
  {
   "cell_type": "code",
   "execution_count": 17,
   "metadata": {},
   "outputs": [
    {
     "name": "stdout",
     "output_type": "stream",
     "text": [
      "149.171.126.3-80-59.166.0.6-3934-tcp\n",
      "Not all duplicated values in df bi-lstm-bi-lstm.001 have the same prediction\n",
      "149.171.126.0-80-59.166.0.9-14582-tcp\n",
      "Not all duplicated values in df bi-lstm-pred_0.0 have the same prediction\n",
      "149.171.126.0-80-59.166.0.9-14582-tcp\n",
      "Not all duplicated values in df bi-lstm-pred_0.005 have the same prediction\n",
      "149.171.126.0-80-59.166.0.9-14582-tcp\n",
      "Not all duplicated values in df bi-lstm-pred_0.004 have the same prediction\n",
      "149.171.126.3-80-59.166.0.6-3934-tcp\n",
      "Not all duplicated values in df bi-lstm-pred_0.003 have the same prediction\n",
      "149.171.126.3-80-59.166.0.6-3934-tcp\n",
      "Not all duplicated values in df bi-lstm-pred_0.002 have the same prediction\n",
      "149.171.126.0-80-59.166.0.9-14582-tcp\n",
      "Not all duplicated values in df bi-lstm-pred_0.001 have the same prediction\n",
      "149.171.126.3-80-59.166.0.6-3934-tcp\n",
      "Not all duplicated values in df lstm-pred_0.002 have the same prediction\n",
      "149.171.126.0-80-59.166.0.9-14582-tcp\n",
      "Not all duplicated values in df lstm-pred_0.003 have the same prediction\n",
      "149.171.126.0-80-59.166.0.9-14582-tcp\n",
      "Not all duplicated values in df lstm-pred_0.001 have the same prediction\n",
      "149.171.126.0-80-59.166.0.9-14582-tcp\n",
      "Not all duplicated values in df lstm-pred_0.0 have the same prediction\n",
      "149.171.126.0-80-59.166.0.9-14582-tcp\n",
      "Not all duplicated values in df lstm-pred_0.004 have the same prediction\n",
      "149.171.126.0-80-59.166.0.9-14582-tcp\n",
      "Not all duplicated values in df lstm-pred_0.005 have the same prediction\n"
     ]
    }
   ],
   "source": [
    "for key, df in df_dict.items():\n",
    "    for k, val in df_dict[key].items():\n",
    "        count = 0\n",
    "        for t in temp:\n",
    "            srs = val[val['id']==t][['b_mean', 'b_iqr', 'b_zscore', 'f_mean', 'f_iqr', 'f_zscore' ]].nunique()\n",
    "            if (srs > 1).any():\n",
    "                print(t)\n",
    "                count += 1\n",
    "                break\n",
    "            else:\n",
    "                continue\n",
    "        if count == 0:\n",
    "            print(f'All duplicated values in df {key}-{k} have the same prediction')\n",
    "        else:\n",
    "            print(f'Not all duplicated values in df {key}-{k} have the same prediction')"
   ]
  },
  {
   "cell_type": "markdown",
   "metadata": {},
   "source": [
    "## Data Pre-Processing"
   ]
  },
  {
   "cell_type": "code",
   "execution_count": 18,
   "metadata": {},
   "outputs": [],
   "source": [
    "def preprocess(df):\n",
    "    df = df.sort_values(by='id')\n",
    "    df.drop_duplicates(inplace=True)\n",
    "    return df"
   ]
  },
  {
   "cell_type": "code",
   "execution_count": 19,
   "metadata": {},
   "outputs": [],
   "source": [
    "for key, df in df_dict.items():\n",
    "    for k, val in df_dict[key].items():\n",
    "        val = preprocess(val)"
   ]
  },
  {
   "cell_type": "markdown",
   "metadata": {},
   "source": [
    "### Merge DF"
   ]
  },
  {
   "cell_type": "code",
   "execution_count": 20,
   "metadata": {},
   "outputs": [],
   "source": [
    "df_merge = dict()\n",
    "for key, df in df_dict['lstm'].items():\n",
    "    x = df_dict['bi-lstm'][key]\n",
    "    df_all = pd.merge(x, df, on='id', how='inner')\n",
    "    df_all = df_all.sort_values(by='id')\n",
    "    df_merge[key] = df_all\n",
    "        "
   ]
  },
  {
   "cell_type": "markdown",
   "metadata": {},
   "source": [
    "- Plot F1-Score untuk tiap tiap threshold\n",
    "- Cari trend regresinya, Hitung gradiennya untuk tiap threshold.\n",
    "- Dilakukan untuk setiap protokol\n",
    "- Rekap McNemar\n",
    "\n",
    "- Vectorizing:\n"
   ]
  },
  {
   "cell_type": "markdown",
   "metadata": {},
   "source": [
    "## Run McNemar Test"
   ]
  },
  {
   "cell_type": "code",
   "execution_count": 21,
   "metadata": {},
   "outputs": [],
   "source": [
    "def mcnemar_test(df, x , y, key):\n",
    "    a = len(df[(df[x]==0) & (df[y]==0)])\n",
    "    b = len(df[(df[x]==0) & (df[y]==1)])\n",
    "    c = len(df[(df[x]==1) & (df[y]==0)])\n",
    "    d = len(df[(df[x]==1) & (df[y]==1)])\n",
    "\n",
    "    table = np.array([\n",
    "    [a,b],\n",
    "    [c,d]\n",
    "    ])\n",
    "\n",
    "    print(key)\n",
    "    print(table)\n",
    "    result = mcnemar(table)\n",
    "    print(result)\n",
    "    return result.pvalue\n"
   ]
  },
  {
   "cell_type": "markdown",
   "metadata": {},
   "source": [
    "### For Binary Score"
   ]
  },
  {
   "cell_type": "markdown",
   "metadata": {},
   "source": [
    "#### For B-Mean"
   ]
  },
  {
   "cell_type": "code",
   "execution_count": 22,
   "metadata": {},
   "outputs": [
    {
     "name": "stdout",
     "output_type": "stream",
     "text": [
      "pred_0.002\n",
      "[[277549   5216]\n",
      " [    73   6074]]\n",
      "pvalue      0.0\n",
      "statistic   73.0\n",
      "pred_0.003\n",
      "[[270351   4458]\n",
      " [   134  13969]]\n",
      "pvalue      0.0\n",
      "statistic   134.0\n",
      "pred_0.001\n",
      "[[270351   1708]\n",
      " [  5183  11670]]\n",
      "pvalue      0.0\n",
      "statistic   1708.0\n",
      "pred_0.0\n",
      "[[271048   2428]\n",
      " [   120  15316]]\n",
      "pvalue      0.0\n",
      "statistic   120.0\n",
      "pred_0.004\n",
      "[[269058    750]\n",
      " [   108  18996]]\n",
      "pvalue      5.297165766641721e-119\n",
      "statistic   108.0\n",
      "pred_0.005\n",
      "[[276934   9152]\n",
      " [   249   2577]]\n",
      "pvalue      0.0\n",
      "statistic   249.0\n"
     ]
    }
   ],
   "source": [
    "result = {}\n",
    "result['b-mean'] = {}\n",
    "for key, df in df_merge.items():\n",
    "    test = mcnemar_test(df, 'b_mean_x', 'b_mean_y', key)\n",
    "    result['b-mean'][key] = test"
   ]
  },
  {
   "cell_type": "markdown",
   "metadata": {},
   "source": [
    "#### For B-IQR"
   ]
  },
  {
   "cell_type": "code",
   "execution_count": 23,
   "metadata": {},
   "outputs": [
    {
     "name": "stdout",
     "output_type": "stream",
     "text": [
      "pred_0.002\n",
      "[[174956   1127]\n",
      " [   628 112201]]\n",
      "pvalue      5.158635818240357e-33\n",
      "statistic   628.0\n",
      "pred_0.003\n",
      "[[180362    635]\n",
      " [   509 107406]]\n",
      "pvalue      0.00021634410866244603\n",
      "statistic   509.0\n",
      "pred_0.001\n",
      "[[168382  85835]\n",
      " [  8563  26132]]\n",
      "pvalue      0.0\n",
      "statistic   8563.0\n",
      "pred_0.0\n",
      "[[173023    158]\n",
      " [  7522 108209]]\n",
      "pvalue      0.0\n",
      "statistic   158.0\n",
      "pred_0.004\n",
      "[[177368   1639]\n",
      " [  1151 108754]]\n",
      "pvalue      2.389972242108363e-20\n",
      "statistic   1151.0\n",
      "pred_0.005\n",
      "[[181272   2719]\n",
      " [  1478 103443]]\n",
      "pvalue      7.339413353434423e-83\n",
      "statistic   1478.0\n"
     ]
    }
   ],
   "source": [
    "result['b-iqr'] = {}\n",
    "for key, df in df_merge.items():\n",
    "    test = mcnemar_test(df, 'b_iqr_x', 'b_iqr_y', key)\n",
    "    result['b-iqr'][key] = test"
   ]
  },
  {
   "cell_type": "markdown",
   "metadata": {},
   "source": [
    "#### For B-ZScore"
   ]
  },
  {
   "cell_type": "code",
   "execution_count": 24,
   "metadata": {},
   "outputs": [
    {
     "name": "stdout",
     "output_type": "stream",
     "text": [
      "pred_0.002\n",
      "[[263910   3090]\n",
      " [   675  21237]]\n",
      "pvalue      0.0\n",
      "statistic   675.0\n",
      "pred_0.003\n",
      "[[267514   1017]\n",
      " [    24  20357]]\n",
      "pvalue      2.8134957859710346e-265\n",
      "statistic   24.0\n",
      "pred_0.001\n",
      "[[179671    382]\n",
      " [ 87873  20986]]\n",
      "pvalue      0.0\n",
      "statistic   382.0\n",
      "pred_0.0\n",
      "[[182740    186]\n",
      " [ 84918  21068]]\n",
      "pvalue      0.0\n",
      "statistic   186.0\n",
      "pred_0.004\n",
      "[[183436    493]\n",
      " [   333 104650]]\n",
      "pvalue      2.871971552581072e-08\n",
      "statistic   333.0\n",
      "pred_0.005\n",
      "[[268365   1794]\n",
      " [   110  18643]]\n",
      "pvalue      0.0\n",
      "statistic   110.0\n"
     ]
    }
   ],
   "source": [
    "result['b-zscore'] = {}\n",
    "for key, df in df_merge.items():\n",
    "    test = mcnemar_test(df, 'b_zscore_x', 'b_zscore_y', key)\n",
    "    result['b-zscore'][key] = test"
   ]
  },
  {
   "cell_type": "markdown",
   "metadata": {},
   "source": [
    "### For Floating Score"
   ]
  },
  {
   "cell_type": "markdown",
   "metadata": {},
   "source": [
    "#### For F-Mean"
   ]
  },
  {
   "cell_type": "code",
   "execution_count": 25,
   "metadata": {},
   "outputs": [
    {
     "name": "stdout",
     "output_type": "stream",
     "text": [
      "pred_0.002\n",
      "[[286084    557]\n",
      " [  1385    886]]\n",
      "pvalue      4.524008747209085e-81\n",
      "statistic   557.0\n",
      "pred_0.003\n",
      "[[270750    153]\n",
      " [  4079  13930]]\n",
      "pvalue      0.0\n",
      "statistic   153.0\n",
      "pred_0.001\n",
      "[[286157   1923]\n",
      " [   213    619]]\n",
      "pvalue      0.0\n",
      "statistic   213.0\n",
      "pred_0.0\n",
      "[[286468    450]\n",
      " [   101   1893]]\n",
      "pvalue      1.5064859183278267e-53\n",
      "statistic   101.0\n",
      "pred_0.004\n",
      "[[268965   6883]\n",
      " [    52  13012]]\n",
      "pvalue      0.0\n",
      "statistic   52.0\n",
      "pred_0.005\n",
      "[[274618   1658]\n",
      " [  1652  10984]]\n",
      "pvalue      0.9307469635181188\n",
      "statistic   1652.0\n"
     ]
    }
   ],
   "source": [
    "result['f-mean'] = {}\n",
    "for key, df in df_merge.items():\n",
    "    test = mcnemar_test(df, 'f_mean_x', 'f_mean_y', key)\n",
    "    result['f-mean'][key] = test"
   ]
  },
  {
   "cell_type": "markdown",
   "metadata": {},
   "source": [
    "#### For F-IQR"
   ]
  },
  {
   "cell_type": "code",
   "execution_count": 26,
   "metadata": {},
   "outputs": [
    {
     "name": "stdout",
     "output_type": "stream",
     "text": [
      "pred_0.002\n",
      "[[267603   2804]\n",
      " [  2672  15833]]\n",
      "pvalue      0.07667255575905824\n",
      "statistic   2672.0\n"
     ]
    },
    {
     "name": "stdout",
     "output_type": "stream",
     "text": [
      "pred_0.003\n",
      "[[267177    512]\n",
      " [   765  20458]]\n",
      "pvalue      1.4984975661281876e-12\n",
      "statistic   512.0\n",
      "pred_0.001\n",
      "[[256550   4875]\n",
      " [ 19741   7746]]\n",
      "pvalue      0.0\n",
      "statistic   4875.0\n",
      "pred_0.0\n",
      "[[270370    972]\n",
      " [ 11123   6447]]\n",
      "pvalue      0.0\n",
      "statistic   972.0\n",
      "pred_0.004\n",
      "[[266631    662]\n",
      " [    83  21536]]\n",
      "pvalue      6.655482191631931e-113\n",
      "statistic   83.0\n",
      "pred_0.005\n",
      "[[266631   3518]\n",
      " [  1044  17719]]\n",
      "pvalue      9.4888519861126e-310\n",
      "statistic   1044.0\n"
     ]
    }
   ],
   "source": [
    "result['f-iqr'] = {}\n",
    "for key, df in df_merge.items():\n",
    "    test = mcnemar_test(df, 'f_iqr_x', 'f_iqr_y', key)\n",
    "    result['f-iqr'][key] = test"
   ]
  },
  {
   "cell_type": "markdown",
   "metadata": {},
   "source": [
    "#### For F-ZScore"
   ]
  },
  {
   "cell_type": "code",
   "execution_count": 27,
   "metadata": {},
   "outputs": [
    {
     "name": "stdout",
     "output_type": "stream",
     "text": [
      "pred_0.002\n",
      "[[271009   2213]\n",
      " [  3198  12492]]\n",
      "pvalue      5.004540326918735e-41\n",
      "statistic   2213.0\n",
      "pred_0.003\n",
      "[[267801    875]\n",
      " [   407  19829]]\n",
      "pvalue      9.553807525469777e-40\n",
      "statistic   407.0\n"
     ]
    },
    {
     "name": "stdout",
     "output_type": "stream",
     "text": [
      "pred_0.001\n",
      "[[279408   4813]\n",
      " [  3069   1622]]\n",
      "pvalue      1.6385614995626644e-86\n",
      "statistic   3069.0\n",
      "pred_0.0\n",
      "[[276617    643]\n",
      " [  6972   4680]]\n",
      "pvalue      0.0\n",
      "statistic   643.0\n",
      "pred_0.004\n",
      "[[267592    414]\n",
      " [    82  20824]]\n",
      "pvalue      2.2709037218690526e-54\n",
      "statistic   82.0\n",
      "pred_0.005\n",
      "[[268697   4102]\n",
      " [   610  15503]]\n",
      "pvalue      0.0\n",
      "statistic   610.0\n"
     ]
    }
   ],
   "source": [
    "result['f-zscore'] = {}\n",
    "for key, df in df_merge.items():\n",
    "    test = mcnemar_test(df, 'f_zscore_x', 'f_zscore_y', key)\n",
    "    result['f-zscore'][key] = test"
   ]
  },
  {
   "cell_type": "markdown",
   "metadata": {},
   "source": [
    "## Saving Test Result"
   ]
  },
  {
   "cell_type": "code",
   "execution_count": 28,
   "metadata": {},
   "outputs": [
    {
     "data": {
      "text/html": [
       "<div>\n",
       "<style scoped>\n",
       "    .dataframe tbody tr th:only-of-type {\n",
       "        vertical-align: middle;\n",
       "    }\n",
       "\n",
       "    .dataframe tbody tr th {\n",
       "        vertical-align: top;\n",
       "    }\n",
       "\n",
       "    .dataframe thead th {\n",
       "        text-align: right;\n",
       "    }\n",
       "</style>\n",
       "<table border=\"1\" class=\"dataframe\">\n",
       "  <thead>\n",
       "    <tr style=\"text-align: right;\">\n",
       "      <th></th>\n",
       "      <th>b-mean</th>\n",
       "      <th>b-iqr</th>\n",
       "      <th>b-zscore</th>\n",
       "      <th>f-mean</th>\n",
       "      <th>f-iqr</th>\n",
       "      <th>f-zscore</th>\n",
       "    </tr>\n",
       "  </thead>\n",
       "  <tbody>\n",
       "    <tr>\n",
       "      <th>pred_0.0</th>\n",
       "      <td>0.000000e+00</td>\n",
       "      <td>0.000000e+00</td>\n",
       "      <td>0.000000e+00</td>\n",
       "      <td>1.506486e-53</td>\n",
       "      <td>0.000000e+00</td>\n",
       "      <td>0.000000e+00</td>\n",
       "    </tr>\n",
       "    <tr>\n",
       "      <th>pred_0.001</th>\n",
       "      <td>0.000000e+00</td>\n",
       "      <td>0.000000e+00</td>\n",
       "      <td>0.000000e+00</td>\n",
       "      <td>0.000000e+00</td>\n",
       "      <td>0.000000e+00</td>\n",
       "      <td>1.638561e-86</td>\n",
       "    </tr>\n",
       "    <tr>\n",
       "      <th>pred_0.002</th>\n",
       "      <td>0.000000e+00</td>\n",
       "      <td>5.158636e-33</td>\n",
       "      <td>0.000000e+00</td>\n",
       "      <td>4.524009e-81</td>\n",
       "      <td>7.667256e-02</td>\n",
       "      <td>5.004540e-41</td>\n",
       "    </tr>\n",
       "    <tr>\n",
       "      <th>pred_0.003</th>\n",
       "      <td>0.000000e+00</td>\n",
       "      <td>2.163441e-04</td>\n",
       "      <td>2.813496e-265</td>\n",
       "      <td>0.000000e+00</td>\n",
       "      <td>1.498498e-12</td>\n",
       "      <td>9.553808e-40</td>\n",
       "    </tr>\n",
       "    <tr>\n",
       "      <th>pred_0.004</th>\n",
       "      <td>5.297166e-119</td>\n",
       "      <td>2.389972e-20</td>\n",
       "      <td>2.871972e-08</td>\n",
       "      <td>0.000000e+00</td>\n",
       "      <td>6.655482e-113</td>\n",
       "      <td>2.270904e-54</td>\n",
       "    </tr>\n",
       "    <tr>\n",
       "      <th>pred_0.005</th>\n",
       "      <td>0.000000e+00</td>\n",
       "      <td>7.339413e-83</td>\n",
       "      <td>0.000000e+00</td>\n",
       "      <td>9.307470e-01</td>\n",
       "      <td>9.488852e-310</td>\n",
       "      <td>0.000000e+00</td>\n",
       "    </tr>\n",
       "  </tbody>\n",
       "</table>\n",
       "</div>"
      ],
      "text/plain": [
       "                   b-mean         b-iqr       b-zscore        f-mean  \\\n",
       "pred_0.0     0.000000e+00  0.000000e+00   0.000000e+00  1.506486e-53   \n",
       "pred_0.001   0.000000e+00  0.000000e+00   0.000000e+00  0.000000e+00   \n",
       "pred_0.002   0.000000e+00  5.158636e-33   0.000000e+00  4.524009e-81   \n",
       "pred_0.003   0.000000e+00  2.163441e-04  2.813496e-265  0.000000e+00   \n",
       "pred_0.004  5.297166e-119  2.389972e-20   2.871972e-08  0.000000e+00   \n",
       "pred_0.005   0.000000e+00  7.339413e-83   0.000000e+00  9.307470e-01   \n",
       "\n",
       "                    f-iqr      f-zscore  \n",
       "pred_0.0     0.000000e+00  0.000000e+00  \n",
       "pred_0.001   0.000000e+00  1.638561e-86  \n",
       "pred_0.002   7.667256e-02  5.004540e-41  \n",
       "pred_0.003   1.498498e-12  9.553808e-40  \n",
       "pred_0.004  6.655482e-113  2.270904e-54  \n",
       "pred_0.005  9.488852e-310  0.000000e+00  "
      ]
     },
     "execution_count": 28,
     "metadata": {},
     "output_type": "execute_result"
    }
   ],
   "source": [
    "mcnemar_result = pd.DataFrame.from_dict(result).sort_index(axis=0)\n",
    "mcnemar_result"
   ]
  },
  {
   "cell_type": "code",
   "execution_count": 29,
   "metadata": {},
   "outputs": [],
   "source": [
    "mcnemar_result.to_excel('./http-mcnemar.xlsx')"
   ]
  },
  {
   "cell_type": "code",
   "execution_count": null,
   "metadata": {},
   "outputs": [],
   "source": []
  }
 ],
 "metadata": {
  "kernelspec": {
   "display_name": "ryzaenv",
   "language": "python",
   "name": "python3"
  },
  "language_info": {
   "codemirror_mode": {
    "name": "ipython",
    "version": 3
   },
   "file_extension": ".py",
   "mimetype": "text/x-python",
   "name": "python",
   "nbconvert_exporter": "python",
   "pygments_lexer": "ipython3",
   "version": "3.9.6"
  }
 },
 "nbformat": 4,
 "nbformat_minor": 2
}
