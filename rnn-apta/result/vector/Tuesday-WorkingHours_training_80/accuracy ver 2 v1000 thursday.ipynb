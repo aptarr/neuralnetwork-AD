{
 "cells": [
  {
   "cell_type": "markdown",
   "metadata": {},
   "source": [
    "# Perhitungan Skor RNN-IDS"
   ]
  },
  {
   "cell_type": "markdown",
   "metadata": {},
   "source": [
    "## Import All Necessary Libraries"
   ]
  },
  {
   "cell_type": "code",
   "execution_count": 39,
   "metadata": {},
   "outputs": [],
   "source": [
    "import pandas as pd\n",
    "import numpy as np\n",
    "import sklearn\n",
    "import matplotlib.pyplot as plt\n",
    "import math"
   ]
  },
  {
   "cell_type": "markdown",
   "metadata": {},
   "source": [
    "## Load All the Data"
   ]
  },
  {
   "cell_type": "code",
   "execution_count": 40,
   "metadata": {},
   "outputs": [
    {
     "name": "stderr",
     "output_type": "stream",
     "text": [
      "/tmp/ipykernel_49270/1563370369.py:4: DtypeWarning: Columns (0,1,3,6,84) have mixed types. Specify dtype option on import or set low_memory=False.\n",
      "  df_truth = pd.read_csv('/home/apta/CIC-IDS-2017/CSVs/TrafficLabelling/Thursday-WorkingHours.pcap_ISCX.csv',\n"
     ]
    }
   ],
   "source": [
    "df_pred = pd.read_csv('/home/apta/neuralnetwork-AD/rnn-apta/results/vector/Tuesday-WorkingHours_training_80/result-lstm-tcp80-hl2-seq5-do0.2-oov1000-Thursday-WorkingHours_testing_80.csv', \n",
    "                      names=['id', 'binary_error', 'b_mean', 'b_iqr', 'b_zscore', 'floatin_error', 'f_mean', 'f_iqr', 'f_zscore'])\n",
    "\n",
    "df_truth = pd.read_csv('/home/apta/CIC-IDS-2017/CSVs/TrafficLabelling/Thursday-WorkingHours.pcap_ISCX.csv', \n",
    "                       encoding='ISO-8859-1')\n"
   ]
  },
  {
   "cell_type": "code",
   "execution_count": 41,
   "metadata": {},
   "outputs": [
    {
     "data": {
      "text/html": [
       "<div>\n",
       "<style scoped>\n",
       "    .dataframe tbody tr th:only-of-type {\n",
       "        vertical-align: middle;\n",
       "    }\n",
       "\n",
       "    .dataframe tbody tr th {\n",
       "        vertical-align: top;\n",
       "    }\n",
       "\n",
       "    .dataframe thead th {\n",
       "        text-align: right;\n",
       "    }\n",
       "</style>\n",
       "<table border=\"1\" class=\"dataframe\">\n",
       "  <thead>\n",
       "    <tr style=\"text-align: right;\">\n",
       "      <th></th>\n",
       "      <th>id</th>\n",
       "      <th>binary_error</th>\n",
       "      <th>b_mean</th>\n",
       "      <th>b_iqr</th>\n",
       "      <th>b_zscore</th>\n",
       "      <th>floatin_error</th>\n",
       "      <th>f_mean</th>\n",
       "      <th>f_iqr</th>\n",
       "      <th>f_zscore</th>\n",
       "    </tr>\n",
       "  </thead>\n",
       "  <tbody>\n",
       "    <tr>\n",
       "      <th>0</th>\n",
       "      <td>192.168.10.15-49439-131.253.61.98-80-tcp</td>\n",
       "      <td>0.104918</td>\n",
       "      <td>0</td>\n",
       "      <td>0</td>\n",
       "      <td>0</td>\n",
       "      <td>12348.233333</td>\n",
       "      <td>0</td>\n",
       "      <td>0</td>\n",
       "      <td>0</td>\n",
       "    </tr>\n",
       "    <tr>\n",
       "      <th>1</th>\n",
       "      <td>192.168.10.15-49442-23.60.139.27-80-tcp</td>\n",
       "      <td>0.077922</td>\n",
       "      <td>0</td>\n",
       "      <td>0</td>\n",
       "      <td>0</td>\n",
       "      <td>8175.331858</td>\n",
       "      <td>0</td>\n",
       "      <td>0</td>\n",
       "      <td>0</td>\n",
       "    </tr>\n",
       "    <tr>\n",
       "      <th>2</th>\n",
       "      <td>192.168.10.15-49441-23.63.226.146-80-tcp</td>\n",
       "      <td>0.084806</td>\n",
       "      <td>0</td>\n",
       "      <td>0</td>\n",
       "      <td>0</td>\n",
       "      <td>21189.902878</td>\n",
       "      <td>0</td>\n",
       "      <td>0</td>\n",
       "      <td>0</td>\n",
       "    </tr>\n",
       "    <tr>\n",
       "      <th>3</th>\n",
       "      <td>192.168.10.15-49448-23.15.4.16-80-tcp</td>\n",
       "      <td>0.104027</td>\n",
       "      <td>0</td>\n",
       "      <td>0</td>\n",
       "      <td>0</td>\n",
       "      <td>12774.936700</td>\n",
       "      <td>0</td>\n",
       "      <td>0</td>\n",
       "      <td>0</td>\n",
       "    </tr>\n",
       "    <tr>\n",
       "      <th>4</th>\n",
       "      <td>192.168.10.14-59146-72.21.91.29-80-tcp</td>\n",
       "      <td>0.030588</td>\n",
       "      <td>0</td>\n",
       "      <td>0</td>\n",
       "      <td>0</td>\n",
       "      <td>1608.919048</td>\n",
       "      <td>0</td>\n",
       "      <td>0</td>\n",
       "      <td>0</td>\n",
       "    </tr>\n",
       "  </tbody>\n",
       "</table>\n",
       "</div>"
      ],
      "text/plain": [
       "                                         id  binary_error  b_mean  b_iqr  \\\n",
       "0  192.168.10.15-49439-131.253.61.98-80-tcp      0.104918       0      0   \n",
       "1   192.168.10.15-49442-23.60.139.27-80-tcp      0.077922       0      0   \n",
       "2  192.168.10.15-49441-23.63.226.146-80-tcp      0.084806       0      0   \n",
       "3     192.168.10.15-49448-23.15.4.16-80-tcp      0.104027       0      0   \n",
       "4    192.168.10.14-59146-72.21.91.29-80-tcp      0.030588       0      0   \n",
       "\n",
       "   b_zscore  floatin_error  f_mean  f_iqr  f_zscore  \n",
       "0         0   12348.233333       0      0         0  \n",
       "1         0    8175.331858       0      0         0  \n",
       "2         0   21189.902878       0      0         0  \n",
       "3         0   12774.936700       0      0         0  \n",
       "4         0    1608.919048       0      0         0  "
      ]
     },
     "execution_count": 41,
     "metadata": {},
     "output_type": "execute_result"
    }
   ],
   "source": [
    "df_pred.head()"
   ]
  },
  {
   "cell_type": "code",
   "execution_count": 42,
   "metadata": {},
   "outputs": [
    {
     "data": {
      "text/html": [
       "<div>\n",
       "<style scoped>\n",
       "    .dataframe tbody tr th:only-of-type {\n",
       "        vertical-align: middle;\n",
       "    }\n",
       "\n",
       "    .dataframe tbody tr th {\n",
       "        vertical-align: top;\n",
       "    }\n",
       "\n",
       "    .dataframe thead th {\n",
       "        text-align: right;\n",
       "    }\n",
       "</style>\n",
       "<table border=\"1\" class=\"dataframe\">\n",
       "  <thead>\n",
       "    <tr style=\"text-align: right;\">\n",
       "      <th></th>\n",
       "      <th>Flow ID</th>\n",
       "      <th>Source IP</th>\n",
       "      <th>Source Port</th>\n",
       "      <th>Destination IP</th>\n",
       "      <th>Destination Port</th>\n",
       "      <th>Protocol</th>\n",
       "      <th>Timestamp</th>\n",
       "      <th>Flow Duration</th>\n",
       "      <th>Total Fwd Packets</th>\n",
       "      <th>Total Backward Packets</th>\n",
       "      <th>...</th>\n",
       "      <th>min_seg_size_forward</th>\n",
       "      <th>Active Mean</th>\n",
       "      <th>Active Std</th>\n",
       "      <th>Active Max</th>\n",
       "      <th>Active Min</th>\n",
       "      <th>Idle Mean</th>\n",
       "      <th>Idle Std</th>\n",
       "      <th>Idle Max</th>\n",
       "      <th>Idle Min</th>\n",
       "      <th>Label</th>\n",
       "    </tr>\n",
       "  </thead>\n",
       "  <tbody>\n",
       "    <tr>\n",
       "      <th>0</th>\n",
       "      <td>192.168.10.12-192.168.10.50-60148-22-6</td>\n",
       "      <td>192.168.10.12</td>\n",
       "      <td>60148.0</td>\n",
       "      <td>192.168.10.50</td>\n",
       "      <td>22.0</td>\n",
       "      <td>6.0</td>\n",
       "      <td>6/7/2017 1:00</td>\n",
       "      <td>166.0</td>\n",
       "      <td>1.0</td>\n",
       "      <td>1.0</td>\n",
       "      <td>...</td>\n",
       "      <td>32.0</td>\n",
       "      <td>0.000</td>\n",
       "      <td>0.000</td>\n",
       "      <td>0.0</td>\n",
       "      <td>0.0</td>\n",
       "      <td>0.0</td>\n",
       "      <td>0.000</td>\n",
       "      <td>0.0</td>\n",
       "      <td>0.0</td>\n",
       "      <td>BENIGN</td>\n",
       "    </tr>\n",
       "    <tr>\n",
       "      <th>1</th>\n",
       "      <td>192.168.10.12-192.168.10.50-60148-22-6</td>\n",
       "      <td>192.168.10.50</td>\n",
       "      <td>22.0</td>\n",
       "      <td>192.168.10.12</td>\n",
       "      <td>60148.0</td>\n",
       "      <td>6.0</td>\n",
       "      <td>6/7/2017 1:00</td>\n",
       "      <td>83.0</td>\n",
       "      <td>1.0</td>\n",
       "      <td>2.0</td>\n",
       "      <td>...</td>\n",
       "      <td>32.0</td>\n",
       "      <td>0.000</td>\n",
       "      <td>0.000</td>\n",
       "      <td>0.0</td>\n",
       "      <td>0.0</td>\n",
       "      <td>0.0</td>\n",
       "      <td>0.000</td>\n",
       "      <td>0.0</td>\n",
       "      <td>0.0</td>\n",
       "      <td>BENIGN</td>\n",
       "    </tr>\n",
       "    <tr>\n",
       "      <th>2</th>\n",
       "      <td>192.168.10.12-91.189.89.199-123-123-17</td>\n",
       "      <td>192.168.10.12</td>\n",
       "      <td>123.0</td>\n",
       "      <td>91.189.89.199</td>\n",
       "      <td>123.0</td>\n",
       "      <td>17.0</td>\n",
       "      <td>6/7/2017 1:00</td>\n",
       "      <td>99947.0</td>\n",
       "      <td>1.0</td>\n",
       "      <td>1.0</td>\n",
       "      <td>...</td>\n",
       "      <td>40.0</td>\n",
       "      <td>0.000</td>\n",
       "      <td>0.000</td>\n",
       "      <td>0.0</td>\n",
       "      <td>0.0</td>\n",
       "      <td>0.0</td>\n",
       "      <td>0.000</td>\n",
       "      <td>0.0</td>\n",
       "      <td>0.0</td>\n",
       "      <td>BENIGN</td>\n",
       "    </tr>\n",
       "    <tr>\n",
       "      <th>3</th>\n",
       "      <td>192.168.10.12-72.38.129.202-123-123-17</td>\n",
       "      <td>192.168.10.12</td>\n",
       "      <td>123.0</td>\n",
       "      <td>72.38.129.202</td>\n",
       "      <td>123.0</td>\n",
       "      <td>17.0</td>\n",
       "      <td>6/7/2017 1:00</td>\n",
       "      <td>37017.0</td>\n",
       "      <td>1.0</td>\n",
       "      <td>1.0</td>\n",
       "      <td>...</td>\n",
       "      <td>32.0</td>\n",
       "      <td>0.000</td>\n",
       "      <td>0.000</td>\n",
       "      <td>0.0</td>\n",
       "      <td>0.0</td>\n",
       "      <td>0.0</td>\n",
       "      <td>0.000</td>\n",
       "      <td>0.0</td>\n",
       "      <td>0.0</td>\n",
       "      <td>BENIGN</td>\n",
       "    </tr>\n",
       "    <tr>\n",
       "      <th>4</th>\n",
       "      <td>8.0.6.4-8.6.0.1-0-0-0</td>\n",
       "      <td>8.6.0.1</td>\n",
       "      <td>0.0</td>\n",
       "      <td>8.0.6.4</td>\n",
       "      <td>0.0</td>\n",
       "      <td>0.0</td>\n",
       "      <td>6/7/2017 1:00</td>\n",
       "      <td>111161336.0</td>\n",
       "      <td>147.0</td>\n",
       "      <td>0.0</td>\n",
       "      <td>...</td>\n",
       "      <td>0.0</td>\n",
       "      <td>1753752.625</td>\n",
       "      <td>2123197.578</td>\n",
       "      <td>4822992.0</td>\n",
       "      <td>95.0</td>\n",
       "      <td>9463032.7</td>\n",
       "      <td>2657727.996</td>\n",
       "      <td>13600000.0</td>\n",
       "      <td>5700287.0</td>\n",
       "      <td>BENIGN</td>\n",
       "    </tr>\n",
       "  </tbody>\n",
       "</table>\n",
       "<p>5 rows × 85 columns</p>\n",
       "</div>"
      ],
      "text/plain": [
       "                                  Flow ID      Source IP   Source Port  \\\n",
       "0  192.168.10.12-192.168.10.50-60148-22-6  192.168.10.12       60148.0   \n",
       "1  192.168.10.12-192.168.10.50-60148-22-6  192.168.10.50          22.0   \n",
       "2  192.168.10.12-91.189.89.199-123-123-17  192.168.10.12         123.0   \n",
       "3  192.168.10.12-72.38.129.202-123-123-17  192.168.10.12         123.0   \n",
       "4                   8.0.6.4-8.6.0.1-0-0-0        8.6.0.1           0.0   \n",
       "\n",
       "   Destination IP   Destination Port   Protocol      Timestamp  \\\n",
       "0   192.168.10.50               22.0        6.0  6/7/2017 1:00   \n",
       "1   192.168.10.12            60148.0        6.0  6/7/2017 1:00   \n",
       "2   91.189.89.199              123.0       17.0  6/7/2017 1:00   \n",
       "3   72.38.129.202              123.0       17.0  6/7/2017 1:00   \n",
       "4         8.0.6.4                0.0        0.0  6/7/2017 1:00   \n",
       "\n",
       "    Flow Duration   Total Fwd Packets   Total Backward Packets  ...  \\\n",
       "0           166.0                 1.0                      1.0  ...   \n",
       "1            83.0                 1.0                      2.0  ...   \n",
       "2         99947.0                 1.0                      1.0  ...   \n",
       "3         37017.0                 1.0                      1.0  ...   \n",
       "4     111161336.0               147.0                      0.0  ...   \n",
       "\n",
       "    min_seg_size_forward  Active Mean   Active Std   Active Max   Active Min  \\\n",
       "0                   32.0        0.000        0.000          0.0          0.0   \n",
       "1                   32.0        0.000        0.000          0.0          0.0   \n",
       "2                   40.0        0.000        0.000          0.0          0.0   \n",
       "3                   32.0        0.000        0.000          0.0          0.0   \n",
       "4                    0.0  1753752.625  2123197.578    4822992.0         95.0   \n",
       "\n",
       "   Idle Mean     Idle Std    Idle Max   Idle Min   Label  \n",
       "0        0.0        0.000         0.0        0.0  BENIGN  \n",
       "1        0.0        0.000         0.0        0.0  BENIGN  \n",
       "2        0.0        0.000         0.0        0.0  BENIGN  \n",
       "3        0.0        0.000         0.0        0.0  BENIGN  \n",
       "4  9463032.7  2657727.996  13600000.0  5700287.0  BENIGN  \n",
       "\n",
       "[5 rows x 85 columns]"
      ]
     },
     "execution_count": 42,
     "metadata": {},
     "output_type": "execute_result"
    }
   ],
   "source": [
    "df_truth.head()"
   ]
  },
  {
   "cell_type": "markdown",
   "metadata": {},
   "source": [
    "## Exploratory Data Analysis"
   ]
  },
  {
   "cell_type": "code",
   "execution_count": 43,
   "metadata": {},
   "outputs": [
    {
     "data": {
      "text/plain": [
       " Label                     \n",
       "BENIGN                         456752\n",
       "Web Attack Â Brute Force        1507\n",
       "Web Attack Â XSS                 652\n",
       "Infiltration                       36\n",
       "Web Attack Â Sql Injection        21\n",
       "Name: count, dtype: int64"
      ]
     },
     "execution_count": 43,
     "metadata": {},
     "output_type": "execute_result"
    }
   ],
   "source": [
    "df_truth[[' Label']].value_counts()"
   ]
  },
  {
   "cell_type": "code",
   "execution_count": 44,
   "metadata": {},
   "outputs": [
    {
     "data": {
      "text/plain": [
       "b_iqr\n",
       "0        24846\n",
       "1          986\n",
       "Name: count, dtype: int64"
      ]
     },
     "execution_count": 44,
     "metadata": {},
     "output_type": "execute_result"
    }
   ],
   "source": [
    "df_pred[['b_iqr']].value_counts()"
   ]
  },
  {
   "cell_type": "code",
   "execution_count": 45,
   "metadata": {},
   "outputs": [
    {
     "data": {
      "text/plain": [
       "b_zscore\n",
       "0           24907\n",
       "1             925\n",
       "Name: count, dtype: int64"
      ]
     },
     "execution_count": 45,
     "metadata": {},
     "output_type": "execute_result"
    }
   ],
   "source": [
    "df_pred[['b_zscore']].value_counts()"
   ]
  },
  {
   "cell_type": "code",
   "execution_count": 46,
   "metadata": {},
   "outputs": [
    {
     "data": {
      "text/plain": [
       "Flow ID              288602\n",
       " Source IP           288602\n",
       " Source Port         288602\n",
       " Destination IP      288602\n",
       " Destination Port    288602\n",
       "                      ...  \n",
       "Idle Mean            288602\n",
       " Idle Std            288602\n",
       " Idle Max            288602\n",
       " Idle Min            288602\n",
       " Label               288602\n",
       "Length: 85, dtype: int64"
      ]
     },
     "execution_count": 46,
     "metadata": {},
     "output_type": "execute_result"
    }
   ],
   "source": [
    "df_truth.isnull().sum()"
   ]
  },
  {
   "cell_type": "markdown",
   "metadata": {},
   "source": [
    "## Data Pre-Processing"
   ]
  },
  {
   "cell_type": "markdown",
   "metadata": {},
   "source": [
    "### Convert the type of the data"
   ]
  },
  {
   "cell_type": "code",
   "execution_count": 47,
   "metadata": {},
   "outputs": [
    {
     "name": "stdout",
     "output_type": "stream",
     "text": [
      "<class 'pandas.core.frame.DataFrame'>\n",
      "Index: 63887 entries, 9 to 458958\n",
      "Data columns (total 85 columns):\n",
      " #   Column                       Non-Null Count  Dtype  \n",
      "---  ------                       --------------  -----  \n",
      " 0   Flow_ID                      63887 non-null  object \n",
      " 1   Source_IP                    63887 non-null  object \n",
      " 2   Source_Port                  63887 non-null  int64  \n",
      " 3   Destination_IP               63887 non-null  object \n",
      " 4   Destination_Port             63887 non-null  int64  \n",
      " 5   Protocol                     63887 non-null  float64\n",
      " 6   Timestamp                    63887 non-null  object \n",
      " 7   Flow_Duration                63887 non-null  float64\n",
      " 8   Total_Fwd_Packets            63887 non-null  float64\n",
      " 9   Total_Backward_Packets       63887 non-null  float64\n",
      " 10  Total_Length_of_Fwd_Packets  63887 non-null  float64\n",
      " 11  Total_Length_of_Bwd_Packets  63887 non-null  float64\n",
      " 12  Fwd_Packet_Length_Max        63887 non-null  float64\n",
      " 13  Fwd_Packet_Length_Min        63887 non-null  float64\n",
      " 14  Fwd_Packet_Length_Mean       63887 non-null  float64\n",
      " 15  Fwd_Packet_Length_Std        63887 non-null  float64\n",
      " 16  Bwd_Packet_Length_Max        63887 non-null  float64\n",
      " 17  Bwd_Packet_Length_Min        63887 non-null  float64\n",
      " 18  Bwd_Packet_Length_Mean       63887 non-null  float64\n",
      " 19  Bwd_Packet_Length_Std        63887 non-null  float64\n",
      " 20  Flow_Bytes/s                 63883 non-null  float64\n",
      " 21  Flow_Packets/s               63887 non-null  float64\n",
      " 22  Flow_IAT_Mean                63887 non-null  float64\n",
      " 23  Flow_IAT_Std                 63887 non-null  float64\n",
      " 24  Flow_IAT_Max                 63887 non-null  float64\n",
      " 25  Flow_IAT_Min                 63887 non-null  float64\n",
      " 26  Fwd_IAT_Total                63887 non-null  float64\n",
      " 27  Fwd_IAT_Mean                 63887 non-null  float64\n",
      " 28  Fwd_IAT_Std                  63887 non-null  float64\n",
      " 29  Fwd_IAT_Max                  63887 non-null  float64\n",
      " 30  Fwd_IAT_Min                  63887 non-null  float64\n",
      " 31  Bwd_IAT_Total                63887 non-null  float64\n",
      " 32  Bwd_IAT_Mean                 63887 non-null  float64\n",
      " 33  Bwd_IAT_Std                  63887 non-null  float64\n",
      " 34  Bwd_IAT_Max                  63887 non-null  float64\n",
      " 35  Bwd_IAT_Min                  63887 non-null  float64\n",
      " 36  Fwd_PSH_Flags                63887 non-null  float64\n",
      " 37  Bwd_PSH_Flags                63887 non-null  float64\n",
      " 38  Fwd_URG_Flags                63887 non-null  float64\n",
      " 39  Bwd_URG_Flags                63887 non-null  float64\n",
      " 40  Fwd_Header_Length            63887 non-null  float64\n",
      " 41  Bwd_Header_Length            63887 non-null  float64\n",
      " 42  Fwd_Packets/s                63887 non-null  float64\n",
      " 43  Bwd_Packets/s                63887 non-null  float64\n",
      " 44  Min_Packet_Length            63887 non-null  float64\n",
      " 45  Max_Packet_Length            63887 non-null  float64\n",
      " 46  Packet_Length_Mean           63887 non-null  float64\n",
      " 47  Packet_Length_Std            63887 non-null  float64\n",
      " 48  Packet_Length_Variance       63887 non-null  float64\n",
      " 49  FIN_Flag_Count               63887 non-null  float64\n",
      " 50  SYN_Flag_Count               63887 non-null  float64\n",
      " 51  RST_Flag_Count               63887 non-null  float64\n",
      " 52  PSH_Flag_Count               63887 non-null  float64\n",
      " 53  ACK_Flag_Count               63887 non-null  float64\n",
      " 54  URG_Flag_Count               63887 non-null  float64\n",
      " 55  CWE_Flag_Count               63887 non-null  float64\n",
      " 56  ECE_Flag_Count               63887 non-null  float64\n",
      " 57  Down/Up_Ratio                63887 non-null  float64\n",
      " 58  Average_Packet_Size          63887 non-null  float64\n",
      " 59  Avg_Fwd_Segment_Size         63887 non-null  float64\n",
      " 60  Avg_Bwd_Segment_Size         63887 non-null  float64\n",
      " 61  Fwd_Header_Length.1          63887 non-null  float64\n",
      " 62  Fwd_Avg_Bytes/Bulk           63887 non-null  float64\n",
      " 63  Fwd_Avg_Packets/Bulk         63887 non-null  float64\n",
      " 64  Fwd_Avg_Bulk_Rate            63887 non-null  float64\n",
      " 65  Bwd_Avg_Bytes/Bulk           63887 non-null  float64\n",
      " 66  Bwd_Avg_Packets/Bulk         63887 non-null  float64\n",
      " 67  Bwd_Avg_Bulk_Rate            63887 non-null  float64\n",
      " 68  Subflow_Fwd_Packets          63887 non-null  float64\n",
      " 69  Subflow_Fwd_Bytes            63887 non-null  float64\n",
      " 70  Subflow_Bwd_Packets          63887 non-null  float64\n",
      " 71  Subflow_Bwd_Bytes            63887 non-null  float64\n",
      " 72  Init_Win_bytes_forward       63887 non-null  float64\n",
      " 73  Init_Win_bytes_backward      63887 non-null  float64\n",
      " 74  act_data_pkt_fwd             63887 non-null  float64\n",
      " 75  min_seg_size_forward         63887 non-null  float64\n",
      " 76  Active_Mean                  63887 non-null  float64\n",
      " 77  Active_Std                   63887 non-null  float64\n",
      " 78  Active_Max                   63887 non-null  float64\n",
      " 79  Active_Min                   63887 non-null  float64\n",
      " 80  Idle_Mean                    63887 non-null  float64\n",
      " 81  Idle_Std                     63887 non-null  float64\n",
      " 82  Idle_Max                     63887 non-null  float64\n",
      " 83  Idle_Min                     63887 non-null  float64\n",
      " 84  Label                        63887 non-null  object \n",
      "dtypes: float64(78), int64(2), object(5)\n",
      "memory usage: 41.9+ MB\n"
     ]
    }
   ],
   "source": [
    "df_truth.columns = df_truth.columns.str.strip()  # remove leading/trailing spaces\n",
    "df_truth.columns = df_truth.columns.str.replace(' ', '_')  # optional: make them easier to type\n",
    "\n",
    "df_truth['Source_Port'] = pd.to_numeric(df_truth['Source_Port'], errors='coerce')\n",
    "df_truth['Destination_Port'] = pd.to_numeric(df_truth['Destination_Port'], errors='coerce')\n",
    "\n",
    "# Optionally: drop rows with NaN in these columns\n",
    "df_truth.dropna(subset=['Source_Port', 'Destination_Port'], inplace=True)\n",
    "\n",
    "# Filter to only include rows where either port is 80\n",
    "df_truth = df_truth[(df_truth['Source_Port'] == 80) | (df_truth['Destination_Port'] == 80)]\n",
    "\n",
    "# Now you can safely convert to int\n",
    "df_truth['Source_Port'] = df_truth['Source_Port'].astype(int)\n",
    "df_truth['Destination_Port'] = df_truth['Destination_Port'].astype(int)\n",
    "\n",
    "\n",
    "df_truth.info()"
   ]
  },
  {
   "cell_type": "code",
   "execution_count": 48,
   "metadata": {},
   "outputs": [
    {
     "data": {
      "text/plain": [
       "9     BENIGN\n",
       "10    BENIGN\n",
       "39    BENIGN\n",
       "40    BENIGN\n",
       "41    BENIGN\n",
       "Name: Label, dtype: object"
      ]
     },
     "execution_count": 48,
     "metadata": {},
     "output_type": "execute_result"
    }
   ],
   "source": [
    "df_truth['Label'].head()"
   ]
  },
  {
   "cell_type": "code",
   "execution_count": 49,
   "metadata": {},
   "outputs": [
    {
     "data": {
      "text/plain": [
       "Label                      \n",
       "BENIGN                         61707\n",
       "Web Attack Â Brute Force       1507\n",
       "Web Attack Â XSS                652\n",
       "Web Attack Â Sql Injection       21\n",
       "Name: count, dtype: int64"
      ]
     },
     "execution_count": 49,
     "metadata": {},
     "output_type": "execute_result"
    }
   ],
   "source": [
    "df_truth[['Label']].value_counts()"
   ]
  },
  {
   "cell_type": "code",
   "execution_count": 50,
   "metadata": {},
   "outputs": [
    {
     "name": "stderr",
     "output_type": "stream",
     "text": [
      "/tmp/ipykernel_49270/691346611.py:21: FutureWarning: Series.__getitem__ treating keys as positions is deprecated. In a future version, integer keys will always be treated as labels (consistent with DataFrame behavior). To access a value by position, use `ser.iloc[pos]`\n",
      "  .astype(str).apply(lambda row: \"-\".join([row[0], row[1], row[2], row[3], map_protocol(row[4])]), axis=1)\n"
     ]
    }
   ],
   "source": [
    "df_truth['Source_Port'] = df_truth['Source_Port'].astype(str)\n",
    "df_truth['Destination_Port'] = df_truth['Destination_Port'].astype(str)\n",
    "\n",
    "df_truth['Protocol'] = pd.to_numeric(df_truth['Protocol'], errors='coerce')  \n",
    "df_truth.dropna(subset=['Protocol'], inplace=True)                      \n",
    "df_truth['Protocol'] = df_truth['Protocol'].astype(int).astype(str)         \n",
    "\n",
    "protocol_map = {\n",
    "    '6': 'tcp',\n",
    "    '17': 'udp',\n",
    "    '1': 'icmp',\n",
    "    '0': 'other'  # fallback or unknown\n",
    "}\n",
    "\n",
    "# Convert 'Protocol' number to string using the mapping\n",
    "def map_protocol(protocol):\n",
    "    return protocol_map.get(protocol, 'other')\n",
    "\n",
    "# Apply the conversion for 'Protocol' and concatenate the 'id'\n",
    "df_truth['id'] = df_truth[['Source_IP', 'Source_Port', 'Destination_IP', 'Destination_Port', 'Protocol']]\\\n",
    "    .astype(str).apply(lambda row: \"-\".join([row[0], row[1], row[2], row[3], map_protocol(row[4])]), axis=1)"
   ]
  },
  {
   "cell_type": "code",
   "execution_count": 52,
   "metadata": {},
   "outputs": [
    {
     "data": {
      "text/plain": [
       "378895    172.16.0.1-36196-192.168.10.50-80-tcp\n",
       "378930    172.16.0.1-36196-192.168.10.50-80-tcp\n",
       "378931    172.16.0.1-36198-192.168.10.50-80-tcp\n",
       "378953    172.16.0.1-36198-192.168.10.50-80-tcp\n",
       "378972    172.16.0.1-36200-192.168.10.50-80-tcp\n",
       "379305    172.16.0.1-36200-192.168.10.50-80-tcp\n",
       "379639    172.16.0.1-36202-192.168.10.50-80-tcp\n",
       "379776    172.16.0.1-36202-192.168.10.50-80-tcp\n",
       "380074    172.16.0.1-36204-192.168.10.50-80-tcp\n",
       "380121    172.16.0.1-36204-192.168.10.50-80-tcp\n",
       "380173    172.16.0.1-36206-192.168.10.50-80-tcp\n",
       "380217    172.16.0.1-36206-192.168.10.50-80-tcp\n",
       "381014    172.16.0.1-36208-192.168.10.50-80-tcp\n",
       "381061    172.16.0.1-36208-192.168.10.50-80-tcp\n",
       "381084    172.16.0.1-36210-192.168.10.50-80-tcp\n",
       "381192    172.16.0.1-36212-192.168.10.50-80-tcp\n",
       "381487    172.16.0.1-36214-192.168.10.50-80-tcp\n",
       "381586    172.16.0.1-36242-192.168.10.50-80-tcp\n",
       "381835    172.16.0.1-36244-192.168.10.50-80-tcp\n",
       "381844    172.16.0.1-36242-192.168.10.50-80-tcp\n",
       "381888    172.16.0.1-36244-192.168.10.50-80-tcp\n",
       "Name: id, dtype: object"
      ]
     },
     "execution_count": 52,
     "metadata": {},
     "output_type": "execute_result"
    }
   ],
   "source": [
    "sql_injection_ids = df_truth.loc[\n",
    "    df_truth['Label'].astype(str).str.contains('Sql Injection', case=False, na=False),\n",
    "    'id'\n",
    "]\n",
    "sql_injection_ids\n"
   ]
  },
  {
   "cell_type": "markdown",
   "metadata": {},
   "source": [
    "## Making Predictions"
   ]
  },
  {
   "cell_type": "code",
   "execution_count": 53,
   "metadata": {},
   "outputs": [
    {
     "data": {
      "text/plain": [
       "0         192.168.10.15-49439-131.253.61.98-80-tcp\n",
       "1          192.168.10.15-49442-23.60.139.27-80-tcp\n",
       "2         192.168.10.15-49441-23.63.226.146-80-tcp\n",
       "3            192.168.10.15-49448-23.15.4.16-80-tcp\n",
       "4           192.168.10.14-59146-72.21.91.29-80-tcp\n",
       "                           ...                    \n",
       "25827     192.168.10.14-52024-40.112.213.22-80-tcp\n",
       "25828    192.168.10.51-44532-211.233.74.132-80-tcp\n",
       "25829    192.168.10.51-44538-211.233.74.132-80-tcp\n",
       "25830    192.168.10.51-44547-211.233.74.132-80-tcp\n",
       "25831    192.168.10.51-44554-211.233.74.132-80-tcp\n",
       "Name: id, Length: 25832, dtype: object"
      ]
     },
     "execution_count": 53,
     "metadata": {},
     "output_type": "execute_result"
    }
   ],
   "source": [
    "df_pred[\"id\"]"
   ]
  },
  {
   "cell_type": "code",
   "execution_count": 54,
   "metadata": {},
   "outputs": [
    {
     "data": {
      "text/plain": [
       "9         192.168.10.15-55578-172.217.10.142-80-tcp\n",
       "10        192.168.10.15-55581-172.217.10.142-80-tcp\n",
       "39           72.21.91.29-80-192.168.10.15-55543-tcp\n",
       "40           72.21.91.29-80-192.168.10.15-55480-tcp\n",
       "41         23.210.202.27-80-192.168.10.15-55449-tcp\n",
       "                            ...                    \n",
       "458940      52.84.40.136-80-192.168.10.15-55570-tcp\n",
       "458941      52.84.40.136-80-192.168.10.15-55571-tcp\n",
       "458953       192.168.10.15-55480-72.21.91.29-80-tcp\n",
       "458957       192.168.10.15-55543-72.21.91.29-80-tcp\n",
       "458958       192.168.10.15-55544-72.21.91.29-80-tcp\n",
       "Name: id, Length: 63887, dtype: object"
      ]
     },
     "execution_count": 54,
     "metadata": {},
     "output_type": "execute_result"
    }
   ],
   "source": [
    "df_truth[\"id\"]"
   ]
  },
  {
   "cell_type": "code",
   "execution_count": 55,
   "metadata": {},
   "outputs": [],
   "source": [
    "# Convert 'Label' column to numeric: BENIGN -> 0, other -> 1\n",
    "df_truth['Label'] = df_truth['Label'].apply(lambda x: 0 if x == 'BENIGN' else 1)"
   ]
  },
  {
   "cell_type": "code",
   "execution_count": 56,
   "metadata": {},
   "outputs": [],
   "source": [
    "# df_pred[\"Label\"] = np.where(df_pred[\"id\"].isin(df_truth[\"id\"]), 1, 0)\n",
    "\n",
    "df_pred = df_pred.merge(df_truth[['id', 'Label']], on='id', how='left')\n",
    "df_pred = df_pred.dropna(subset=['Label'])"
   ]
  },
  {
   "cell_type": "code",
   "execution_count": 57,
   "metadata": {},
   "outputs": [
    {
     "data": {
      "text/html": [
       "<div>\n",
       "<style scoped>\n",
       "    .dataframe tbody tr th:only-of-type {\n",
       "        vertical-align: middle;\n",
       "    }\n",
       "\n",
       "    .dataframe tbody tr th {\n",
       "        vertical-align: top;\n",
       "    }\n",
       "\n",
       "    .dataframe thead th {\n",
       "        text-align: right;\n",
       "    }\n",
       "</style>\n",
       "<table border=\"1\" class=\"dataframe\">\n",
       "  <thead>\n",
       "    <tr style=\"text-align: right;\">\n",
       "      <th></th>\n",
       "      <th>id</th>\n",
       "      <th>binary_error</th>\n",
       "      <th>b_mean</th>\n",
       "      <th>b_iqr</th>\n",
       "      <th>b_zscore</th>\n",
       "      <th>floatin_error</th>\n",
       "      <th>f_mean</th>\n",
       "      <th>f_iqr</th>\n",
       "      <th>f_zscore</th>\n",
       "      <th>Label</th>\n",
       "    </tr>\n",
       "  </thead>\n",
       "  <tbody>\n",
       "    <tr>\n",
       "      <th>1783</th>\n",
       "      <td>172.16.0.1-44380-192.168.10.50-80-tcp</td>\n",
       "      <td>0.115914</td>\n",
       "      <td>0</td>\n",
       "      <td>1</td>\n",
       "      <td>1</td>\n",
       "      <td>8581.437315</td>\n",
       "      <td>0</td>\n",
       "      <td>0</td>\n",
       "      <td>0</td>\n",
       "      <td>1</td>\n",
       "    </tr>\n",
       "    <tr>\n",
       "      <th>1784</th>\n",
       "      <td>172.16.0.1-44380-192.168.10.50-80-tcp</td>\n",
       "      <td>0.115914</td>\n",
       "      <td>0</td>\n",
       "      <td>1</td>\n",
       "      <td>1</td>\n",
       "      <td>8581.437315</td>\n",
       "      <td>0</td>\n",
       "      <td>0</td>\n",
       "      <td>0</td>\n",
       "      <td>1</td>\n",
       "    </tr>\n",
       "    <tr>\n",
       "      <th>1785</th>\n",
       "      <td>172.16.0.1-44382-192.168.10.50-80-tcp</td>\n",
       "      <td>0.129781</td>\n",
       "      <td>0</td>\n",
       "      <td>1</td>\n",
       "      <td>1</td>\n",
       "      <td>12130.441541</td>\n",
       "      <td>0</td>\n",
       "      <td>0</td>\n",
       "      <td>0</td>\n",
       "      <td>1</td>\n",
       "    </tr>\n",
       "    <tr>\n",
       "      <th>1786</th>\n",
       "      <td>172.16.0.1-44384-192.168.10.50-80-tcp</td>\n",
       "      <td>0.088083</td>\n",
       "      <td>0</td>\n",
       "      <td>0</td>\n",
       "      <td>0</td>\n",
       "      <td>7951.764583</td>\n",
       "      <td>0</td>\n",
       "      <td>0</td>\n",
       "      <td>0</td>\n",
       "      <td>1</td>\n",
       "    </tr>\n",
       "    <tr>\n",
       "      <th>1787</th>\n",
       "      <td>172.16.0.1-44386-192.168.10.50-80-tcp</td>\n",
       "      <td>0.086687</td>\n",
       "      <td>0</td>\n",
       "      <td>0</td>\n",
       "      <td>0</td>\n",
       "      <td>7773.001037</td>\n",
       "      <td>0</td>\n",
       "      <td>0</td>\n",
       "      <td>0</td>\n",
       "      <td>1</td>\n",
       "    </tr>\n",
       "    <tr>\n",
       "      <th>...</th>\n",
       "      <td>...</td>\n",
       "      <td>...</td>\n",
       "      <td>...</td>\n",
       "      <td>...</td>\n",
       "      <td>...</td>\n",
       "      <td>...</td>\n",
       "      <td>...</td>\n",
       "      <td>...</td>\n",
       "      <td>...</td>\n",
       "      <td>...</td>\n",
       "    </tr>\n",
       "    <tr>\n",
       "      <th>15241</th>\n",
       "      <td>172.16.0.1-49362-192.168.10.50-80-tcp</td>\n",
       "      <td>0.178720</td>\n",
       "      <td>0</td>\n",
       "      <td>1</td>\n",
       "      <td>1</td>\n",
       "      <td>28860.177796</td>\n",
       "      <td>0</td>\n",
       "      <td>0</td>\n",
       "      <td>0</td>\n",
       "      <td>1</td>\n",
       "    </tr>\n",
       "    <tr>\n",
       "      <th>15402</th>\n",
       "      <td>172.16.0.1-49502-192.168.10.50-80-tcp</td>\n",
       "      <td>0.188034</td>\n",
       "      <td>1</td>\n",
       "      <td>1</td>\n",
       "      <td>1</td>\n",
       "      <td>31296.008621</td>\n",
       "      <td>1</td>\n",
       "      <td>1</td>\n",
       "      <td>1</td>\n",
       "      <td>1</td>\n",
       "    </tr>\n",
       "    <tr>\n",
       "      <th>15403</th>\n",
       "      <td>172.16.0.1-49502-192.168.10.50-80-tcp</td>\n",
       "      <td>0.188034</td>\n",
       "      <td>1</td>\n",
       "      <td>1</td>\n",
       "      <td>1</td>\n",
       "      <td>31296.008621</td>\n",
       "      <td>1</td>\n",
       "      <td>1</td>\n",
       "      <td>1</td>\n",
       "      <td>1</td>\n",
       "    </tr>\n",
       "    <tr>\n",
       "      <th>15406</th>\n",
       "      <td>172.16.0.1-49522-192.168.10.50-80-tcp</td>\n",
       "      <td>0.169231</td>\n",
       "      <td>0</td>\n",
       "      <td>1</td>\n",
       "      <td>1</td>\n",
       "      <td>28889.406250</td>\n",
       "      <td>0</td>\n",
       "      <td>0</td>\n",
       "      <td>0</td>\n",
       "      <td>1</td>\n",
       "    </tr>\n",
       "    <tr>\n",
       "      <th>15407</th>\n",
       "      <td>172.16.0.1-49522-192.168.10.50-80-tcp</td>\n",
       "      <td>0.169231</td>\n",
       "      <td>0</td>\n",
       "      <td>1</td>\n",
       "      <td>1</td>\n",
       "      <td>28889.406250</td>\n",
       "      <td>0</td>\n",
       "      <td>0</td>\n",
       "      <td>0</td>\n",
       "      <td>1</td>\n",
       "    </tr>\n",
       "  </tbody>\n",
       "</table>\n",
       "<p>385 rows × 10 columns</p>\n",
       "</div>"
      ],
      "text/plain": [
       "                                          id  binary_error  b_mean  b_iqr  \\\n",
       "1783   172.16.0.1-44380-192.168.10.50-80-tcp      0.115914       0      1   \n",
       "1784   172.16.0.1-44380-192.168.10.50-80-tcp      0.115914       0      1   \n",
       "1785   172.16.0.1-44382-192.168.10.50-80-tcp      0.129781       0      1   \n",
       "1786   172.16.0.1-44384-192.168.10.50-80-tcp      0.088083       0      0   \n",
       "1787   172.16.0.1-44386-192.168.10.50-80-tcp      0.086687       0      0   \n",
       "...                                      ...           ...     ...    ...   \n",
       "15241  172.16.0.1-49362-192.168.10.50-80-tcp      0.178720       0      1   \n",
       "15402  172.16.0.1-49502-192.168.10.50-80-tcp      0.188034       1      1   \n",
       "15403  172.16.0.1-49502-192.168.10.50-80-tcp      0.188034       1      1   \n",
       "15406  172.16.0.1-49522-192.168.10.50-80-tcp      0.169231       0      1   \n",
       "15407  172.16.0.1-49522-192.168.10.50-80-tcp      0.169231       0      1   \n",
       "\n",
       "       b_zscore  floatin_error  f_mean  f_iqr  f_zscore  Label  \n",
       "1783          1    8581.437315       0      0         0      1  \n",
       "1784          1    8581.437315       0      0         0      1  \n",
       "1785          1   12130.441541       0      0         0      1  \n",
       "1786          0    7951.764583       0      0         0      1  \n",
       "1787          0    7773.001037       0      0         0      1  \n",
       "...         ...            ...     ...    ...       ...    ...  \n",
       "15241         1   28860.177796       0      0         0      1  \n",
       "15402         1   31296.008621       1      1         1      1  \n",
       "15403         1   31296.008621       1      1         1      1  \n",
       "15406         1   28889.406250       0      0         0      1  \n",
       "15407         1   28889.406250       0      0         0      1  \n",
       "\n",
       "[385 rows x 10 columns]"
      ]
     },
     "execution_count": 57,
     "metadata": {},
     "output_type": "execute_result"
    }
   ],
   "source": [
    "df_pred[df_pred['Label']==1]"
   ]
  },
  {
   "cell_type": "code",
   "execution_count": 58,
   "metadata": {},
   "outputs": [
    {
     "data": {
      "text/html": [
       "<div>\n",
       "<style scoped>\n",
       "    .dataframe tbody tr th:only-of-type {\n",
       "        vertical-align: middle;\n",
       "    }\n",
       "\n",
       "    .dataframe tbody tr th {\n",
       "        vertical-align: top;\n",
       "    }\n",
       "\n",
       "    .dataframe thead th {\n",
       "        text-align: right;\n",
       "    }\n",
       "</style>\n",
       "<table border=\"1\" class=\"dataframe\">\n",
       "  <thead>\n",
       "    <tr style=\"text-align: right;\">\n",
       "      <th></th>\n",
       "      <th>id</th>\n",
       "      <th>binary_error</th>\n",
       "      <th>b_mean</th>\n",
       "      <th>b_iqr</th>\n",
       "      <th>b_zscore</th>\n",
       "      <th>floatin_error</th>\n",
       "      <th>f_mean</th>\n",
       "      <th>f_iqr</th>\n",
       "      <th>f_zscore</th>\n",
       "      <th>Label</th>\n",
       "    </tr>\n",
       "  </thead>\n",
       "  <tbody>\n",
       "    <tr>\n",
       "      <th>0</th>\n",
       "      <td>192.168.10.15-49439-131.253.61.98-80-tcp</td>\n",
       "      <td>0.104918</td>\n",
       "      <td>0</td>\n",
       "      <td>0</td>\n",
       "      <td>0</td>\n",
       "      <td>12348.233333</td>\n",
       "      <td>0</td>\n",
       "      <td>0</td>\n",
       "      <td>0</td>\n",
       "      <td>0</td>\n",
       "    </tr>\n",
       "    <tr>\n",
       "      <th>1</th>\n",
       "      <td>192.168.10.15-49439-131.253.61.98-80-tcp</td>\n",
       "      <td>0.104918</td>\n",
       "      <td>0</td>\n",
       "      <td>0</td>\n",
       "      <td>0</td>\n",
       "      <td>12348.233333</td>\n",
       "      <td>0</td>\n",
       "      <td>0</td>\n",
       "      <td>0</td>\n",
       "      <td>0</td>\n",
       "    </tr>\n",
       "    <tr>\n",
       "      <th>2</th>\n",
       "      <td>192.168.10.15-49442-23.60.139.27-80-tcp</td>\n",
       "      <td>0.077922</td>\n",
       "      <td>0</td>\n",
       "      <td>0</td>\n",
       "      <td>0</td>\n",
       "      <td>8175.331858</td>\n",
       "      <td>0</td>\n",
       "      <td>0</td>\n",
       "      <td>0</td>\n",
       "      <td>0</td>\n",
       "    </tr>\n",
       "    <tr>\n",
       "      <th>3</th>\n",
       "      <td>192.168.10.15-49442-23.60.139.27-80-tcp</td>\n",
       "      <td>0.077922</td>\n",
       "      <td>0</td>\n",
       "      <td>0</td>\n",
       "      <td>0</td>\n",
       "      <td>8175.331858</td>\n",
       "      <td>0</td>\n",
       "      <td>0</td>\n",
       "      <td>0</td>\n",
       "      <td>0</td>\n",
       "    </tr>\n",
       "    <tr>\n",
       "      <th>4</th>\n",
       "      <td>192.168.10.15-49441-23.63.226.146-80-tcp</td>\n",
       "      <td>0.084806</td>\n",
       "      <td>0</td>\n",
       "      <td>0</td>\n",
       "      <td>0</td>\n",
       "      <td>21189.902878</td>\n",
       "      <td>0</td>\n",
       "      <td>0</td>\n",
       "      <td>0</td>\n",
       "      <td>0</td>\n",
       "    </tr>\n",
       "    <tr>\n",
       "      <th>...</th>\n",
       "      <td>...</td>\n",
       "      <td>...</td>\n",
       "      <td>...</td>\n",
       "      <td>...</td>\n",
       "      <td>...</td>\n",
       "      <td>...</td>\n",
       "      <td>...</td>\n",
       "      <td>...</td>\n",
       "      <td>...</td>\n",
       "      <td>...</td>\n",
       "    </tr>\n",
       "    <tr>\n",
       "      <th>47328</th>\n",
       "      <td>192.168.10.51-44538-211.233.74.132-80-tcp</td>\n",
       "      <td>0.058350</td>\n",
       "      <td>0</td>\n",
       "      <td>0</td>\n",
       "      <td>0</td>\n",
       "      <td>18642.930894</td>\n",
       "      <td>0</td>\n",
       "      <td>0</td>\n",
       "      <td>0</td>\n",
       "      <td>0</td>\n",
       "    </tr>\n",
       "    <tr>\n",
       "      <th>47329</th>\n",
       "      <td>192.168.10.51-44547-211.233.74.132-80-tcp</td>\n",
       "      <td>0.058350</td>\n",
       "      <td>0</td>\n",
       "      <td>0</td>\n",
       "      <td>0</td>\n",
       "      <td>18642.930894</td>\n",
       "      <td>0</td>\n",
       "      <td>0</td>\n",
       "      <td>0</td>\n",
       "      <td>0</td>\n",
       "    </tr>\n",
       "    <tr>\n",
       "      <th>47330</th>\n",
       "      <td>192.168.10.51-44547-211.233.74.132-80-tcp</td>\n",
       "      <td>0.058350</td>\n",
       "      <td>0</td>\n",
       "      <td>0</td>\n",
       "      <td>0</td>\n",
       "      <td>18642.930894</td>\n",
       "      <td>0</td>\n",
       "      <td>0</td>\n",
       "      <td>0</td>\n",
       "      <td>0</td>\n",
       "    </tr>\n",
       "    <tr>\n",
       "      <th>47331</th>\n",
       "      <td>192.168.10.51-44554-211.233.74.132-80-tcp</td>\n",
       "      <td>0.058350</td>\n",
       "      <td>0</td>\n",
       "      <td>0</td>\n",
       "      <td>0</td>\n",
       "      <td>18642.930894</td>\n",
       "      <td>0</td>\n",
       "      <td>0</td>\n",
       "      <td>0</td>\n",
       "      <td>0</td>\n",
       "    </tr>\n",
       "    <tr>\n",
       "      <th>47332</th>\n",
       "      <td>192.168.10.51-44554-211.233.74.132-80-tcp</td>\n",
       "      <td>0.058350</td>\n",
       "      <td>0</td>\n",
       "      <td>0</td>\n",
       "      <td>0</td>\n",
       "      <td>18642.930894</td>\n",
       "      <td>0</td>\n",
       "      <td>0</td>\n",
       "      <td>0</td>\n",
       "      <td>0</td>\n",
       "    </tr>\n",
       "  </tbody>\n",
       "</table>\n",
       "<p>46948 rows × 10 columns</p>\n",
       "</div>"
      ],
      "text/plain": [
       "                                              id  binary_error  b_mean  b_iqr  \\\n",
       "0       192.168.10.15-49439-131.253.61.98-80-tcp      0.104918       0      0   \n",
       "1       192.168.10.15-49439-131.253.61.98-80-tcp      0.104918       0      0   \n",
       "2        192.168.10.15-49442-23.60.139.27-80-tcp      0.077922       0      0   \n",
       "3        192.168.10.15-49442-23.60.139.27-80-tcp      0.077922       0      0   \n",
       "4       192.168.10.15-49441-23.63.226.146-80-tcp      0.084806       0      0   \n",
       "...                                          ...           ...     ...    ...   \n",
       "47328  192.168.10.51-44538-211.233.74.132-80-tcp      0.058350       0      0   \n",
       "47329  192.168.10.51-44547-211.233.74.132-80-tcp      0.058350       0      0   \n",
       "47330  192.168.10.51-44547-211.233.74.132-80-tcp      0.058350       0      0   \n",
       "47331  192.168.10.51-44554-211.233.74.132-80-tcp      0.058350       0      0   \n",
       "47332  192.168.10.51-44554-211.233.74.132-80-tcp      0.058350       0      0   \n",
       "\n",
       "       b_zscore  floatin_error  f_mean  f_iqr  f_zscore  Label  \n",
       "0             0   12348.233333       0      0         0      0  \n",
       "1             0   12348.233333       0      0         0      0  \n",
       "2             0    8175.331858       0      0         0      0  \n",
       "3             0    8175.331858       0      0         0      0  \n",
       "4             0   21189.902878       0      0         0      0  \n",
       "...         ...            ...     ...    ...       ...    ...  \n",
       "47328         0   18642.930894       0      0         0      0  \n",
       "47329         0   18642.930894       0      0         0      0  \n",
       "47330         0   18642.930894       0      0         0      0  \n",
       "47331         0   18642.930894       0      0         0      0  \n",
       "47332         0   18642.930894       0      0         0      0  \n",
       "\n",
       "[46948 rows x 10 columns]"
      ]
     },
     "execution_count": 58,
     "metadata": {},
     "output_type": "execute_result"
    }
   ],
   "source": [
    "df_pred[df_pred['Label']==0]"
   ]
  },
  {
   "cell_type": "code",
   "execution_count": 73,
   "metadata": {},
   "outputs": [
    {
     "name": "stdout",
     "output_type": "stream",
     "text": [
      "                                          id  binary_error  b_mean  b_iqr  \\\n",
      "13043  172.16.0.1-36244-192.168.10.50-80-tcp      0.068908       0      0   \n",
      "13044  172.16.0.1-36244-192.168.10.50-80-tcp      0.068908       0      0   \n",
      "\n",
      "       b_zscore  floatin_error  f_mean  f_iqr  f_zscore  Label  \n",
      "13043         0     7559.90339       0      0         0      1  \n",
      "13044         0     7559.90339       0      0         0      1  \n"
     ]
    }
   ],
   "source": [
    "count = df_pred[df_pred[\"id\"] == \"172.16.0.1-36244-192.168.10.50-80-tcp\"]\n",
    "\n",
    "print(count)"
   ]
  },
  {
   "cell_type": "code",
   "execution_count": 59,
   "metadata": {},
   "outputs": [
    {
     "data": {
      "text/html": [
       "<div>\n",
       "<style scoped>\n",
       "    .dataframe tbody tr th:only-of-type {\n",
       "        vertical-align: middle;\n",
       "    }\n",
       "\n",
       "    .dataframe tbody tr th {\n",
       "        vertical-align: top;\n",
       "    }\n",
       "\n",
       "    .dataframe thead th {\n",
       "        text-align: right;\n",
       "    }\n",
       "</style>\n",
       "<table border=\"1\" class=\"dataframe\">\n",
       "  <thead>\n",
       "    <tr style=\"text-align: right;\">\n",
       "      <th></th>\n",
       "      <th>id</th>\n",
       "      <th>binary_error</th>\n",
       "      <th>b_mean</th>\n",
       "      <th>b_iqr</th>\n",
       "      <th>b_zscore</th>\n",
       "      <th>floatin_error</th>\n",
       "      <th>f_mean</th>\n",
       "      <th>f_iqr</th>\n",
       "      <th>f_zscore</th>\n",
       "      <th>Label</th>\n",
       "    </tr>\n",
       "  </thead>\n",
       "  <tbody>\n",
       "    <tr>\n",
       "      <th>0</th>\n",
       "      <td>192.168.10.15-49439-131.253.61.98-80-tcp</td>\n",
       "      <td>0.104918</td>\n",
       "      <td>0</td>\n",
       "      <td>0</td>\n",
       "      <td>0</td>\n",
       "      <td>12348.233333</td>\n",
       "      <td>0</td>\n",
       "      <td>0</td>\n",
       "      <td>0</td>\n",
       "      <td>0</td>\n",
       "    </tr>\n",
       "    <tr>\n",
       "      <th>1</th>\n",
       "      <td>192.168.10.15-49439-131.253.61.98-80-tcp</td>\n",
       "      <td>0.104918</td>\n",
       "      <td>0</td>\n",
       "      <td>0</td>\n",
       "      <td>0</td>\n",
       "      <td>12348.233333</td>\n",
       "      <td>0</td>\n",
       "      <td>0</td>\n",
       "      <td>0</td>\n",
       "      <td>0</td>\n",
       "    </tr>\n",
       "    <tr>\n",
       "      <th>2</th>\n",
       "      <td>192.168.10.15-49442-23.60.139.27-80-tcp</td>\n",
       "      <td>0.077922</td>\n",
       "      <td>0</td>\n",
       "      <td>0</td>\n",
       "      <td>0</td>\n",
       "      <td>8175.331858</td>\n",
       "      <td>0</td>\n",
       "      <td>0</td>\n",
       "      <td>0</td>\n",
       "      <td>0</td>\n",
       "    </tr>\n",
       "    <tr>\n",
       "      <th>3</th>\n",
       "      <td>192.168.10.15-49442-23.60.139.27-80-tcp</td>\n",
       "      <td>0.077922</td>\n",
       "      <td>0</td>\n",
       "      <td>0</td>\n",
       "      <td>0</td>\n",
       "      <td>8175.331858</td>\n",
       "      <td>0</td>\n",
       "      <td>0</td>\n",
       "      <td>0</td>\n",
       "      <td>0</td>\n",
       "    </tr>\n",
       "    <tr>\n",
       "      <th>4</th>\n",
       "      <td>192.168.10.15-49441-23.63.226.146-80-tcp</td>\n",
       "      <td>0.084806</td>\n",
       "      <td>0</td>\n",
       "      <td>0</td>\n",
       "      <td>0</td>\n",
       "      <td>21189.902878</td>\n",
       "      <td>0</td>\n",
       "      <td>0</td>\n",
       "      <td>0</td>\n",
       "      <td>0</td>\n",
       "    </tr>\n",
       "    <tr>\n",
       "      <th>...</th>\n",
       "      <td>...</td>\n",
       "      <td>...</td>\n",
       "      <td>...</td>\n",
       "      <td>...</td>\n",
       "      <td>...</td>\n",
       "      <td>...</td>\n",
       "      <td>...</td>\n",
       "      <td>...</td>\n",
       "      <td>...</td>\n",
       "      <td>...</td>\n",
       "    </tr>\n",
       "    <tr>\n",
       "      <th>47328</th>\n",
       "      <td>192.168.10.51-44538-211.233.74.132-80-tcp</td>\n",
       "      <td>0.058350</td>\n",
       "      <td>0</td>\n",
       "      <td>0</td>\n",
       "      <td>0</td>\n",
       "      <td>18642.930894</td>\n",
       "      <td>0</td>\n",
       "      <td>0</td>\n",
       "      <td>0</td>\n",
       "      <td>0</td>\n",
       "    </tr>\n",
       "    <tr>\n",
       "      <th>47329</th>\n",
       "      <td>192.168.10.51-44547-211.233.74.132-80-tcp</td>\n",
       "      <td>0.058350</td>\n",
       "      <td>0</td>\n",
       "      <td>0</td>\n",
       "      <td>0</td>\n",
       "      <td>18642.930894</td>\n",
       "      <td>0</td>\n",
       "      <td>0</td>\n",
       "      <td>0</td>\n",
       "      <td>0</td>\n",
       "    </tr>\n",
       "    <tr>\n",
       "      <th>47330</th>\n",
       "      <td>192.168.10.51-44547-211.233.74.132-80-tcp</td>\n",
       "      <td>0.058350</td>\n",
       "      <td>0</td>\n",
       "      <td>0</td>\n",
       "      <td>0</td>\n",
       "      <td>18642.930894</td>\n",
       "      <td>0</td>\n",
       "      <td>0</td>\n",
       "      <td>0</td>\n",
       "      <td>0</td>\n",
       "    </tr>\n",
       "    <tr>\n",
       "      <th>47331</th>\n",
       "      <td>192.168.10.51-44554-211.233.74.132-80-tcp</td>\n",
       "      <td>0.058350</td>\n",
       "      <td>0</td>\n",
       "      <td>0</td>\n",
       "      <td>0</td>\n",
       "      <td>18642.930894</td>\n",
       "      <td>0</td>\n",
       "      <td>0</td>\n",
       "      <td>0</td>\n",
       "      <td>0</td>\n",
       "    </tr>\n",
       "    <tr>\n",
       "      <th>47332</th>\n",
       "      <td>192.168.10.51-44554-211.233.74.132-80-tcp</td>\n",
       "      <td>0.058350</td>\n",
       "      <td>0</td>\n",
       "      <td>0</td>\n",
       "      <td>0</td>\n",
       "      <td>18642.930894</td>\n",
       "      <td>0</td>\n",
       "      <td>0</td>\n",
       "      <td>0</td>\n",
       "      <td>0</td>\n",
       "    </tr>\n",
       "  </tbody>\n",
       "</table>\n",
       "<p>47333 rows × 10 columns</p>\n",
       "</div>"
      ],
      "text/plain": [
       "                                              id  binary_error  b_mean  b_iqr  \\\n",
       "0       192.168.10.15-49439-131.253.61.98-80-tcp      0.104918       0      0   \n",
       "1       192.168.10.15-49439-131.253.61.98-80-tcp      0.104918       0      0   \n",
       "2        192.168.10.15-49442-23.60.139.27-80-tcp      0.077922       0      0   \n",
       "3        192.168.10.15-49442-23.60.139.27-80-tcp      0.077922       0      0   \n",
       "4       192.168.10.15-49441-23.63.226.146-80-tcp      0.084806       0      0   \n",
       "...                                          ...           ...     ...    ...   \n",
       "47328  192.168.10.51-44538-211.233.74.132-80-tcp      0.058350       0      0   \n",
       "47329  192.168.10.51-44547-211.233.74.132-80-tcp      0.058350       0      0   \n",
       "47330  192.168.10.51-44547-211.233.74.132-80-tcp      0.058350       0      0   \n",
       "47331  192.168.10.51-44554-211.233.74.132-80-tcp      0.058350       0      0   \n",
       "47332  192.168.10.51-44554-211.233.74.132-80-tcp      0.058350       0      0   \n",
       "\n",
       "       b_zscore  floatin_error  f_mean  f_iqr  f_zscore  Label  \n",
       "0             0   12348.233333       0      0         0      0  \n",
       "1             0   12348.233333       0      0         0      0  \n",
       "2             0    8175.331858       0      0         0      0  \n",
       "3             0    8175.331858       0      0         0      0  \n",
       "4             0   21189.902878       0      0         0      0  \n",
       "...         ...            ...     ...    ...       ...    ...  \n",
       "47328         0   18642.930894       0      0         0      0  \n",
       "47329         0   18642.930894       0      0         0      0  \n",
       "47330         0   18642.930894       0      0         0      0  \n",
       "47331         0   18642.930894       0      0         0      0  \n",
       "47332         0   18642.930894       0      0         0      0  \n",
       "\n",
       "[47333 rows x 10 columns]"
      ]
     },
     "execution_count": 59,
     "metadata": {},
     "output_type": "execute_result"
    }
   ],
   "source": [
    "df_pred"
   ]
  },
  {
   "cell_type": "code",
   "execution_count": 60,
   "metadata": {},
   "outputs": [
    {
     "data": {
      "text/plain": [
       "Label\n",
       "0        46948\n",
       "1          385\n",
       "Name: count, dtype: int64"
      ]
     },
     "execution_count": 60,
     "metadata": {},
     "output_type": "execute_result"
    }
   ],
   "source": [
    "df_pred[['Label']].value_counts()"
   ]
  },
  {
   "cell_type": "code",
   "execution_count": 61,
   "metadata": {},
   "outputs": [],
   "source": [
    "import os\n",
    "# Define the directory path\n",
    "dir_path = '../mcnemar/http'\n",
    "\n",
    "# Check if the directory exists, and if not, create it\n",
    "if not os.path.exists(dir_path):\n",
    "    os.makedirs(dir_path)\n",
    "\n",
    "df_temp = df_pred[['id', 'b_mean','b_iqr', 'b_zscore', 'f_zscore', 'f_mean','f_iqr' ]]\n",
    "df_temp.to_csv(os.path.join(dir_path, 'pred_0.0.csv'))"
   ]
  },
  {
   "cell_type": "markdown",
   "metadata": {},
   "source": [
    "## Calculating Score"
   ]
  },
  {
   "cell_type": "code",
   "execution_count": 62,
   "metadata": {},
   "outputs": [],
   "source": [
    "threshold = ['b_mean', 'b_iqr', 'b_zscore']\n",
    "threshold_2 = ['f_mean', 'f_iqr', 'f_zscore']\n",
    "\n",
    "methods = ['binary', 'floating']"
   ]
  },
  {
   "cell_type": "code",
   "execution_count": 63,
   "metadata": {},
   "outputs": [
    {
     "data": {
      "text/html": [
       "<div>\n",
       "<style scoped>\n",
       "    .dataframe tbody tr th:only-of-type {\n",
       "        vertical-align: middle;\n",
       "    }\n",
       "\n",
       "    .dataframe tbody tr th {\n",
       "        vertical-align: top;\n",
       "    }\n",
       "\n",
       "    .dataframe thead th {\n",
       "        text-align: right;\n",
       "    }\n",
       "</style>\n",
       "<table border=\"1\" class=\"dataframe\">\n",
       "  <thead>\n",
       "    <tr style=\"text-align: right;\">\n",
       "      <th></th>\n",
       "      <th>b_zscore</th>\n",
       "    </tr>\n",
       "  </thead>\n",
       "  <tbody>\n",
       "    <tr>\n",
       "      <th>0</th>\n",
       "      <td>0</td>\n",
       "    </tr>\n",
       "    <tr>\n",
       "      <th>1</th>\n",
       "      <td>0</td>\n",
       "    </tr>\n",
       "    <tr>\n",
       "      <th>2</th>\n",
       "      <td>0</td>\n",
       "    </tr>\n",
       "    <tr>\n",
       "      <th>3</th>\n",
       "      <td>0</td>\n",
       "    </tr>\n",
       "    <tr>\n",
       "      <th>4</th>\n",
       "      <td>0</td>\n",
       "    </tr>\n",
       "    <tr>\n",
       "      <th>...</th>\n",
       "      <td>...</td>\n",
       "    </tr>\n",
       "    <tr>\n",
       "      <th>47328</th>\n",
       "      <td>0</td>\n",
       "    </tr>\n",
       "    <tr>\n",
       "      <th>47329</th>\n",
       "      <td>0</td>\n",
       "    </tr>\n",
       "    <tr>\n",
       "      <th>47330</th>\n",
       "      <td>0</td>\n",
       "    </tr>\n",
       "    <tr>\n",
       "      <th>47331</th>\n",
       "      <td>0</td>\n",
       "    </tr>\n",
       "    <tr>\n",
       "      <th>47332</th>\n",
       "      <td>0</td>\n",
       "    </tr>\n",
       "  </tbody>\n",
       "</table>\n",
       "<p>47333 rows × 1 columns</p>\n",
       "</div>"
      ],
      "text/plain": [
       "       b_zscore\n",
       "0             0\n",
       "1             0\n",
       "2             0\n",
       "3             0\n",
       "4             0\n",
       "...         ...\n",
       "47328         0\n",
       "47329         0\n",
       "47330         0\n",
       "47331         0\n",
       "47332         0\n",
       "\n",
       "[47333 rows x 1 columns]"
      ]
     },
     "execution_count": 63,
     "metadata": {},
     "output_type": "execute_result"
    }
   ],
   "source": [
    "df_pred[['b_zscore']]"
   ]
  },
  {
   "cell_type": "markdown",
   "metadata": {},
   "source": [
    "### Detection Rate"
   ]
  },
  {
   "cell_type": "code",
   "execution_count": 64,
   "metadata": {},
   "outputs": [
    {
     "name": "stdout",
     "output_type": "stream",
     "text": [
      "Recall-Binary-b_mean: 0.005194805194805195\n",
      "Recall-Binary-b_iqr: 0.06753246753246753\n",
      "Recall-Binary-b_zscore: 0.05714285714285714\n",
      "Recall-Floating-f_mean: 0.005194805194805195\n",
      "Recall-Floating-f_iqr: 0.005194805194805195\n",
      "Recall-Floating-f_zscore: 0.005194805194805195\n"
     ]
    }
   ],
   "source": [
    "from sklearn.metrics import recall_score\n",
    "\n",
    "score = dict()\n",
    "score['Detection Rate'] = dict()\n",
    "for method in methods:\n",
    "    if method == 'binary':\n",
    "        for i in threshold:\n",
    "            acc = recall_score(df_pred['Label'], df_pred[i])\n",
    "            score['Detection Rate'][i] = acc\n",
    "            print(f'Recall-Binary-{i}: {acc}')\n",
    "    else:\n",
    "        for i in threshold_2:\n",
    "            acc = recall_score(df_pred['Label'], df_pred[i])\n",
    "            score['Detection Rate'][i] = acc\n",
    "            print(f'Recall-Floating-{i}: {acc}')  "
   ]
  },
  {
   "cell_type": "markdown",
   "metadata": {},
   "source": [
    "### Confussion Matrix"
   ]
  },
  {
   "cell_type": "code",
   "execution_count": 65,
   "metadata": {},
   "outputs": [
    {
     "data": {
      "image/png": "[encoded data removed]",
      "text/plain": [
       "<Figure size 640x480 with 2 Axes>"
      ]
     },
     "metadata": {},
     "output_type": "display_data"
    },
    {
     "data": {
      "image/png": "[encoded data removed]",
      "text/plain": [
       "<Figure size 640x480 with 2 Axes>"
      ]
     },
     "metadata": {},
     "output_type": "display_data"
    },
    {
     "data": {
      "image/png": "[encoded data removed]",
      "text/plain": [
       "<Figure size 640x480 with 2 Axes>"
      ]
     },
     "metadata": {},
     "output_type": "display_data"
    },
    {
     "data": {
      "image/png": "[encoded data removed]",
      "text/plain": [
       "<Figure size 640x480 with 2 Axes>"
      ]
     },
     "metadata": {},
     "output_type": "display_data"
    },
    {
     "data": {
      "image/png": "[encoded data removed]",
      "text/plain": [
       "<Figure size 640x480 with 2 Axes>"
      ]
     },
     "metadata": {},
     "output_type": "display_data"
    },
    {
     "data": {
      "image/png": "[encoded data removed]",
      "text/plain": [
       "<Figure size 640x480 with 2 Axes>"
      ]
     },
     "metadata": {},
     "output_type": "display_data"
    }
   ],
   "source": [
    "from sklearn.metrics import confusion_matrix\n",
    "from sklearn.metrics import ConfusionMatrixDisplay\n",
    "\n",
    "for method in methods:\n",
    "    if method == 'binary':\n",
    "        for i in threshold:\n",
    "            conf_matrix = confusion_matrix(df_pred['Label'], df_pred[i])\n",
    "            cm_display = ConfusionMatrixDisplay(confusion_matrix = conf_matrix, display_labels=['Benign', 'Anomaly'])\n",
    "            cm_display.plot()\n",
    "            plt.title(f'Binary - {i.strip()}')\n",
    "            plt.show()\n",
    "    else:\n",
    "        for i in threshold_2:\n",
    "            conf_matrix = confusion_matrix(df_pred['Label'], df_pred[i])\n",
    "            cm_display = ConfusionMatrixDisplay(confusion_matrix = conf_matrix, display_labels=['Benign', 'Anomaly'])\n",
    "            cm_display.plot()\n",
    "            plt.title(f'Floating - {i.strip()}')\n",
    "            plt.show()\n"
   ]
  },
  {
   "cell_type": "markdown",
   "metadata": {},
   "source": [
    "### F2-Score"
   ]
  },
  {
   "cell_type": "code",
   "execution_count": 66,
   "metadata": {},
   "outputs": [
    {
     "name": "stdout",
     "output_type": "stream",
     "text": [
      "F2-Binary-b_mean: 0.005558643690939411\n",
      "F2-Binary-b_iqr: 0.041760359781561195\n",
      "F2-Binary-b_zscore: 0.036508463325589116\n",
      "F2-Floating-f_mean: 0.004224757076468103\n",
      "F2-Floating-f_iqr: 0.004164931278633903\n",
      "F2-Floating-f_zscore: 0.003963535473642489\n"
     ]
    }
   ],
   "source": [
    "score['F2 Score'] = dict()\n",
    "for method in methods:\n",
    "    if method == 'binary':\n",
    "        for i in threshold:\n",
    "            tn, fp, fn, tp = confusion_matrix(df_pred['Label'], df_pred[i]).ravel()\n",
    "            f2 = ((1+2**2)*tp)/((1+2**2)*tp+2**2*fn+fp)\n",
    "            score['F2 Score'][i] = f2\n",
    "            print(f'F2-Binary-{i}: {f2}')\n",
    "    else:\n",
    "        for i in threshold_2:\n",
    "            tn, fp, fn, tp = confusion_matrix(df_pred['Label'], df_pred[i]).ravel()\n",
    "            f2 = ((1+2**2)*tp)/((1+2**2)*tp+2**2*fn+fp)\n",
    "            score['F2 Score'][i] = f2\n",
    "            print(f'F2-Floating-{i}: {f2}')"
   ]
  },
  {
   "cell_type": "markdown",
   "metadata": {},
   "source": [
    "### FPR Score"
   ]
  },
  {
   "cell_type": "code",
   "execution_count": 67,
   "metadata": {},
   "outputs": [
    {
     "name": "stdout",
     "output_type": "stream",
     "text": [
      "FPR-Binary-b_mean: 0.005474141603476187\n",
      "FPR-Binary-b_iqr: 0.03295135043026327\n",
      "FPR-Binary-b_zscore: 0.03090653488966516\n",
      "FPR-Floating-f_mean: 0.017572633552014997\n",
      "FPR-Floating-f_iqr: 0.018296839055976826\n",
      "FPR-Floating-f_zscore: 0.020895458805486922\n"
     ]
    }
   ],
   "source": [
    "score['FPR Score'] = dict()\n",
    "for method in methods:\n",
    "    if method == 'binary':\n",
    "        for i in threshold:\n",
    "            tn, fp, fn, tp = confusion_matrix(df_pred['Label'], df_pred[i]).ravel()\n",
    "            fpr = fp/(fp+tn)\n",
    "            score['FPR Score'][i] = fpr\n",
    "            print(f'FPR-Binary-{i}: {fpr}')\n",
    "    else:\n",
    "        for i in threshold_2:\n",
    "            tn, fp, fn, tp = confusion_matrix(df_pred['Label'], df_pred[i]).ravel()\n",
    "            fpr = fp/(fp+tn)\n",
    "            score['FPR Score'][i] = fpr\n",
    "            print(f'FPR-Floating-{i}: {fpr}')"
   ]
  },
  {
   "cell_type": "code",
   "execution_count": 68,
   "metadata": {},
   "outputs": [
    {
     "name": "stdout",
     "output_type": "stream",
     "text": [
      "Accuracy-Binary-b_mean: 0.9864787780195635\n",
      "Accuracy-Binary-b_iqr: 0.9597321107895126\n",
      "Accuracy-Binary-b_zscore: 0.9616757864492004\n",
      "Accuracy-Floating-f_mean: 0.9744786935119262\n",
      "Accuracy-Floating-f_iqr: 0.9737603785942155\n",
      "Accuracy-Floating-f_zscore: 0.9711828956541948\n"
     ]
    }
   ],
   "source": [
    "from sklearn.metrics import accuracy_score\n",
    "\n",
    "score['Accuracy Score'] = dict()\n",
    "for method in methods:\n",
    "    if method == 'binary':\n",
    "        for i in threshold:\n",
    "            acc = accuracy_score(df_pred['Label'], df_pred[i])\n",
    "            score['Accuracy Score'][i] = acc\n",
    "            print(f'Accuracy-Binary-{i}: {acc}')\n",
    "    else:\n",
    "        for i in threshold_2:\n",
    "            acc = accuracy_score(df_pred['Label'], df_pred[i])\n",
    "            score['Accuracy Score'][i] = acc\n",
    "            print(f'Accuracy-Floating-{i}: {acc}')  "
   ]
  },
  {
   "cell_type": "code",
   "execution_count": 69,
   "metadata": {},
   "outputs": [
    {
     "data": {
      "text/html": [
       "<div>\n",
       "<style scoped>\n",
       "    .dataframe tbody tr th:only-of-type {\n",
       "        vertical-align: middle;\n",
       "    }\n",
       "\n",
       "    .dataframe tbody tr th {\n",
       "        vertical-align: top;\n",
       "    }\n",
       "\n",
       "    .dataframe thead th {\n",
       "        text-align: right;\n",
       "    }\n",
       "</style>\n",
       "<table border=\"1\" class=\"dataframe\">\n",
       "  <thead>\n",
       "    <tr style=\"text-align: right;\">\n",
       "      <th></th>\n",
       "      <th>Detection Rate</th>\n",
       "      <th>F2 Score</th>\n",
       "      <th>FPR Score</th>\n",
       "      <th>Accuracy Score</th>\n",
       "    </tr>\n",
       "  </thead>\n",
       "  <tbody>\n",
       "    <tr>\n",
       "      <th>b_mean</th>\n",
       "      <td>0.005195</td>\n",
       "      <td>0.005559</td>\n",
       "      <td>0.005474</td>\n",
       "      <td>0.986479</td>\n",
       "    </tr>\n",
       "    <tr>\n",
       "      <th>b_iqr</th>\n",
       "      <td>0.067532</td>\n",
       "      <td>0.041760</td>\n",
       "      <td>0.032951</td>\n",
       "      <td>0.959732</td>\n",
       "    </tr>\n",
       "    <tr>\n",
       "      <th>b_zscore</th>\n",
       "      <td>0.057143</td>\n",
       "      <td>0.036508</td>\n",
       "      <td>0.030907</td>\n",
       "      <td>0.961676</td>\n",
       "    </tr>\n",
       "    <tr>\n",
       "      <th>f_mean</th>\n",
       "      <td>0.005195</td>\n",
       "      <td>0.004225</td>\n",
       "      <td>0.017573</td>\n",
       "      <td>0.974479</td>\n",
       "    </tr>\n",
       "    <tr>\n",
       "      <th>f_iqr</th>\n",
       "      <td>0.005195</td>\n",
       "      <td>0.004165</td>\n",
       "      <td>0.018297</td>\n",
       "      <td>0.973760</td>\n",
       "    </tr>\n",
       "    <tr>\n",
       "      <th>f_zscore</th>\n",
       "      <td>0.005195</td>\n",
       "      <td>0.003964</td>\n",
       "      <td>0.020895</td>\n",
       "      <td>0.971183</td>\n",
       "    </tr>\n",
       "  </tbody>\n",
       "</table>\n",
       "</div>"
      ],
      "text/plain": [
       "          Detection Rate  F2 Score  FPR Score  Accuracy Score\n",
       "b_mean          0.005195  0.005559   0.005474        0.986479\n",
       "b_iqr           0.067532  0.041760   0.032951        0.959732\n",
       "b_zscore        0.057143  0.036508   0.030907        0.961676\n",
       "f_mean          0.005195  0.004225   0.017573        0.974479\n",
       "f_iqr           0.005195  0.004165   0.018297        0.973760\n",
       "f_zscore        0.005195  0.003964   0.020895        0.971183"
      ]
     },
     "execution_count": 69,
     "metadata": {},
     "output_type": "execute_result"
    }
   ],
   "source": [
    "df_score = pd.DataFrame.from_dict(score)\n",
    "df_score"
   ]
  },
  {
   "cell_type": "code",
   "execution_count": 70,
   "metadata": {},
   "outputs": [],
   "source": [
    "df_score.to_excel('score_ftp_0.0.xlsx')"
   ]
  },
  {
   "cell_type": "code",
   "execution_count": 71,
   "metadata": {},
   "outputs": [],
   "source": [
    "# %pip install openpyxl"
   ]
  }
 ],
 "metadata": {
  "kernelspec": {
   "display_name": "myenv",
   "language": "python",
   "name": "python3"
  },
  "language_info": {
   "codemirror_mode": {
    "name": "ipython",
    "version": 3
   },
   "file_extension": ".py",
   "mimetype": "text/x-python",
   "name": "python",
   "nbconvert_exporter": "python",
   "pygments_lexer": "ipython3",
   "version": "3.9.5"
  }
 },
 "nbformat": 4,
 "nbformat_minor": 2
}
