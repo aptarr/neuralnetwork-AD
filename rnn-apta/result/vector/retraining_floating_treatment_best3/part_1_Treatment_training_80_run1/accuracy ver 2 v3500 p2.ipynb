{
 "cells": [
  {
   "cell_type": "markdown",
   "metadata": {},
   "source": [
    "# Perhitungan Skor RNN-IDS"
   ]
  },
  {
   "cell_type": "markdown",
   "metadata": {},
   "source": [
    "## Import All Necessary Libraries"
   ]
  },
  {
   "cell_type": "code",
   "execution_count": 1,
   "metadata": {},
   "outputs": [],
   "source": [
    "import pandas as pd\n",
    "import numpy as np\n",
    "import sklearn\n",
    "import matplotlib.pyplot as plt\n",
    "import math"
   ]
  },
  {
   "cell_type": "markdown",
   "metadata": {},
   "source": [
    "## Load All the Data"
   ]
  },
  {
   "cell_type": "code",
   "execution_count": 2,
   "metadata": {},
   "outputs": [],
   "source": [
    "df_pred = pd.read_csv('/home/apta/neuralnetwork-AD/rnn-apta/results/vector/part_1_Treatment_training_80_run1/result-lstm-tcp80-hl2-seq4-do0.2-oov2500-part_3_Treatment_testing_80.csv', \n",
    "                      names=['id', 'binary_error', 'b_mean', 'b_iqr', 'b_zscore', 'floatin_error', 'f_mean', 'f_iqr', 'f_zscore'])\n",
    "\n",
    "df_truth = pd.read_csv('/home/apta/neuralnetwork-AD/rnn-apta/texts_retraining/texts_retraining_80/part_3_ground_truth.csv', \n",
    "                       encoding='ISO-8859-1')\n"
   ]
  },
  {
   "cell_type": "code",
   "execution_count": 3,
   "metadata": {},
   "outputs": [
    {
     "data": {
      "text/html": [
       "<div>\n",
       "<style scoped>\n",
       "    .dataframe tbody tr th:only-of-type {\n",
       "        vertical-align: middle;\n",
       "    }\n",
       "\n",
       "    .dataframe tbody tr th {\n",
       "        vertical-align: top;\n",
       "    }\n",
       "\n",
       "    .dataframe thead th {\n",
       "        text-align: right;\n",
       "    }\n",
       "</style>\n",
       "<table border=\"1\" class=\"dataframe\">\n",
       "  <thead>\n",
       "    <tr style=\"text-align: right;\">\n",
       "      <th></th>\n",
       "      <th>id</th>\n",
       "      <th>binary_error</th>\n",
       "      <th>b_mean</th>\n",
       "      <th>b_iqr</th>\n",
       "      <th>b_zscore</th>\n",
       "      <th>floatin_error</th>\n",
       "      <th>f_mean</th>\n",
       "      <th>f_iqr</th>\n",
       "      <th>f_zscore</th>\n",
       "    </tr>\n",
       "  </thead>\n",
       "  <tbody>\n",
       "    <tr>\n",
       "      <th>0</th>\n",
       "      <td>192.168.10.8-57396-50.63.243.230-80-tcp</td>\n",
       "      <td>0.035461</td>\n",
       "      <td>0</td>\n",
       "      <td>1</td>\n",
       "      <td>1</td>\n",
       "      <td>11106.692124</td>\n",
       "      <td>0</td>\n",
       "      <td>1</td>\n",
       "      <td>1</td>\n",
       "    </tr>\n",
       "    <tr>\n",
       "      <th>1</th>\n",
       "      <td>192.168.10.8-55371-209.48.71.160-80-tcp</td>\n",
       "      <td>0.104237</td>\n",
       "      <td>0</td>\n",
       "      <td>1</td>\n",
       "      <td>1</td>\n",
       "      <td>173644.520566</td>\n",
       "      <td>0</td>\n",
       "      <td>0</td>\n",
       "      <td>0</td>\n",
       "    </tr>\n",
       "    <tr>\n",
       "      <th>2</th>\n",
       "      <td>192.168.10.8-59124-69.166.1.10-80-tcp</td>\n",
       "      <td>0.098398</td>\n",
       "      <td>0</td>\n",
       "      <td>1</td>\n",
       "      <td>1</td>\n",
       "      <td>135557.845266</td>\n",
       "      <td>0</td>\n",
       "      <td>0</td>\n",
       "      <td>0</td>\n",
       "    </tr>\n",
       "    <tr>\n",
       "      <th>3</th>\n",
       "      <td>192.168.10.17-42843-172.217.3.110-80-tcp</td>\n",
       "      <td>0.032875</td>\n",
       "      <td>0</td>\n",
       "      <td>1</td>\n",
       "      <td>1</td>\n",
       "      <td>2608.373466</td>\n",
       "      <td>0</td>\n",
       "      <td>1</td>\n",
       "      <td>1</td>\n",
       "    </tr>\n",
       "    <tr>\n",
       "      <th>4</th>\n",
       "      <td>192.168.10.25-62061-104.20.79.168-80-tcp</td>\n",
       "      <td>0.053797</td>\n",
       "      <td>0</td>\n",
       "      <td>1</td>\n",
       "      <td>1</td>\n",
       "      <td>43595.894231</td>\n",
       "      <td>0</td>\n",
       "      <td>1</td>\n",
       "      <td>1</td>\n",
       "    </tr>\n",
       "  </tbody>\n",
       "</table>\n",
       "</div>"
      ],
      "text/plain": [
       "                                         id  binary_error  b_mean  b_iqr  \\\n",
       "0   192.168.10.8-57396-50.63.243.230-80-tcp      0.035461       0      1   \n",
       "1   192.168.10.8-55371-209.48.71.160-80-tcp      0.104237       0      1   \n",
       "2     192.168.10.8-59124-69.166.1.10-80-tcp      0.098398       0      1   \n",
       "3  192.168.10.17-42843-172.217.3.110-80-tcp      0.032875       0      1   \n",
       "4  192.168.10.25-62061-104.20.79.168-80-tcp      0.053797       0      1   \n",
       "\n",
       "   b_zscore  floatin_error  f_mean  f_iqr  f_zscore  \n",
       "0         1   11106.692124       0      1         1  \n",
       "1         1  173644.520566       0      0         0  \n",
       "2         1  135557.845266       0      0         0  \n",
       "3         1    2608.373466       0      1         1  \n",
       "4         1   43595.894231       0      1         1  "
      ]
     },
     "execution_count": 3,
     "metadata": {},
     "output_type": "execute_result"
    }
   ],
   "source": [
    "df_pred.head()"
   ]
  },
  {
   "cell_type": "code",
   "execution_count": 4,
   "metadata": {},
   "outputs": [
    {
     "data": {
      "text/html": [
       "<div>\n",
       "<style scoped>\n",
       "    .dataframe tbody tr th:only-of-type {\n",
       "        vertical-align: middle;\n",
       "    }\n",
       "\n",
       "    .dataframe tbody tr th {\n",
       "        vertical-align: top;\n",
       "    }\n",
       "\n",
       "    .dataframe thead th {\n",
       "        text-align: right;\n",
       "    }\n",
       "</style>\n",
       "<table border=\"1\" class=\"dataframe\">\n",
       "  <thead>\n",
       "    <tr style=\"text-align: right;\">\n",
       "      <th></th>\n",
       "      <th>ID</th>\n",
       "      <th>Label</th>\n",
       "    </tr>\n",
       "  </thead>\n",
       "  <tbody>\n",
       "    <tr>\n",
       "      <th>0</th>\n",
       "      <td>192.168.10.8-57396-50.63.243.230-80-tcp</td>\n",
       "      <td>BENIGN</td>\n",
       "    </tr>\n",
       "    <tr>\n",
       "      <th>1</th>\n",
       "      <td>192.168.10.8-55371-209.48.71.160-80-tcp</td>\n",
       "      <td>BENIGN</td>\n",
       "    </tr>\n",
       "    <tr>\n",
       "      <th>2</th>\n",
       "      <td>192.168.10.8-59124-69.166.1.10-80-tcp</td>\n",
       "      <td>BENIGN</td>\n",
       "    </tr>\n",
       "    <tr>\n",
       "      <th>3</th>\n",
       "      <td>192.168.10.17-42843-172.217.3.110-80-tcp</td>\n",
       "      <td>BENIGN</td>\n",
       "    </tr>\n",
       "    <tr>\n",
       "      <th>4</th>\n",
       "      <td>192.168.10.25-62061-104.20.79.168-80-tcp</td>\n",
       "      <td>BENIGN</td>\n",
       "    </tr>\n",
       "  </tbody>\n",
       "</table>\n",
       "</div>"
      ],
      "text/plain": [
       "                                         ID   Label\n",
       "0   192.168.10.8-57396-50.63.243.230-80-tcp  BENIGN\n",
       "1   192.168.10.8-55371-209.48.71.160-80-tcp  BENIGN\n",
       "2     192.168.10.8-59124-69.166.1.10-80-tcp  BENIGN\n",
       "3  192.168.10.17-42843-172.217.3.110-80-tcp  BENIGN\n",
       "4  192.168.10.25-62061-104.20.79.168-80-tcp  BENIGN"
      ]
     },
     "execution_count": 4,
     "metadata": {},
     "output_type": "execute_result"
    }
   ],
   "source": [
    "df_truth.head()"
   ]
  },
  {
   "cell_type": "code",
   "execution_count": 5,
   "metadata": {},
   "outputs": [
    {
     "data": {
      "text/plain": [
       "b_iqr\n",
       "0        22751\n",
       "1         6291\n",
       "Name: count, dtype: int64"
      ]
     },
     "execution_count": 5,
     "metadata": {},
     "output_type": "execute_result"
    }
   ],
   "source": [
    "df_pred[['b_iqr']].value_counts()"
   ]
  },
  {
   "cell_type": "markdown",
   "metadata": {},
   "source": [
    "## Exploratory Data Analysis"
   ]
  },
  {
   "cell_type": "code",
   "execution_count": 6,
   "metadata": {},
   "outputs": [
    {
     "data": {
      "text/plain": [
       "b_iqr\n",
       "0        22751\n",
       "1         6291\n",
       "Name: count, dtype: int64"
      ]
     },
     "execution_count": 6,
     "metadata": {},
     "output_type": "execute_result"
    }
   ],
   "source": [
    "df_pred[['b_iqr']].value_counts()"
   ]
  },
  {
   "cell_type": "code",
   "execution_count": 7,
   "metadata": {},
   "outputs": [
    {
     "data": {
      "text/plain": [
       "b_zscore\n",
       "0           22868\n",
       "1            6174\n",
       "Name: count, dtype: int64"
      ]
     },
     "execution_count": 7,
     "metadata": {},
     "output_type": "execute_result"
    }
   ],
   "source": [
    "df_pred[['b_zscore']].value_counts()"
   ]
  },
  {
   "cell_type": "code",
   "execution_count": 8,
   "metadata": {},
   "outputs": [
    {
     "data": {
      "text/plain": [
       "ID       0\n",
       "Label    0\n",
       "dtype: int64"
      ]
     },
     "execution_count": 8,
     "metadata": {},
     "output_type": "execute_result"
    }
   ],
   "source": [
    "df_truth.isnull().sum()"
   ]
  },
  {
   "cell_type": "markdown",
   "metadata": {},
   "source": [
    "## Data Pre-Processing"
   ]
  },
  {
   "cell_type": "markdown",
   "metadata": {},
   "source": [
    "### Convert the type of the data"
   ]
  },
  {
   "cell_type": "code",
   "execution_count": 9,
   "metadata": {},
   "outputs": [
    {
     "data": {
      "text/plain": [
       "0    BENIGN\n",
       "1    BENIGN\n",
       "2    BENIGN\n",
       "3    BENIGN\n",
       "4    BENIGN\n",
       "Name: Label, dtype: object"
      ]
     },
     "execution_count": 9,
     "metadata": {},
     "output_type": "execute_result"
    }
   ],
   "source": [
    "df_truth['Label'].head()"
   ]
  },
  {
   "cell_type": "markdown",
   "metadata": {},
   "source": [
    "## Making Predictions"
   ]
  },
  {
   "cell_type": "code",
   "execution_count": 10,
   "metadata": {},
   "outputs": [
    {
     "data": {
      "text/plain": [
       "0         192.168.10.8-57396-50.63.243.230-80-tcp\n",
       "1         192.168.10.8-55371-209.48.71.160-80-tcp\n",
       "2           192.168.10.8-59124-69.166.1.10-80-tcp\n",
       "3        192.168.10.17-42843-172.217.3.110-80-tcp\n",
       "4        192.168.10.25-62061-104.20.79.168-80-tcp\n",
       "                           ...                   \n",
       "29037     192.168.10.17-34045-178.255.83.1-80-tcp\n",
       "29038     192.168.10.16-35544-77.223.144.5-80-tcp\n",
       "29039     192.168.10.5-54101-54.192.36.242-80-tcp\n",
       "29040       192.168.10.9-7103-178.255.83.1-80-tcp\n",
       "29041       172.16.0.1-43674-192.168.10.50-80-tcp\n",
       "Name: id, Length: 29042, dtype: object"
      ]
     },
     "execution_count": 10,
     "metadata": {},
     "output_type": "execute_result"
    }
   ],
   "source": [
    "df_pred[\"id\"]"
   ]
  },
  {
   "cell_type": "code",
   "execution_count": 11,
   "metadata": {},
   "outputs": [
    {
     "data": {
      "text/plain": [
       "0         192.168.10.8-57396-50.63.243.230-80-tcp\n",
       "1         192.168.10.8-55371-209.48.71.160-80-tcp\n",
       "2           192.168.10.8-59124-69.166.1.10-80-tcp\n",
       "3        192.168.10.17-42843-172.217.3.110-80-tcp\n",
       "4        192.168.10.25-62061-104.20.79.168-80-tcp\n",
       "                           ...                   \n",
       "29037     192.168.10.17-34045-178.255.83.1-80-tcp\n",
       "29038     192.168.10.16-35544-77.223.144.5-80-tcp\n",
       "29039     192.168.10.5-54101-54.192.36.242-80-tcp\n",
       "29040       192.168.10.9-7103-178.255.83.1-80-tcp\n",
       "29041       172.16.0.1-43674-192.168.10.50-80-tcp\n",
       "Name: ID, Length: 29042, dtype: object"
      ]
     },
     "execution_count": 11,
     "metadata": {},
     "output_type": "execute_result"
    }
   ],
   "source": [
    "df_truth[\"ID\"]\n",
    "\n",
    "# df_truth[df_truth[\"id\"] == \"192.168.10.50-21-172.16.0.1-52120-tcp\"]"
   ]
  },
  {
   "cell_type": "code",
   "execution_count": 12,
   "metadata": {},
   "outputs": [],
   "source": [
    "# Convert 'Label' column to numeric: BENIGN -> 0, other -> 1\n",
    "df_truth['Label'] = df_truth['Label'].apply(lambda x: 0 if x == 'BENIGN' else 1)"
   ]
  },
  {
   "cell_type": "code",
   "execution_count": 13,
   "metadata": {},
   "outputs": [],
   "source": [
    "# df_pred[\"Label\"] = np.where(df_pred[\"id\"].isin(df_truth[\"id\"]), 1, 0)\n",
    "\n",
    "# Rename 'ID' to 'id' in df_truth\n",
    "df_truth = df_truth.rename(columns={'ID': 'id'})\n",
    "\n",
    "# Now merge and drop rows where the label is missing\n",
    "df_pred = df_pred.merge(df_truth[['id', 'Label']], on='id', how='left')\n",
    "df_pred = df_pred.dropna(subset=['Label'])\n"
   ]
  },
  {
   "cell_type": "code",
   "execution_count": 14,
   "metadata": {},
   "outputs": [
    {
     "data": {
      "text/html": [
       "<div>\n",
       "<style scoped>\n",
       "    .dataframe tbody tr th:only-of-type {\n",
       "        vertical-align: middle;\n",
       "    }\n",
       "\n",
       "    .dataframe tbody tr th {\n",
       "        vertical-align: top;\n",
       "    }\n",
       "\n",
       "    .dataframe thead th {\n",
       "        text-align: right;\n",
       "    }\n",
       "</style>\n",
       "<table border=\"1\" class=\"dataframe\">\n",
       "  <thead>\n",
       "    <tr style=\"text-align: right;\">\n",
       "      <th></th>\n",
       "      <th>id</th>\n",
       "      <th>binary_error</th>\n",
       "      <th>b_mean</th>\n",
       "      <th>b_iqr</th>\n",
       "      <th>b_zscore</th>\n",
       "      <th>floatin_error</th>\n",
       "      <th>f_mean</th>\n",
       "      <th>f_iqr</th>\n",
       "      <th>f_zscore</th>\n",
       "      <th>Label</th>\n",
       "    </tr>\n",
       "  </thead>\n",
       "  <tbody>\n",
       "    <tr>\n",
       "      <th>5725</th>\n",
       "      <td>172.16.0.1-54568-192.168.10.50-80-tcp</td>\n",
       "      <td>0.577287</td>\n",
       "      <td>0</td>\n",
       "      <td>0</td>\n",
       "      <td>0</td>\n",
       "      <td>242781.798722</td>\n",
       "      <td>0</td>\n",
       "      <td>0</td>\n",
       "      <td>0</td>\n",
       "      <td>1</td>\n",
       "    </tr>\n",
       "    <tr>\n",
       "      <th>5726</th>\n",
       "      <td>172.16.0.1-54568-192.168.10.50-80-tcp</td>\n",
       "      <td>0.577287</td>\n",
       "      <td>0</td>\n",
       "      <td>0</td>\n",
       "      <td>0</td>\n",
       "      <td>242781.798722</td>\n",
       "      <td>0</td>\n",
       "      <td>0</td>\n",
       "      <td>0</td>\n",
       "      <td>1</td>\n",
       "    </tr>\n",
       "    <tr>\n",
       "      <th>5727</th>\n",
       "      <td>172.16.0.1-53608-192.168.10.50-80-tcp</td>\n",
       "      <td>0.573209</td>\n",
       "      <td>0</td>\n",
       "      <td>0</td>\n",
       "      <td>0</td>\n",
       "      <td>232480.381703</td>\n",
       "      <td>0</td>\n",
       "      <td>0</td>\n",
       "      <td>0</td>\n",
       "      <td>1</td>\n",
       "    </tr>\n",
       "    <tr>\n",
       "      <th>5728</th>\n",
       "      <td>172.16.0.1-43168-192.168.10.50-80-tcp</td>\n",
       "      <td>0.649485</td>\n",
       "      <td>0</td>\n",
       "      <td>0</td>\n",
       "      <td>0</td>\n",
       "      <td>264715.273438</td>\n",
       "      <td>0</td>\n",
       "      <td>0</td>\n",
       "      <td>0</td>\n",
       "      <td>1</td>\n",
       "    </tr>\n",
       "    <tr>\n",
       "      <th>5729</th>\n",
       "      <td>172.16.0.1-43168-192.168.10.50-80-tcp</td>\n",
       "      <td>0.649485</td>\n",
       "      <td>0</td>\n",
       "      <td>0</td>\n",
       "      <td>0</td>\n",
       "      <td>264715.273438</td>\n",
       "      <td>0</td>\n",
       "      <td>0</td>\n",
       "      <td>0</td>\n",
       "      <td>1</td>\n",
       "    </tr>\n",
       "    <tr>\n",
       "      <th>...</th>\n",
       "      <td>...</td>\n",
       "      <td>...</td>\n",
       "      <td>...</td>\n",
       "      <td>...</td>\n",
       "      <td>...</td>\n",
       "      <td>...</td>\n",
       "      <td>...</td>\n",
       "      <td>...</td>\n",
       "      <td>...</td>\n",
       "      <td>...</td>\n",
       "    </tr>\n",
       "    <tr>\n",
       "      <th>67442</th>\n",
       "      <td>172.16.0.1-45924-192.168.10.50-80-tcp</td>\n",
       "      <td>0.589666</td>\n",
       "      <td>0</td>\n",
       "      <td>0</td>\n",
       "      <td>0</td>\n",
       "      <td>209078.615385</td>\n",
       "      <td>0</td>\n",
       "      <td>0</td>\n",
       "      <td>0</td>\n",
       "      <td>1</td>\n",
       "    </tr>\n",
       "    <tr>\n",
       "      <th>67443</th>\n",
       "      <td>172.16.0.1-45924-192.168.10.50-80-tcp</td>\n",
       "      <td>0.589666</td>\n",
       "      <td>0</td>\n",
       "      <td>0</td>\n",
       "      <td>0</td>\n",
       "      <td>209078.615385</td>\n",
       "      <td>0</td>\n",
       "      <td>0</td>\n",
       "      <td>0</td>\n",
       "      <td>1</td>\n",
       "    </tr>\n",
       "    <tr>\n",
       "      <th>70795</th>\n",
       "      <td>172.16.0.1-43674-192.168.10.50-80-tcp</td>\n",
       "      <td>0.530612</td>\n",
       "      <td>0</td>\n",
       "      <td>0</td>\n",
       "      <td>0</td>\n",
       "      <td>227954.865517</td>\n",
       "      <td>0</td>\n",
       "      <td>0</td>\n",
       "      <td>0</td>\n",
       "      <td>1</td>\n",
       "    </tr>\n",
       "    <tr>\n",
       "      <th>70796</th>\n",
       "      <td>172.16.0.1-43674-192.168.10.50-80-tcp</td>\n",
       "      <td>0.530612</td>\n",
       "      <td>0</td>\n",
       "      <td>0</td>\n",
       "      <td>0</td>\n",
       "      <td>227954.865517</td>\n",
       "      <td>0</td>\n",
       "      <td>0</td>\n",
       "      <td>0</td>\n",
       "      <td>1</td>\n",
       "    </tr>\n",
       "    <tr>\n",
       "      <th>70797</th>\n",
       "      <td>172.16.0.1-43674-192.168.10.50-80-tcp</td>\n",
       "      <td>0.530612</td>\n",
       "      <td>0</td>\n",
       "      <td>0</td>\n",
       "      <td>0</td>\n",
       "      <td>227954.865517</td>\n",
       "      <td>0</td>\n",
       "      <td>0</td>\n",
       "      <td>0</td>\n",
       "      <td>1</td>\n",
       "    </tr>\n",
       "  </tbody>\n",
       "</table>\n",
       "<p>61722 rows × 10 columns</p>\n",
       "</div>"
      ],
      "text/plain": [
       "                                          id  binary_error  b_mean  b_iqr  \\\n",
       "5725   172.16.0.1-54568-192.168.10.50-80-tcp      0.577287       0      0   \n",
       "5726   172.16.0.1-54568-192.168.10.50-80-tcp      0.577287       0      0   \n",
       "5727   172.16.0.1-53608-192.168.10.50-80-tcp      0.573209       0      0   \n",
       "5728   172.16.0.1-43168-192.168.10.50-80-tcp      0.649485       0      0   \n",
       "5729   172.16.0.1-43168-192.168.10.50-80-tcp      0.649485       0      0   \n",
       "...                                      ...           ...     ...    ...   \n",
       "67442  172.16.0.1-45924-192.168.10.50-80-tcp      0.589666       0      0   \n",
       "67443  172.16.0.1-45924-192.168.10.50-80-tcp      0.589666       0      0   \n",
       "70795  172.16.0.1-43674-192.168.10.50-80-tcp      0.530612       0      0   \n",
       "70796  172.16.0.1-43674-192.168.10.50-80-tcp      0.530612       0      0   \n",
       "70797  172.16.0.1-43674-192.168.10.50-80-tcp      0.530612       0      0   \n",
       "\n",
       "       b_zscore  floatin_error  f_mean  f_iqr  f_zscore  Label  \n",
       "5725          0  242781.798722       0      0         0      1  \n",
       "5726          0  242781.798722       0      0         0      1  \n",
       "5727          0  232480.381703       0      0         0      1  \n",
       "5728          0  264715.273438       0      0         0      1  \n",
       "5729          0  264715.273438       0      0         0      1  \n",
       "...         ...            ...     ...    ...       ...    ...  \n",
       "67442         0  209078.615385       0      0         0      1  \n",
       "67443         0  209078.615385       0      0         0      1  \n",
       "70795         0  227954.865517       0      0         0      1  \n",
       "70796         0  227954.865517       0      0         0      1  \n",
       "70797         0  227954.865517       0      0         0      1  \n",
       "\n",
       "[61722 rows x 10 columns]"
      ]
     },
     "execution_count": 14,
     "metadata": {},
     "output_type": "execute_result"
    }
   ],
   "source": [
    "df_pred[df_pred['Label']==1]"
   ]
  },
  {
   "cell_type": "code",
   "execution_count": 15,
   "metadata": {},
   "outputs": [
    {
     "data": {
      "text/html": [
       "<div>\n",
       "<style scoped>\n",
       "    .dataframe tbody tr th:only-of-type {\n",
       "        vertical-align: middle;\n",
       "    }\n",
       "\n",
       "    .dataframe tbody tr th {\n",
       "        vertical-align: top;\n",
       "    }\n",
       "\n",
       "    .dataframe thead th {\n",
       "        text-align: right;\n",
       "    }\n",
       "</style>\n",
       "<table border=\"1\" class=\"dataframe\">\n",
       "  <thead>\n",
       "    <tr style=\"text-align: right;\">\n",
       "      <th></th>\n",
       "      <th>id</th>\n",
       "      <th>binary_error</th>\n",
       "      <th>b_mean</th>\n",
       "      <th>b_iqr</th>\n",
       "      <th>b_zscore</th>\n",
       "      <th>floatin_error</th>\n",
       "      <th>f_mean</th>\n",
       "      <th>f_iqr</th>\n",
       "      <th>f_zscore</th>\n",
       "      <th>Label</th>\n",
       "    </tr>\n",
       "  </thead>\n",
       "  <tbody>\n",
       "    <tr>\n",
       "      <th>0</th>\n",
       "      <td>192.168.10.8-57396-50.63.243.230-80-tcp</td>\n",
       "      <td>0.035461</td>\n",
       "      <td>0</td>\n",
       "      <td>1</td>\n",
       "      <td>1</td>\n",
       "      <td>11106.692124</td>\n",
       "      <td>0</td>\n",
       "      <td>1</td>\n",
       "      <td>1</td>\n",
       "      <td>0</td>\n",
       "    </tr>\n",
       "    <tr>\n",
       "      <th>1</th>\n",
       "      <td>192.168.10.8-55371-209.48.71.160-80-tcp</td>\n",
       "      <td>0.104237</td>\n",
       "      <td>0</td>\n",
       "      <td>1</td>\n",
       "      <td>1</td>\n",
       "      <td>173644.520566</td>\n",
       "      <td>0</td>\n",
       "      <td>0</td>\n",
       "      <td>0</td>\n",
       "      <td>0</td>\n",
       "    </tr>\n",
       "    <tr>\n",
       "      <th>2</th>\n",
       "      <td>192.168.10.8-59124-69.166.1.10-80-tcp</td>\n",
       "      <td>0.098398</td>\n",
       "      <td>0</td>\n",
       "      <td>1</td>\n",
       "      <td>1</td>\n",
       "      <td>135557.845266</td>\n",
       "      <td>0</td>\n",
       "      <td>0</td>\n",
       "      <td>0</td>\n",
       "      <td>0</td>\n",
       "    </tr>\n",
       "    <tr>\n",
       "      <th>3</th>\n",
       "      <td>192.168.10.17-42843-172.217.3.110-80-tcp</td>\n",
       "      <td>0.032875</td>\n",
       "      <td>0</td>\n",
       "      <td>1</td>\n",
       "      <td>1</td>\n",
       "      <td>2608.373466</td>\n",
       "      <td>0</td>\n",
       "      <td>1</td>\n",
       "      <td>1</td>\n",
       "      <td>0</td>\n",
       "    </tr>\n",
       "    <tr>\n",
       "      <th>4</th>\n",
       "      <td>192.168.10.25-62061-104.20.79.168-80-tcp</td>\n",
       "      <td>0.053797</td>\n",
       "      <td>0</td>\n",
       "      <td>1</td>\n",
       "      <td>1</td>\n",
       "      <td>43595.894231</td>\n",
       "      <td>0</td>\n",
       "      <td>1</td>\n",
       "      <td>1</td>\n",
       "      <td>0</td>\n",
       "    </tr>\n",
       "    <tr>\n",
       "      <th>...</th>\n",
       "      <td>...</td>\n",
       "      <td>...</td>\n",
       "      <td>...</td>\n",
       "      <td>...</td>\n",
       "      <td>...</td>\n",
       "      <td>...</td>\n",
       "      <td>...</td>\n",
       "      <td>...</td>\n",
       "      <td>...</td>\n",
       "      <td>...</td>\n",
       "    </tr>\n",
       "    <tr>\n",
       "      <th>70790</th>\n",
       "      <td>192.168.10.12-50066-207.123.54.253-80-tcp</td>\n",
       "      <td>0.073793</td>\n",
       "      <td>0</td>\n",
       "      <td>1</td>\n",
       "      <td>1</td>\n",
       "      <td>104372.311915</td>\n",
       "      <td>0</td>\n",
       "      <td>0</td>\n",
       "      <td>1</td>\n",
       "      <td>0</td>\n",
       "    </tr>\n",
       "    <tr>\n",
       "      <th>70791</th>\n",
       "      <td>192.168.10.17-34045-178.255.83.1-80-tcp</td>\n",
       "      <td>0.036613</td>\n",
       "      <td>0</td>\n",
       "      <td>1</td>\n",
       "      <td>1</td>\n",
       "      <td>36153.764434</td>\n",
       "      <td>0</td>\n",
       "      <td>1</td>\n",
       "      <td>1</td>\n",
       "      <td>0</td>\n",
       "    </tr>\n",
       "    <tr>\n",
       "      <th>70792</th>\n",
       "      <td>192.168.10.16-35544-77.223.144.5-80-tcp</td>\n",
       "      <td>0.059638</td>\n",
       "      <td>0</td>\n",
       "      <td>1</td>\n",
       "      <td>1</td>\n",
       "      <td>58586.508021</td>\n",
       "      <td>0</td>\n",
       "      <td>1</td>\n",
       "      <td>1</td>\n",
       "      <td>0</td>\n",
       "    </tr>\n",
       "    <tr>\n",
       "      <th>70793</th>\n",
       "      <td>192.168.10.5-54101-54.192.36.242-80-tcp</td>\n",
       "      <td>0.027211</td>\n",
       "      <td>0</td>\n",
       "      <td>1</td>\n",
       "      <td>1</td>\n",
       "      <td>25025.162471</td>\n",
       "      <td>0</td>\n",
       "      <td>1</td>\n",
       "      <td>1</td>\n",
       "      <td>0</td>\n",
       "    </tr>\n",
       "    <tr>\n",
       "      <th>70794</th>\n",
       "      <td>192.168.10.9-7103-178.255.83.1-80-tcp</td>\n",
       "      <td>0.039171</td>\n",
       "      <td>0</td>\n",
       "      <td>1</td>\n",
       "      <td>1</td>\n",
       "      <td>57043.253488</td>\n",
       "      <td>0</td>\n",
       "      <td>1</td>\n",
       "      <td>1</td>\n",
       "      <td>0</td>\n",
       "    </tr>\n",
       "  </tbody>\n",
       "</table>\n",
       "<p>9076 rows × 10 columns</p>\n",
       "</div>"
      ],
      "text/plain": [
       "                                              id  binary_error  b_mean  b_iqr  \\\n",
       "0        192.168.10.8-57396-50.63.243.230-80-tcp      0.035461       0      1   \n",
       "1        192.168.10.8-55371-209.48.71.160-80-tcp      0.104237       0      1   \n",
       "2          192.168.10.8-59124-69.166.1.10-80-tcp      0.098398       0      1   \n",
       "3       192.168.10.17-42843-172.217.3.110-80-tcp      0.032875       0      1   \n",
       "4       192.168.10.25-62061-104.20.79.168-80-tcp      0.053797       0      1   \n",
       "...                                          ...           ...     ...    ...   \n",
       "70790  192.168.10.12-50066-207.123.54.253-80-tcp      0.073793       0      1   \n",
       "70791    192.168.10.17-34045-178.255.83.1-80-tcp      0.036613       0      1   \n",
       "70792    192.168.10.16-35544-77.223.144.5-80-tcp      0.059638       0      1   \n",
       "70793    192.168.10.5-54101-54.192.36.242-80-tcp      0.027211       0      1   \n",
       "70794      192.168.10.9-7103-178.255.83.1-80-tcp      0.039171       0      1   \n",
       "\n",
       "       b_zscore  floatin_error  f_mean  f_iqr  f_zscore  Label  \n",
       "0             1   11106.692124       0      1         1      0  \n",
       "1             1  173644.520566       0      0         0      0  \n",
       "2             1  135557.845266       0      0         0      0  \n",
       "3             1    2608.373466       0      1         1      0  \n",
       "4             1   43595.894231       0      1         1      0  \n",
       "...         ...            ...     ...    ...       ...    ...  \n",
       "70790         1  104372.311915       0      0         1      0  \n",
       "70791         1   36153.764434       0      1         1      0  \n",
       "70792         1   58586.508021       0      1         1      0  \n",
       "70793         1   25025.162471       0      1         1      0  \n",
       "70794         1   57043.253488       0      1         1      0  \n",
       "\n",
       "[9076 rows x 10 columns]"
      ]
     },
     "execution_count": 15,
     "metadata": {},
     "output_type": "execute_result"
    }
   ],
   "source": [
    "df_pred[df_pred['Label']==0]"
   ]
  },
  {
   "cell_type": "code",
   "execution_count": 16,
   "metadata": {},
   "outputs": [
    {
     "data": {
      "text/html": [
       "<div>\n",
       "<style scoped>\n",
       "    .dataframe tbody tr th:only-of-type {\n",
       "        vertical-align: middle;\n",
       "    }\n",
       "\n",
       "    .dataframe tbody tr th {\n",
       "        vertical-align: top;\n",
       "    }\n",
       "\n",
       "    .dataframe thead th {\n",
       "        text-align: right;\n",
       "    }\n",
       "</style>\n",
       "<table border=\"1\" class=\"dataframe\">\n",
       "  <thead>\n",
       "    <tr style=\"text-align: right;\">\n",
       "      <th></th>\n",
       "      <th>id</th>\n",
       "      <th>binary_error</th>\n",
       "      <th>b_mean</th>\n",
       "      <th>b_iqr</th>\n",
       "      <th>b_zscore</th>\n",
       "      <th>floatin_error</th>\n",
       "      <th>f_mean</th>\n",
       "      <th>f_iqr</th>\n",
       "      <th>f_zscore</th>\n",
       "      <th>Label</th>\n",
       "    </tr>\n",
       "  </thead>\n",
       "  <tbody>\n",
       "    <tr>\n",
       "      <th>0</th>\n",
       "      <td>192.168.10.8-57396-50.63.243.230-80-tcp</td>\n",
       "      <td>0.035461</td>\n",
       "      <td>0</td>\n",
       "      <td>1</td>\n",
       "      <td>1</td>\n",
       "      <td>11106.692124</td>\n",
       "      <td>0</td>\n",
       "      <td>1</td>\n",
       "      <td>1</td>\n",
       "      <td>0</td>\n",
       "    </tr>\n",
       "    <tr>\n",
       "      <th>1</th>\n",
       "      <td>192.168.10.8-55371-209.48.71.160-80-tcp</td>\n",
       "      <td>0.104237</td>\n",
       "      <td>0</td>\n",
       "      <td>1</td>\n",
       "      <td>1</td>\n",
       "      <td>173644.520566</td>\n",
       "      <td>0</td>\n",
       "      <td>0</td>\n",
       "      <td>0</td>\n",
       "      <td>0</td>\n",
       "    </tr>\n",
       "    <tr>\n",
       "      <th>2</th>\n",
       "      <td>192.168.10.8-59124-69.166.1.10-80-tcp</td>\n",
       "      <td>0.098398</td>\n",
       "      <td>0</td>\n",
       "      <td>1</td>\n",
       "      <td>1</td>\n",
       "      <td>135557.845266</td>\n",
       "      <td>0</td>\n",
       "      <td>0</td>\n",
       "      <td>0</td>\n",
       "      <td>0</td>\n",
       "    </tr>\n",
       "    <tr>\n",
       "      <th>3</th>\n",
       "      <td>192.168.10.17-42843-172.217.3.110-80-tcp</td>\n",
       "      <td>0.032875</td>\n",
       "      <td>0</td>\n",
       "      <td>1</td>\n",
       "      <td>1</td>\n",
       "      <td>2608.373466</td>\n",
       "      <td>0</td>\n",
       "      <td>1</td>\n",
       "      <td>1</td>\n",
       "      <td>0</td>\n",
       "    </tr>\n",
       "    <tr>\n",
       "      <th>4</th>\n",
       "      <td>192.168.10.25-62061-104.20.79.168-80-tcp</td>\n",
       "      <td>0.053797</td>\n",
       "      <td>0</td>\n",
       "      <td>1</td>\n",
       "      <td>1</td>\n",
       "      <td>43595.894231</td>\n",
       "      <td>0</td>\n",
       "      <td>1</td>\n",
       "      <td>1</td>\n",
       "      <td>0</td>\n",
       "    </tr>\n",
       "    <tr>\n",
       "      <th>...</th>\n",
       "      <td>...</td>\n",
       "      <td>...</td>\n",
       "      <td>...</td>\n",
       "      <td>...</td>\n",
       "      <td>...</td>\n",
       "      <td>...</td>\n",
       "      <td>...</td>\n",
       "      <td>...</td>\n",
       "      <td>...</td>\n",
       "      <td>...</td>\n",
       "    </tr>\n",
       "    <tr>\n",
       "      <th>70793</th>\n",
       "      <td>192.168.10.5-54101-54.192.36.242-80-tcp</td>\n",
       "      <td>0.027211</td>\n",
       "      <td>0</td>\n",
       "      <td>1</td>\n",
       "      <td>1</td>\n",
       "      <td>25025.162471</td>\n",
       "      <td>0</td>\n",
       "      <td>1</td>\n",
       "      <td>1</td>\n",
       "      <td>0</td>\n",
       "    </tr>\n",
       "    <tr>\n",
       "      <th>70794</th>\n",
       "      <td>192.168.10.9-7103-178.255.83.1-80-tcp</td>\n",
       "      <td>0.039171</td>\n",
       "      <td>0</td>\n",
       "      <td>1</td>\n",
       "      <td>1</td>\n",
       "      <td>57043.253488</td>\n",
       "      <td>0</td>\n",
       "      <td>1</td>\n",
       "      <td>1</td>\n",
       "      <td>0</td>\n",
       "    </tr>\n",
       "    <tr>\n",
       "      <th>70795</th>\n",
       "      <td>172.16.0.1-43674-192.168.10.50-80-tcp</td>\n",
       "      <td>0.530612</td>\n",
       "      <td>0</td>\n",
       "      <td>0</td>\n",
       "      <td>0</td>\n",
       "      <td>227954.865517</td>\n",
       "      <td>0</td>\n",
       "      <td>0</td>\n",
       "      <td>0</td>\n",
       "      <td>1</td>\n",
       "    </tr>\n",
       "    <tr>\n",
       "      <th>70796</th>\n",
       "      <td>172.16.0.1-43674-192.168.10.50-80-tcp</td>\n",
       "      <td>0.530612</td>\n",
       "      <td>0</td>\n",
       "      <td>0</td>\n",
       "      <td>0</td>\n",
       "      <td>227954.865517</td>\n",
       "      <td>0</td>\n",
       "      <td>0</td>\n",
       "      <td>0</td>\n",
       "      <td>1</td>\n",
       "    </tr>\n",
       "    <tr>\n",
       "      <th>70797</th>\n",
       "      <td>172.16.0.1-43674-192.168.10.50-80-tcp</td>\n",
       "      <td>0.530612</td>\n",
       "      <td>0</td>\n",
       "      <td>0</td>\n",
       "      <td>0</td>\n",
       "      <td>227954.865517</td>\n",
       "      <td>0</td>\n",
       "      <td>0</td>\n",
       "      <td>0</td>\n",
       "      <td>1</td>\n",
       "    </tr>\n",
       "  </tbody>\n",
       "</table>\n",
       "<p>70798 rows × 10 columns</p>\n",
       "</div>"
      ],
      "text/plain": [
       "                                             id  binary_error  b_mean  b_iqr  \\\n",
       "0       192.168.10.8-57396-50.63.243.230-80-tcp      0.035461       0      1   \n",
       "1       192.168.10.8-55371-209.48.71.160-80-tcp      0.104237       0      1   \n",
       "2         192.168.10.8-59124-69.166.1.10-80-tcp      0.098398       0      1   \n",
       "3      192.168.10.17-42843-172.217.3.110-80-tcp      0.032875       0      1   \n",
       "4      192.168.10.25-62061-104.20.79.168-80-tcp      0.053797       0      1   \n",
       "...                                         ...           ...     ...    ...   \n",
       "70793   192.168.10.5-54101-54.192.36.242-80-tcp      0.027211       0      1   \n",
       "70794     192.168.10.9-7103-178.255.83.1-80-tcp      0.039171       0      1   \n",
       "70795     172.16.0.1-43674-192.168.10.50-80-tcp      0.530612       0      0   \n",
       "70796     172.16.0.1-43674-192.168.10.50-80-tcp      0.530612       0      0   \n",
       "70797     172.16.0.1-43674-192.168.10.50-80-tcp      0.530612       0      0   \n",
       "\n",
       "       b_zscore  floatin_error  f_mean  f_iqr  f_zscore  Label  \n",
       "0             1   11106.692124       0      1         1      0  \n",
       "1             1  173644.520566       0      0         0      0  \n",
       "2             1  135557.845266       0      0         0      0  \n",
       "3             1    2608.373466       0      1         1      0  \n",
       "4             1   43595.894231       0      1         1      0  \n",
       "...         ...            ...     ...    ...       ...    ...  \n",
       "70793         1   25025.162471       0      1         1      0  \n",
       "70794         1   57043.253488       0      1         1      0  \n",
       "70795         0  227954.865517       0      0         0      1  \n",
       "70796         0  227954.865517       0      0         0      1  \n",
       "70797         0  227954.865517       0      0         0      1  \n",
       "\n",
       "[70798 rows x 10 columns]"
      ]
     },
     "execution_count": 16,
     "metadata": {},
     "output_type": "execute_result"
    }
   ],
   "source": [
    "df_pred"
   ]
  },
  {
   "cell_type": "code",
   "execution_count": 17,
   "metadata": {},
   "outputs": [
    {
     "data": {
      "text/plain": [
       "Label\n",
       "1        61722\n",
       "0         9076\n",
       "Name: count, dtype: int64"
      ]
     },
     "execution_count": 17,
     "metadata": {},
     "output_type": "execute_result"
    }
   ],
   "source": [
    "df_pred[['Label']].value_counts()"
   ]
  },
  {
   "cell_type": "code",
   "execution_count": 18,
   "metadata": {},
   "outputs": [],
   "source": [
    "import os\n",
    "# Define the directory path\n",
    "dir_path = '../mcnemar/ftp'\n",
    "\n",
    "# Check if the directory exists, and if not, create it\n",
    "if not os.path.exists(dir_path):\n",
    "    os.makedirs(dir_path)\n",
    "\n",
    "df_temp = df_pred[['id', 'b_mean','b_iqr', 'b_zscore', 'f_zscore', 'f_mean','f_iqr' ]]\n",
    "df_temp.to_csv(os.path.join(dir_path, 'pred_0.0.csv'))"
   ]
  },
  {
   "cell_type": "markdown",
   "metadata": {},
   "source": [
    "## Calculating Score"
   ]
  },
  {
   "cell_type": "code",
   "execution_count": 19,
   "metadata": {},
   "outputs": [],
   "source": [
    "threshold = ['b_mean', 'b_iqr', 'b_zscore']\n",
    "threshold_2 = ['f_mean', 'f_iqr', 'f_zscore']\n",
    "\n",
    "methods = ['binary', 'floating']"
   ]
  },
  {
   "cell_type": "code",
   "execution_count": 20,
   "metadata": {},
   "outputs": [
    {
     "data": {
      "text/html": [
       "<div>\n",
       "<style scoped>\n",
       "    .dataframe tbody tr th:only-of-type {\n",
       "        vertical-align: middle;\n",
       "    }\n",
       "\n",
       "    .dataframe tbody tr th {\n",
       "        vertical-align: top;\n",
       "    }\n",
       "\n",
       "    .dataframe thead th {\n",
       "        text-align: right;\n",
       "    }\n",
       "</style>\n",
       "<table border=\"1\" class=\"dataframe\">\n",
       "  <thead>\n",
       "    <tr style=\"text-align: right;\">\n",
       "      <th></th>\n",
       "      <th>b_zscore</th>\n",
       "    </tr>\n",
       "  </thead>\n",
       "  <tbody>\n",
       "    <tr>\n",
       "      <th>0</th>\n",
       "      <td>1</td>\n",
       "    </tr>\n",
       "    <tr>\n",
       "      <th>1</th>\n",
       "      <td>1</td>\n",
       "    </tr>\n",
       "    <tr>\n",
       "      <th>2</th>\n",
       "      <td>1</td>\n",
       "    </tr>\n",
       "    <tr>\n",
       "      <th>3</th>\n",
       "      <td>1</td>\n",
       "    </tr>\n",
       "    <tr>\n",
       "      <th>4</th>\n",
       "      <td>1</td>\n",
       "    </tr>\n",
       "    <tr>\n",
       "      <th>...</th>\n",
       "      <td>...</td>\n",
       "    </tr>\n",
       "    <tr>\n",
       "      <th>70793</th>\n",
       "      <td>1</td>\n",
       "    </tr>\n",
       "    <tr>\n",
       "      <th>70794</th>\n",
       "      <td>1</td>\n",
       "    </tr>\n",
       "    <tr>\n",
       "      <th>70795</th>\n",
       "      <td>0</td>\n",
       "    </tr>\n",
       "    <tr>\n",
       "      <th>70796</th>\n",
       "      <td>0</td>\n",
       "    </tr>\n",
       "    <tr>\n",
       "      <th>70797</th>\n",
       "      <td>0</td>\n",
       "    </tr>\n",
       "  </tbody>\n",
       "</table>\n",
       "<p>70798 rows × 1 columns</p>\n",
       "</div>"
      ],
      "text/plain": [
       "       b_zscore\n",
       "0             1\n",
       "1             1\n",
       "2             1\n",
       "3             1\n",
       "4             1\n",
       "...         ...\n",
       "70793         1\n",
       "70794         1\n",
       "70795         0\n",
       "70796         0\n",
       "70797         0\n",
       "\n",
       "[70798 rows x 1 columns]"
      ]
     },
     "execution_count": 20,
     "metadata": {},
     "output_type": "execute_result"
    }
   ],
   "source": [
    "df_pred[['b_zscore']]"
   ]
  },
  {
   "cell_type": "markdown",
   "metadata": {},
   "source": [
    "### Detection Rate"
   ]
  },
  {
   "cell_type": "code",
   "execution_count": 21,
   "metadata": {},
   "outputs": [
    {
     "name": "stdout",
     "output_type": "stream",
     "text": [
      "Recall-Binary-b_mean: 0.0\n",
      "Recall-Binary-b_iqr: 0.051829169501960405\n",
      "Recall-Binary-b_zscore: 0.04722789280969508\n",
      "Recall-Floating-f_mean: 0.0\n",
      "Recall-Floating-f_iqr: 0.010579696056511455\n",
      "Recall-Floating-f_zscore: 0.014597712322996663\n"
     ]
    }
   ],
   "source": [
    "from sklearn.metrics import recall_score\n",
    "\n",
    "score = dict()\n",
    "score['Detection Rate'] = dict()\n",
    "for method in methods:\n",
    "    if method == 'binary':\n",
    "        for i in threshold:\n",
    "            acc = recall_score(df_pred['Label'], df_pred[i])\n",
    "            score['Detection Rate'][i] = acc\n",
    "            print(f'Recall-Binary-{i}: {acc}')\n",
    "    else:\n",
    "        for i in threshold_2:\n",
    "            acc = recall_score(df_pred['Label'], df_pred[i])\n",
    "            score['Detection Rate'][i] = acc\n",
    "            print(f'Recall-Floating-{i}: {acc}')  "
   ]
  },
  {
   "cell_type": "markdown",
   "metadata": {},
   "source": [
    "### Confussion Matrix"
   ]
  },
  {
   "cell_type": "code",
   "execution_count": 22,
   "metadata": {},
   "outputs": [
    {
     "data": {
      "image/png": "[encoded data removed]",
      "text/plain": [
       "<Figure size 640x480 with 2 Axes>"
      ]
     },
     "metadata": {},
     "output_type": "display_data"
    },
    {
     "data": {
      "image/png": "[encoded data removed]",
      "text/plain": [
       "<Figure size 640x480 with 2 Axes>"
      ]
     },
     "metadata": {},
     "output_type": "display_data"
    },
    {
     "data": {
      "image/png": "[encoded data removed]",
      "text/plain": [
       "<Figure size 640x480 with 2 Axes>"
      ]
     },
     "metadata": {},
     "output_type": "display_data"
    },
    {
     "data": {
      "image/png": "[encoded data removed]",
      "text/plain": [
       "<Figure size 640x480 with 2 Axes>"
      ]
     },
     "metadata": {},
     "output_type": "display_data"
    },
    {
     "data": {
      "image/png": "[encoded data removed]",
      "text/plain": [
       "<Figure size 640x480 with 2 Axes>"
      ]
     },
     "metadata": {},
     "output_type": "display_data"
    },
    {
     "data": {
      "image/png": "[encoded data removed]",
      "text/plain": [
       "<Figure size 640x480 with 2 Axes>"
      ]
     },
     "metadata": {},
     "output_type": "display_data"
    }
   ],
   "source": [
    "from sklearn.metrics import confusion_matrix\n",
    "from sklearn.metrics import ConfusionMatrixDisplay\n",
    "\n",
    "for method in methods:\n",
    "    if method == 'binary':\n",
    "        for i in threshold:\n",
    "            conf_matrix = confusion_matrix(df_pred['Label'], df_pred[i])\n",
    "            cm_display = ConfusionMatrixDisplay(confusion_matrix = conf_matrix, display_labels=['Benign', 'Anomaly'])\n",
    "            cm_display.plot()\n",
    "            plt.title(f'Binary - {i.strip()}')\n",
    "            plt.show()\n",
    "    else:\n",
    "        for i in threshold_2:\n",
    "            conf_matrix = confusion_matrix(df_pred['Label'], df_pred[i])\n",
    "            cm_display = ConfusionMatrixDisplay(confusion_matrix = conf_matrix, display_labels=['Benign', 'Anomaly'])\n",
    "            cm_display.plot()\n",
    "            plt.title(f'Floating - {i.strip()}')\n",
    "            plt.show()\n"
   ]
  },
  {
   "cell_type": "markdown",
   "metadata": {},
   "source": [
    "### F2-Score"
   ]
  },
  {
   "cell_type": "code",
   "execution_count": 23,
   "metadata": {},
   "outputs": [
    {
     "name": "stdout",
     "output_type": "stream",
     "text": [
      "F2-Binary-b_mean: 0.0\n",
      "F2-Binary-b_iqr: 0.06171791498014763\n",
      "F2-Binary-b_zscore: 0.056300868752341846\n",
      "F2-Floating-f_mean: 0.0\n",
      "F2-Floating-f_iqr: 0.012956349206349206\n",
      "F2-Floating-f_zscore: 0.01780843578289916\n"
     ]
    }
   ],
   "source": [
    "score['F2 Score'] = dict()\n",
    "for method in methods:\n",
    "    if method == 'binary':\n",
    "        for i in threshold:\n",
    "            tn, fp, fn, tp = confusion_matrix(df_pred['Label'], df_pred[i]).ravel()\n",
    "            f2 = ((1+2**2)*tp)/((1+2**2)*tp+2**2*fn+fp)\n",
    "            score['F2 Score'][i] = f2\n",
    "            print(f'F2-Binary-{i}: {f2}')\n",
    "    else:\n",
    "        for i in threshold_2:\n",
    "            tn, fp, fn, tp = confusion_matrix(df_pred['Label'], df_pred[i]).ravel()\n",
    "            f2 = ((1+2**2)*tp)/((1+2**2)*tp+2**2*fn+fp)\n",
    "            score['F2 Score'][i] = f2\n",
    "            print(f'F2-Floating-{i}: {f2}')"
   ]
  },
  {
   "cell_type": "markdown",
   "metadata": {},
   "source": [
    "### FPR Score"
   ]
  },
  {
   "cell_type": "code",
   "execution_count": 24,
   "metadata": {},
   "outputs": [
    {
     "name": "stdout",
     "output_type": "stream",
     "text": [
      "FPR-Binary-b_mean: 0.0\n",
      "FPR-Binary-b_iqr: 1.0\n",
      "FPR-Binary-b_zscore: 0.999779638607316\n",
      "FPR-Floating-f_mean: 0.0035257822829440283\n",
      "FPR-Floating-f_iqr: 0.49129572498898194\n",
      "FPR-Floating-f_zscore: 0.5708461877479065\n"
     ]
    }
   ],
   "source": [
    "score['FPR Score'] = dict()\n",
    "for method in methods:\n",
    "    if method == 'binary':\n",
    "        for i in threshold:\n",
    "            tn, fp, fn, tp = confusion_matrix(df_pred['Label'], df_pred[i]).ravel()\n",
    "            fpr = fp/(fp+tn)\n",
    "            score['FPR Score'][i] = fpr\n",
    "            print(f'FPR-Binary-{i}: {fpr}')\n",
    "    else:\n",
    "        for i in threshold_2:\n",
    "            tn, fp, fn, tp = confusion_matrix(df_pred['Label'], df_pred[i]).ravel()\n",
    "            fpr = fp/(fp+tn)\n",
    "            score['FPR Score'][i] = fpr\n",
    "            print(f'FPR-Floating-{i}: {fpr}')"
   ]
  },
  {
   "cell_type": "code",
   "execution_count": 25,
   "metadata": {},
   "outputs": [
    {
     "name": "stdout",
     "output_type": "stream",
     "text": [
      "Accuracy-Binary-b_mean: 0.12819571174326957\n",
      "Accuracy-Binary-b_iqr: 0.04518489222859403\n",
      "Accuracy-Binary-b_zscore: 0.041201728862397244\n",
      "Accuracy-Floating-f_mean: 0.12774372157405575\n",
      "Accuracy-Floating-f_iqr: 0.07443713099240092\n",
      "Accuracy-Floating-f_zscore: 0.06774202661092121\n"
     ]
    }
   ],
   "source": [
    "from sklearn.metrics import accuracy_score\n",
    "\n",
    "score['Accuracy Score'] = dict()\n",
    "for method in methods:\n",
    "    if method == 'binary':\n",
    "        for i in threshold:\n",
    "            acc = accuracy_score(df_pred['Label'], df_pred[i])\n",
    "            score['Accuracy Score'][i] = acc\n",
    "            print(f'Accuracy-Binary-{i}: {acc}')\n",
    "    else:\n",
    "        for i in threshold_2:\n",
    "            acc = accuracy_score(df_pred['Label'], df_pred[i])\n",
    "            score['Accuracy Score'][i] = acc\n",
    "            print(f'Accuracy-Floating-{i}: {acc}')  "
   ]
  },
  {
   "cell_type": "code",
   "execution_count": 26,
   "metadata": {},
   "outputs": [
    {
     "data": {
      "text/html": [
       "<div>\n",
       "<style scoped>\n",
       "    .dataframe tbody tr th:only-of-type {\n",
       "        vertical-align: middle;\n",
       "    }\n",
       "\n",
       "    .dataframe tbody tr th {\n",
       "        vertical-align: top;\n",
       "    }\n",
       "\n",
       "    .dataframe thead th {\n",
       "        text-align: right;\n",
       "    }\n",
       "</style>\n",
       "<table border=\"1\" class=\"dataframe\">\n",
       "  <thead>\n",
       "    <tr style=\"text-align: right;\">\n",
       "      <th></th>\n",
       "      <th>Detection Rate</th>\n",
       "      <th>F2 Score</th>\n",
       "      <th>FPR Score</th>\n",
       "      <th>Accuracy Score</th>\n",
       "    </tr>\n",
       "  </thead>\n",
       "  <tbody>\n",
       "    <tr>\n",
       "      <th>b_mean</th>\n",
       "      <td>0.000000</td>\n",
       "      <td>0.000000</td>\n",
       "      <td>0.000000</td>\n",
       "      <td>0.128196</td>\n",
       "    </tr>\n",
       "    <tr>\n",
       "      <th>b_iqr</th>\n",
       "      <td>0.051829</td>\n",
       "      <td>0.061718</td>\n",
       "      <td>1.000000</td>\n",
       "      <td>0.045185</td>\n",
       "    </tr>\n",
       "    <tr>\n",
       "      <th>b_zscore</th>\n",
       "      <td>0.047228</td>\n",
       "      <td>0.056301</td>\n",
       "      <td>0.999780</td>\n",
       "      <td>0.041202</td>\n",
       "    </tr>\n",
       "    <tr>\n",
       "      <th>f_mean</th>\n",
       "      <td>0.000000</td>\n",
       "      <td>0.000000</td>\n",
       "      <td>0.003526</td>\n",
       "      <td>0.127744</td>\n",
       "    </tr>\n",
       "    <tr>\n",
       "      <th>f_iqr</th>\n",
       "      <td>0.010580</td>\n",
       "      <td>0.012956</td>\n",
       "      <td>0.491296</td>\n",
       "      <td>0.074437</td>\n",
       "    </tr>\n",
       "    <tr>\n",
       "      <th>f_zscore</th>\n",
       "      <td>0.014598</td>\n",
       "      <td>0.017808</td>\n",
       "      <td>0.570846</td>\n",
       "      <td>0.067742</td>\n",
       "    </tr>\n",
       "  </tbody>\n",
       "</table>\n",
       "</div>"
      ],
      "text/plain": [
       "          Detection Rate  F2 Score  FPR Score  Accuracy Score\n",
       "b_mean          0.000000  0.000000   0.000000        0.128196\n",
       "b_iqr           0.051829  0.061718   1.000000        0.045185\n",
       "b_zscore        0.047228  0.056301   0.999780        0.041202\n",
       "f_mean          0.000000  0.000000   0.003526        0.127744\n",
       "f_iqr           0.010580  0.012956   0.491296        0.074437\n",
       "f_zscore        0.014598  0.017808   0.570846        0.067742"
      ]
     },
     "execution_count": 26,
     "metadata": {},
     "output_type": "execute_result"
    }
   ],
   "source": [
    "df_score = pd.DataFrame.from_dict(score)\n",
    "df_score"
   ]
  },
  {
   "cell_type": "code",
   "execution_count": 27,
   "metadata": {},
   "outputs": [],
   "source": [
    "df_score.to_excel('score_ftp_0.0.xlsx')"
   ]
  },
  {
   "cell_type": "code",
   "execution_count": 28,
   "metadata": {},
   "outputs": [],
   "source": [
    "# %pip install openpyxl"
   ]
  }
 ],
 "metadata": {
  "kernelspec": {
   "display_name": "myenv",
   "language": "python",
   "name": "python3"
  },
  "language_info": {
   "codemirror_mode": {
    "name": "ipython",
    "version": 3
   },
   "file_extension": ".py",
   "mimetype": "text/x-python",
   "name": "python",
   "nbconvert_exporter": "python",
   "pygments_lexer": "ipython3",
   "version": "3.9.5"
  }
 },
 "nbformat": 4,
 "nbformat_minor": 2
}
