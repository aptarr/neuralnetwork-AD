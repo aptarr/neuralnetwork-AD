{
 "cells": [
  {
   "cell_type": "markdown",
   "metadata": {},
   "source": [
    "# Perhitungan Skor RNN-IDS"
   ]
  },
  {
   "cell_type": "markdown",
   "metadata": {},
   "source": [
    "## Import All Necessary Libraries"
   ]
  },
  {
   "cell_type": "code",
   "execution_count": 1,
   "metadata": {},
   "outputs": [],
   "source": [
    "import pandas as pd\n",
    "import numpy as np\n",
    "import sklearn\n",
    "import matplotlib.pyplot as plt\n",
    "import math"
   ]
  },
  {
   "cell_type": "markdown",
   "metadata": {},
   "source": [
    "## Load All the Data"
   ]
  },
  {
   "cell_type": "code",
   "execution_count": 2,
   "metadata": {},
   "outputs": [],
   "source": [
    "df_pred = pd.read_csv('/home/apta/neuralnetwork-AD/rnn-apta/results/vector/Monday-WorkingHours_training_21/result-lstm-tcp21-hl2-seq2-do0.2-oov3000-Tuesday-WorkingHours_testing_21.csv', \n",
    "                      names=['id', 'binary_error', 'b_mean', 'b_iqr', 'b_zscore', 'floatin_error', 'f_mean', 'f_iqr', 'f_zscore'], sep=\",\")\n",
    "\n",
    "df_truth = pd.read_csv('/home/apta/CIC-IDS-2017/CSVs/TrafficLabelling/Tuesday-WorkingHours.pcap_ISCX.csv', \n",
    "                       encoding='ISO-8859-1')\n"
   ]
  },
  {
   "cell_type": "code",
   "execution_count": 3,
   "metadata": {},
   "outputs": [
    {
     "data": {
      "text/html": [
       "<div>\n",
       "<style scoped>\n",
       "    .dataframe tbody tr th:only-of-type {\n",
       "        vertical-align: middle;\n",
       "    }\n",
       "\n",
       "    .dataframe tbody tr th {\n",
       "        vertical-align: top;\n",
       "    }\n",
       "\n",
       "    .dataframe thead th {\n",
       "        text-align: right;\n",
       "    }\n",
       "</style>\n",
       "<table border=\"1\" class=\"dataframe\">\n",
       "  <thead>\n",
       "    <tr style=\"text-align: right;\">\n",
       "      <th></th>\n",
       "      <th>id</th>\n",
       "      <th>binary_error</th>\n",
       "      <th>b_mean</th>\n",
       "      <th>b_iqr</th>\n",
       "      <th>b_zscore</th>\n",
       "      <th>floatin_error</th>\n",
       "      <th>f_mean</th>\n",
       "      <th>f_iqr</th>\n",
       "      <th>f_zscore</th>\n",
       "    </tr>\n",
       "  </thead>\n",
       "  <tbody>\n",
       "    <tr>\n",
       "      <th>0</th>\n",
       "      <td>192.168.10.51-49810-192.168.10.50-21-tcp</td>\n",
       "      <td>0.367816</td>\n",
       "      <td>0</td>\n",
       "      <td>0</td>\n",
       "      <td>0</td>\n",
       "      <td>5898.823529</td>\n",
       "      <td>0</td>\n",
       "      <td>0</td>\n",
       "      <td>0</td>\n",
       "    </tr>\n",
       "    <tr>\n",
       "      <th>1</th>\n",
       "      <td>192.168.10.9-1065-192.168.10.50-21-tcp</td>\n",
       "      <td>0.367816</td>\n",
       "      <td>0</td>\n",
       "      <td>0</td>\n",
       "      <td>0</td>\n",
       "      <td>5359.882353</td>\n",
       "      <td>0</td>\n",
       "      <td>0</td>\n",
       "      <td>0</td>\n",
       "    </tr>\n",
       "    <tr>\n",
       "      <th>2</th>\n",
       "      <td>192.168.10.14-49496-192.168.10.50-21-tcp</td>\n",
       "      <td>0.379310</td>\n",
       "      <td>0</td>\n",
       "      <td>0</td>\n",
       "      <td>0</td>\n",
       "      <td>5254.929412</td>\n",
       "      <td>0</td>\n",
       "      <td>0</td>\n",
       "      <td>0</td>\n",
       "    </tr>\n",
       "    <tr>\n",
       "      <th>3</th>\n",
       "      <td>192.168.10.16-53770-192.168.10.50-21-tcp</td>\n",
       "      <td>0.356322</td>\n",
       "      <td>0</td>\n",
       "      <td>0</td>\n",
       "      <td>0</td>\n",
       "      <td>7527.470588</td>\n",
       "      <td>1</td>\n",
       "      <td>1</td>\n",
       "      <td>0</td>\n",
       "    </tr>\n",
       "    <tr>\n",
       "      <th>4</th>\n",
       "      <td>192.168.10.5-49221-192.168.10.50-21-tcp</td>\n",
       "      <td>0.356322</td>\n",
       "      <td>0</td>\n",
       "      <td>0</td>\n",
       "      <td>0</td>\n",
       "      <td>5245.800000</td>\n",
       "      <td>0</td>\n",
       "      <td>0</td>\n",
       "      <td>0</td>\n",
       "    </tr>\n",
       "  </tbody>\n",
       "</table>\n",
       "</div>"
      ],
      "text/plain": [
       "                                         id  binary_error  b_mean  b_iqr  \\\n",
       "0  192.168.10.51-49810-192.168.10.50-21-tcp      0.367816       0      0   \n",
       "1    192.168.10.9-1065-192.168.10.50-21-tcp      0.367816       0      0   \n",
       "2  192.168.10.14-49496-192.168.10.50-21-tcp      0.379310       0      0   \n",
       "3  192.168.10.16-53770-192.168.10.50-21-tcp      0.356322       0      0   \n",
       "4   192.168.10.5-49221-192.168.10.50-21-tcp      0.356322       0      0   \n",
       "\n",
       "   b_zscore  floatin_error  f_mean  f_iqr  f_zscore  \n",
       "0         0    5898.823529       0      0         0  \n",
       "1         0    5359.882353       0      0         0  \n",
       "2         0    5254.929412       0      0         0  \n",
       "3         0    7527.470588       1      1         0  \n",
       "4         0    5245.800000       0      0         0  "
      ]
     },
     "execution_count": 3,
     "metadata": {},
     "output_type": "execute_result"
    }
   ],
   "source": [
    "df_pred.head()"
   ]
  },
  {
   "cell_type": "code",
   "execution_count": 4,
   "metadata": {},
   "outputs": [
    {
     "data": {
      "text/html": [
       "<div>\n",
       "<style scoped>\n",
       "    .dataframe tbody tr th:only-of-type {\n",
       "        vertical-align: middle;\n",
       "    }\n",
       "\n",
       "    .dataframe tbody tr th {\n",
       "        vertical-align: top;\n",
       "    }\n",
       "\n",
       "    .dataframe thead th {\n",
       "        text-align: right;\n",
       "    }\n",
       "</style>\n",
       "<table border=\"1\" class=\"dataframe\">\n",
       "  <thead>\n",
       "    <tr style=\"text-align: right;\">\n",
       "      <th></th>\n",
       "      <th>Flow ID</th>\n",
       "      <th>Source IP</th>\n",
       "      <th>Source Port</th>\n",
       "      <th>Destination IP</th>\n",
       "      <th>Destination Port</th>\n",
       "      <th>Protocol</th>\n",
       "      <th>Timestamp</th>\n",
       "      <th>Flow Duration</th>\n",
       "      <th>Total Fwd Packets</th>\n",
       "      <th>Total Backward Packets</th>\n",
       "      <th>...</th>\n",
       "      <th>min_seg_size_forward</th>\n",
       "      <th>Active Mean</th>\n",
       "      <th>Active Std</th>\n",
       "      <th>Active Max</th>\n",
       "      <th>Active Min</th>\n",
       "      <th>Idle Mean</th>\n",
       "      <th>Idle Std</th>\n",
       "      <th>Idle Max</th>\n",
       "      <th>Idle Min</th>\n",
       "      <th>Label</th>\n",
       "    </tr>\n",
       "  </thead>\n",
       "  <tbody>\n",
       "    <tr>\n",
       "      <th>0</th>\n",
       "      <td>192.168.10.3-192.168.10.5-88-49182-6</td>\n",
       "      <td>192.168.10.5</td>\n",
       "      <td>49182</td>\n",
       "      <td>192.168.10.3</td>\n",
       "      <td>88</td>\n",
       "      <td>6</td>\n",
       "      <td>4/7/2017 8:54</td>\n",
       "      <td>640</td>\n",
       "      <td>7</td>\n",
       "      <td>4</td>\n",
       "      <td>...</td>\n",
       "      <td>20</td>\n",
       "      <td>0.0</td>\n",
       "      <td>0.0</td>\n",
       "      <td>0.0</td>\n",
       "      <td>0.0</td>\n",
       "      <td>0.0</td>\n",
       "      <td>0.0</td>\n",
       "      <td>0.0</td>\n",
       "      <td>0.0</td>\n",
       "      <td>BENIGN</td>\n",
       "    </tr>\n",
       "    <tr>\n",
       "      <th>1</th>\n",
       "      <td>192.168.10.3-192.168.10.5-88-49183-6</td>\n",
       "      <td>192.168.10.5</td>\n",
       "      <td>49183</td>\n",
       "      <td>192.168.10.3</td>\n",
       "      <td>88</td>\n",
       "      <td>6</td>\n",
       "      <td>4/7/2017 8:54</td>\n",
       "      <td>900</td>\n",
       "      <td>9</td>\n",
       "      <td>4</td>\n",
       "      <td>...</td>\n",
       "      <td>20</td>\n",
       "      <td>0.0</td>\n",
       "      <td>0.0</td>\n",
       "      <td>0.0</td>\n",
       "      <td>0.0</td>\n",
       "      <td>0.0</td>\n",
       "      <td>0.0</td>\n",
       "      <td>0.0</td>\n",
       "      <td>0.0</td>\n",
       "      <td>BENIGN</td>\n",
       "    </tr>\n",
       "    <tr>\n",
       "      <th>2</th>\n",
       "      <td>192.168.10.3-192.168.10.5-88-49184-6</td>\n",
       "      <td>192.168.10.5</td>\n",
       "      <td>49184</td>\n",
       "      <td>192.168.10.3</td>\n",
       "      <td>88</td>\n",
       "      <td>6</td>\n",
       "      <td>4/7/2017 8:54</td>\n",
       "      <td>1205</td>\n",
       "      <td>7</td>\n",
       "      <td>4</td>\n",
       "      <td>...</td>\n",
       "      <td>20</td>\n",
       "      <td>0.0</td>\n",
       "      <td>0.0</td>\n",
       "      <td>0.0</td>\n",
       "      <td>0.0</td>\n",
       "      <td>0.0</td>\n",
       "      <td>0.0</td>\n",
       "      <td>0.0</td>\n",
       "      <td>0.0</td>\n",
       "      <td>BENIGN</td>\n",
       "    </tr>\n",
       "    <tr>\n",
       "      <th>3</th>\n",
       "      <td>192.168.10.3-192.168.10.5-88-49185-6</td>\n",
       "      <td>192.168.10.5</td>\n",
       "      <td>49185</td>\n",
       "      <td>192.168.10.3</td>\n",
       "      <td>88</td>\n",
       "      <td>6</td>\n",
       "      <td>4/7/2017 8:54</td>\n",
       "      <td>511</td>\n",
       "      <td>7</td>\n",
       "      <td>4</td>\n",
       "      <td>...</td>\n",
       "      <td>20</td>\n",
       "      <td>0.0</td>\n",
       "      <td>0.0</td>\n",
       "      <td>0.0</td>\n",
       "      <td>0.0</td>\n",
       "      <td>0.0</td>\n",
       "      <td>0.0</td>\n",
       "      <td>0.0</td>\n",
       "      <td>0.0</td>\n",
       "      <td>BENIGN</td>\n",
       "    </tr>\n",
       "    <tr>\n",
       "      <th>4</th>\n",
       "      <td>192.168.10.3-192.168.10.5-88-49186-6</td>\n",
       "      <td>192.168.10.5</td>\n",
       "      <td>49186</td>\n",
       "      <td>192.168.10.3</td>\n",
       "      <td>88</td>\n",
       "      <td>6</td>\n",
       "      <td>4/7/2017 8:54</td>\n",
       "      <td>773</td>\n",
       "      <td>9</td>\n",
       "      <td>4</td>\n",
       "      <td>...</td>\n",
       "      <td>20</td>\n",
       "      <td>0.0</td>\n",
       "      <td>0.0</td>\n",
       "      <td>0.0</td>\n",
       "      <td>0.0</td>\n",
       "      <td>0.0</td>\n",
       "      <td>0.0</td>\n",
       "      <td>0.0</td>\n",
       "      <td>0.0</td>\n",
       "      <td>BENIGN</td>\n",
       "    </tr>\n",
       "  </tbody>\n",
       "</table>\n",
       "<p>5 rows × 85 columns</p>\n",
       "</div>"
      ],
      "text/plain": [
       "                                Flow ID     Source IP   Source Port  \\\n",
       "0  192.168.10.3-192.168.10.5-88-49182-6  192.168.10.5         49182   \n",
       "1  192.168.10.3-192.168.10.5-88-49183-6  192.168.10.5         49183   \n",
       "2  192.168.10.3-192.168.10.5-88-49184-6  192.168.10.5         49184   \n",
       "3  192.168.10.3-192.168.10.5-88-49185-6  192.168.10.5         49185   \n",
       "4  192.168.10.3-192.168.10.5-88-49186-6  192.168.10.5         49186   \n",
       "\n",
       "   Destination IP   Destination Port   Protocol      Timestamp  \\\n",
       "0    192.168.10.3                 88          6  4/7/2017 8:54   \n",
       "1    192.168.10.3                 88          6  4/7/2017 8:54   \n",
       "2    192.168.10.3                 88          6  4/7/2017 8:54   \n",
       "3    192.168.10.3                 88          6  4/7/2017 8:54   \n",
       "4    192.168.10.3                 88          6  4/7/2017 8:54   \n",
       "\n",
       "    Flow Duration   Total Fwd Packets   Total Backward Packets  ...  \\\n",
       "0             640                   7                        4  ...   \n",
       "1             900                   9                        4  ...   \n",
       "2            1205                   7                        4  ...   \n",
       "3             511                   7                        4  ...   \n",
       "4             773                   9                        4  ...   \n",
       "\n",
       "    min_seg_size_forward  Active Mean   Active Std   Active Max   Active Min  \\\n",
       "0                     20          0.0          0.0          0.0          0.0   \n",
       "1                     20          0.0          0.0          0.0          0.0   \n",
       "2                     20          0.0          0.0          0.0          0.0   \n",
       "3                     20          0.0          0.0          0.0          0.0   \n",
       "4                     20          0.0          0.0          0.0          0.0   \n",
       "\n",
       "   Idle Mean   Idle Std   Idle Max   Idle Min   Label  \n",
       "0        0.0        0.0        0.0        0.0  BENIGN  \n",
       "1        0.0        0.0        0.0        0.0  BENIGN  \n",
       "2        0.0        0.0        0.0        0.0  BENIGN  \n",
       "3        0.0        0.0        0.0        0.0  BENIGN  \n",
       "4        0.0        0.0        0.0        0.0  BENIGN  \n",
       "\n",
       "[5 rows x 85 columns]"
      ]
     },
     "execution_count": 4,
     "metadata": {},
     "output_type": "execute_result"
    }
   ],
   "source": [
    "df_truth.head()"
   ]
  },
  {
   "cell_type": "code",
   "execution_count": 5,
   "metadata": {},
   "outputs": [
    {
     "data": {
      "text/plain": [
       " Label     \n",
       "BENIGN         432074\n",
       "FTP-Patator      7938\n",
       "SSH-Patator      5897\n",
       "Name: count, dtype: int64"
      ]
     },
     "execution_count": 5,
     "metadata": {},
     "output_type": "execute_result"
    }
   ],
   "source": [
    "df_truth[[' Label']].value_counts()"
   ]
  },
  {
   "cell_type": "code",
   "execution_count": 6,
   "metadata": {},
   "outputs": [
    {
     "data": {
      "text/plain": [
       "b_iqr\n",
       "1        3567\n",
       "0         906\n",
       "Name: count, dtype: int64"
      ]
     },
     "execution_count": 6,
     "metadata": {},
     "output_type": "execute_result"
    }
   ],
   "source": [
    "df_pred[['b_iqr']].value_counts()"
   ]
  },
  {
   "cell_type": "markdown",
   "metadata": {},
   "source": [
    "## Exploratory Data Analysis"
   ]
  },
  {
   "cell_type": "code",
   "execution_count": 7,
   "metadata": {},
   "outputs": [
    {
     "data": {
      "text/plain": [
       "b_iqr\n",
       "1        3567\n",
       "0         906\n",
       "Name: count, dtype: int64"
      ]
     },
     "execution_count": 7,
     "metadata": {},
     "output_type": "execute_result"
    }
   ],
   "source": [
    "df_pred[['b_iqr']].value_counts()"
   ]
  },
  {
   "cell_type": "code",
   "execution_count": 8,
   "metadata": {},
   "outputs": [
    {
     "data": {
      "text/plain": [
       "b_zscore\n",
       "1           3448\n",
       "0           1025\n",
       "Name: count, dtype: int64"
      ]
     },
     "execution_count": 8,
     "metadata": {},
     "output_type": "execute_result"
    }
   ],
   "source": [
    "df_pred[['b_zscore']].value_counts()"
   ]
  },
  {
   "cell_type": "code",
   "execution_count": 9,
   "metadata": {},
   "outputs": [
    {
     "data": {
      "text/plain": [
       "Flow ID              0\n",
       " Source IP           0\n",
       " Source Port         0\n",
       " Destination IP      0\n",
       " Destination Port    0\n",
       "                    ..\n",
       "Idle Mean            0\n",
       " Idle Std            0\n",
       " Idle Max            0\n",
       " Idle Min            0\n",
       " Label               0\n",
       "Length: 85, dtype: int64"
      ]
     },
     "execution_count": 9,
     "metadata": {},
     "output_type": "execute_result"
    }
   ],
   "source": [
    "df_truth.isnull().sum()"
   ]
  },
  {
   "cell_type": "markdown",
   "metadata": {},
   "source": [
    "## Data Pre-Processing"
   ]
  },
  {
   "cell_type": "markdown",
   "metadata": {},
   "source": [
    "### Convert the type of the data"
   ]
  },
  {
   "cell_type": "code",
   "execution_count": 10,
   "metadata": {},
   "outputs": [
    {
     "name": "stdout",
     "output_type": "stream",
     "text": [
      "<class 'pandas.core.frame.DataFrame'>\n",
      "RangeIndex: 445909 entries, 0 to 445908\n",
      "Data columns (total 85 columns):\n",
      " #   Column                       Non-Null Count   Dtype  \n",
      "---  ------                       --------------   -----  \n",
      " 0   Flow_ID                      445909 non-null  object \n",
      " 1   Source_IP                    445909 non-null  object \n",
      " 2   Source_Port                  445909 non-null  int64  \n",
      " 3   Destination_IP               445909 non-null  object \n",
      " 4   Destination_Port             445909 non-null  int64  \n",
      " 5   Protocol                     445909 non-null  int64  \n",
      " 6   Timestamp                    445909 non-null  object \n",
      " 7   Flow_Duration                445909 non-null  int64  \n",
      " 8   Total_Fwd_Packets            445909 non-null  int64  \n",
      " 9   Total_Backward_Packets       445909 non-null  int64  \n",
      " 10  Total_Length_of_Fwd_Packets  445909 non-null  int64  \n",
      " 11  Total_Length_of_Bwd_Packets  445909 non-null  float64\n",
      " 12  Fwd_Packet_Length_Max        445909 non-null  int64  \n",
      " 13  Fwd_Packet_Length_Min        445909 non-null  int64  \n",
      " 14  Fwd_Packet_Length_Mean       445909 non-null  float64\n",
      " 15  Fwd_Packet_Length_Std        445909 non-null  float64\n",
      " 16  Bwd_Packet_Length_Max        445909 non-null  int64  \n",
      " 17  Bwd_Packet_Length_Min        445909 non-null  int64  \n",
      " 18  Bwd_Packet_Length_Mean       445909 non-null  float64\n",
      " 19  Bwd_Packet_Length_Std        445909 non-null  float64\n",
      " 20  Flow_Bytes/s                 445708 non-null  float64\n",
      " 21  Flow_Packets/s               445909 non-null  float64\n",
      " 22  Flow_IAT_Mean                445909 non-null  float64\n",
      " 23  Flow_IAT_Std                 445909 non-null  float64\n",
      " 24  Flow_IAT_Max                 445909 non-null  float64\n",
      " 25  Flow_IAT_Min                 445909 non-null  float64\n",
      " 26  Fwd_IAT_Total                445909 non-null  float64\n",
      " 27  Fwd_IAT_Mean                 445909 non-null  float64\n",
      " 28  Fwd_IAT_Std                  445909 non-null  float64\n",
      " 29  Fwd_IAT_Max                  445909 non-null  float64\n",
      " 30  Fwd_IAT_Min                  445909 non-null  float64\n",
      " 31  Bwd_IAT_Total                445909 non-null  float64\n",
      " 32  Bwd_IAT_Mean                 445909 non-null  float64\n",
      " 33  Bwd_IAT_Std                  445909 non-null  float64\n",
      " 34  Bwd_IAT_Max                  445909 non-null  float64\n",
      " 35  Bwd_IAT_Min                  445909 non-null  float64\n",
      " 36  Fwd_PSH_Flags                445909 non-null  int64  \n",
      " 37  Bwd_PSH_Flags                445909 non-null  int64  \n",
      " 38  Fwd_URG_Flags                445909 non-null  int64  \n",
      " 39  Bwd_URG_Flags                445909 non-null  int64  \n",
      " 40  Fwd_Header_Length            445909 non-null  int64  \n",
      " 41  Bwd_Header_Length            445909 non-null  int64  \n",
      " 42  Fwd_Packets/s                445909 non-null  float64\n",
      " 43  Bwd_Packets/s                445909 non-null  float64\n",
      " 44  Min_Packet_Length            445909 non-null  int64  \n",
      " 45  Max_Packet_Length            445909 non-null  int64  \n",
      " 46  Packet_Length_Mean           445909 non-null  float64\n",
      " 47  Packet_Length_Std            445909 non-null  float64\n",
      " 48  Packet_Length_Variance       445909 non-null  float64\n",
      " 49  FIN_Flag_Count               445909 non-null  int64  \n",
      " 50  SYN_Flag_Count               445909 non-null  int64  \n",
      " 51  RST_Flag_Count               445909 non-null  int64  \n",
      " 52  PSH_Flag_Count               445909 non-null  int64  \n",
      " 53  ACK_Flag_Count               445909 non-null  int64  \n",
      " 54  URG_Flag_Count               445909 non-null  int64  \n",
      " 55  CWE_Flag_Count               445909 non-null  int64  \n",
      " 56  ECE_Flag_Count               445909 non-null  int64  \n",
      " 57  Down/Up_Ratio                445909 non-null  int64  \n",
      " 58  Average_Packet_Size          445909 non-null  float64\n",
      " 59  Avg_Fwd_Segment_Size         445909 non-null  float64\n",
      " 60  Avg_Bwd_Segment_Size         445909 non-null  float64\n",
      " 61  Fwd_Header_Length.1          445909 non-null  int64  \n",
      " 62  Fwd_Avg_Bytes/Bulk           445909 non-null  int64  \n",
      " 63  Fwd_Avg_Packets/Bulk         445909 non-null  int64  \n",
      " 64  Fwd_Avg_Bulk_Rate            445909 non-null  int64  \n",
      " 65  Bwd_Avg_Bytes/Bulk           445909 non-null  int64  \n",
      " 66  Bwd_Avg_Packets/Bulk         445909 non-null  int64  \n",
      " 67  Bwd_Avg_Bulk_Rate            445909 non-null  int64  \n",
      " 68  Subflow_Fwd_Packets          445909 non-null  int64  \n",
      " 69  Subflow_Fwd_Bytes            445909 non-null  int64  \n",
      " 70  Subflow_Bwd_Packets          445909 non-null  int64  \n",
      " 71  Subflow_Bwd_Bytes            445909 non-null  int64  \n",
      " 72  Init_Win_bytes_forward       445909 non-null  int64  \n",
      " 73  Init_Win_bytes_backward      445909 non-null  int64  \n",
      " 74  act_data_pkt_fwd             445909 non-null  int64  \n",
      " 75  min_seg_size_forward         445909 non-null  int64  \n",
      " 76  Active_Mean                  445909 non-null  float64\n",
      " 77  Active_Std                   445909 non-null  float64\n",
      " 78  Active_Max                   445909 non-null  float64\n",
      " 79  Active_Min                   445909 non-null  float64\n",
      " 80  Idle_Mean                    445909 non-null  float64\n",
      " 81  Idle_Std                     445909 non-null  float64\n",
      " 82  Idle_Max                     445909 non-null  float64\n",
      " 83  Idle_Min                     445909 non-null  float64\n",
      " 84  Label                        445909 non-null  object \n",
      "dtypes: float64(37), int64(43), object(5)\n",
      "memory usage: 289.2+ MB\n"
     ]
    }
   ],
   "source": [
    "df_truth.columns = df_truth.columns.str.strip()  # remove leading/trailing spaces\n",
    "df_truth.columns = df_truth.columns.str.replace(' ', '_')  # optional: make them easier to type\n",
    "\n",
    "df_truth['Source_Port'] = pd.to_numeric(df_truth['Source_Port'], errors='coerce')\n",
    "df_truth['Destination_Port'] = pd.to_numeric(df_truth['Destination_Port'], errors='coerce')\n",
    "\n",
    "# Optionally: drop rows with NaN in these columns\n",
    "df_truth.dropna(subset=['Source_Port', 'Destination_Port'], inplace=True)\n",
    "\n",
    "# Now you can safely convert to int\n",
    "df_truth['Source_Port'] = df_truth['Source_Port'].astype(int)\n",
    "df_truth['Destination_Port'] = df_truth['Destination_Port'].astype(int)\n",
    "\n",
    "\n",
    "df_truth.info()"
   ]
  },
  {
   "cell_type": "code",
   "execution_count": 11,
   "metadata": {},
   "outputs": [
    {
     "data": {
      "text/plain": [
       "0    BENIGN\n",
       "1    BENIGN\n",
       "2    BENIGN\n",
       "3    BENIGN\n",
       "4    BENIGN\n",
       "Name: Label, dtype: object"
      ]
     },
     "execution_count": 11,
     "metadata": {},
     "output_type": "execute_result"
    }
   ],
   "source": [
    "df_truth['Label'].head()"
   ]
  },
  {
   "cell_type": "code",
   "execution_count": 12,
   "metadata": {},
   "outputs": [
    {
     "name": "stderr",
     "output_type": "stream",
     "text": [
      "/tmp/ipykernel_213120/812907933.py:21: FutureWarning: Series.__getitem__ treating keys as positions is deprecated. In a future version, integer keys will always be treated as labels (consistent with DataFrame behavior). To access a value by position, use `ser.iloc[pos]`\n",
      "  .astype(str).apply(lambda row: \"-\".join([row[0], row[1], row[2], row[3], map_protocol(row[4])]), axis=1)\n"
     ]
    }
   ],
   "source": [
    "df_truth['Source_Port'] = df_truth['Source_Port'].astype(str)\n",
    "df_truth['Destination_Port'] = df_truth['Destination_Port'].astype(str)\n",
    "\n",
    "df_truth['Protocol'] = pd.to_numeric(df_truth['Protocol'], errors='coerce')\n",
    "df_truth.dropna(subset=['Protocol'], inplace=True)  # Drop rows with missing protocol\n",
    "df_truth['Protocol'] = df_truth['Protocol'].astype(int).astype(str)  # Convert to string form\n",
    "\n",
    "protocol_map = {\n",
    "    '6': 'tcp',\n",
    "    '17': 'udp',\n",
    "    '1': 'icmp',\n",
    "    '0': 'other'  # fallback or unknown\n",
    "}\n",
    "\n",
    "# Convert 'Protocol' number to string using the mapping\n",
    "def map_protocol(protocol):\n",
    "    return protocol_map.get(protocol, 'other')\n",
    "\n",
    "# Apply the conversion for 'Protocol' and concatenate the 'id'\n",
    "df_truth['id'] = df_truth[['Source_IP', 'Source_Port', 'Destination_IP', 'Destination_Port', 'Protocol']]\\\n",
    "    .astype(str).apply(lambda row: \"-\".join([row[0], row[1], row[2], row[3], map_protocol(row[4])]), axis=1)"
   ]
  },
  {
   "cell_type": "markdown",
   "metadata": {},
   "source": [
    "## Making Predictions"
   ]
  },
  {
   "cell_type": "code",
   "execution_count": 13,
   "metadata": {},
   "outputs": [
    {
     "data": {
      "text/plain": [
       "0       192.168.10.51-49810-192.168.10.50-21-tcp\n",
       "1         192.168.10.9-1065-192.168.10.50-21-tcp\n",
       "2       192.168.10.14-49496-192.168.10.50-21-tcp\n",
       "3       192.168.10.16-53770-192.168.10.50-21-tcp\n",
       "4        192.168.10.5-49221-192.168.10.50-21-tcp\n",
       "                          ...                   \n",
       "4468     192.168.10.8-57484-192.168.10.50-21-tcp\n",
       "4469    192.168.10.51-57748-192.168.10.50-21-tcp\n",
       "4470    192.168.10.17-52758-192.168.10.50-21-tcp\n",
       "4471    192.168.10.25-64450-192.168.10.50-21-tcp\n",
       "4472    192.168.10.15-59671-192.168.10.50-21-tcp\n",
       "Name: id, Length: 4473, dtype: object"
      ]
     },
     "execution_count": 13,
     "metadata": {},
     "output_type": "execute_result"
    }
   ],
   "source": [
    "df_pred[\"id\"]"
   ]
  },
  {
   "cell_type": "code",
   "execution_count": 14,
   "metadata": {},
   "outputs": [
    {
     "data": {
      "text/plain": [
       "0           192.168.10.5-49182-192.168.10.3-88-tcp\n",
       "1           192.168.10.5-49183-192.168.10.3-88-tcp\n",
       "2           192.168.10.5-49184-192.168.10.3-88-tcp\n",
       "3           192.168.10.5-49185-192.168.10.3-88-tcp\n",
       "4           192.168.10.5-49186-192.168.10.3-88-tcp\n",
       "                            ...                   \n",
       "445904     192.168.10.14-51694-192.168.10.3-53-udp\n",
       "445905     192.0.77.32-443-192.168.10.15-59317-tcp\n",
       "445906     192.168.10.50-62256-192.168.10.3-53-udp\n",
       "445907    52.84.145.70-443-192.168.10.25-54726-tcp\n",
       "445908      192.168.10.9-51801-192.168.10.3-53-udp\n",
       "Name: id, Length: 445909, dtype: object"
      ]
     },
     "execution_count": 14,
     "metadata": {},
     "output_type": "execute_result"
    }
   ],
   "source": [
    "df_truth[\"id\"]\n",
    "\n",
    "# df_truth[df_truth[\"id\"] == \"192.168.10.50-21-172.16.0.1-52120-tcp\"]"
   ]
  },
  {
   "cell_type": "code",
   "execution_count": 15,
   "metadata": {},
   "outputs": [],
   "source": [
    "# Convert 'Label' column to numeric: BENIGN -> 0, other -> 1\n",
    "df_truth['Label'] = df_truth['Label'].apply(lambda x: 0 if x == 'BENIGN' else 1)"
   ]
  },
  {
   "cell_type": "code",
   "execution_count": 16,
   "metadata": {},
   "outputs": [],
   "source": [
    "# df_pred[\"Label\"] = np.where(df_pred[\"id\"].isin(df_truth[\"id\"]), 1, 0)\n",
    "\n",
    "df_pred = df_pred.merge(df_truth[['id', 'Label']], on='id', how='left')\n",
    "df_pred = df_pred.dropna(subset=['Label'])"
   ]
  },
  {
   "cell_type": "code",
   "execution_count": 17,
   "metadata": {},
   "outputs": [
    {
     "name": "stdout",
     "output_type": "stream",
     "text": [
      "[0 1]\n"
     ]
    }
   ],
   "source": [
    "print(df_pred['Label'].unique())"
   ]
  },
  {
   "cell_type": "code",
   "execution_count": 18,
   "metadata": {},
   "outputs": [
    {
     "data": {
      "text/html": [
       "<div>\n",
       "<style scoped>\n",
       "    .dataframe tbody tr th:only-of-type {\n",
       "        vertical-align: middle;\n",
       "    }\n",
       "\n",
       "    .dataframe tbody tr th {\n",
       "        vertical-align: top;\n",
       "    }\n",
       "\n",
       "    .dataframe thead th {\n",
       "        text-align: right;\n",
       "    }\n",
       "</style>\n",
       "<table border=\"1\" class=\"dataframe\">\n",
       "  <thead>\n",
       "    <tr style=\"text-align: right;\">\n",
       "      <th></th>\n",
       "      <th>id</th>\n",
       "      <th>binary_error</th>\n",
       "      <th>b_mean</th>\n",
       "      <th>b_iqr</th>\n",
       "      <th>b_zscore</th>\n",
       "      <th>floatin_error</th>\n",
       "      <th>f_mean</th>\n",
       "      <th>f_iqr</th>\n",
       "      <th>f_zscore</th>\n",
       "      <th>Label</th>\n",
       "    </tr>\n",
       "  </thead>\n",
       "  <tbody>\n",
       "    <tr>\n",
       "      <th>35</th>\n",
       "      <td>172.16.0.1-52108-192.168.10.50-21-tcp</td>\n",
       "      <td>0.200000</td>\n",
       "      <td>0</td>\n",
       "      <td>1</td>\n",
       "      <td>1</td>\n",
       "      <td>76.964286</td>\n",
       "      <td>0</td>\n",
       "      <td>1</td>\n",
       "      <td>1</td>\n",
       "      <td>1</td>\n",
       "    </tr>\n",
       "    <tr>\n",
       "      <th>36</th>\n",
       "      <td>172.16.0.1-52108-192.168.10.50-21-tcp</td>\n",
       "      <td>0.200000</td>\n",
       "      <td>0</td>\n",
       "      <td>1</td>\n",
       "      <td>1</td>\n",
       "      <td>76.964286</td>\n",
       "      <td>0</td>\n",
       "      <td>1</td>\n",
       "      <td>1</td>\n",
       "      <td>1</td>\n",
       "    </tr>\n",
       "    <tr>\n",
       "      <th>37</th>\n",
       "      <td>172.16.0.1-52108-192.168.10.50-21-tcp</td>\n",
       "      <td>0.200000</td>\n",
       "      <td>0</td>\n",
       "      <td>1</td>\n",
       "      <td>1</td>\n",
       "      <td>76.964286</td>\n",
       "      <td>0</td>\n",
       "      <td>1</td>\n",
       "      <td>1</td>\n",
       "      <td>1</td>\n",
       "    </tr>\n",
       "    <tr>\n",
       "      <th>38</th>\n",
       "      <td>172.16.0.1-52124-192.168.10.50-21-tcp</td>\n",
       "      <td>0.454545</td>\n",
       "      <td>1</td>\n",
       "      <td>1</td>\n",
       "      <td>1</td>\n",
       "      <td>14925.806452</td>\n",
       "      <td>1</td>\n",
       "      <td>1</td>\n",
       "      <td>1</td>\n",
       "      <td>1</td>\n",
       "    </tr>\n",
       "    <tr>\n",
       "      <th>39</th>\n",
       "      <td>172.16.0.1-52124-192.168.10.50-21-tcp</td>\n",
       "      <td>0.454545</td>\n",
       "      <td>1</td>\n",
       "      <td>1</td>\n",
       "      <td>1</td>\n",
       "      <td>14925.806452</td>\n",
       "      <td>1</td>\n",
       "      <td>1</td>\n",
       "      <td>1</td>\n",
       "      <td>1</td>\n",
       "    </tr>\n",
       "    <tr>\n",
       "      <th>...</th>\n",
       "      <td>...</td>\n",
       "      <td>...</td>\n",
       "      <td>...</td>\n",
       "      <td>...</td>\n",
       "      <td>...</td>\n",
       "      <td>...</td>\n",
       "      <td>...</td>\n",
       "      <td>...</td>\n",
       "      <td>...</td>\n",
       "      <td>...</td>\n",
       "    </tr>\n",
       "    <tr>\n",
       "      <th>8035</th>\n",
       "      <td>172.16.0.1-60142-192.168.10.50-21-tcp</td>\n",
       "      <td>0.500000</td>\n",
       "      <td>1</td>\n",
       "      <td>1</td>\n",
       "      <td>1</td>\n",
       "      <td>6458.735294</td>\n",
       "      <td>0</td>\n",
       "      <td>0</td>\n",
       "      <td>0</td>\n",
       "      <td>1</td>\n",
       "    </tr>\n",
       "    <tr>\n",
       "      <th>8036</th>\n",
       "      <td>172.16.0.1-60140-192.168.10.50-21-tcp</td>\n",
       "      <td>0.513514</td>\n",
       "      <td>1</td>\n",
       "      <td>1</td>\n",
       "      <td>1</td>\n",
       "      <td>14323.771429</td>\n",
       "      <td>1</td>\n",
       "      <td>1</td>\n",
       "      <td>1</td>\n",
       "      <td>1</td>\n",
       "    </tr>\n",
       "    <tr>\n",
       "      <th>8037</th>\n",
       "      <td>172.16.0.1-60144-192.168.10.50-21-tcp</td>\n",
       "      <td>0.485714</td>\n",
       "      <td>1</td>\n",
       "      <td>1</td>\n",
       "      <td>1</td>\n",
       "      <td>10829.151515</td>\n",
       "      <td>1</td>\n",
       "      <td>1</td>\n",
       "      <td>1</td>\n",
       "      <td>1</td>\n",
       "    </tr>\n",
       "    <tr>\n",
       "      <th>8038</th>\n",
       "      <td>172.16.0.1-60126-192.168.10.50-21-tcp</td>\n",
       "      <td>0.537037</td>\n",
       "      <td>1</td>\n",
       "      <td>1</td>\n",
       "      <td>1</td>\n",
       "      <td>13600.745283</td>\n",
       "      <td>1</td>\n",
       "      <td>1</td>\n",
       "      <td>1</td>\n",
       "      <td>1</td>\n",
       "    </tr>\n",
       "    <tr>\n",
       "      <th>8039</th>\n",
       "      <td>172.16.0.1-60126-192.168.10.50-21-tcp</td>\n",
       "      <td>0.537037</td>\n",
       "      <td>1</td>\n",
       "      <td>1</td>\n",
       "      <td>1</td>\n",
       "      <td>13600.745283</td>\n",
       "      <td>1</td>\n",
       "      <td>1</td>\n",
       "      <td>1</td>\n",
       "      <td>1</td>\n",
       "    </tr>\n",
       "  </tbody>\n",
       "</table>\n",
       "<p>7920 rows × 10 columns</p>\n",
       "</div>"
      ],
      "text/plain": [
       "                                         id  binary_error  b_mean  b_iqr  \\\n",
       "35    172.16.0.1-52108-192.168.10.50-21-tcp      0.200000       0      1   \n",
       "36    172.16.0.1-52108-192.168.10.50-21-tcp      0.200000       0      1   \n",
       "37    172.16.0.1-52108-192.168.10.50-21-tcp      0.200000       0      1   \n",
       "38    172.16.0.1-52124-192.168.10.50-21-tcp      0.454545       1      1   \n",
       "39    172.16.0.1-52124-192.168.10.50-21-tcp      0.454545       1      1   \n",
       "...                                     ...           ...     ...    ...   \n",
       "8035  172.16.0.1-60142-192.168.10.50-21-tcp      0.500000       1      1   \n",
       "8036  172.16.0.1-60140-192.168.10.50-21-tcp      0.513514       1      1   \n",
       "8037  172.16.0.1-60144-192.168.10.50-21-tcp      0.485714       1      1   \n",
       "8038  172.16.0.1-60126-192.168.10.50-21-tcp      0.537037       1      1   \n",
       "8039  172.16.0.1-60126-192.168.10.50-21-tcp      0.537037       1      1   \n",
       "\n",
       "      b_zscore  floatin_error  f_mean  f_iqr  f_zscore  Label  \n",
       "35           1      76.964286       0      1         1      1  \n",
       "36           1      76.964286       0      1         1      1  \n",
       "37           1      76.964286       0      1         1      1  \n",
       "38           1   14925.806452       1      1         1      1  \n",
       "39           1   14925.806452       1      1         1      1  \n",
       "...        ...            ...     ...    ...       ...    ...  \n",
       "8035         1    6458.735294       0      0         0      1  \n",
       "8036         1   14323.771429       1      1         1      1  \n",
       "8037         1   10829.151515       1      1         1      1  \n",
       "8038         1   13600.745283       1      1         1      1  \n",
       "8039         1   13600.745283       1      1         1      1  \n",
       "\n",
       "[7920 rows x 10 columns]"
      ]
     },
     "execution_count": 18,
     "metadata": {},
     "output_type": "execute_result"
    }
   ],
   "source": [
    "# df_pred[df_pred['Label'] == 1].to_csv('filtered_prediction-1-21.csv', index=False)\n",
    "\n",
    "df_pred[df_pred['Label']==1]"
   ]
  },
  {
   "cell_type": "code",
   "execution_count": 19,
   "metadata": {},
   "outputs": [
    {
     "data": {
      "text/html": [
       "<div>\n",
       "<style scoped>\n",
       "    .dataframe tbody tr th:only-of-type {\n",
       "        vertical-align: middle;\n",
       "    }\n",
       "\n",
       "    .dataframe tbody tr th {\n",
       "        vertical-align: top;\n",
       "    }\n",
       "\n",
       "    .dataframe thead th {\n",
       "        text-align: right;\n",
       "    }\n",
       "</style>\n",
       "<table border=\"1\" class=\"dataframe\">\n",
       "  <thead>\n",
       "    <tr style=\"text-align: right;\">\n",
       "      <th></th>\n",
       "      <th>id</th>\n",
       "      <th>binary_error</th>\n",
       "      <th>b_mean</th>\n",
       "      <th>b_iqr</th>\n",
       "      <th>b_zscore</th>\n",
       "      <th>floatin_error</th>\n",
       "      <th>f_mean</th>\n",
       "      <th>f_iqr</th>\n",
       "      <th>f_zscore</th>\n",
       "      <th>Label</th>\n",
       "    </tr>\n",
       "  </thead>\n",
       "  <tbody>\n",
       "    <tr>\n",
       "      <th>0</th>\n",
       "      <td>192.168.10.51-49810-192.168.10.50-21-tcp</td>\n",
       "      <td>0.367816</td>\n",
       "      <td>0</td>\n",
       "      <td>0</td>\n",
       "      <td>0</td>\n",
       "      <td>5898.823529</td>\n",
       "      <td>0</td>\n",
       "      <td>0</td>\n",
       "      <td>0</td>\n",
       "      <td>0</td>\n",
       "    </tr>\n",
       "    <tr>\n",
       "      <th>1</th>\n",
       "      <td>192.168.10.51-49810-192.168.10.50-21-tcp</td>\n",
       "      <td>0.367816</td>\n",
       "      <td>0</td>\n",
       "      <td>0</td>\n",
       "      <td>0</td>\n",
       "      <td>5898.823529</td>\n",
       "      <td>0</td>\n",
       "      <td>0</td>\n",
       "      <td>0</td>\n",
       "      <td>0</td>\n",
       "    </tr>\n",
       "    <tr>\n",
       "      <th>2</th>\n",
       "      <td>192.168.10.9-1065-192.168.10.50-21-tcp</td>\n",
       "      <td>0.367816</td>\n",
       "      <td>0</td>\n",
       "      <td>0</td>\n",
       "      <td>0</td>\n",
       "      <td>5359.882353</td>\n",
       "      <td>0</td>\n",
       "      <td>0</td>\n",
       "      <td>0</td>\n",
       "      <td>0</td>\n",
       "    </tr>\n",
       "    <tr>\n",
       "      <th>3</th>\n",
       "      <td>192.168.10.9-1065-192.168.10.50-21-tcp</td>\n",
       "      <td>0.367816</td>\n",
       "      <td>0</td>\n",
       "      <td>0</td>\n",
       "      <td>0</td>\n",
       "      <td>5359.882353</td>\n",
       "      <td>0</td>\n",
       "      <td>0</td>\n",
       "      <td>0</td>\n",
       "      <td>0</td>\n",
       "    </tr>\n",
       "    <tr>\n",
       "      <th>4</th>\n",
       "      <td>192.168.10.14-49496-192.168.10.50-21-tcp</td>\n",
       "      <td>0.379310</td>\n",
       "      <td>0</td>\n",
       "      <td>0</td>\n",
       "      <td>0</td>\n",
       "      <td>5254.929412</td>\n",
       "      <td>0</td>\n",
       "      <td>0</td>\n",
       "      <td>0</td>\n",
       "      <td>0</td>\n",
       "    </tr>\n",
       "    <tr>\n",
       "      <th>...</th>\n",
       "      <td>...</td>\n",
       "      <td>...</td>\n",
       "      <td>...</td>\n",
       "      <td>...</td>\n",
       "      <td>...</td>\n",
       "      <td>...</td>\n",
       "      <td>...</td>\n",
       "      <td>...</td>\n",
       "      <td>...</td>\n",
       "      <td>...</td>\n",
       "    </tr>\n",
       "    <tr>\n",
       "      <th>8974</th>\n",
       "      <td>192.168.10.25-64450-192.168.10.50-21-tcp</td>\n",
       "      <td>0.333333</td>\n",
       "      <td>0</td>\n",
       "      <td>0</td>\n",
       "      <td>0</td>\n",
       "      <td>3448.341176</td>\n",
       "      <td>0</td>\n",
       "      <td>0</td>\n",
       "      <td>0</td>\n",
       "      <td>0</td>\n",
       "    </tr>\n",
       "    <tr>\n",
       "      <th>8975</th>\n",
       "      <td>192.168.10.25-64450-192.168.10.50-21-tcp</td>\n",
       "      <td>0.333333</td>\n",
       "      <td>0</td>\n",
       "      <td>0</td>\n",
       "      <td>0</td>\n",
       "      <td>3448.341176</td>\n",
       "      <td>0</td>\n",
       "      <td>0</td>\n",
       "      <td>0</td>\n",
       "      <td>0</td>\n",
       "    </tr>\n",
       "    <tr>\n",
       "      <th>8976</th>\n",
       "      <td>192.168.10.15-59671-192.168.10.50-21-tcp</td>\n",
       "      <td>0.356322</td>\n",
       "      <td>0</td>\n",
       "      <td>0</td>\n",
       "      <td>0</td>\n",
       "      <td>4387.094118</td>\n",
       "      <td>0</td>\n",
       "      <td>0</td>\n",
       "      <td>0</td>\n",
       "      <td>0</td>\n",
       "    </tr>\n",
       "    <tr>\n",
       "      <th>8977</th>\n",
       "      <td>192.168.10.15-59671-192.168.10.50-21-tcp</td>\n",
       "      <td>0.356322</td>\n",
       "      <td>0</td>\n",
       "      <td>0</td>\n",
       "      <td>0</td>\n",
       "      <td>4387.094118</td>\n",
       "      <td>0</td>\n",
       "      <td>0</td>\n",
       "      <td>0</td>\n",
       "      <td>0</td>\n",
       "    </tr>\n",
       "    <tr>\n",
       "      <th>8978</th>\n",
       "      <td>192.168.10.15-59671-192.168.10.50-21-tcp</td>\n",
       "      <td>0.356322</td>\n",
       "      <td>0</td>\n",
       "      <td>0</td>\n",
       "      <td>0</td>\n",
       "      <td>4387.094118</td>\n",
       "      <td>0</td>\n",
       "      <td>0</td>\n",
       "      <td>0</td>\n",
       "      <td>0</td>\n",
       "    </tr>\n",
       "  </tbody>\n",
       "</table>\n",
       "<p>1059 rows × 10 columns</p>\n",
       "</div>"
      ],
      "text/plain": [
       "                                            id  binary_error  b_mean  b_iqr  \\\n",
       "0     192.168.10.51-49810-192.168.10.50-21-tcp      0.367816       0      0   \n",
       "1     192.168.10.51-49810-192.168.10.50-21-tcp      0.367816       0      0   \n",
       "2       192.168.10.9-1065-192.168.10.50-21-tcp      0.367816       0      0   \n",
       "3       192.168.10.9-1065-192.168.10.50-21-tcp      0.367816       0      0   \n",
       "4     192.168.10.14-49496-192.168.10.50-21-tcp      0.379310       0      0   \n",
       "...                                        ...           ...     ...    ...   \n",
       "8974  192.168.10.25-64450-192.168.10.50-21-tcp      0.333333       0      0   \n",
       "8975  192.168.10.25-64450-192.168.10.50-21-tcp      0.333333       0      0   \n",
       "8976  192.168.10.15-59671-192.168.10.50-21-tcp      0.356322       0      0   \n",
       "8977  192.168.10.15-59671-192.168.10.50-21-tcp      0.356322       0      0   \n",
       "8978  192.168.10.15-59671-192.168.10.50-21-tcp      0.356322       0      0   \n",
       "\n",
       "      b_zscore  floatin_error  f_mean  f_iqr  f_zscore  Label  \n",
       "0            0    5898.823529       0      0         0      0  \n",
       "1            0    5898.823529       0      0         0      0  \n",
       "2            0    5359.882353       0      0         0      0  \n",
       "3            0    5359.882353       0      0         0      0  \n",
       "4            0    5254.929412       0      0         0      0  \n",
       "...        ...            ...     ...    ...       ...    ...  \n",
       "8974         0    3448.341176       0      0         0      0  \n",
       "8975         0    3448.341176       0      0         0      0  \n",
       "8976         0    4387.094118       0      0         0      0  \n",
       "8977         0    4387.094118       0      0         0      0  \n",
       "8978         0    4387.094118       0      0         0      0  \n",
       "\n",
       "[1059 rows x 10 columns]"
      ]
     },
     "execution_count": 19,
     "metadata": {},
     "output_type": "execute_result"
    }
   ],
   "source": [
    "# df_pred[df_pred['Label'] == 0].to_csv('filtered_predictions-0-21.csv', index=False)\n",
    "\n",
    "df_pred[df_pred['Label']==0]"
   ]
  },
  {
   "cell_type": "code",
   "execution_count": 20,
   "metadata": {},
   "outputs": [
    {
     "data": {
      "text/html": [
       "<div>\n",
       "<style scoped>\n",
       "    .dataframe tbody tr th:only-of-type {\n",
       "        vertical-align: middle;\n",
       "    }\n",
       "\n",
       "    .dataframe tbody tr th {\n",
       "        vertical-align: top;\n",
       "    }\n",
       "\n",
       "    .dataframe thead th {\n",
       "        text-align: right;\n",
       "    }\n",
       "</style>\n",
       "<table border=\"1\" class=\"dataframe\">\n",
       "  <thead>\n",
       "    <tr style=\"text-align: right;\">\n",
       "      <th></th>\n",
       "      <th>id</th>\n",
       "      <th>binary_error</th>\n",
       "      <th>b_mean</th>\n",
       "      <th>b_iqr</th>\n",
       "      <th>b_zscore</th>\n",
       "      <th>floatin_error</th>\n",
       "      <th>f_mean</th>\n",
       "      <th>f_iqr</th>\n",
       "      <th>f_zscore</th>\n",
       "      <th>Label</th>\n",
       "    </tr>\n",
       "  </thead>\n",
       "  <tbody>\n",
       "    <tr>\n",
       "      <th>0</th>\n",
       "      <td>192.168.10.51-49810-192.168.10.50-21-tcp</td>\n",
       "      <td>0.367816</td>\n",
       "      <td>0</td>\n",
       "      <td>0</td>\n",
       "      <td>0</td>\n",
       "      <td>5898.823529</td>\n",
       "      <td>0</td>\n",
       "      <td>0</td>\n",
       "      <td>0</td>\n",
       "      <td>0</td>\n",
       "    </tr>\n",
       "    <tr>\n",
       "      <th>1</th>\n",
       "      <td>192.168.10.51-49810-192.168.10.50-21-tcp</td>\n",
       "      <td>0.367816</td>\n",
       "      <td>0</td>\n",
       "      <td>0</td>\n",
       "      <td>0</td>\n",
       "      <td>5898.823529</td>\n",
       "      <td>0</td>\n",
       "      <td>0</td>\n",
       "      <td>0</td>\n",
       "      <td>0</td>\n",
       "    </tr>\n",
       "    <tr>\n",
       "      <th>2</th>\n",
       "      <td>192.168.10.9-1065-192.168.10.50-21-tcp</td>\n",
       "      <td>0.367816</td>\n",
       "      <td>0</td>\n",
       "      <td>0</td>\n",
       "      <td>0</td>\n",
       "      <td>5359.882353</td>\n",
       "      <td>0</td>\n",
       "      <td>0</td>\n",
       "      <td>0</td>\n",
       "      <td>0</td>\n",
       "    </tr>\n",
       "    <tr>\n",
       "      <th>3</th>\n",
       "      <td>192.168.10.9-1065-192.168.10.50-21-tcp</td>\n",
       "      <td>0.367816</td>\n",
       "      <td>0</td>\n",
       "      <td>0</td>\n",
       "      <td>0</td>\n",
       "      <td>5359.882353</td>\n",
       "      <td>0</td>\n",
       "      <td>0</td>\n",
       "      <td>0</td>\n",
       "      <td>0</td>\n",
       "    </tr>\n",
       "    <tr>\n",
       "      <th>4</th>\n",
       "      <td>192.168.10.14-49496-192.168.10.50-21-tcp</td>\n",
       "      <td>0.379310</td>\n",
       "      <td>0</td>\n",
       "      <td>0</td>\n",
       "      <td>0</td>\n",
       "      <td>5254.929412</td>\n",
       "      <td>0</td>\n",
       "      <td>0</td>\n",
       "      <td>0</td>\n",
       "      <td>0</td>\n",
       "    </tr>\n",
       "    <tr>\n",
       "      <th>...</th>\n",
       "      <td>...</td>\n",
       "      <td>...</td>\n",
       "      <td>...</td>\n",
       "      <td>...</td>\n",
       "      <td>...</td>\n",
       "      <td>...</td>\n",
       "      <td>...</td>\n",
       "      <td>...</td>\n",
       "      <td>...</td>\n",
       "      <td>...</td>\n",
       "    </tr>\n",
       "    <tr>\n",
       "      <th>8974</th>\n",
       "      <td>192.168.10.25-64450-192.168.10.50-21-tcp</td>\n",
       "      <td>0.333333</td>\n",
       "      <td>0</td>\n",
       "      <td>0</td>\n",
       "      <td>0</td>\n",
       "      <td>3448.341176</td>\n",
       "      <td>0</td>\n",
       "      <td>0</td>\n",
       "      <td>0</td>\n",
       "      <td>0</td>\n",
       "    </tr>\n",
       "    <tr>\n",
       "      <th>8975</th>\n",
       "      <td>192.168.10.25-64450-192.168.10.50-21-tcp</td>\n",
       "      <td>0.333333</td>\n",
       "      <td>0</td>\n",
       "      <td>0</td>\n",
       "      <td>0</td>\n",
       "      <td>3448.341176</td>\n",
       "      <td>0</td>\n",
       "      <td>0</td>\n",
       "      <td>0</td>\n",
       "      <td>0</td>\n",
       "    </tr>\n",
       "    <tr>\n",
       "      <th>8976</th>\n",
       "      <td>192.168.10.15-59671-192.168.10.50-21-tcp</td>\n",
       "      <td>0.356322</td>\n",
       "      <td>0</td>\n",
       "      <td>0</td>\n",
       "      <td>0</td>\n",
       "      <td>4387.094118</td>\n",
       "      <td>0</td>\n",
       "      <td>0</td>\n",
       "      <td>0</td>\n",
       "      <td>0</td>\n",
       "    </tr>\n",
       "    <tr>\n",
       "      <th>8977</th>\n",
       "      <td>192.168.10.15-59671-192.168.10.50-21-tcp</td>\n",
       "      <td>0.356322</td>\n",
       "      <td>0</td>\n",
       "      <td>0</td>\n",
       "      <td>0</td>\n",
       "      <td>4387.094118</td>\n",
       "      <td>0</td>\n",
       "      <td>0</td>\n",
       "      <td>0</td>\n",
       "      <td>0</td>\n",
       "    </tr>\n",
       "    <tr>\n",
       "      <th>8978</th>\n",
       "      <td>192.168.10.15-59671-192.168.10.50-21-tcp</td>\n",
       "      <td>0.356322</td>\n",
       "      <td>0</td>\n",
       "      <td>0</td>\n",
       "      <td>0</td>\n",
       "      <td>4387.094118</td>\n",
       "      <td>0</td>\n",
       "      <td>0</td>\n",
       "      <td>0</td>\n",
       "      <td>0</td>\n",
       "    </tr>\n",
       "  </tbody>\n",
       "</table>\n",
       "<p>8979 rows × 10 columns</p>\n",
       "</div>"
      ],
      "text/plain": [
       "                                            id  binary_error  b_mean  b_iqr  \\\n",
       "0     192.168.10.51-49810-192.168.10.50-21-tcp      0.367816       0      0   \n",
       "1     192.168.10.51-49810-192.168.10.50-21-tcp      0.367816       0      0   \n",
       "2       192.168.10.9-1065-192.168.10.50-21-tcp      0.367816       0      0   \n",
       "3       192.168.10.9-1065-192.168.10.50-21-tcp      0.367816       0      0   \n",
       "4     192.168.10.14-49496-192.168.10.50-21-tcp      0.379310       0      0   \n",
       "...                                        ...           ...     ...    ...   \n",
       "8974  192.168.10.25-64450-192.168.10.50-21-tcp      0.333333       0      0   \n",
       "8975  192.168.10.25-64450-192.168.10.50-21-tcp      0.333333       0      0   \n",
       "8976  192.168.10.15-59671-192.168.10.50-21-tcp      0.356322       0      0   \n",
       "8977  192.168.10.15-59671-192.168.10.50-21-tcp      0.356322       0      0   \n",
       "8978  192.168.10.15-59671-192.168.10.50-21-tcp      0.356322       0      0   \n",
       "\n",
       "      b_zscore  floatin_error  f_mean  f_iqr  f_zscore  Label  \n",
       "0            0    5898.823529       0      0         0      0  \n",
       "1            0    5898.823529       0      0         0      0  \n",
       "2            0    5359.882353       0      0         0      0  \n",
       "3            0    5359.882353       0      0         0      0  \n",
       "4            0    5254.929412       0      0         0      0  \n",
       "...        ...            ...     ...    ...       ...    ...  \n",
       "8974         0    3448.341176       0      0         0      0  \n",
       "8975         0    3448.341176       0      0         0      0  \n",
       "8976         0    4387.094118       0      0         0      0  \n",
       "8977         0    4387.094118       0      0         0      0  \n",
       "8978         0    4387.094118       0      0         0      0  \n",
       "\n",
       "[8979 rows x 10 columns]"
      ]
     },
     "execution_count": 20,
     "metadata": {},
     "output_type": "execute_result"
    }
   ],
   "source": [
    "df_pred"
   ]
  },
  {
   "cell_type": "code",
   "execution_count": 21,
   "metadata": {},
   "outputs": [
    {
     "data": {
      "text/plain": [
       "Label\n",
       "1        7920\n",
       "0        1059\n",
       "Name: count, dtype: int64"
      ]
     },
     "execution_count": 21,
     "metadata": {},
     "output_type": "execute_result"
    }
   ],
   "source": [
    "df_pred[['Label']].value_counts()"
   ]
  },
  {
   "cell_type": "code",
   "execution_count": 22,
   "metadata": {},
   "outputs": [
    {
     "data": {
      "text/plain": [
       "array([0, 1])"
      ]
     },
     "execution_count": 22,
     "metadata": {},
     "output_type": "execute_result"
    }
   ],
   "source": [
    "df_pred['b_zscore'].unique()"
   ]
  },
  {
   "cell_type": "code",
   "execution_count": 23,
   "metadata": {},
   "outputs": [],
   "source": [
    "import os\n",
    "# Define the directory path\n",
    "dir_path = '../mcnemar/ftp'\n",
    "\n",
    "# Check if the directory exists, and if not, create it\n",
    "if not os.path.exists(dir_path):\n",
    "    os.makedirs(dir_path)\n",
    "\n",
    "df_temp = df_pred[['id', 'b_mean','b_iqr', 'b_zscore', 'f_zscore', 'f_mean','f_iqr' ]]\n",
    "df_temp.to_csv(os.path.join(dir_path, 'pred_0.0.csv'))"
   ]
  },
  {
   "cell_type": "markdown",
   "metadata": {},
   "source": [
    "## Calculating Score"
   ]
  },
  {
   "cell_type": "code",
   "execution_count": 24,
   "metadata": {},
   "outputs": [],
   "source": [
    "threshold = ['b_mean', 'b_iqr', 'b_zscore']\n",
    "threshold_2 = ['f_mean', 'f_iqr', 'f_zscore']\n",
    "\n",
    "methods = ['binary', 'floating']"
   ]
  },
  {
   "cell_type": "code",
   "execution_count": 25,
   "metadata": {},
   "outputs": [
    {
     "data": {
      "text/html": [
       "<div>\n",
       "<style scoped>\n",
       "    .dataframe tbody tr th:only-of-type {\n",
       "        vertical-align: middle;\n",
       "    }\n",
       "\n",
       "    .dataframe tbody tr th {\n",
       "        vertical-align: top;\n",
       "    }\n",
       "\n",
       "    .dataframe thead th {\n",
       "        text-align: right;\n",
       "    }\n",
       "</style>\n",
       "<table border=\"1\" class=\"dataframe\">\n",
       "  <thead>\n",
       "    <tr style=\"text-align: right;\">\n",
       "      <th></th>\n",
       "      <th>b_zscore</th>\n",
       "    </tr>\n",
       "  </thead>\n",
       "  <tbody>\n",
       "    <tr>\n",
       "      <th>0</th>\n",
       "      <td>0</td>\n",
       "    </tr>\n",
       "    <tr>\n",
       "      <th>1</th>\n",
       "      <td>0</td>\n",
       "    </tr>\n",
       "    <tr>\n",
       "      <th>2</th>\n",
       "      <td>0</td>\n",
       "    </tr>\n",
       "    <tr>\n",
       "      <th>3</th>\n",
       "      <td>0</td>\n",
       "    </tr>\n",
       "    <tr>\n",
       "      <th>4</th>\n",
       "      <td>0</td>\n",
       "    </tr>\n",
       "    <tr>\n",
       "      <th>...</th>\n",
       "      <td>...</td>\n",
       "    </tr>\n",
       "    <tr>\n",
       "      <th>8974</th>\n",
       "      <td>0</td>\n",
       "    </tr>\n",
       "    <tr>\n",
       "      <th>8975</th>\n",
       "      <td>0</td>\n",
       "    </tr>\n",
       "    <tr>\n",
       "      <th>8976</th>\n",
       "      <td>0</td>\n",
       "    </tr>\n",
       "    <tr>\n",
       "      <th>8977</th>\n",
       "      <td>0</td>\n",
       "    </tr>\n",
       "    <tr>\n",
       "      <th>8978</th>\n",
       "      <td>0</td>\n",
       "    </tr>\n",
       "  </tbody>\n",
       "</table>\n",
       "<p>8979 rows × 1 columns</p>\n",
       "</div>"
      ],
      "text/plain": [
       "      b_zscore\n",
       "0            0\n",
       "1            0\n",
       "2            0\n",
       "3            0\n",
       "4            0\n",
       "...        ...\n",
       "8974         0\n",
       "8975         0\n",
       "8976         0\n",
       "8977         0\n",
       "8978         0\n",
       "\n",
       "[8979 rows x 1 columns]"
      ]
     },
     "execution_count": 25,
     "metadata": {},
     "output_type": "execute_result"
    }
   ],
   "source": [
    "df_pred[['b_zscore']]"
   ]
  },
  {
   "cell_type": "markdown",
   "metadata": {},
   "source": [
    "### Detection Rate"
   ]
  },
  {
   "cell_type": "code",
   "execution_count": 26,
   "metadata": {},
   "outputs": [
    {
     "name": "stdout",
     "output_type": "stream",
     "text": [
      "Recall-Binary-b_mean: 0.9106060606060606\n",
      "Recall-Binary-b_iqr: 0.8962121212121212\n",
      "Recall-Binary-b_zscore: 0.8667929292929293\n",
      "Recall-Floating-f_mean: 0.7926767676767676\n",
      "Recall-Floating-f_iqr: 0.7218434343434343\n",
      "Recall-Floating-f_zscore: 0.5931818181818181\n"
     ]
    }
   ],
   "source": [
    "from sklearn.metrics import recall_score\n",
    "\n",
    "score = dict()\n",
    "score['Detection Rate'] = dict()\n",
    "for method in methods:\n",
    "    if method == 'binary':\n",
    "        for i in threshold:\n",
    "            acc = recall_score(df_pred['Label'], df_pred[i])\n",
    "            score['Detection Rate'][i] = acc\n",
    "            print(f'Recall-Binary-{i}: {acc}')\n",
    "    else:\n",
    "        for i in threshold_2:\n",
    "            acc = recall_score(df_pred['Label'], df_pred[i])\n",
    "            score['Detection Rate'][i] = acc\n",
    "            print(f'Recall-Floating-{i}: {acc}')  "
   ]
  },
  {
   "cell_type": "markdown",
   "metadata": {},
   "source": [
    "### Confussion Matrix"
   ]
  },
  {
   "cell_type": "code",
   "execution_count": 27,
   "metadata": {},
   "outputs": [
    {
     "data": {
      "image/png": "[encoded data removed]",
      "text/plain": [
       "<Figure size 640x480 with 2 Axes>"
      ]
     },
     "metadata": {},
     "output_type": "display_data"
    },
    {
     "data": {
      "image/png": "[encoded data removed]",
      "text/plain": [
       "<Figure size 640x480 with 2 Axes>"
      ]
     },
     "metadata": {},
     "output_type": "display_data"
    },
    {
     "data": {
      "image/png": "[encoded data removed]",
      "text/plain": [
       "<Figure size 640x480 with 2 Axes>"
      ]
     },
     "metadata": {},
     "output_type": "display_data"
    },
    {
     "data": {
      "image/png": "[encoded data removed]",
      "text/plain": [
       "<Figure size 640x480 with 2 Axes>"
      ]
     },
     "metadata": {},
     "output_type": "display_data"
    },
    {
     "data": {
      "image/png": "[encoded data removed]",
      "text/plain": [
       "<Figure size 640x480 with 2 Axes>"
      ]
     },
     "metadata": {},
     "output_type": "display_data"
    },
    {
     "data": {
      "image/png": "[encoded data removed]",
      "text/plain": [
       "<Figure size 640x480 with 2 Axes>"
      ]
     },
     "metadata": {},
     "output_type": "display_data"
    }
   ],
   "source": [
    "from sklearn.metrics import confusion_matrix\n",
    "from sklearn.metrics import ConfusionMatrixDisplay\n",
    "\n",
    "for method in methods:\n",
    "    if method == 'binary':\n",
    "        for i in threshold:\n",
    "            conf_matrix = confusion_matrix(df_pred['Label'], df_pred[i])\n",
    "            cm_display = ConfusionMatrixDisplay(confusion_matrix = conf_matrix, display_labels=['Benign', 'Anomaly'])\n",
    "            cm_display.plot()\n",
    "            plt.title(f'Binary - {i.strip()}')\n",
    "            plt.show()\n",
    "    else:\n",
    "        for i in threshold_2:\n",
    "            conf_matrix = confusion_matrix(df_pred['Label'], df_pred[i])\n",
    "            cm_display = ConfusionMatrixDisplay(confusion_matrix = conf_matrix, display_labels=['Benign', 'Anomaly'])\n",
    "            cm_display.plot()\n",
    "            plt.title(f'Floating - {i.strip()}')\n",
    "            plt.show()\n"
   ]
  },
  {
   "cell_type": "markdown",
   "metadata": {},
   "source": [
    "### F2-Score"
   ]
  },
  {
   "cell_type": "code",
   "execution_count": 28,
   "metadata": {},
   "outputs": [
    {
     "name": "stdout",
     "output_type": "stream",
     "text": [
      "F2-Binary-b_mean: 0.9271591288920885\n",
      "F2-Binary-b_iqr: 0.9150916638733466\n",
      "F2-Binary-b_zscore: 0.8904944741348\n",
      "F2-Floating-f_mean: 0.8249021102147005\n",
      "F2-Floating-f_iqr: 0.7634474654131723\n",
      "F2-Floating-f_zscore: 0.64561345646438\n"
     ]
    }
   ],
   "source": [
    "score['F2 Score'] = dict()\n",
    "for method in methods:\n",
    "    if method == 'binary':\n",
    "        for i in threshold:\n",
    "            tn, fp, fn, tp = confusion_matrix(df_pred['Label'], df_pred[i]).ravel()\n",
    "            f2 = ((1+2**2)*tp)/((1+2**2)*tp+2**2*fn+fp)\n",
    "            score['F2 Score'][i] = f2\n",
    "            print(f'F2-Binary-{i}: {f2}')\n",
    "    else:\n",
    "        for i in threshold_2:\n",
    "            tn, fp, fn, tp = confusion_matrix(df_pred['Label'], df_pred[i]).ravel()\n",
    "            f2 = ((1+2**2)*tp)/((1+2**2)*tp+2**2*fn+fp)\n",
    "            score['F2 Score'][i] = f2\n",
    "            print(f'F2-Floating-{i}: {f2}')"
   ]
  },
  {
   "cell_type": "markdown",
   "metadata": {},
   "source": [
    "### FPR Score"
   ]
  },
  {
   "cell_type": "code",
   "execution_count": 29,
   "metadata": {},
   "outputs": [
    {
     "name": "stdout",
     "output_type": "stream",
     "text": [
      "FPR-Binary-b_mean: 0.0009442870632672333\n",
      "FPR-Binary-b_iqr: 0.004721435316336166\n",
      "FPR-Binary-b_zscore: 0.0009442870632672333\n",
      "FPR-Floating-f_mean: 0.08970727101038715\n",
      "FPR-Floating-f_iqr: 0.042492917847025496\n",
      "FPR-Floating-f_zscore: 0.0056657223796034\n"
     ]
    }
   ],
   "source": [
    "score['FPR Score'] = dict()\n",
    "for method in methods:\n",
    "    if method == 'binary':\n",
    "        for i in threshold:\n",
    "            tn, fp, fn, tp = confusion_matrix(df_pred['Label'], df_pred[i]).ravel()\n",
    "            fpr = fp/(fp+tn)\n",
    "            score['FPR Score'][i] = fpr\n",
    "            print(f'FPR-Binary-{i}: {fpr}')\n",
    "    else:\n",
    "        for i in threshold_2:\n",
    "            tn, fp, fn, tp = confusion_matrix(df_pred['Label'], df_pred[i]).ravel()\n",
    "            fpr = fp/(fp+tn)\n",
    "            score['FPR Score'][i] = fpr\n",
    "            print(f'FPR-Floating-{i}: {fpr}')"
   ]
  },
  {
   "cell_type": "code",
   "execution_count": 30,
   "metadata": {},
   "outputs": [
    {
     "name": "stdout",
     "output_type": "stream",
     "text": [
      "Accuracy-Binary-b_mean: 0.9210379775030627\n",
      "Accuracy-Binary-b_iqr: 0.9078962022496937\n",
      "Accuracy-Binary-b_zscore: 0.8823922485800201\n",
      "Accuracy-Floating-f_mean: 0.8065486134313398\n",
      "Accuracy-Floating-f_iqr: 0.7496380443256487\n",
      "Accuracy-Floating-f_zscore: 0.6404944871366521\n"
     ]
    }
   ],
   "source": [
    "from sklearn.metrics import accuracy_score\n",
    "\n",
    "score['Accuracy Score'] = dict()\n",
    "for method in methods:\n",
    "    if method == 'binary':\n",
    "        for i in threshold:\n",
    "            acc = accuracy_score(df_pred['Label'], df_pred[i])\n",
    "            score['Accuracy Score'][i] = acc\n",
    "            print(f'Accuracy-Binary-{i}: {acc}')\n",
    "    else:\n",
    "        for i in threshold_2:\n",
    "            acc = accuracy_score(df_pred['Label'], df_pred[i])\n",
    "            score['Accuracy Score'][i] = acc\n",
    "            print(f'Accuracy-Floating-{i}: {acc}')  "
   ]
  },
  {
   "cell_type": "code",
   "execution_count": 31,
   "metadata": {},
   "outputs": [
    {
     "data": {
      "text/html": [
       "<div>\n",
       "<style scoped>\n",
       "    .dataframe tbody tr th:only-of-type {\n",
       "        vertical-align: middle;\n",
       "    }\n",
       "\n",
       "    .dataframe tbody tr th {\n",
       "        vertical-align: top;\n",
       "    }\n",
       "\n",
       "    .dataframe thead th {\n",
       "        text-align: right;\n",
       "    }\n",
       "</style>\n",
       "<table border=\"1\" class=\"dataframe\">\n",
       "  <thead>\n",
       "    <tr style=\"text-align: right;\">\n",
       "      <th></th>\n",
       "      <th>Detection Rate</th>\n",
       "      <th>F2 Score</th>\n",
       "      <th>FPR Score</th>\n",
       "      <th>Accuracy Score</th>\n",
       "    </tr>\n",
       "  </thead>\n",
       "  <tbody>\n",
       "    <tr>\n",
       "      <th>b_mean</th>\n",
       "      <td>0.910606</td>\n",
       "      <td>0.927159</td>\n",
       "      <td>0.000944</td>\n",
       "      <td>0.921038</td>\n",
       "    </tr>\n",
       "    <tr>\n",
       "      <th>b_iqr</th>\n",
       "      <td>0.896212</td>\n",
       "      <td>0.915092</td>\n",
       "      <td>0.004721</td>\n",
       "      <td>0.907896</td>\n",
       "    </tr>\n",
       "    <tr>\n",
       "      <th>b_zscore</th>\n",
       "      <td>0.866793</td>\n",
       "      <td>0.890494</td>\n",
       "      <td>0.000944</td>\n",
       "      <td>0.882392</td>\n",
       "    </tr>\n",
       "    <tr>\n",
       "      <th>f_mean</th>\n",
       "      <td>0.792677</td>\n",
       "      <td>0.824902</td>\n",
       "      <td>0.089707</td>\n",
       "      <td>0.806549</td>\n",
       "    </tr>\n",
       "    <tr>\n",
       "      <th>f_iqr</th>\n",
       "      <td>0.721843</td>\n",
       "      <td>0.763447</td>\n",
       "      <td>0.042493</td>\n",
       "      <td>0.749638</td>\n",
       "    </tr>\n",
       "    <tr>\n",
       "      <th>f_zscore</th>\n",
       "      <td>0.593182</td>\n",
       "      <td>0.645613</td>\n",
       "      <td>0.005666</td>\n",
       "      <td>0.640494</td>\n",
       "    </tr>\n",
       "  </tbody>\n",
       "</table>\n",
       "</div>"
      ],
      "text/plain": [
       "          Detection Rate  F2 Score  FPR Score  Accuracy Score\n",
       "b_mean          0.910606  0.927159   0.000944        0.921038\n",
       "b_iqr           0.896212  0.915092   0.004721        0.907896\n",
       "b_zscore        0.866793  0.890494   0.000944        0.882392\n",
       "f_mean          0.792677  0.824902   0.089707        0.806549\n",
       "f_iqr           0.721843  0.763447   0.042493        0.749638\n",
       "f_zscore        0.593182  0.645613   0.005666        0.640494"
      ]
     },
     "execution_count": 31,
     "metadata": {},
     "output_type": "execute_result"
    }
   ],
   "source": [
    "df_score = pd.DataFrame.from_dict(score)\n",
    "df_score"
   ]
  },
  {
   "cell_type": "code",
   "execution_count": 32,
   "metadata": {},
   "outputs": [],
   "source": [
    "df_score.to_excel('score_ftp_0.0.xlsx')"
   ]
  },
  {
   "cell_type": "code",
   "execution_count": 33,
   "metadata": {},
   "outputs": [],
   "source": [
    "# %pip install openpyxl"
   ]
  }
 ],
 "metadata": {
  "kernelspec": {
   "display_name": "myenv",
   "language": "python",
   "name": "python3"
  },
  "language_info": {
   "codemirror_mode": {
    "name": "ipython",
    "version": 3
   },
   "file_extension": ".py",
   "mimetype": "text/x-python",
   "name": "python",
   "nbconvert_exporter": "python",
   "pygments_lexer": "ipython3",
   "version": "3.9.5"
  }
 },
 "nbformat": 4,
 "nbformat_minor": 2
}
