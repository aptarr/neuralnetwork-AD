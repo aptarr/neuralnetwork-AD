{
 "cells": [
  {
   "cell_type": "markdown",
   "metadata": {},
   "source": [
    "# Perhitungan Skor RNN-IDS"
   ]
  },
  {
   "cell_type": "markdown",
   "metadata": {},
   "source": [
    "## Import All Necessary Libraries"
   ]
  },
  {
   "cell_type": "code",
   "execution_count": 26,
   "metadata": {},
   "outputs": [],
   "source": [
    "import pandas as pd\n",
    "import numpy as np\n",
    "import sklearn\n",
    "import matplotlib.pyplot as plt\n",
    "import math"
   ]
  },
  {
   "cell_type": "markdown",
   "metadata": {},
   "source": [
    "## Load All the Data"
   ]
  },
  {
   "cell_type": "code",
   "execution_count": 27,
   "metadata": {},
   "outputs": [],
   "source": [
    "df_pred = pd.read_csv('/home/apta/neuralnetwork-AD/rnn-apta/results/vector/Monday-WorkingHours_training_465/result-lstm-tcp465-hl2-seq3-do0.2-oov2500-Wednesday-WorkingHours_testing_465.csv', \n",
    "                      names=['id', 'binary_error', 'b_mean', 'b_iqr', 'b_zscore', 'floatin_error', 'f_mean', 'f_iqr', 'f_zscore'])\n",
    "\n",
    "df_truth = pd.read_csv('/home/apta/CIC-IDS-2017/CSVs/TrafficLabelling/Wednesday-workingHours.pcap_ISCX.csv', \n",
    "                       encoding='ISO-8859-1')"
   ]
  },
  {
   "cell_type": "code",
   "execution_count": 28,
   "metadata": {},
   "outputs": [
    {
     "data": {
      "text/html": [
       "<div>\n",
       "<style scoped>\n",
       "    .dataframe tbody tr th:only-of-type {\n",
       "        vertical-align: middle;\n",
       "    }\n",
       "\n",
       "    .dataframe tbody tr th {\n",
       "        vertical-align: top;\n",
       "    }\n",
       "\n",
       "    .dataframe thead th {\n",
       "        text-align: right;\n",
       "    }\n",
       "</style>\n",
       "<table border=\"1\" class=\"dataframe\">\n",
       "  <thead>\n",
       "    <tr style=\"text-align: right;\">\n",
       "      <th></th>\n",
       "      <th>id</th>\n",
       "      <th>binary_error</th>\n",
       "      <th>b_mean</th>\n",
       "      <th>b_iqr</th>\n",
       "      <th>b_zscore</th>\n",
       "      <th>floatin_error</th>\n",
       "      <th>f_mean</th>\n",
       "      <th>f_iqr</th>\n",
       "      <th>f_zscore</th>\n",
       "    </tr>\n",
       "  </thead>\n",
       "  <tbody>\n",
       "    <tr>\n",
       "      <th>0</th>\n",
       "      <td>192.168.10.9-13795-173.194.206.108-465-tcp</td>\n",
       "      <td>0.040550</td>\n",
       "      <td>0</td>\n",
       "      <td>0</td>\n",
       "      <td>0</td>\n",
       "      <td>5923.441945</td>\n",
       "      <td>0</td>\n",
       "      <td>0</td>\n",
       "      <td>0</td>\n",
       "    </tr>\n",
       "    <tr>\n",
       "      <th>1</th>\n",
       "      <td>192.168.10.12-47222-173.194.206.109-465-tcp</td>\n",
       "      <td>0.041334</td>\n",
       "      <td>0</td>\n",
       "      <td>0</td>\n",
       "      <td>0</td>\n",
       "      <td>11009.813227</td>\n",
       "      <td>0</td>\n",
       "      <td>0</td>\n",
       "      <td>0</td>\n",
       "    </tr>\n",
       "    <tr>\n",
       "      <th>2</th>\n",
       "      <td>192.168.10.15-49521-173.194.68.108-465-tcp</td>\n",
       "      <td>0.040293</td>\n",
       "      <td>0</td>\n",
       "      <td>0</td>\n",
       "      <td>0</td>\n",
       "      <td>5355.127753</td>\n",
       "      <td>0</td>\n",
       "      <td>0</td>\n",
       "      <td>0</td>\n",
       "    </tr>\n",
       "    <tr>\n",
       "      <th>3</th>\n",
       "      <td>192.168.10.19-54528-173.194.68.109-465-tcp</td>\n",
       "      <td>0.041758</td>\n",
       "      <td>0</td>\n",
       "      <td>0</td>\n",
       "      <td>0</td>\n",
       "      <td>5368.395742</td>\n",
       "      <td>0</td>\n",
       "      <td>0</td>\n",
       "      <td>0</td>\n",
       "    </tr>\n",
       "    <tr>\n",
       "      <th>4</th>\n",
       "      <td>192.168.10.9-14411-173.194.208.108-465-tcp</td>\n",
       "      <td>0.035075</td>\n",
       "      <td>0</td>\n",
       "      <td>0</td>\n",
       "      <td>0</td>\n",
       "      <td>7299.216643</td>\n",
       "      <td>0</td>\n",
       "      <td>0</td>\n",
       "      <td>0</td>\n",
       "    </tr>\n",
       "  </tbody>\n",
       "</table>\n",
       "</div>"
      ],
      "text/plain": [
       "                                            id  binary_error  b_mean  b_iqr  \\\n",
       "0   192.168.10.9-13795-173.194.206.108-465-tcp      0.040550       0      0   \n",
       "1  192.168.10.12-47222-173.194.206.109-465-tcp      0.041334       0      0   \n",
       "2   192.168.10.15-49521-173.194.68.108-465-tcp      0.040293       0      0   \n",
       "3   192.168.10.19-54528-173.194.68.109-465-tcp      0.041758       0      0   \n",
       "4   192.168.10.9-14411-173.194.208.108-465-tcp      0.035075       0      0   \n",
       "\n",
       "   b_zscore  floatin_error  f_mean  f_iqr  f_zscore  \n",
       "0         0    5923.441945       0      0         0  \n",
       "1         0   11009.813227       0      0         0  \n",
       "2         0    5355.127753       0      0         0  \n",
       "3         0    5368.395742       0      0         0  \n",
       "4         0    7299.216643       0      0         0  "
      ]
     },
     "execution_count": 28,
     "metadata": {},
     "output_type": "execute_result"
    }
   ],
   "source": [
    "df_pred.head()"
   ]
  },
  {
   "cell_type": "code",
   "execution_count": 29,
   "metadata": {},
   "outputs": [
    {
     "data": {
      "text/html": [
       "<div>\n",
       "<style scoped>\n",
       "    .dataframe tbody tr th:only-of-type {\n",
       "        vertical-align: middle;\n",
       "    }\n",
       "\n",
       "    .dataframe tbody tr th {\n",
       "        vertical-align: top;\n",
       "    }\n",
       "\n",
       "    .dataframe thead th {\n",
       "        text-align: right;\n",
       "    }\n",
       "</style>\n",
       "<table border=\"1\" class=\"dataframe\">\n",
       "  <thead>\n",
       "    <tr style=\"text-align: right;\">\n",
       "      <th></th>\n",
       "      <th>Flow ID</th>\n",
       "      <th>Source IP</th>\n",
       "      <th>Source Port</th>\n",
       "      <th>Destination IP</th>\n",
       "      <th>Destination Port</th>\n",
       "      <th>Protocol</th>\n",
       "      <th>Timestamp</th>\n",
       "      <th>Flow Duration</th>\n",
       "      <th>Total Fwd Packets</th>\n",
       "      <th>Total Backward Packets</th>\n",
       "      <th>...</th>\n",
       "      <th>min_seg_size_forward</th>\n",
       "      <th>Active Mean</th>\n",
       "      <th>Active Std</th>\n",
       "      <th>Active Max</th>\n",
       "      <th>Active Min</th>\n",
       "      <th>Idle Mean</th>\n",
       "      <th>Idle Std</th>\n",
       "      <th>Idle Max</th>\n",
       "      <th>Idle Min</th>\n",
       "      <th>Label</th>\n",
       "    </tr>\n",
       "  </thead>\n",
       "  <tbody>\n",
       "    <tr>\n",
       "      <th>0</th>\n",
       "      <td>192.168.10.14-209.48.71.168-49459-80-6</td>\n",
       "      <td>192.168.10.14</td>\n",
       "      <td>49459</td>\n",
       "      <td>209.48.71.168</td>\n",
       "      <td>80</td>\n",
       "      <td>6</td>\n",
       "      <td>5/7/2017 8:42</td>\n",
       "      <td>38308</td>\n",
       "      <td>1</td>\n",
       "      <td>1</td>\n",
       "      <td>...</td>\n",
       "      <td>20</td>\n",
       "      <td>0.0</td>\n",
       "      <td>0.0</td>\n",
       "      <td>0.0</td>\n",
       "      <td>0.0</td>\n",
       "      <td>0.0</td>\n",
       "      <td>0.0</td>\n",
       "      <td>0.0</td>\n",
       "      <td>0.0</td>\n",
       "      <td>BENIGN</td>\n",
       "    </tr>\n",
       "    <tr>\n",
       "      <th>1</th>\n",
       "      <td>192.168.10.3-192.168.10.17-389-49453-6</td>\n",
       "      <td>192.168.10.17</td>\n",
       "      <td>49453</td>\n",
       "      <td>192.168.10.3</td>\n",
       "      <td>389</td>\n",
       "      <td>6</td>\n",
       "      <td>5/7/2017 8:42</td>\n",
       "      <td>479</td>\n",
       "      <td>11</td>\n",
       "      <td>5</td>\n",
       "      <td>...</td>\n",
       "      <td>32</td>\n",
       "      <td>0.0</td>\n",
       "      <td>0.0</td>\n",
       "      <td>0.0</td>\n",
       "      <td>0.0</td>\n",
       "      <td>0.0</td>\n",
       "      <td>0.0</td>\n",
       "      <td>0.0</td>\n",
       "      <td>0.0</td>\n",
       "      <td>BENIGN</td>\n",
       "    </tr>\n",
       "    <tr>\n",
       "      <th>2</th>\n",
       "      <td>192.168.10.3-192.168.10.17-88-46124-6</td>\n",
       "      <td>192.168.10.17</td>\n",
       "      <td>46124</td>\n",
       "      <td>192.168.10.3</td>\n",
       "      <td>88</td>\n",
       "      <td>6</td>\n",
       "      <td>5/7/2017 8:42</td>\n",
       "      <td>1095</td>\n",
       "      <td>10</td>\n",
       "      <td>6</td>\n",
       "      <td>...</td>\n",
       "      <td>32</td>\n",
       "      <td>0.0</td>\n",
       "      <td>0.0</td>\n",
       "      <td>0.0</td>\n",
       "      <td>0.0</td>\n",
       "      <td>0.0</td>\n",
       "      <td>0.0</td>\n",
       "      <td>0.0</td>\n",
       "      <td>0.0</td>\n",
       "      <td>BENIGN</td>\n",
       "    </tr>\n",
       "    <tr>\n",
       "      <th>3</th>\n",
       "      <td>192.168.10.3-192.168.10.17-389-49454-6</td>\n",
       "      <td>192.168.10.17</td>\n",
       "      <td>49454</td>\n",
       "      <td>192.168.10.3</td>\n",
       "      <td>389</td>\n",
       "      <td>6</td>\n",
       "      <td>5/7/2017 8:42</td>\n",
       "      <td>15206</td>\n",
       "      <td>17</td>\n",
       "      <td>12</td>\n",
       "      <td>...</td>\n",
       "      <td>32</td>\n",
       "      <td>0.0</td>\n",
       "      <td>0.0</td>\n",
       "      <td>0.0</td>\n",
       "      <td>0.0</td>\n",
       "      <td>0.0</td>\n",
       "      <td>0.0</td>\n",
       "      <td>0.0</td>\n",
       "      <td>0.0</td>\n",
       "      <td>BENIGN</td>\n",
       "    </tr>\n",
       "    <tr>\n",
       "      <th>4</th>\n",
       "      <td>192.168.10.3-192.168.10.17-88-46126-6</td>\n",
       "      <td>192.168.10.17</td>\n",
       "      <td>46126</td>\n",
       "      <td>192.168.10.3</td>\n",
       "      <td>88</td>\n",
       "      <td>6</td>\n",
       "      <td>5/7/2017 8:42</td>\n",
       "      <td>1092</td>\n",
       "      <td>9</td>\n",
       "      <td>6</td>\n",
       "      <td>...</td>\n",
       "      <td>32</td>\n",
       "      <td>0.0</td>\n",
       "      <td>0.0</td>\n",
       "      <td>0.0</td>\n",
       "      <td>0.0</td>\n",
       "      <td>0.0</td>\n",
       "      <td>0.0</td>\n",
       "      <td>0.0</td>\n",
       "      <td>0.0</td>\n",
       "      <td>BENIGN</td>\n",
       "    </tr>\n",
       "  </tbody>\n",
       "</table>\n",
       "<p>5 rows × 85 columns</p>\n",
       "</div>"
      ],
      "text/plain": [
       "                                  Flow ID      Source IP   Source Port  \\\n",
       "0  192.168.10.14-209.48.71.168-49459-80-6  192.168.10.14         49459   \n",
       "1  192.168.10.3-192.168.10.17-389-49453-6  192.168.10.17         49453   \n",
       "2   192.168.10.3-192.168.10.17-88-46124-6  192.168.10.17         46124   \n",
       "3  192.168.10.3-192.168.10.17-389-49454-6  192.168.10.17         49454   \n",
       "4   192.168.10.3-192.168.10.17-88-46126-6  192.168.10.17         46126   \n",
       "\n",
       "   Destination IP   Destination Port   Protocol      Timestamp  \\\n",
       "0   209.48.71.168                 80          6  5/7/2017 8:42   \n",
       "1    192.168.10.3                389          6  5/7/2017 8:42   \n",
       "2    192.168.10.3                 88          6  5/7/2017 8:42   \n",
       "3    192.168.10.3                389          6  5/7/2017 8:42   \n",
       "4    192.168.10.3                 88          6  5/7/2017 8:42   \n",
       "\n",
       "    Flow Duration   Total Fwd Packets   Total Backward Packets  ...  \\\n",
       "0           38308                   1                        1  ...   \n",
       "1             479                  11                        5  ...   \n",
       "2            1095                  10                        6  ...   \n",
       "3           15206                  17                       12  ...   \n",
       "4            1092                   9                        6  ...   \n",
       "\n",
       "    min_seg_size_forward  Active Mean   Active Std   Active Max   Active Min  \\\n",
       "0                     20          0.0          0.0          0.0          0.0   \n",
       "1                     32          0.0          0.0          0.0          0.0   \n",
       "2                     32          0.0          0.0          0.0          0.0   \n",
       "3                     32          0.0          0.0          0.0          0.0   \n",
       "4                     32          0.0          0.0          0.0          0.0   \n",
       "\n",
       "   Idle Mean   Idle Std   Idle Max   Idle Min   Label  \n",
       "0        0.0        0.0        0.0        0.0  BENIGN  \n",
       "1        0.0        0.0        0.0        0.0  BENIGN  \n",
       "2        0.0        0.0        0.0        0.0  BENIGN  \n",
       "3        0.0        0.0        0.0        0.0  BENIGN  \n",
       "4        0.0        0.0        0.0        0.0  BENIGN  \n",
       "\n",
       "[5 rows x 85 columns]"
      ]
     },
     "execution_count": 29,
     "metadata": {},
     "output_type": "execute_result"
    }
   ],
   "source": [
    "df_truth.head()"
   ]
  },
  {
   "cell_type": "markdown",
   "metadata": {},
   "source": [
    "## Exploratory Data Analysis"
   ]
  },
  {
   "cell_type": "code",
   "execution_count": 30,
   "metadata": {},
   "outputs": [
    {
     "data": {
      "text/plain": [
       "b_iqr\n",
       "0        351\n",
       "1          1\n",
       "Name: count, dtype: int64"
      ]
     },
     "execution_count": 30,
     "metadata": {},
     "output_type": "execute_result"
    }
   ],
   "source": [
    "df_pred[['b_iqr']].value_counts()"
   ]
  },
  {
   "cell_type": "code",
   "execution_count": 31,
   "metadata": {},
   "outputs": [
    {
     "data": {
      "text/plain": [
       "b_zscore\n",
       "0           315\n",
       "1            37\n",
       "Name: count, dtype: int64"
      ]
     },
     "execution_count": 31,
     "metadata": {},
     "output_type": "execute_result"
    }
   ],
   "source": [
    "df_pred[['b_zscore']].value_counts()"
   ]
  },
  {
   "cell_type": "code",
   "execution_count": 32,
   "metadata": {},
   "outputs": [
    {
     "data": {
      "text/plain": [
       "Flow ID              0\n",
       " Source IP           0\n",
       " Source Port         0\n",
       " Destination IP      0\n",
       " Destination Port    0\n",
       "                    ..\n",
       "Idle Mean            0\n",
       " Idle Std            0\n",
       " Idle Max            0\n",
       " Idle Min            0\n",
       " Label               0\n",
       "Length: 85, dtype: int64"
      ]
     },
     "execution_count": 32,
     "metadata": {},
     "output_type": "execute_result"
    }
   ],
   "source": [
    "df_truth.isnull().sum()"
   ]
  },
  {
   "cell_type": "markdown",
   "metadata": {},
   "source": [
    "## Data Pre-Processing"
   ]
  },
  {
   "cell_type": "markdown",
   "metadata": {},
   "source": [
    "### Convert the type of the data"
   ]
  },
  {
   "cell_type": "code",
   "execution_count": 33,
   "metadata": {},
   "outputs": [
    {
     "name": "stdout",
     "output_type": "stream",
     "text": [
      "<class 'pandas.core.frame.DataFrame'>\n",
      "Index: 708 entries, 33 to 635212\n",
      "Data columns (total 85 columns):\n",
      " #   Column                       Non-Null Count  Dtype  \n",
      "---  ------                       --------------  -----  \n",
      " 0   Flow_ID                      708 non-null    object \n",
      " 1   Source_IP                    708 non-null    object \n",
      " 2   Source_Port                  708 non-null    int64  \n",
      " 3   Destination_IP               708 non-null    object \n",
      " 4   Destination_Port             708 non-null    int64  \n",
      " 5   Protocol                     708 non-null    int64  \n",
      " 6   Timestamp                    708 non-null    object \n",
      " 7   Flow_Duration                708 non-null    int64  \n",
      " 8   Total_Fwd_Packets            708 non-null    int64  \n",
      " 9   Total_Backward_Packets       708 non-null    int64  \n",
      " 10  Total_Length_of_Fwd_Packets  708 non-null    int64  \n",
      " 11  Total_Length_of_Bwd_Packets  708 non-null    float64\n",
      " 12  Fwd_Packet_Length_Max        708 non-null    int64  \n",
      " 13  Fwd_Packet_Length_Min        708 non-null    int64  \n",
      " 14  Fwd_Packet_Length_Mean       708 non-null    float64\n",
      " 15  Fwd_Packet_Length_Std        708 non-null    float64\n",
      " 16  Bwd_Packet_Length_Max        708 non-null    int64  \n",
      " 17  Bwd_Packet_Length_Min        708 non-null    int64  \n",
      " 18  Bwd_Packet_Length_Mean       708 non-null    float64\n",
      " 19  Bwd_Packet_Length_Std        708 non-null    float64\n",
      " 20  Flow_Bytes/s                 708 non-null    float64\n",
      " 21  Flow_Packets/s               708 non-null    float64\n",
      " 22  Flow_IAT_Mean                708 non-null    float64\n",
      " 23  Flow_IAT_Std                 708 non-null    float64\n",
      " 24  Flow_IAT_Max                 708 non-null    float64\n",
      " 25  Flow_IAT_Min                 708 non-null    float64\n",
      " 26  Fwd_IAT_Total                708 non-null    float64\n",
      " 27  Fwd_IAT_Mean                 708 non-null    float64\n",
      " 28  Fwd_IAT_Std                  708 non-null    float64\n",
      " 29  Fwd_IAT_Max                  708 non-null    float64\n",
      " 30  Fwd_IAT_Min                  708 non-null    float64\n",
      " 31  Bwd_IAT_Total                708 non-null    float64\n",
      " 32  Bwd_IAT_Mean                 708 non-null    float64\n",
      " 33  Bwd_IAT_Std                  708 non-null    float64\n",
      " 34  Bwd_IAT_Max                  708 non-null    float64\n",
      " 35  Bwd_IAT_Min                  708 non-null    float64\n",
      " 36  Fwd_PSH_Flags                708 non-null    int64  \n",
      " 37  Bwd_PSH_Flags                708 non-null    int64  \n",
      " 38  Fwd_URG_Flags                708 non-null    int64  \n",
      " 39  Bwd_URG_Flags                708 non-null    int64  \n",
      " 40  Fwd_Header_Length            708 non-null    int64  \n",
      " 41  Bwd_Header_Length            708 non-null    int64  \n",
      " 42  Fwd_Packets/s                708 non-null    float64\n",
      " 43  Bwd_Packets/s                708 non-null    float64\n",
      " 44  Min_Packet_Length            708 non-null    int64  \n",
      " 45  Max_Packet_Length            708 non-null    int64  \n",
      " 46  Packet_Length_Mean           708 non-null    float64\n",
      " 47  Packet_Length_Std            708 non-null    float64\n",
      " 48  Packet_Length_Variance       708 non-null    float64\n",
      " 49  FIN_Flag_Count               708 non-null    int64  \n",
      " 50  SYN_Flag_Count               708 non-null    int64  \n",
      " 51  RST_Flag_Count               708 non-null    int64  \n",
      " 52  PSH_Flag_Count               708 non-null    int64  \n",
      " 53  ACK_Flag_Count               708 non-null    int64  \n",
      " 54  URG_Flag_Count               708 non-null    int64  \n",
      " 55  CWE_Flag_Count               708 non-null    int64  \n",
      " 56  ECE_Flag_Count               708 non-null    int64  \n",
      " 57  Down/Up_Ratio                708 non-null    int64  \n",
      " 58  Average_Packet_Size          708 non-null    float64\n",
      " 59  Avg_Fwd_Segment_Size         708 non-null    float64\n",
      " 60  Avg_Bwd_Segment_Size         708 non-null    float64\n",
      " 61  Fwd_Header_Length.1          708 non-null    int64  \n",
      " 62  Fwd_Avg_Bytes/Bulk           708 non-null    int64  \n",
      " 63  Fwd_Avg_Packets/Bulk         708 non-null    int64  \n",
      " 64  Fwd_Avg_Bulk_Rate            708 non-null    int64  \n",
      " 65  Bwd_Avg_Bytes/Bulk           708 non-null    int64  \n",
      " 66  Bwd_Avg_Packets/Bulk         708 non-null    int64  \n",
      " 67  Bwd_Avg_Bulk_Rate            708 non-null    int64  \n",
      " 68  Subflow_Fwd_Packets          708 non-null    int64  \n",
      " 69  Subflow_Fwd_Bytes            708 non-null    int64  \n",
      " 70  Subflow_Bwd_Packets          708 non-null    int64  \n",
      " 71  Subflow_Bwd_Bytes            708 non-null    int64  \n",
      " 72  Init_Win_bytes_forward       708 non-null    int64  \n",
      " 73  Init_Win_bytes_backward      708 non-null    int64  \n",
      " 74  act_data_pkt_fwd             708 non-null    int64  \n",
      " 75  min_seg_size_forward         708 non-null    int64  \n",
      " 76  Active_Mean                  708 non-null    float64\n",
      " 77  Active_Std                   708 non-null    float64\n",
      " 78  Active_Max                   708 non-null    float64\n",
      " 79  Active_Min                   708 non-null    float64\n",
      " 80  Idle_Mean                    708 non-null    float64\n",
      " 81  Idle_Std                     708 non-null    float64\n",
      " 82  Idle_Max                     708 non-null    float64\n",
      " 83  Idle_Min                     708 non-null    float64\n",
      " 84  Label                        708 non-null    object \n",
      "dtypes: float64(37), int64(43), object(5)\n",
      "memory usage: 475.7+ KB\n"
     ]
    }
   ],
   "source": [
    "df_truth.columns = df_truth.columns.str.strip()  # remove leading/trailing spaces\n",
    "df_truth.columns = df_truth.columns.str.replace(' ', '_')  # optional: make them easier to type\n",
    "\n",
    "df_truth['Source_Port'] = pd.to_numeric(df_truth['Source_Port'], errors='coerce')\n",
    "df_truth['Destination_Port'] = pd.to_numeric(df_truth['Destination_Port'], errors='coerce')\n",
    "\n",
    "# Optionally: drop rows with NaN in these columns\n",
    "df_truth.dropna(subset=['Source_Port', 'Destination_Port'], inplace=True)\n",
    "\n",
    "# Filter to only include rows where either port is 465\n",
    "df_truth = df_truth[(df_truth['Source_Port'] == 465) | (df_truth['Destination_Port'] == 465)]\n",
    "\n",
    "# Now you can safely convert to int\n",
    "df_truth['Source_Port'] = df_truth['Source_Port'].astype(int)\n",
    "df_truth['Destination_Port'] = df_truth['Destination_Port'].astype(int)\n",
    "\n",
    "\n",
    "df_truth.info()"
   ]
  },
  {
   "cell_type": "code",
   "execution_count": 34,
   "metadata": {},
   "outputs": [
    {
     "data": {
      "text/plain": [
       "33      BENIGN\n",
       "34      BENIGN\n",
       "52      BENIGN\n",
       "53      BENIGN\n",
       "1144    BENIGN\n",
       "Name: Label, dtype: object"
      ]
     },
     "execution_count": 34,
     "metadata": {},
     "output_type": "execute_result"
    }
   ],
   "source": [
    "df_truth['Label'].head()"
   ]
  },
  {
   "cell_type": "code",
   "execution_count": 35,
   "metadata": {},
   "outputs": [
    {
     "name": "stderr",
     "output_type": "stream",
     "text": [
      "/tmp/ipykernel_405762/691346611.py:21: FutureWarning: Series.__getitem__ treating keys as positions is deprecated. In a future version, integer keys will always be treated as labels (consistent with DataFrame behavior). To access a value by position, use `ser.iloc[pos]`\n",
      "  .astype(str).apply(lambda row: \"-\".join([row[0], row[1], row[2], row[3], map_protocol(row[4])]), axis=1)\n"
     ]
    }
   ],
   "source": [
    "df_truth['Source_Port'] = df_truth['Source_Port'].astype(str)\n",
    "df_truth['Destination_Port'] = df_truth['Destination_Port'].astype(str)\n",
    "\n",
    "df_truth['Protocol'] = pd.to_numeric(df_truth['Protocol'], errors='coerce')  \n",
    "df_truth.dropna(subset=['Protocol'], inplace=True)                      \n",
    "df_truth['Protocol'] = df_truth['Protocol'].astype(int).astype(str)         \n",
    "\n",
    "protocol_map = {\n",
    "    '6': 'tcp',\n",
    "    '17': 'udp',\n",
    "    '1': 'icmp',\n",
    "    '0': 'other'  # fallback or unknown\n",
    "}\n",
    "\n",
    "# Convert 'Protocol' number to string using the mapping\n",
    "def map_protocol(protocol):\n",
    "    return protocol_map.get(protocol, 'other')\n",
    "\n",
    "# Apply the conversion for 'Protocol' and concatenate the 'id'\n",
    "df_truth['id'] = df_truth[['Source_IP', 'Source_Port', 'Destination_IP', 'Destination_Port', 'Protocol']]\\\n",
    "    .astype(str).apply(lambda row: \"-\".join([row[0], row[1], row[2], row[3], map_protocol(row[4])]), axis=1)"
   ]
  },
  {
   "cell_type": "markdown",
   "metadata": {},
   "source": [
    "## Making Predictions"
   ]
  },
  {
   "cell_type": "code",
   "execution_count": 36,
   "metadata": {},
   "outputs": [
    {
     "data": {
      "text/plain": [
       "0       192.168.10.9-13795-173.194.206.108-465-tcp\n",
       "1      192.168.10.12-47222-173.194.206.109-465-tcp\n",
       "2       192.168.10.15-49521-173.194.68.108-465-tcp\n",
       "3       192.168.10.19-54528-173.194.68.109-465-tcp\n",
       "4       192.168.10.9-14411-173.194.208.108-465-tcp\n",
       "                          ...                     \n",
       "347    192.168.10.15-57492-173.194.206.108-465-tcp\n",
       "348    192.168.10.17-56041-173.194.206.109-465-tcp\n",
       "349    192.168.10.51-55767-173.194.206.108-465-tcp\n",
       "350     192.168.10.9-23242-173.194.206.109-465-tcp\n",
       "351    192.168.10.16-43334-173.194.206.108-465-tcp\n",
       "Name: id, Length: 352, dtype: object"
      ]
     },
     "execution_count": 36,
     "metadata": {},
     "output_type": "execute_result"
    }
   ],
   "source": [
    "df_pred[\"id\"]"
   ]
  },
  {
   "cell_type": "code",
   "execution_count": 37,
   "metadata": {},
   "outputs": [
    {
     "data": {
      "text/plain": [
       "33         192.168.10.9-13795-173.194.206.108-465-tcp\n",
       "34         192.168.10.9-13795-173.194.206.108-465-tcp\n",
       "52        192.168.10.12-47222-173.194.206.109-465-tcp\n",
       "53        192.168.10.12-47222-173.194.206.109-465-tcp\n",
       "1144       192.168.10.15-49521-173.194.68.108-465-tcp\n",
       "                             ...                     \n",
       "498987     192.168.10.9-23242-173.194.206.109-465-tcp\n",
       "498988     192.168.10.9-23242-173.194.206.109-465-tcp\n",
       "499220    192.168.10.16-43334-173.194.206.108-465-tcp\n",
       "499221    192.168.10.16-43334-173.194.206.108-465-tcp\n",
       "635212    192.168.10.14-49824-173.194.208.108-465-tcp\n",
       "Name: id, Length: 708, dtype: object"
      ]
     },
     "execution_count": 37,
     "metadata": {},
     "output_type": "execute_result"
    }
   ],
   "source": [
    "df_truth[\"id\"]"
   ]
  },
  {
   "cell_type": "code",
   "execution_count": 38,
   "metadata": {},
   "outputs": [
    {
     "name": "stdout",
     "output_type": "stream",
     "text": [
      "0\n"
     ]
    }
   ],
   "source": [
    "# Using boolean indexing to filter by the specific ID\n",
    "count = df_truth[df_truth[\"id\"] == \"192.168.10.15-49451-13.107.4.50-80-tcp\"].shape[0]\n",
    "\n",
    "print(count)\n"
   ]
  },
  {
   "cell_type": "code",
   "execution_count": 39,
   "metadata": {},
   "outputs": [],
   "source": [
    "# Convert 'Label' column to numeric: BENIGN -> 0, other -> 1\n",
    "df_truth['Label'] = df_truth['Label'].apply(lambda x: 0 if x == 'BENIGN' else 1)"
   ]
  },
  {
   "cell_type": "code",
   "execution_count": 40,
   "metadata": {},
   "outputs": [],
   "source": [
    "# df_pred[\"Label\"] = np.where(df_pred[\"id\"].isin(df_truth[\"id\"]), 1, 0)\n",
    "\n",
    "df_pred = df_pred.merge(df_truth[['id', 'Label']], on='id', how='left')\n",
    "df_pred = df_pred.dropna(subset=['Label'])"
   ]
  },
  {
   "cell_type": "code",
   "execution_count": 41,
   "metadata": {},
   "outputs": [
    {
     "data": {
      "text/html": [
       "<div>\n",
       "<style scoped>\n",
       "    .dataframe tbody tr th:only-of-type {\n",
       "        vertical-align: middle;\n",
       "    }\n",
       "\n",
       "    .dataframe tbody tr th {\n",
       "        vertical-align: top;\n",
       "    }\n",
       "\n",
       "    .dataframe thead th {\n",
       "        text-align: right;\n",
       "    }\n",
       "</style>\n",
       "<table border=\"1\" class=\"dataframe\">\n",
       "  <thead>\n",
       "    <tr style=\"text-align: right;\">\n",
       "      <th></th>\n",
       "      <th>id</th>\n",
       "      <th>binary_error</th>\n",
       "      <th>b_mean</th>\n",
       "      <th>b_iqr</th>\n",
       "      <th>b_zscore</th>\n",
       "      <th>floatin_error</th>\n",
       "      <th>f_mean</th>\n",
       "      <th>f_iqr</th>\n",
       "      <th>f_zscore</th>\n",
       "      <th>Label</th>\n",
       "    </tr>\n",
       "  </thead>\n",
       "  <tbody>\n",
       "  </tbody>\n",
       "</table>\n",
       "</div>"
      ],
      "text/plain": [
       "Empty DataFrame\n",
       "Columns: [id, binary_error, b_mean, b_iqr, b_zscore, floatin_error, f_mean, f_iqr, f_zscore, Label]\n",
       "Index: []"
      ]
     },
     "execution_count": 41,
     "metadata": {},
     "output_type": "execute_result"
    }
   ],
   "source": [
    "df_pred[df_pred['Label']==1]"
   ]
  },
  {
   "cell_type": "code",
   "execution_count": 42,
   "metadata": {},
   "outputs": [
    {
     "data": {
      "text/html": [
       "<div>\n",
       "<style scoped>\n",
       "    .dataframe tbody tr th:only-of-type {\n",
       "        vertical-align: middle;\n",
       "    }\n",
       "\n",
       "    .dataframe tbody tr th {\n",
       "        vertical-align: top;\n",
       "    }\n",
       "\n",
       "    .dataframe thead th {\n",
       "        text-align: right;\n",
       "    }\n",
       "</style>\n",
       "<table border=\"1\" class=\"dataframe\">\n",
       "  <thead>\n",
       "    <tr style=\"text-align: right;\">\n",
       "      <th></th>\n",
       "      <th>id</th>\n",
       "      <th>binary_error</th>\n",
       "      <th>b_mean</th>\n",
       "      <th>b_iqr</th>\n",
       "      <th>b_zscore</th>\n",
       "      <th>floatin_error</th>\n",
       "      <th>f_mean</th>\n",
       "      <th>f_iqr</th>\n",
       "      <th>f_zscore</th>\n",
       "      <th>Label</th>\n",
       "    </tr>\n",
       "  </thead>\n",
       "  <tbody>\n",
       "    <tr>\n",
       "      <th>0</th>\n",
       "      <td>192.168.10.9-13795-173.194.206.108-465-tcp</td>\n",
       "      <td>0.040550</td>\n",
       "      <td>0</td>\n",
       "      <td>0</td>\n",
       "      <td>0</td>\n",
       "      <td>5923.441945</td>\n",
       "      <td>0</td>\n",
       "      <td>0</td>\n",
       "      <td>0</td>\n",
       "      <td>0.0</td>\n",
       "    </tr>\n",
       "    <tr>\n",
       "      <th>1</th>\n",
       "      <td>192.168.10.9-13795-173.194.206.108-465-tcp</td>\n",
       "      <td>0.040550</td>\n",
       "      <td>0</td>\n",
       "      <td>0</td>\n",
       "      <td>0</td>\n",
       "      <td>5923.441945</td>\n",
       "      <td>0</td>\n",
       "      <td>0</td>\n",
       "      <td>0</td>\n",
       "      <td>0.0</td>\n",
       "    </tr>\n",
       "    <tr>\n",
       "      <th>2</th>\n",
       "      <td>192.168.10.12-47222-173.194.206.109-465-tcp</td>\n",
       "      <td>0.041334</td>\n",
       "      <td>0</td>\n",
       "      <td>0</td>\n",
       "      <td>0</td>\n",
       "      <td>11009.813227</td>\n",
       "      <td>0</td>\n",
       "      <td>0</td>\n",
       "      <td>0</td>\n",
       "      <td>0.0</td>\n",
       "    </tr>\n",
       "    <tr>\n",
       "      <th>3</th>\n",
       "      <td>192.168.10.12-47222-173.194.206.109-465-tcp</td>\n",
       "      <td>0.041334</td>\n",
       "      <td>0</td>\n",
       "      <td>0</td>\n",
       "      <td>0</td>\n",
       "      <td>11009.813227</td>\n",
       "      <td>0</td>\n",
       "      <td>0</td>\n",
       "      <td>0</td>\n",
       "      <td>0.0</td>\n",
       "    </tr>\n",
       "    <tr>\n",
       "      <th>4</th>\n",
       "      <td>192.168.10.15-49521-173.194.68.108-465-tcp</td>\n",
       "      <td>0.040293</td>\n",
       "      <td>0</td>\n",
       "      <td>0</td>\n",
       "      <td>0</td>\n",
       "      <td>5355.127753</td>\n",
       "      <td>0</td>\n",
       "      <td>0</td>\n",
       "      <td>0</td>\n",
       "      <td>0.0</td>\n",
       "    </tr>\n",
       "    <tr>\n",
       "      <th>...</th>\n",
       "      <td>...</td>\n",
       "      <td>...</td>\n",
       "      <td>...</td>\n",
       "      <td>...</td>\n",
       "      <td>...</td>\n",
       "      <td>...</td>\n",
       "      <td>...</td>\n",
       "      <td>...</td>\n",
       "      <td>...</td>\n",
       "      <td>...</td>\n",
       "    </tr>\n",
       "    <tr>\n",
       "      <th>687</th>\n",
       "      <td>192.168.10.51-55767-173.194.206.108-465-tcp</td>\n",
       "      <td>0.054129</td>\n",
       "      <td>0</td>\n",
       "      <td>0</td>\n",
       "      <td>1</td>\n",
       "      <td>8230.586926</td>\n",
       "      <td>0</td>\n",
       "      <td>0</td>\n",
       "      <td>0</td>\n",
       "      <td>0.0</td>\n",
       "    </tr>\n",
       "    <tr>\n",
       "      <th>688</th>\n",
       "      <td>192.168.10.9-23242-173.194.206.109-465-tcp</td>\n",
       "      <td>0.035386</td>\n",
       "      <td>0</td>\n",
       "      <td>0</td>\n",
       "      <td>0</td>\n",
       "      <td>6174.350355</td>\n",
       "      <td>0</td>\n",
       "      <td>0</td>\n",
       "      <td>0</td>\n",
       "      <td>0.0</td>\n",
       "    </tr>\n",
       "    <tr>\n",
       "      <th>689</th>\n",
       "      <td>192.168.10.9-23242-173.194.206.109-465-tcp</td>\n",
       "      <td>0.035386</td>\n",
       "      <td>0</td>\n",
       "      <td>0</td>\n",
       "      <td>0</td>\n",
       "      <td>6174.350355</td>\n",
       "      <td>0</td>\n",
       "      <td>0</td>\n",
       "      <td>0</td>\n",
       "      <td>0.0</td>\n",
       "    </tr>\n",
       "    <tr>\n",
       "      <th>690</th>\n",
       "      <td>192.168.10.16-43334-173.194.206.108-465-tcp</td>\n",
       "      <td>0.035436</td>\n",
       "      <td>0</td>\n",
       "      <td>0</td>\n",
       "      <td>0</td>\n",
       "      <td>8909.887074</td>\n",
       "      <td>0</td>\n",
       "      <td>0</td>\n",
       "      <td>0</td>\n",
       "      <td>0.0</td>\n",
       "    </tr>\n",
       "    <tr>\n",
       "      <th>691</th>\n",
       "      <td>192.168.10.16-43334-173.194.206.108-465-tcp</td>\n",
       "      <td>0.035436</td>\n",
       "      <td>0</td>\n",
       "      <td>0</td>\n",
       "      <td>0</td>\n",
       "      <td>8909.887074</td>\n",
       "      <td>0</td>\n",
       "      <td>0</td>\n",
       "      <td>0</td>\n",
       "      <td>0.0</td>\n",
       "    </tr>\n",
       "  </tbody>\n",
       "</table>\n",
       "<p>691 rows × 10 columns</p>\n",
       "</div>"
      ],
      "text/plain": [
       "                                              id  binary_error  b_mean  b_iqr  \\\n",
       "0     192.168.10.9-13795-173.194.206.108-465-tcp      0.040550       0      0   \n",
       "1     192.168.10.9-13795-173.194.206.108-465-tcp      0.040550       0      0   \n",
       "2    192.168.10.12-47222-173.194.206.109-465-tcp      0.041334       0      0   \n",
       "3    192.168.10.12-47222-173.194.206.109-465-tcp      0.041334       0      0   \n",
       "4     192.168.10.15-49521-173.194.68.108-465-tcp      0.040293       0      0   \n",
       "..                                           ...           ...     ...    ...   \n",
       "687  192.168.10.51-55767-173.194.206.108-465-tcp      0.054129       0      0   \n",
       "688   192.168.10.9-23242-173.194.206.109-465-tcp      0.035386       0      0   \n",
       "689   192.168.10.9-23242-173.194.206.109-465-tcp      0.035386       0      0   \n",
       "690  192.168.10.16-43334-173.194.206.108-465-tcp      0.035436       0      0   \n",
       "691  192.168.10.16-43334-173.194.206.108-465-tcp      0.035436       0      0   \n",
       "\n",
       "     b_zscore  floatin_error  f_mean  f_iqr  f_zscore  Label  \n",
       "0           0    5923.441945       0      0         0    0.0  \n",
       "1           0    5923.441945       0      0         0    0.0  \n",
       "2           0   11009.813227       0      0         0    0.0  \n",
       "3           0   11009.813227       0      0         0    0.0  \n",
       "4           0    5355.127753       0      0         0    0.0  \n",
       "..        ...            ...     ...    ...       ...    ...  \n",
       "687         1    8230.586926       0      0         0    0.0  \n",
       "688         0    6174.350355       0      0         0    0.0  \n",
       "689         0    6174.350355       0      0         0    0.0  \n",
       "690         0    8909.887074       0      0         0    0.0  \n",
       "691         0    8909.887074       0      0         0    0.0  \n",
       "\n",
       "[691 rows x 10 columns]"
      ]
     },
     "execution_count": 42,
     "metadata": {},
     "output_type": "execute_result"
    }
   ],
   "source": [
    "df_pred[df_pred['Label']==0]"
   ]
  },
  {
   "cell_type": "code",
   "execution_count": 43,
   "metadata": {},
   "outputs": [
    {
     "data": {
      "text/html": [
       "<div>\n",
       "<style scoped>\n",
       "    .dataframe tbody tr th:only-of-type {\n",
       "        vertical-align: middle;\n",
       "    }\n",
       "\n",
       "    .dataframe tbody tr th {\n",
       "        vertical-align: top;\n",
       "    }\n",
       "\n",
       "    .dataframe thead th {\n",
       "        text-align: right;\n",
       "    }\n",
       "</style>\n",
       "<table border=\"1\" class=\"dataframe\">\n",
       "  <thead>\n",
       "    <tr style=\"text-align: right;\">\n",
       "      <th></th>\n",
       "      <th>id</th>\n",
       "      <th>binary_error</th>\n",
       "      <th>b_mean</th>\n",
       "      <th>b_iqr</th>\n",
       "      <th>b_zscore</th>\n",
       "      <th>floatin_error</th>\n",
       "      <th>f_mean</th>\n",
       "      <th>f_iqr</th>\n",
       "      <th>f_zscore</th>\n",
       "      <th>Label</th>\n",
       "    </tr>\n",
       "  </thead>\n",
       "  <tbody>\n",
       "    <tr>\n",
       "      <th>0</th>\n",
       "      <td>192.168.10.9-13795-173.194.206.108-465-tcp</td>\n",
       "      <td>0.040550</td>\n",
       "      <td>0</td>\n",
       "      <td>0</td>\n",
       "      <td>0</td>\n",
       "      <td>5923.441945</td>\n",
       "      <td>0</td>\n",
       "      <td>0</td>\n",
       "      <td>0</td>\n",
       "      <td>0.0</td>\n",
       "    </tr>\n",
       "    <tr>\n",
       "      <th>1</th>\n",
       "      <td>192.168.10.9-13795-173.194.206.108-465-tcp</td>\n",
       "      <td>0.040550</td>\n",
       "      <td>0</td>\n",
       "      <td>0</td>\n",
       "      <td>0</td>\n",
       "      <td>5923.441945</td>\n",
       "      <td>0</td>\n",
       "      <td>0</td>\n",
       "      <td>0</td>\n",
       "      <td>0.0</td>\n",
       "    </tr>\n",
       "    <tr>\n",
       "      <th>2</th>\n",
       "      <td>192.168.10.12-47222-173.194.206.109-465-tcp</td>\n",
       "      <td>0.041334</td>\n",
       "      <td>0</td>\n",
       "      <td>0</td>\n",
       "      <td>0</td>\n",
       "      <td>11009.813227</td>\n",
       "      <td>0</td>\n",
       "      <td>0</td>\n",
       "      <td>0</td>\n",
       "      <td>0.0</td>\n",
       "    </tr>\n",
       "    <tr>\n",
       "      <th>3</th>\n",
       "      <td>192.168.10.12-47222-173.194.206.109-465-tcp</td>\n",
       "      <td>0.041334</td>\n",
       "      <td>0</td>\n",
       "      <td>0</td>\n",
       "      <td>0</td>\n",
       "      <td>11009.813227</td>\n",
       "      <td>0</td>\n",
       "      <td>0</td>\n",
       "      <td>0</td>\n",
       "      <td>0.0</td>\n",
       "    </tr>\n",
       "    <tr>\n",
       "      <th>4</th>\n",
       "      <td>192.168.10.15-49521-173.194.68.108-465-tcp</td>\n",
       "      <td>0.040293</td>\n",
       "      <td>0</td>\n",
       "      <td>0</td>\n",
       "      <td>0</td>\n",
       "      <td>5355.127753</td>\n",
       "      <td>0</td>\n",
       "      <td>0</td>\n",
       "      <td>0</td>\n",
       "      <td>0.0</td>\n",
       "    </tr>\n",
       "    <tr>\n",
       "      <th>...</th>\n",
       "      <td>...</td>\n",
       "      <td>...</td>\n",
       "      <td>...</td>\n",
       "      <td>...</td>\n",
       "      <td>...</td>\n",
       "      <td>...</td>\n",
       "      <td>...</td>\n",
       "      <td>...</td>\n",
       "      <td>...</td>\n",
       "      <td>...</td>\n",
       "    </tr>\n",
       "    <tr>\n",
       "      <th>687</th>\n",
       "      <td>192.168.10.51-55767-173.194.206.108-465-tcp</td>\n",
       "      <td>0.054129</td>\n",
       "      <td>0</td>\n",
       "      <td>0</td>\n",
       "      <td>1</td>\n",
       "      <td>8230.586926</td>\n",
       "      <td>0</td>\n",
       "      <td>0</td>\n",
       "      <td>0</td>\n",
       "      <td>0.0</td>\n",
       "    </tr>\n",
       "    <tr>\n",
       "      <th>688</th>\n",
       "      <td>192.168.10.9-23242-173.194.206.109-465-tcp</td>\n",
       "      <td>0.035386</td>\n",
       "      <td>0</td>\n",
       "      <td>0</td>\n",
       "      <td>0</td>\n",
       "      <td>6174.350355</td>\n",
       "      <td>0</td>\n",
       "      <td>0</td>\n",
       "      <td>0</td>\n",
       "      <td>0.0</td>\n",
       "    </tr>\n",
       "    <tr>\n",
       "      <th>689</th>\n",
       "      <td>192.168.10.9-23242-173.194.206.109-465-tcp</td>\n",
       "      <td>0.035386</td>\n",
       "      <td>0</td>\n",
       "      <td>0</td>\n",
       "      <td>0</td>\n",
       "      <td>6174.350355</td>\n",
       "      <td>0</td>\n",
       "      <td>0</td>\n",
       "      <td>0</td>\n",
       "      <td>0.0</td>\n",
       "    </tr>\n",
       "    <tr>\n",
       "      <th>690</th>\n",
       "      <td>192.168.10.16-43334-173.194.206.108-465-tcp</td>\n",
       "      <td>0.035436</td>\n",
       "      <td>0</td>\n",
       "      <td>0</td>\n",
       "      <td>0</td>\n",
       "      <td>8909.887074</td>\n",
       "      <td>0</td>\n",
       "      <td>0</td>\n",
       "      <td>0</td>\n",
       "      <td>0.0</td>\n",
       "    </tr>\n",
       "    <tr>\n",
       "      <th>691</th>\n",
       "      <td>192.168.10.16-43334-173.194.206.108-465-tcp</td>\n",
       "      <td>0.035436</td>\n",
       "      <td>0</td>\n",
       "      <td>0</td>\n",
       "      <td>0</td>\n",
       "      <td>8909.887074</td>\n",
       "      <td>0</td>\n",
       "      <td>0</td>\n",
       "      <td>0</td>\n",
       "      <td>0.0</td>\n",
       "    </tr>\n",
       "  </tbody>\n",
       "</table>\n",
       "<p>691 rows × 10 columns</p>\n",
       "</div>"
      ],
      "text/plain": [
       "                                              id  binary_error  b_mean  b_iqr  \\\n",
       "0     192.168.10.9-13795-173.194.206.108-465-tcp      0.040550       0      0   \n",
       "1     192.168.10.9-13795-173.194.206.108-465-tcp      0.040550       0      0   \n",
       "2    192.168.10.12-47222-173.194.206.109-465-tcp      0.041334       0      0   \n",
       "3    192.168.10.12-47222-173.194.206.109-465-tcp      0.041334       0      0   \n",
       "4     192.168.10.15-49521-173.194.68.108-465-tcp      0.040293       0      0   \n",
       "..                                           ...           ...     ...    ...   \n",
       "687  192.168.10.51-55767-173.194.206.108-465-tcp      0.054129       0      0   \n",
       "688   192.168.10.9-23242-173.194.206.109-465-tcp      0.035386       0      0   \n",
       "689   192.168.10.9-23242-173.194.206.109-465-tcp      0.035386       0      0   \n",
       "690  192.168.10.16-43334-173.194.206.108-465-tcp      0.035436       0      0   \n",
       "691  192.168.10.16-43334-173.194.206.108-465-tcp      0.035436       0      0   \n",
       "\n",
       "     b_zscore  floatin_error  f_mean  f_iqr  f_zscore  Label  \n",
       "0           0    5923.441945       0      0         0    0.0  \n",
       "1           0    5923.441945       0      0         0    0.0  \n",
       "2           0   11009.813227       0      0         0    0.0  \n",
       "3           0   11009.813227       0      0         0    0.0  \n",
       "4           0    5355.127753       0      0         0    0.0  \n",
       "..        ...            ...     ...    ...       ...    ...  \n",
       "687         1    8230.586926       0      0         0    0.0  \n",
       "688         0    6174.350355       0      0         0    0.0  \n",
       "689         0    6174.350355       0      0         0    0.0  \n",
       "690         0    8909.887074       0      0         0    0.0  \n",
       "691         0    8909.887074       0      0         0    0.0  \n",
       "\n",
       "[691 rows x 10 columns]"
      ]
     },
     "execution_count": 43,
     "metadata": {},
     "output_type": "execute_result"
    }
   ],
   "source": [
    "df_pred"
   ]
  },
  {
   "cell_type": "code",
   "execution_count": 44,
   "metadata": {},
   "outputs": [
    {
     "data": {
      "text/plain": [
       "Label\n",
       "0.0      691\n",
       "Name: count, dtype: int64"
      ]
     },
     "execution_count": 44,
     "metadata": {},
     "output_type": "execute_result"
    }
   ],
   "source": [
    "df_pred[['Label']].value_counts()"
   ]
  },
  {
   "cell_type": "code",
   "execution_count": 45,
   "metadata": {},
   "outputs": [],
   "source": [
    "import os\n",
    "# Define the directory path\n",
    "dir_path = '../mcnemar/ftp'\n",
    "\n",
    "# Check if the directory exists, and if not, create it\n",
    "if not os.path.exists(dir_path):\n",
    "    os.makedirs(dir_path)\n",
    "\n",
    "df_temp = df_pred[['id', 'b_mean','b_iqr', 'b_zscore', 'f_zscore', 'f_mean','f_iqr' ]]\n",
    "df_temp.to_csv(os.path.join(dir_path, 'pred_0.0.csv'))"
   ]
  },
  {
   "cell_type": "markdown",
   "metadata": {},
   "source": [
    "## Calculating Score"
   ]
  },
  {
   "cell_type": "code",
   "execution_count": 46,
   "metadata": {},
   "outputs": [],
   "source": [
    "threshold = ['b_mean', 'b_iqr', 'b_zscore']\n",
    "threshold_2 = ['f_mean', 'f_iqr', 'f_zscore']\n",
    "\n",
    "methods = ['binary', 'floating']"
   ]
  },
  {
   "cell_type": "code",
   "execution_count": 47,
   "metadata": {},
   "outputs": [
    {
     "data": {
      "text/html": [
       "<div>\n",
       "<style scoped>\n",
       "    .dataframe tbody tr th:only-of-type {\n",
       "        vertical-align: middle;\n",
       "    }\n",
       "\n",
       "    .dataframe tbody tr th {\n",
       "        vertical-align: top;\n",
       "    }\n",
       "\n",
       "    .dataframe thead th {\n",
       "        text-align: right;\n",
       "    }\n",
       "</style>\n",
       "<table border=\"1\" class=\"dataframe\">\n",
       "  <thead>\n",
       "    <tr style=\"text-align: right;\">\n",
       "      <th></th>\n",
       "      <th>b_zscore</th>\n",
       "    </tr>\n",
       "  </thead>\n",
       "  <tbody>\n",
       "    <tr>\n",
       "      <th>0</th>\n",
       "      <td>0</td>\n",
       "    </tr>\n",
       "    <tr>\n",
       "      <th>1</th>\n",
       "      <td>0</td>\n",
       "    </tr>\n",
       "    <tr>\n",
       "      <th>2</th>\n",
       "      <td>0</td>\n",
       "    </tr>\n",
       "    <tr>\n",
       "      <th>3</th>\n",
       "      <td>0</td>\n",
       "    </tr>\n",
       "    <tr>\n",
       "      <th>4</th>\n",
       "      <td>0</td>\n",
       "    </tr>\n",
       "    <tr>\n",
       "      <th>...</th>\n",
       "      <td>...</td>\n",
       "    </tr>\n",
       "    <tr>\n",
       "      <th>687</th>\n",
       "      <td>1</td>\n",
       "    </tr>\n",
       "    <tr>\n",
       "      <th>688</th>\n",
       "      <td>0</td>\n",
       "    </tr>\n",
       "    <tr>\n",
       "      <th>689</th>\n",
       "      <td>0</td>\n",
       "    </tr>\n",
       "    <tr>\n",
       "      <th>690</th>\n",
       "      <td>0</td>\n",
       "    </tr>\n",
       "    <tr>\n",
       "      <th>691</th>\n",
       "      <td>0</td>\n",
       "    </tr>\n",
       "  </tbody>\n",
       "</table>\n",
       "<p>691 rows × 1 columns</p>\n",
       "</div>"
      ],
      "text/plain": [
       "     b_zscore\n",
       "0           0\n",
       "1           0\n",
       "2           0\n",
       "3           0\n",
       "4           0\n",
       "..        ...\n",
       "687         1\n",
       "688         0\n",
       "689         0\n",
       "690         0\n",
       "691         0\n",
       "\n",
       "[691 rows x 1 columns]"
      ]
     },
     "execution_count": 47,
     "metadata": {},
     "output_type": "execute_result"
    }
   ],
   "source": [
    "df_pred[['b_zscore']]"
   ]
  },
  {
   "cell_type": "markdown",
   "metadata": {},
   "source": [
    "### Detection Rate"
   ]
  },
  {
   "cell_type": "code",
   "execution_count": 48,
   "metadata": {},
   "outputs": [
    {
     "name": "stdout",
     "output_type": "stream",
     "text": [
      "Recall-Binary-b_mean: 0.0\n",
      "Recall-Binary-b_iqr: 0.0\n",
      "Recall-Binary-b_zscore: 0.0\n",
      "Recall-Floating-f_mean: 0.0\n",
      "Recall-Floating-f_iqr: 0.0\n",
      "Recall-Floating-f_zscore: 0.0\n"
     ]
    },
    {
     "name": "stderr",
     "output_type": "stream",
     "text": [
      "/home/apta/myenv/lib/python3.9/site-packages/sklearn/metrics/_classification.py:1565: UndefinedMetricWarning: Recall is ill-defined and being set to 0.0 due to no true samples. Use `zero_division` parameter to control this behavior.\n",
      "  _warn_prf(average, modifier, f\"{metric.capitalize()} is\", len(result))\n",
      "/home/apta/myenv/lib/python3.9/site-packages/sklearn/metrics/_classification.py:1565: UndefinedMetricWarning: Recall is ill-defined and being set to 0.0 due to no true samples. Use `zero_division` parameter to control this behavior.\n",
      "  _warn_prf(average, modifier, f\"{metric.capitalize()} is\", len(result))\n",
      "/home/apta/myenv/lib/python3.9/site-packages/sklearn/metrics/_classification.py:1565: UndefinedMetricWarning: Recall is ill-defined and being set to 0.0 due to no true samples. Use `zero_division` parameter to control this behavior.\n",
      "  _warn_prf(average, modifier, f\"{metric.capitalize()} is\", len(result))\n",
      "/home/apta/myenv/lib/python3.9/site-packages/sklearn/metrics/_classification.py:1565: UndefinedMetricWarning: Recall is ill-defined and being set to 0.0 due to no true samples. Use `zero_division` parameter to control this behavior.\n",
      "  _warn_prf(average, modifier, f\"{metric.capitalize()} is\", len(result))\n",
      "/home/apta/myenv/lib/python3.9/site-packages/sklearn/metrics/_classification.py:1565: UndefinedMetricWarning: Recall is ill-defined and being set to 0.0 due to no true samples. Use `zero_division` parameter to control this behavior.\n",
      "  _warn_prf(average, modifier, f\"{metric.capitalize()} is\", len(result))\n",
      "/home/apta/myenv/lib/python3.9/site-packages/sklearn/metrics/_classification.py:1565: UndefinedMetricWarning: Recall is ill-defined and being set to 0.0 due to no true samples. Use `zero_division` parameter to control this behavior.\n",
      "  _warn_prf(average, modifier, f\"{metric.capitalize()} is\", len(result))\n"
     ]
    }
   ],
   "source": [
    "from sklearn.metrics import recall_score\n",
    "\n",
    "score = dict()\n",
    "score['Detection Rate'] = dict()\n",
    "for method in methods:\n",
    "    if method == 'binary':\n",
    "        for i in threshold:\n",
    "            acc = recall_score(df_pred['Label'], df_pred[i].astype(int))\n",
    "            score['Detection Rate'][i] = acc\n",
    "            print(f'Recall-Binary-{i}: {acc}')\n",
    "    else:\n",
    "        for i in threshold_2:\n",
    "            acc = recall_score(df_pred['Label'], df_pred[i].astype(int))\n",
    "            score['Detection Rate'][i] = acc\n",
    "            print(f'Recall-Floating-{i}: {acc}')  "
   ]
  },
  {
   "cell_type": "markdown",
   "metadata": {},
   "source": [
    "### Confussion Matrix"
   ]
  },
  {
   "cell_type": "code",
   "execution_count": 50,
   "metadata": {},
   "outputs": [
    {
     "name": "stderr",
     "output_type": "stream",
     "text": [
      "/home/apta/myenv/lib/python3.9/site-packages/sklearn/metrics/_classification.py:407: UserWarning: A single label was found in 'y_true' and 'y_pred'. For the confusion matrix to have the correct shape, use the 'labels' parameter to pass all known labels.\n",
      "  warnings.warn(\n"
     ]
    },
    {
     "ename": "ValueError",
     "evalue": "The number of FixedLocator locations (1), usually from a call to set_ticks, does not match the number of labels (2).",
     "output_type": "error",
     "traceback": [
      "\u001b[0;31m---------------------------------------------------------------------------\u001b[0m",
      "\u001b[0;31mValueError\u001b[0m                                Traceback (most recent call last)",
      "Cell \u001b[0;32mIn[50], line 9\u001b[0m\n\u001b[1;32m      7\u001b[0m conf_matrix \u001b[38;5;241m=\u001b[39m confusion_matrix(df_pred[\u001b[38;5;124m'\u001b[39m\u001b[38;5;124mLabel\u001b[39m\u001b[38;5;124m'\u001b[39m], df_pred[i]\u001b[38;5;241m.\u001b[39mastype(\u001b[38;5;28mint\u001b[39m))\n\u001b[1;32m      8\u001b[0m cm_display \u001b[38;5;241m=\u001b[39m ConfusionMatrixDisplay(confusion_matrix \u001b[38;5;241m=\u001b[39m conf_matrix, display_labels\u001b[38;5;241m=\u001b[39m[\u001b[38;5;124m'\u001b[39m\u001b[38;5;124mBenign\u001b[39m\u001b[38;5;124m'\u001b[39m, \u001b[38;5;124m'\u001b[39m\u001b[38;5;124mAnomaly\u001b[39m\u001b[38;5;124m'\u001b[39m])\n\u001b[0;32m----> 9\u001b[0m \u001b[43mcm_display\u001b[49m\u001b[38;5;241;43m.\u001b[39;49m\u001b[43mplot\u001b[49m\u001b[43m(\u001b[49m\u001b[43m)\u001b[49m\n\u001b[1;32m     10\u001b[0m plt\u001b[38;5;241m.\u001b[39mtitle(\u001b[38;5;124mf\u001b[39m\u001b[38;5;124m'\u001b[39m\u001b[38;5;124mBinary - \u001b[39m\u001b[38;5;132;01m{\u001b[39;00mi\u001b[38;5;241m.\u001b[39mstrip()\u001b[38;5;132;01m}\u001b[39;00m\u001b[38;5;124m'\u001b[39m)\n\u001b[1;32m     11\u001b[0m plt\u001b[38;5;241m.\u001b[39mshow()\n",
      "File \u001b[0;32m~/myenv/lib/python3.9/site-packages/sklearn/metrics/_plot/confusion_matrix.py:185\u001b[0m, in \u001b[0;36mConfusionMatrixDisplay.plot\u001b[0;34m(self, include_values, cmap, xticks_rotation, values_format, ax, colorbar, im_kw, text_kw)\u001b[0m\n\u001b[1;32m    183\u001b[0m \u001b[38;5;28;01mif\u001b[39;00m colorbar:\n\u001b[1;32m    184\u001b[0m     fig\u001b[38;5;241m.\u001b[39mcolorbar(\u001b[38;5;28mself\u001b[39m\u001b[38;5;241m.\u001b[39mim_, ax\u001b[38;5;241m=\u001b[39max)\n\u001b[0;32m--> 185\u001b[0m \u001b[43max\u001b[49m\u001b[38;5;241;43m.\u001b[39;49m\u001b[43mset\u001b[49m\u001b[43m(\u001b[49m\n\u001b[1;32m    186\u001b[0m \u001b[43m    \u001b[49m\u001b[43mxticks\u001b[49m\u001b[38;5;241;43m=\u001b[39;49m\u001b[43mnp\u001b[49m\u001b[38;5;241;43m.\u001b[39;49m\u001b[43marange\u001b[49m\u001b[43m(\u001b[49m\u001b[43mn_classes\u001b[49m\u001b[43m)\u001b[49m\u001b[43m,\u001b[49m\n\u001b[1;32m    187\u001b[0m \u001b[43m    \u001b[49m\u001b[43myticks\u001b[49m\u001b[38;5;241;43m=\u001b[39;49m\u001b[43mnp\u001b[49m\u001b[38;5;241;43m.\u001b[39;49m\u001b[43marange\u001b[49m\u001b[43m(\u001b[49m\u001b[43mn_classes\u001b[49m\u001b[43m)\u001b[49m\u001b[43m,\u001b[49m\n\u001b[1;32m    188\u001b[0m \u001b[43m    \u001b[49m\u001b[43mxticklabels\u001b[49m\u001b[38;5;241;43m=\u001b[39;49m\u001b[43mdisplay_labels\u001b[49m\u001b[43m,\u001b[49m\n\u001b[1;32m    189\u001b[0m \u001b[43m    \u001b[49m\u001b[43myticklabels\u001b[49m\u001b[38;5;241;43m=\u001b[39;49m\u001b[43mdisplay_labels\u001b[49m\u001b[43m,\u001b[49m\n\u001b[1;32m    190\u001b[0m \u001b[43m    \u001b[49m\u001b[43mylabel\u001b[49m\u001b[38;5;241;43m=\u001b[39;49m\u001b[38;5;124;43m\"\u001b[39;49m\u001b[38;5;124;43mTrue label\u001b[39;49m\u001b[38;5;124;43m\"\u001b[39;49m\u001b[43m,\u001b[49m\n\u001b[1;32m    191\u001b[0m \u001b[43m    \u001b[49m\u001b[43mxlabel\u001b[49m\u001b[38;5;241;43m=\u001b[39;49m\u001b[38;5;124;43m\"\u001b[39;49m\u001b[38;5;124;43mPredicted label\u001b[39;49m\u001b[38;5;124;43m\"\u001b[39;49m\u001b[43m,\u001b[49m\n\u001b[1;32m    192\u001b[0m \u001b[43m\u001b[49m\u001b[43m)\u001b[49m\n\u001b[1;32m    194\u001b[0m ax\u001b[38;5;241m.\u001b[39mset_ylim((n_classes \u001b[38;5;241m-\u001b[39m \u001b[38;5;241m0.5\u001b[39m, \u001b[38;5;241m-\u001b[39m\u001b[38;5;241m0.5\u001b[39m))\n\u001b[1;32m    195\u001b[0m plt\u001b[38;5;241m.\u001b[39msetp(ax\u001b[38;5;241m.\u001b[39mget_xticklabels(), rotation\u001b[38;5;241m=\u001b[39mxticks_rotation)\n",
      "File \u001b[0;32m~/myenv/lib/python3.9/site-packages/matplotlib/artist.py:147\u001b[0m, in \u001b[0;36mArtist.__init_subclass__.<locals>.<lambda>\u001b[0;34m(self, **kwargs)\u001b[0m\n\u001b[1;32m    139\u001b[0m \u001b[38;5;28;01mif\u001b[39;00m \u001b[38;5;129;01mnot\u001b[39;00m \u001b[38;5;28mhasattr\u001b[39m(\u001b[38;5;28mcls\u001b[39m\u001b[38;5;241m.\u001b[39mset, \u001b[38;5;124m'\u001b[39m\u001b[38;5;124m_autogenerated_signature\u001b[39m\u001b[38;5;124m'\u001b[39m):\n\u001b[1;32m    140\u001b[0m     \u001b[38;5;66;03m# Don't overwrite cls.set if the subclass or one of its parents\u001b[39;00m\n\u001b[1;32m    141\u001b[0m     \u001b[38;5;66;03m# has defined a set method set itself.\u001b[39;00m\n\u001b[1;32m    142\u001b[0m     \u001b[38;5;66;03m# If there was no explicit definition, cls.set is inherited from\u001b[39;00m\n\u001b[1;32m    143\u001b[0m     \u001b[38;5;66;03m# the hierarchy of auto-generated set methods, which hold the\u001b[39;00m\n\u001b[1;32m    144\u001b[0m     \u001b[38;5;66;03m# flag _autogenerated_signature.\u001b[39;00m\n\u001b[1;32m    145\u001b[0m     \u001b[38;5;28;01mreturn\u001b[39;00m\n\u001b[0;32m--> 147\u001b[0m \u001b[38;5;28mcls\u001b[39m\u001b[38;5;241m.\u001b[39mset \u001b[38;5;241m=\u001b[39m \u001b[38;5;28;01mlambda\u001b[39;00m \u001b[38;5;28mself\u001b[39m, \u001b[38;5;241m*\u001b[39m\u001b[38;5;241m*\u001b[39mkwargs: \u001b[43mArtist\u001b[49m\u001b[38;5;241;43m.\u001b[39;49m\u001b[43mset\u001b[49m\u001b[43m(\u001b[49m\u001b[38;5;28;43mself\u001b[39;49m\u001b[43m,\u001b[49m\u001b[43m \u001b[49m\u001b[38;5;241;43m*\u001b[39;49m\u001b[38;5;241;43m*\u001b[39;49m\u001b[43mkwargs\u001b[49m\u001b[43m)\u001b[49m\n\u001b[1;32m    148\u001b[0m \u001b[38;5;28mcls\u001b[39m\u001b[38;5;241m.\u001b[39mset\u001b[38;5;241m.\u001b[39m\u001b[38;5;18m__name__\u001b[39m \u001b[38;5;241m=\u001b[39m \u001b[38;5;124m\"\u001b[39m\u001b[38;5;124mset\u001b[39m\u001b[38;5;124m\"\u001b[39m\n\u001b[1;32m    149\u001b[0m \u001b[38;5;28mcls\u001b[39m\u001b[38;5;241m.\u001b[39mset\u001b[38;5;241m.\u001b[39m\u001b[38;5;18m__qualname__\u001b[39m \u001b[38;5;241m=\u001b[39m \u001b[38;5;124mf\u001b[39m\u001b[38;5;124m\"\u001b[39m\u001b[38;5;132;01m{\u001b[39;00m\u001b[38;5;28mcls\u001b[39m\u001b[38;5;241m.\u001b[39m\u001b[38;5;18m__qualname__\u001b[39m\u001b[38;5;132;01m}\u001b[39;00m\u001b[38;5;124m.set\u001b[39m\u001b[38;5;124m\"\u001b[39m\n",
      "File \u001b[0;32m~/myenv/lib/python3.9/site-packages/matplotlib/artist.py:1224\u001b[0m, in \u001b[0;36mArtist.set\u001b[0;34m(self, **kwargs)\u001b[0m\n\u001b[1;32m   1220\u001b[0m \u001b[38;5;28;01mdef\u001b[39;00m\u001b[38;5;250m \u001b[39m\u001b[38;5;21mset\u001b[39m(\u001b[38;5;28mself\u001b[39m, \u001b[38;5;241m*\u001b[39m\u001b[38;5;241m*\u001b[39mkwargs):\n\u001b[1;32m   1221\u001b[0m     \u001b[38;5;66;03m# docstring and signature are auto-generated via\u001b[39;00m\n\u001b[1;32m   1222\u001b[0m     \u001b[38;5;66;03m# Artist._update_set_signature_and_docstring() at the end of the\u001b[39;00m\n\u001b[1;32m   1223\u001b[0m     \u001b[38;5;66;03m# module.\u001b[39;00m\n\u001b[0;32m-> 1224\u001b[0m     \u001b[38;5;28;01mreturn\u001b[39;00m \u001b[38;5;28;43mself\u001b[39;49m\u001b[38;5;241;43m.\u001b[39;49m\u001b[43m_internal_update\u001b[49m\u001b[43m(\u001b[49m\u001b[43mcbook\u001b[49m\u001b[38;5;241;43m.\u001b[39;49m\u001b[43mnormalize_kwargs\u001b[49m\u001b[43m(\u001b[49m\u001b[43mkwargs\u001b[49m\u001b[43m,\u001b[49m\u001b[43m \u001b[49m\u001b[38;5;28;43mself\u001b[39;49m\u001b[43m)\u001b[49m\u001b[43m)\u001b[49m\n",
      "File \u001b[0;32m~/myenv/lib/python3.9/site-packages/matplotlib/artist.py:1216\u001b[0m, in \u001b[0;36mArtist._internal_update\u001b[0;34m(self, kwargs)\u001b[0m\n\u001b[1;32m   1209\u001b[0m \u001b[38;5;28;01mdef\u001b[39;00m\u001b[38;5;250m \u001b[39m\u001b[38;5;21m_internal_update\u001b[39m(\u001b[38;5;28mself\u001b[39m, kwargs):\n\u001b[1;32m   1210\u001b[0m \u001b[38;5;250m    \u001b[39m\u001b[38;5;124;03m\"\"\"\u001b[39;00m\n\u001b[1;32m   1211\u001b[0m \u001b[38;5;124;03m    Update artist properties without prenormalizing them, but generating\u001b[39;00m\n\u001b[1;32m   1212\u001b[0m \u001b[38;5;124;03m    errors as if calling `set`.\u001b[39;00m\n\u001b[1;32m   1213\u001b[0m \n\u001b[1;32m   1214\u001b[0m \u001b[38;5;124;03m    The lack of prenormalization is to maintain backcompatibility.\u001b[39;00m\n\u001b[1;32m   1215\u001b[0m \u001b[38;5;124;03m    \"\"\"\u001b[39;00m\n\u001b[0;32m-> 1216\u001b[0m     \u001b[38;5;28;01mreturn\u001b[39;00m \u001b[38;5;28;43mself\u001b[39;49m\u001b[38;5;241;43m.\u001b[39;49m\u001b[43m_update_props\u001b[49m\u001b[43m(\u001b[49m\n\u001b[1;32m   1217\u001b[0m \u001b[43m        \u001b[49m\u001b[43mkwargs\u001b[49m\u001b[43m,\u001b[49m\u001b[43m \u001b[49m\u001b[38;5;124;43m\"\u001b[39;49m\u001b[38;5;132;43;01m{cls.__name__}\u001b[39;49;00m\u001b[38;5;124;43m.set() got an unexpected keyword argument \u001b[39;49m\u001b[38;5;124;43m\"\u001b[39;49m\n\u001b[1;32m   1218\u001b[0m \u001b[43m        \u001b[49m\u001b[38;5;124;43m\"\u001b[39;49m\u001b[38;5;132;43;01m{prop_name!r}\u001b[39;49;00m\u001b[38;5;124;43m\"\u001b[39;49m\u001b[43m)\u001b[49m\n",
      "File \u001b[0;32m~/myenv/lib/python3.9/site-packages/matplotlib/artist.py:1192\u001b[0m, in \u001b[0;36mArtist._update_props\u001b[0;34m(self, props, errfmt)\u001b[0m\n\u001b[1;32m   1189\u001b[0m             \u001b[38;5;28;01mif\u001b[39;00m \u001b[38;5;129;01mnot\u001b[39;00m \u001b[38;5;28mcallable\u001b[39m(func):\n\u001b[1;32m   1190\u001b[0m                 \u001b[38;5;28;01mraise\u001b[39;00m \u001b[38;5;167;01mAttributeError\u001b[39;00m(\n\u001b[1;32m   1191\u001b[0m                     errfmt\u001b[38;5;241m.\u001b[39mformat(\u001b[38;5;28mcls\u001b[39m\u001b[38;5;241m=\u001b[39m\u001b[38;5;28mtype\u001b[39m(\u001b[38;5;28mself\u001b[39m), prop_name\u001b[38;5;241m=\u001b[39mk))\n\u001b[0;32m-> 1192\u001b[0m             ret\u001b[38;5;241m.\u001b[39mappend(\u001b[43mfunc\u001b[49m\u001b[43m(\u001b[49m\u001b[43mv\u001b[49m\u001b[43m)\u001b[49m)\n\u001b[1;32m   1193\u001b[0m \u001b[38;5;28;01mif\u001b[39;00m ret:\n\u001b[1;32m   1194\u001b[0m     \u001b[38;5;28mself\u001b[39m\u001b[38;5;241m.\u001b[39mpchanged()\n",
      "File \u001b[0;32m~/myenv/lib/python3.9/site-packages/matplotlib/axes/_base.py:74\u001b[0m, in \u001b[0;36m_axis_method_wrapper.__set_name__.<locals>.wrapper\u001b[0;34m(self, *args, **kwargs)\u001b[0m\n\u001b[1;32m     73\u001b[0m \u001b[38;5;28;01mdef\u001b[39;00m\u001b[38;5;250m \u001b[39m\u001b[38;5;21mwrapper\u001b[39m(\u001b[38;5;28mself\u001b[39m, \u001b[38;5;241m*\u001b[39margs, \u001b[38;5;241m*\u001b[39m\u001b[38;5;241m*\u001b[39mkwargs):\n\u001b[0;32m---> 74\u001b[0m     \u001b[38;5;28;01mreturn\u001b[39;00m \u001b[43mget_method\u001b[49m\u001b[43m(\u001b[49m\u001b[38;5;28;43mself\u001b[39;49m\u001b[43m)\u001b[49m\u001b[43m(\u001b[49m\u001b[38;5;241;43m*\u001b[39;49m\u001b[43margs\u001b[49m\u001b[43m,\u001b[49m\u001b[43m \u001b[49m\u001b[38;5;241;43m*\u001b[39;49m\u001b[38;5;241;43m*\u001b[39;49m\u001b[43mkwargs\u001b[49m\u001b[43m)\u001b[49m\n",
      "File \u001b[0;32m~/myenv/lib/python3.9/site-packages/matplotlib/axis.py:2071\u001b[0m, in \u001b[0;36mAxis.set_ticklabels\u001b[0;34m(self, labels, minor, fontdict, **kwargs)\u001b[0m\n\u001b[1;32m   2067\u001b[0m \u001b[38;5;28;01melif\u001b[39;00m \u001b[38;5;28misinstance\u001b[39m(locator, mticker\u001b[38;5;241m.\u001b[39mFixedLocator):\n\u001b[1;32m   2068\u001b[0m     \u001b[38;5;66;03m# Passing [] as a list of labels is often used as a way to\u001b[39;00m\n\u001b[1;32m   2069\u001b[0m     \u001b[38;5;66;03m# remove all tick labels, so only error for > 0 labels\u001b[39;00m\n\u001b[1;32m   2070\u001b[0m     \u001b[38;5;28;01mif\u001b[39;00m \u001b[38;5;28mlen\u001b[39m(locator\u001b[38;5;241m.\u001b[39mlocs) \u001b[38;5;241m!=\u001b[39m \u001b[38;5;28mlen\u001b[39m(labels) \u001b[38;5;129;01mand\u001b[39;00m \u001b[38;5;28mlen\u001b[39m(labels) \u001b[38;5;241m!=\u001b[39m \u001b[38;5;241m0\u001b[39m:\n\u001b[0;32m-> 2071\u001b[0m         \u001b[38;5;28;01mraise\u001b[39;00m \u001b[38;5;167;01mValueError\u001b[39;00m(\n\u001b[1;32m   2072\u001b[0m             \u001b[38;5;124m\"\u001b[39m\u001b[38;5;124mThe number of FixedLocator locations\u001b[39m\u001b[38;5;124m\"\u001b[39m\n\u001b[1;32m   2073\u001b[0m             \u001b[38;5;124mf\u001b[39m\u001b[38;5;124m\"\u001b[39m\u001b[38;5;124m (\u001b[39m\u001b[38;5;132;01m{\u001b[39;00m\u001b[38;5;28mlen\u001b[39m(locator\u001b[38;5;241m.\u001b[39mlocs)\u001b[38;5;132;01m}\u001b[39;00m\u001b[38;5;124m), usually from a call to\u001b[39m\u001b[38;5;124m\"\u001b[39m\n\u001b[1;32m   2074\u001b[0m             \u001b[38;5;124m\"\u001b[39m\u001b[38;5;124m set_ticks, does not match\u001b[39m\u001b[38;5;124m\"\u001b[39m\n\u001b[1;32m   2075\u001b[0m             \u001b[38;5;124mf\u001b[39m\u001b[38;5;124m\"\u001b[39m\u001b[38;5;124m the number of labels (\u001b[39m\u001b[38;5;132;01m{\u001b[39;00m\u001b[38;5;28mlen\u001b[39m(labels)\u001b[38;5;132;01m}\u001b[39;00m\u001b[38;5;124m).\u001b[39m\u001b[38;5;124m\"\u001b[39m)\n\u001b[1;32m   2076\u001b[0m     tickd \u001b[38;5;241m=\u001b[39m {loc: lab \u001b[38;5;28;01mfor\u001b[39;00m loc, lab \u001b[38;5;129;01min\u001b[39;00m \u001b[38;5;28mzip\u001b[39m(locator\u001b[38;5;241m.\u001b[39mlocs, labels)}\n\u001b[1;32m   2077\u001b[0m     func \u001b[38;5;241m=\u001b[39m functools\u001b[38;5;241m.\u001b[39mpartial(\u001b[38;5;28mself\u001b[39m\u001b[38;5;241m.\u001b[39m_format_with_dict, tickd)\n",
      "\u001b[0;31mValueError\u001b[0m: The number of FixedLocator locations (1), usually from a call to set_ticks, does not match the number of labels (2)."
     ]
    },
    {
     "data": {
      "image/png": "[encoded data removed]",
      "text/plain": [
       "<Figure size 640x480 with 2 Axes>"
      ]
     },
     "metadata": {},
     "output_type": "display_data"
    }
   ],
   "source": [
    "from sklearn.metrics import confusion_matrix\n",
    "from sklearn.metrics import ConfusionMatrixDisplay\n",
    "\n",
    "for method in methods:\n",
    "    if method == 'binary':\n",
    "        for i in threshold:\n",
    "            conf_matrix = confusion_matrix(df_pred['Label'], df_pred[i].astype(int))\n",
    "            cm_display = ConfusionMatrixDisplay(confusion_matrix = conf_matrix, display_labels=['Benign', 'Anomaly'])\n",
    "            cm_display.plot()\n",
    "            plt.title(f'Binary - {i.strip()}')\n",
    "            plt.show()\n",
    "    else:\n",
    "        for i in threshold_2:\n",
    "            conf_matrix = confusion_matrix(df_pred['Label'], df_pred[i].astype(int))\n",
    "            cm_display = ConfusionMatrixDisplay(confusion_matrix = conf_matrix, display_labels=['Benign', 'Anomaly'])\n",
    "            cm_display.plot()\n",
    "            plt.title(f'Floating - {i.strip()}')\n",
    "            plt.show()\n"
   ]
  },
  {
   "cell_type": "markdown",
   "metadata": {},
   "source": [
    "### F2-Score"
   ]
  },
  {
   "cell_type": "code",
   "execution_count": 51,
   "metadata": {},
   "outputs": [
    {
     "name": "stderr",
     "output_type": "stream",
     "text": [
      "/home/apta/myenv/lib/python3.9/site-packages/sklearn/metrics/_classification.py:407: UserWarning: A single label was found in 'y_true' and 'y_pred'. For the confusion matrix to have the correct shape, use the 'labels' parameter to pass all known labels.\n",
      "  warnings.warn(\n"
     ]
    },
    {
     "ename": "ValueError",
     "evalue": "not enough values to unpack (expected 4, got 1)",
     "output_type": "error",
     "traceback": [
      "\u001b[0;31m---------------------------------------------------------------------------\u001b[0m",
      "\u001b[0;31mValueError\u001b[0m                                Traceback (most recent call last)",
      "Cell \u001b[0;32mIn[51], line 5\u001b[0m\n\u001b[1;32m      3\u001b[0m \u001b[38;5;28;01mif\u001b[39;00m method \u001b[38;5;241m==\u001b[39m \u001b[38;5;124m'\u001b[39m\u001b[38;5;124mbinary\u001b[39m\u001b[38;5;124m'\u001b[39m:\n\u001b[1;32m      4\u001b[0m     \u001b[38;5;28;01mfor\u001b[39;00m i \u001b[38;5;129;01min\u001b[39;00m threshold:\n\u001b[0;32m----> 5\u001b[0m         tn, fp, fn, tp \u001b[38;5;241m=\u001b[39m confusion_matrix(df_pred[\u001b[38;5;124m'\u001b[39m\u001b[38;5;124mLabel\u001b[39m\u001b[38;5;124m'\u001b[39m], df_pred[i]\u001b[38;5;241m.\u001b[39mastype(\u001b[38;5;28mint\u001b[39m))\u001b[38;5;241m.\u001b[39mravel()\n\u001b[1;32m      6\u001b[0m         f2 \u001b[38;5;241m=\u001b[39m ((\u001b[38;5;241m1\u001b[39m\u001b[38;5;241m+\u001b[39m\u001b[38;5;241m2\u001b[39m\u001b[38;5;241m*\u001b[39m\u001b[38;5;241m*\u001b[39m\u001b[38;5;241m2\u001b[39m)\u001b[38;5;241m*\u001b[39mtp)\u001b[38;5;241m/\u001b[39m((\u001b[38;5;241m1\u001b[39m\u001b[38;5;241m+\u001b[39m\u001b[38;5;241m2\u001b[39m\u001b[38;5;241m*\u001b[39m\u001b[38;5;241m*\u001b[39m\u001b[38;5;241m2\u001b[39m)\u001b[38;5;241m*\u001b[39mtp\u001b[38;5;241m+\u001b[39m\u001b[38;5;241m2\u001b[39m\u001b[38;5;241m*\u001b[39m\u001b[38;5;241m*\u001b[39m\u001b[38;5;241m2\u001b[39m\u001b[38;5;241m*\u001b[39mfn\u001b[38;5;241m+\u001b[39mfp)\n\u001b[1;32m      7\u001b[0m         score[\u001b[38;5;124m'\u001b[39m\u001b[38;5;124mF2 Score\u001b[39m\u001b[38;5;124m'\u001b[39m][i] \u001b[38;5;241m=\u001b[39m f2\n",
      "\u001b[0;31mValueError\u001b[0m: not enough values to unpack (expected 4, got 1)"
     ]
    }
   ],
   "source": [
    "score['F2 Score'] = dict()\n",
    "for method in methods:\n",
    "    if method == 'binary':\n",
    "        for i in threshold:\n",
    "            tn, fp, fn, tp = confusion_matrix(df_pred['Label'], df_pred[i].astype(int)).ravel()\n",
    "            f2 = ((1+2**2)*tp)/((1+2**2)*tp+2**2*fn+fp)\n",
    "            score['F2 Score'][i] = f2\n",
    "            print(f'F2-Binary-{i}: {f2}')\n",
    "    else:\n",
    "        for i in threshold_2:\n",
    "            tn, fp, fn, tp = confusion_matrix(df_pred['Label'], df_pred[i].astype(int)).ravel()\n",
    "            f2 = ((1+2**2)*tp)/((1+2**2)*tp+2**2*fn+fp)\n",
    "            score['F2 Score'][i] = f2\n",
    "            print(f'F2-Floating-{i}: {f2}')"
   ]
  },
  {
   "cell_type": "markdown",
   "metadata": {},
   "source": [
    "### FPR Score"
   ]
  },
  {
   "cell_type": "code",
   "execution_count": 52,
   "metadata": {},
   "outputs": [
    {
     "name": "stderr",
     "output_type": "stream",
     "text": [
      "/home/apta/myenv/lib/python3.9/site-packages/sklearn/metrics/_classification.py:407: UserWarning: A single label was found in 'y_true' and 'y_pred'. For the confusion matrix to have the correct shape, use the 'labels' parameter to pass all known labels.\n",
      "  warnings.warn(\n"
     ]
    },
    {
     "ename": "ValueError",
     "evalue": "not enough values to unpack (expected 4, got 1)",
     "output_type": "error",
     "traceback": [
      "\u001b[0;31m---------------------------------------------------------------------------\u001b[0m",
      "\u001b[0;31mValueError\u001b[0m                                Traceback (most recent call last)",
      "Cell \u001b[0;32mIn[52], line 5\u001b[0m\n\u001b[1;32m      3\u001b[0m \u001b[38;5;28;01mif\u001b[39;00m method \u001b[38;5;241m==\u001b[39m \u001b[38;5;124m'\u001b[39m\u001b[38;5;124mbinary\u001b[39m\u001b[38;5;124m'\u001b[39m:\n\u001b[1;32m      4\u001b[0m     \u001b[38;5;28;01mfor\u001b[39;00m i \u001b[38;5;129;01min\u001b[39;00m threshold:\n\u001b[0;32m----> 5\u001b[0m         tn, fp, fn, tp \u001b[38;5;241m=\u001b[39m confusion_matrix(df_pred[\u001b[38;5;124m'\u001b[39m\u001b[38;5;124mLabel\u001b[39m\u001b[38;5;124m'\u001b[39m], df_pred[i]\u001b[38;5;241m.\u001b[39mastype(\u001b[38;5;28mint\u001b[39m))\u001b[38;5;241m.\u001b[39mravel()\n\u001b[1;32m      6\u001b[0m         fpr \u001b[38;5;241m=\u001b[39m fp\u001b[38;5;241m/\u001b[39m(fp\u001b[38;5;241m+\u001b[39mtn)\n\u001b[1;32m      7\u001b[0m         score[\u001b[38;5;124m'\u001b[39m\u001b[38;5;124mFPR Score\u001b[39m\u001b[38;5;124m'\u001b[39m][i] \u001b[38;5;241m=\u001b[39m fpr\n",
      "\u001b[0;31mValueError\u001b[0m: not enough values to unpack (expected 4, got 1)"
     ]
    }
   ],
   "source": [
    "score['FPR Score'] = dict()\n",
    "for method in methods:\n",
    "    if method == 'binary':\n",
    "        for i in threshold:\n",
    "            tn, fp, fn, tp = confusion_matrix(df_pred['Label'], df_pred[i].astype(int)).ravel()\n",
    "            fpr = fp/(fp+tn)\n",
    "            score['FPR Score'][i] = fpr\n",
    "            print(f'FPR-Binary-{i}: {fpr}')\n",
    "    else:\n",
    "        for i in threshold_2:\n",
    "            tn, fp, fn, tp = confusion_matrix(df_pred['Label'], df_pred[i].astype(int)).ravel()\n",
    "            fpr = fp/(fp+tn)\n",
    "            score['FPR Score'][i] = fpr\n",
    "            print(f'FPR-Floating-{i}: {fpr}')"
   ]
  },
  {
   "cell_type": "code",
   "execution_count": 53,
   "metadata": {},
   "outputs": [
    {
     "name": "stdout",
     "output_type": "stream",
     "text": [
      "Accuracy-Binary-b_mean: 1.0\n",
      "Accuracy-Binary-b_iqr: 1.0\n",
      "Accuracy-Binary-b_zscore: 0.8986975397973951\n",
      "Accuracy-Floating-f_mean: 1.0\n",
      "Accuracy-Floating-f_iqr: 1.0\n",
      "Accuracy-Floating-f_zscore: 1.0\n"
     ]
    }
   ],
   "source": [
    "from sklearn.metrics import accuracy_score\n",
    "\n",
    "score['Accuracy Score'] = dict()\n",
    "for method in methods:\n",
    "    if method == 'binary':\n",
    "        for i in threshold:\n",
    "            acc = accuracy_score(df_pred['Label'], df_pred[i].astype(int))\n",
    "            score['Accuracy Score'][i] = acc\n",
    "            print(f'Accuracy-Binary-{i}: {acc}')\n",
    "    else:\n",
    "        for i in threshold_2:\n",
    "            acc = accuracy_score(df_pred['Label'], df_pred[i].astype(int))\n",
    "            score['Accuracy Score'][i] = acc\n",
    "            print(f'Accuracy-Floating-{i}: {acc}')  "
   ]
  },
  {
   "cell_type": "code",
   "execution_count": 54,
   "metadata": {},
   "outputs": [
    {
     "data": {
      "text/html": [
       "<div>\n",
       "<style scoped>\n",
       "    .dataframe tbody tr th:only-of-type {\n",
       "        vertical-align: middle;\n",
       "    }\n",
       "\n",
       "    .dataframe tbody tr th {\n",
       "        vertical-align: top;\n",
       "    }\n",
       "\n",
       "    .dataframe thead th {\n",
       "        text-align: right;\n",
       "    }\n",
       "</style>\n",
       "<table border=\"1\" class=\"dataframe\">\n",
       "  <thead>\n",
       "    <tr style=\"text-align: right;\">\n",
       "      <th></th>\n",
       "      <th>Detection Rate</th>\n",
       "      <th>F2 Score</th>\n",
       "      <th>FPR Score</th>\n",
       "      <th>Accuracy Score</th>\n",
       "    </tr>\n",
       "  </thead>\n",
       "  <tbody>\n",
       "    <tr>\n",
       "      <th>b_mean</th>\n",
       "      <td>0.0</td>\n",
       "      <td>NaN</td>\n",
       "      <td>NaN</td>\n",
       "      <td>1.000000</td>\n",
       "    </tr>\n",
       "    <tr>\n",
       "      <th>b_iqr</th>\n",
       "      <td>0.0</td>\n",
       "      <td>NaN</td>\n",
       "      <td>NaN</td>\n",
       "      <td>1.000000</td>\n",
       "    </tr>\n",
       "    <tr>\n",
       "      <th>b_zscore</th>\n",
       "      <td>0.0</td>\n",
       "      <td>NaN</td>\n",
       "      <td>NaN</td>\n",
       "      <td>0.898698</td>\n",
       "    </tr>\n",
       "    <tr>\n",
       "      <th>f_mean</th>\n",
       "      <td>0.0</td>\n",
       "      <td>NaN</td>\n",
       "      <td>NaN</td>\n",
       "      <td>1.000000</td>\n",
       "    </tr>\n",
       "    <tr>\n",
       "      <th>f_iqr</th>\n",
       "      <td>0.0</td>\n",
       "      <td>NaN</td>\n",
       "      <td>NaN</td>\n",
       "      <td>1.000000</td>\n",
       "    </tr>\n",
       "    <tr>\n",
       "      <th>f_zscore</th>\n",
       "      <td>0.0</td>\n",
       "      <td>NaN</td>\n",
       "      <td>NaN</td>\n",
       "      <td>1.000000</td>\n",
       "    </tr>\n",
       "  </tbody>\n",
       "</table>\n",
       "</div>"
      ],
      "text/plain": [
       "          Detection Rate  F2 Score  FPR Score  Accuracy Score\n",
       "b_mean               0.0       NaN        NaN        1.000000\n",
       "b_iqr                0.0       NaN        NaN        1.000000\n",
       "b_zscore             0.0       NaN        NaN        0.898698\n",
       "f_mean               0.0       NaN        NaN        1.000000\n",
       "f_iqr                0.0       NaN        NaN        1.000000\n",
       "f_zscore             0.0       NaN        NaN        1.000000"
      ]
     },
     "execution_count": 54,
     "metadata": {},
     "output_type": "execute_result"
    }
   ],
   "source": [
    "df_score = pd.DataFrame.from_dict(score)\n",
    "df_score"
   ]
  },
  {
   "cell_type": "code",
   "execution_count": 55,
   "metadata": {},
   "outputs": [],
   "source": [
    "df_score.to_excel('score_ftp_0.0.xlsx')"
   ]
  },
  {
   "cell_type": "code",
   "execution_count": 56,
   "metadata": {},
   "outputs": [],
   "source": [
    "# %pip install openpyxl"
   ]
  }
 ],
 "metadata": {
  "kernelspec": {
   "display_name": "myenv",
   "language": "python",
   "name": "python3"
  },
  "language_info": {
   "codemirror_mode": {
    "name": "ipython",
    "version": 3
   },
   "file_extension": ".py",
   "mimetype": "text/x-python",
   "name": "python",
   "nbconvert_exporter": "python",
   "pygments_lexer": "ipython3",
   "version": "3.9.5"
  }
 },
 "nbformat": 4,
 "nbformat_minor": 2
}
